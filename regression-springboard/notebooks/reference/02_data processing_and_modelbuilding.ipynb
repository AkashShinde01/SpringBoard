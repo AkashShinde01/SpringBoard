{
 "cells": [
  {
   "cell_type": "code",
   "execution_count": 48,
   "metadata": {},
   "outputs": [
    {
     "name": "stdout",
     "output_type": "stream",
     "text": [
      "The autoreload extension is already loaded. To reload it, use:\n",
      "  %reload_ext autoreload\n"
     ]
    }
   ],
   "source": [
    "%load_ext autoreload\n",
    "%autoreload 2"
   ]
  },
  {
   "cell_type": "code",
   "execution_count": 49,
   "metadata": {},
   "outputs": [
    {
     "name": "stdout",
     "output_type": "stream",
     "text": [
      "Wall time: 0 ns\n"
     ]
    }
   ],
   "source": [
    "%%time\n",
    "\n",
    "# Third-party imports\n",
    "import os.path as op\n",
    "import pandas as pd\n",
    "import great_expectations as ge\n",
    "\n",
    "# Project imports\n",
    "from ta_lib.core.api import display_as_tabs, initialize_environment\n",
    "\n",
    "# Initialization\n",
    "initialize_environment(debug=False, hide_warnings=True)"
   ]
  },
  {
   "cell_type": "code",
   "execution_count": 50,
   "metadata": {},
   "outputs": [],
   "source": [
    "# standard code-template imports\n",
    "from ta_lib.core.api import (\n",
    "    create_context, get_dataframe, get_feature_names_from_column_transformer, get_package_path,\n",
    "    display_as_tabs, string_cleaning, merge_info, initialize_environment,\n",
    "    list_datasets, load_dataset, save_dataset\n",
    ")\n",
    "import ta_lib.eda.api as eda"
   ]
  },
  {
   "cell_type": "code",
   "execution_count": 51,
   "metadata": {},
   "outputs": [],
   "source": [
    "from ta_lib.core.api import create_context, list_datasets, load_dataset"
   ]
  },
  {
   "cell_type": "code",
   "execution_count": 52,
   "metadata": {},
   "outputs": [],
   "source": [
    "config_path = op.join('conf', 'config.yml')\n",
    "context = create_context(config_path)"
   ]
  },
  {
   "cell_type": "code",
   "execution_count": 53,
   "metadata": {},
   "outputs": [
    {
     "data": {
      "text/html": [
       "['/raw/google', '/raw/product_manufacturer_list', '/raw/sales_data', '/raw/social_media_data', '/raw/Theme_list', '/raw/Theme_product_list', '/cleaned/orders', '/cleaned/product', '/cleaned/sales', '/processed/sales', '/train/sales/features', '/train/sales/target', '/test/sales/features', '/test/sales/target', '/score/sales/output']"
      ],
      "text/plain": [
       "['/raw/google',\n",
       " '/raw/product_manufacturer_list',\n",
       " '/raw/sales_data',\n",
       " '/raw/social_media_data',\n",
       " '/raw/Theme_list',\n",
       " '/raw/Theme_product_list',\n",
       " '/cleaned/orders',\n",
       " '/cleaned/product',\n",
       " '/cleaned/sales',\n",
       " '/processed/sales',\n",
       " '/train/sales/features',\n",
       " '/train/sales/target',\n",
       " '/test/sales/features',\n",
       " '/test/sales/target',\n",
       " '/score/sales/output']"
      ]
     },
     "execution_count": 53,
     "metadata": {},
     "output_type": "execute_result"
    }
   ],
   "source": [
    "list_datasets(context)"
   ]
  },
  {
   "cell_type": "code",
   "execution_count": 54,
   "metadata": {},
   "outputs": [],
   "source": [
    "# load datasets\n",
    "google_df = load_dataset(context, 'raw/google')\n",
    "pro_manu_df = load_dataset(context, 'raw/product_manufacturer_list')\n",
    "sales_df = load_dataset(context, 'raw/sales_data')\n",
    "soc_media_df = load_dataset(context, 'raw/social_media_data')\n",
    "theme_df = load_dataset(context, 'raw/Theme_list')\n",
    "theme_pro_df = load_dataset(context, 'raw/Theme_product_list')"
   ]
  },
  {
   "cell_type": "code",
   "execution_count": 55,
   "metadata": {},
   "outputs": [],
   "source": [
    "# Import the eda API\n",
    "import ta_lib.eda.api as eda"
   ]
  },
  {
   "cell_type": "code",
   "execution_count": 56,
   "metadata": {},
   "outputs": [
    {
     "data": {},
     "metadata": {},
     "output_type": "display_data"
    },
    {
     "data": {
      "application/vnd.holoviews_exec.v0+json": "",
      "text/html": [
       "<div id='10781'>\n",
       "\n",
       "\n",
       "\n",
       "\n",
       "\n",
       "  <div class=\"bk-root\" id=\"9e4248d3-1a88-4459-bcad-33a22f627d90\" data-root-id=\"10781\"></div>\n",
       "</div>\n",
       "<script type=\"application/javascript\">(function(root) {\n",
       "  function embed_document(root) {\n",
       "  var docs_json = {\"38382c68-b34f-4470-8f45-1acf3f197c74\":{\"roots\":{\"references\":[{\"attributes\":{\"child\":{\"id\":\"10792\"},\"name\":\"Theme_product_list\",\"title\":\"Theme_product_list\"},\"id\":\"10793\",\"type\":\"Panel\"},{\"attributes\":{\"child\":{\"id\":\"10790\"},\"name\":\"Theme_list\",\"title\":\"Theme_list\"},\"id\":\"10791\",\"type\":\"Panel\"},{\"attributes\":{\"child\":{\"id\":\"10788\"},\"name\":\"social_media_data\",\"title\":\"social_media_data\"},\"id\":\"10789\",\"type\":\"Panel\"},{\"attributes\":{\"margin\":[5,5,5,5],\"name\":\"product_manufacturer_list\",\"text\":\"&lt;pre&gt;(67175, 2)&lt;/pre&gt;\"},\"id\":\"10784\",\"type\":\"panel.models.markup.HTML\"},{\"attributes\":{\"margin\":[5,5,5,5],\"name\":\"google\",\"text\":\"&lt;pre&gt;(181565, 6)&lt;/pre&gt;\"},\"id\":\"10782\",\"type\":\"panel.models.markup.HTML\"},{\"attributes\":{\"child\":{\"id\":\"10782\"},\"name\":\"google\",\"title\":\"google\"},\"id\":\"10783\",\"type\":\"Panel\"},{\"attributes\":{\"margin\":[5,5,5,5],\"name\":\"Theme_list\",\"text\":\"&lt;pre&gt;(208, 2)&lt;/pre&gt;\"},\"id\":\"10790\",\"type\":\"panel.models.markup.HTML\"},{\"attributes\":{\"client_comm_id\":\"d846772c7cda4c01b938611e6a870a08\",\"comm_id\":\"156a201e16dd488aaeca82d9416575da\",\"plot_id\":\"10781\"},\"id\":\"10794\",\"type\":\"panel.models.comm_manager.CommManager\"},{\"attributes\":{\"margin\":[5,5,5,5],\"name\":\"social_media_data\",\"text\":\"&lt;pre&gt;(533390, 3)&lt;/pre&gt;\"},\"id\":\"10788\",\"type\":\"panel.models.markup.HTML\"},{\"attributes\":{\"margin\":[0,0,0,0],\"tabs\":[{\"id\":\"10783\"},{\"id\":\"10785\"},{\"id\":\"10787\"},{\"id\":\"10789\"},{\"id\":\"10791\"},{\"id\":\"10793\"}]},\"id\":\"10781\",\"type\":\"Tabs\"},{\"attributes\":{\"margin\":[5,5,5,5],\"name\":\"Theme_product_list\",\"text\":\"&lt;pre&gt;(91485, 2)&lt;/pre&gt;\"},\"id\":\"10792\",\"type\":\"panel.models.markup.HTML\"},{\"attributes\":{\"child\":{\"id\":\"10784\"},\"name\":\"product_manufacturer_list\",\"title\":\"product_manufacturer_list\"},\"id\":\"10785\",\"type\":\"Panel\"},{\"attributes\":{\"margin\":[5,5,5,5],\"name\":\"sales_data\",\"text\":\"&lt;pre&gt;(4526182, 5)&lt;/pre&gt;\"},\"id\":\"10786\",\"type\":\"panel.models.markup.HTML\"},{\"attributes\":{\"child\":{\"id\":\"10786\"},\"name\":\"sales_data\",\"title\":\"sales_data\"},\"id\":\"10787\",\"type\":\"Panel\"}],\"root_ids\":[\"10781\",\"10794\"]},\"title\":\"Bokeh Application\",\"version\":\"2.2.3\"}};\n",
       "  var render_items = [{\"docid\":\"38382c68-b34f-4470-8f45-1acf3f197c74\",\"root_ids\":[\"10781\"],\"roots\":{\"10781\":\"9e4248d3-1a88-4459-bcad-33a22f627d90\"}}];\n",
       "  root.Bokeh.embed.embed_items_notebook(docs_json, render_items);\n",
       "  }\n",
       "if (root.Bokeh !== undefined) {\n",
       "    embed_document(root);\n",
       "  } else {\n",
       "    var attempts = 0;\n",
       "    var timer = setInterval(function(root) {\n",
       "      if (root.Bokeh !== undefined) {\n",
       "        clearInterval(timer);\n",
       "        embed_document(root);\n",
       "      } else if (document.readyState == \"complete\") {\n",
       "        attempts++;\n",
       "        if (attempts > 100) {\n",
       "          clearInterval(timer);\n",
       "          console.log(\"Bokeh: ERROR: Unable to run BokehJS code because BokehJS library is missing\");\n",
       "        }\n",
       "      }\n",
       "    }, 10, root)\n",
       "  }\n",
       "})(window);</script>"
      ],
      "text/plain": [
       "Tabs\n",
       "    [0] Str(tuple, name='google')\n",
       "    [1] Str(tuple, name='product_manufacturer_list...)\n",
       "    [2] Str(tuple, name='sales_data')\n",
       "    [3] Str(tuple, name='social_media_data')\n",
       "    [4] Str(tuple, name='Theme_list')\n",
       "    [5] Str(tuple, name='Theme_product_list')"
      ]
     },
     "execution_count": 56,
     "metadata": {
      "application/vnd.holoviews_exec.v0+json": {
       "id": "10781"
      }
     },
     "output_type": "execute_result"
    }
   ],
   "source": [
    "display_as_tabs([('google', google_df.shape) , ('product_manufacturer_list', pro_manu_df.shape),\n",
    "                ('sales_data', sales_df.shape) , ('social_media_data', soc_media_df.shape) , ('Theme_list', theme_df.shape),\n",
    "                ('Theme_product_list', theme_pro_df.shape)])"
   ]
  },
  {
   "cell_type": "code",
   "execution_count": 57,
   "metadata": {},
   "outputs": [
    {
     "data": {
      "text/html": [
       "<div>\n",
       "<style scoped>\n",
       "    .dataframe tbody tr th:only-of-type {\n",
       "        vertical-align: middle;\n",
       "    }\n",
       "\n",
       "    .dataframe tbody tr th {\n",
       "        vertical-align: top;\n",
       "    }\n",
       "\n",
       "    .dataframe thead th {\n",
       "        text-align: right;\n",
       "    }\n",
       "</style>\n",
       "<table border=\"1\" class=\"dataframe\">\n",
       "  <thead>\n",
       "    <tr style=\"text-align: right;\">\n",
       "      <th></th>\n",
       "      <th>date</th>\n",
       "      <th>platform</th>\n",
       "      <th>searchVolume</th>\n",
       "      <th>Claim_ID</th>\n",
       "      <th>week_number</th>\n",
       "      <th>year_new</th>\n",
       "    </tr>\n",
       "  </thead>\n",
       "  <tbody>\n",
       "    <tr>\n",
       "      <th>0</th>\n",
       "      <td>05-01-2014</td>\n",
       "      <td>google</td>\n",
       "      <td>349</td>\n",
       "      <td>916</td>\n",
       "      <td>1</td>\n",
       "      <td>2014</td>\n",
       "    </tr>\n",
       "    <tr>\n",
       "      <th>1</th>\n",
       "      <td>06-01-2014</td>\n",
       "      <td>google</td>\n",
       "      <td>349</td>\n",
       "      <td>916</td>\n",
       "      <td>2</td>\n",
       "      <td>2014</td>\n",
       "    </tr>\n",
       "    <tr>\n",
       "      <th>2</th>\n",
       "      <td>07-01-2014</td>\n",
       "      <td>google</td>\n",
       "      <td>697</td>\n",
       "      <td>916</td>\n",
       "      <td>2</td>\n",
       "      <td>2014</td>\n",
       "    </tr>\n",
       "    <tr>\n",
       "      <th>3</th>\n",
       "      <td>10-01-2014</td>\n",
       "      <td>google</td>\n",
       "      <td>349</td>\n",
       "      <td>916</td>\n",
       "      <td>2</td>\n",
       "      <td>2014</td>\n",
       "    </tr>\n",
       "    <tr>\n",
       "      <th>4</th>\n",
       "      <td>20-01-2014</td>\n",
       "      <td>google</td>\n",
       "      <td>697</td>\n",
       "      <td>916</td>\n",
       "      <td>4</td>\n",
       "      <td>2014</td>\n",
       "    </tr>\n",
       "  </tbody>\n",
       "</table>\n",
       "</div>"
      ],
      "text/plain": [
       "         date platform  searchVolume  Claim_ID  week_number  year_new\n",
       "0  05-01-2014   google           349       916            1      2014\n",
       "1  06-01-2014   google           349       916            2      2014\n",
       "2  07-01-2014   google           697       916            2      2014\n",
       "3  10-01-2014   google           349       916            2      2014\n",
       "4  20-01-2014   google           697       916            4      2014"
      ]
     },
     "execution_count": 57,
     "metadata": {},
     "output_type": "execute_result"
    }
   ],
   "source": [
    "google_df.head()"
   ]
  },
  {
   "cell_type": "code",
   "execution_count": 58,
   "metadata": {},
   "outputs": [
    {
     "data": {
      "text/html": [
       "<div>\n",
       "<style scoped>\n",
       "    .dataframe tbody tr th:only-of-type {\n",
       "        vertical-align: middle;\n",
       "    }\n",
       "\n",
       "    .dataframe tbody tr th {\n",
       "        vertical-align: top;\n",
       "    }\n",
       "\n",
       "    .dataframe thead th {\n",
       "        text-align: right;\n",
       "    }\n",
       "</style>\n",
       "<table border=\"1\" class=\"dataframe\">\n",
       "  <thead>\n",
       "    <tr style=\"text-align: right;\">\n",
       "      <th></th>\n",
       "      <th>CLAIM_ID</th>\n",
       "      <th>Claim Name</th>\n",
       "    </tr>\n",
       "  </thead>\n",
       "  <tbody>\n",
       "    <tr>\n",
       "      <th>0</th>\n",
       "      <td>0</td>\n",
       "      <td>No Claim</td>\n",
       "    </tr>\n",
       "    <tr>\n",
       "      <th>1</th>\n",
       "      <td>8</td>\n",
       "      <td>low carb</td>\n",
       "    </tr>\n",
       "    <tr>\n",
       "      <th>2</th>\n",
       "      <td>15</td>\n",
       "      <td>beans</td>\n",
       "    </tr>\n",
       "    <tr>\n",
       "      <th>3</th>\n",
       "      <td>16</td>\n",
       "      <td>cocoa</td>\n",
       "    </tr>\n",
       "    <tr>\n",
       "      <th>4</th>\n",
       "      <td>26</td>\n",
       "      <td>vanilla</td>\n",
       "    </tr>\n",
       "  </tbody>\n",
       "</table>\n",
       "</div>"
      ],
      "text/plain": [
       "   CLAIM_ID Claim Name\n",
       "0         0   No Claim\n",
       "1         8   low carb\n",
       "2        15      beans\n",
       "3        16      cocoa\n",
       "4        26    vanilla"
      ]
     },
     "execution_count": 58,
     "metadata": {},
     "output_type": "execute_result"
    }
   ],
   "source": [
    "theme_df.head()"
   ]
  },
  {
   "cell_type": "code",
   "execution_count": 59,
   "metadata": {},
   "outputs": [
    {
     "name": "stderr",
     "output_type": "stream",
     "text": [
      "elementwise comparison failed; this will raise an error in the future.\n",
      "\n"
     ]
    },
    {
     "data": {},
     "metadata": {},
     "output_type": "display_data"
    },
    {
     "data": {
      "application/vnd.holoviews_exec.v0+json": "",
      "text/html": [
       "<div id='10795'>\n",
       "\n",
       "\n",
       "\n",
       "\n",
       "\n",
       "  <div class=\"bk-root\" id=\"4c128c07-f152-44d7-ae08-2f5909922e4a\" data-root-id=\"10795\"></div>\n",
       "</div>\n",
       "<script type=\"application/javascript\">(function(root) {\n",
       "  function embed_document(root) {\n",
       "  var docs_json = {\"60705dee-ce62-421c-b362-6537ea2c4e6e\":{\"roots\":{\"references\":[{\"attributes\":{\"editor\":{\"id\":\"10833\"},\"field\":\"Variable Name\",\"formatter\":{\"id\":\"10832\"},\"title\":\"Variable Name\",\"width\":null},\"id\":\"10834\",\"type\":\"TableColumn\"},{\"attributes\":{},\"id\":\"10958\",\"type\":\"StringEditor\"},{\"attributes\":{},\"id\":\"10887\",\"type\":\"StringFormatter\"},{\"attributes\":{},\"id\":\"10798\",\"type\":\"StringEditor\"},{\"attributes\":{},\"id\":\"10848\",\"type\":\"StringEditor\"},{\"attributes\":{\"data\":{\"Datatype\":[\"int64\",\"int64\"],\"No of Unique\":[\"57317\",\"51\"],\"Samples\":[\"[26, 29, 48, 50, 74]\",\"[8, 81, 227, 432, 186]\"],\"Variable Name\":[\"PRODUCT_ID\",\"CLAIM_ID\"],\"index\":[\"PRODUCT_ID\",\"CLAIM_ID\"]},\"selected\":{\"id\":\"10974\"},\"selection_policy\":{\"id\":\"10986\"}},\"id\":\"10946\",\"type\":\"ColumnDataSource\"},{\"attributes\":{},\"id\":\"10843\",\"type\":\"StringEditor\"},{\"attributes\":{\"editor\":{\"id\":\"10903\"},\"field\":\"No of Unique\",\"formatter\":{\"id\":\"10902\"},\"title\":\"No of Unique\",\"width\":null},\"id\":\"10904\",\"type\":\"TableColumn\"},{\"attributes\":{},\"id\":\"10918\",\"type\":\"StringEditor\"},{\"attributes\":{\"editor\":{\"id\":\"10908\"},\"field\":\"Samples\",\"formatter\":{\"id\":\"10907\"},\"title\":\"Samples\",\"width\":null},\"id\":\"10909\",\"type\":\"TableColumn\"},{\"attributes\":{\"child\":{\"id\":\"10822\"},\"name\":\"google\",\"title\":\"google\"},\"id\":\"10825\",\"type\":\"Panel\"},{\"attributes\":{\"editor\":{\"id\":\"10923\"},\"field\":\"Variable Name\",\"formatter\":{\"id\":\"10922\"},\"title\":\"Variable Name\",\"width\":null},\"id\":\"10924\",\"type\":\"TableColumn\"},{\"attributes\":{\"data\":{\"Datatype\":[\"float64\",\"object\",\"int64\"],\"No of Unique\":[\"193\",\"1625\",\"18742\"],\"Samples\":[\"[148.0, 543.0, 847.0, 999.0, 816.0]\",\"['10-01-2015', '10-10-2015', '10-11-2015', '10-12-2015', '10/13/2015']\",\"[76, 31, 65, 88, 85]\"],\"Variable Name\":[\"Theme Id\",\"published_date\",\"total_post\"],\"index\":[\"Theme Id\",\"published_date\",\"total_post\"]},\"selected\":{\"id\":\"10914\"},\"selection_policy\":{\"id\":\"10982\"}},\"id\":\"10886\",\"type\":\"ColumnDataSource\"},{\"attributes\":{},\"id\":\"10817\",\"type\":\"StringFormatter\"},{\"attributes\":{},\"id\":\"10938\",\"type\":\"StringEditor\"},{\"attributes\":{\"editor\":{\"id\":\"10938\"},\"field\":\"Samples\",\"formatter\":{\"id\":\"10937\"},\"title\":\"Samples\",\"width\":null},\"id\":\"10939\",\"type\":\"TableColumn\"},{\"attributes\":{},\"id\":\"10933\",\"type\":\"StringEditor\"},{\"attributes\":{},\"id\":\"10967\",\"type\":\"StringFormatter\"},{\"attributes\":{},\"id\":\"10877\",\"type\":\"StringFormatter\"},{\"attributes\":{\"editor\":{\"id\":\"10888\"},\"field\":\"index\",\"formatter\":{\"id\":\"10887\"},\"title\":\"index\",\"width\":null},\"id\":\"10889\",\"type\":\"TableColumn\"},{\"attributes\":{\"data\":{\"Datatype\":[\"int64\",\"object\"],\"No of Unique\":[\"208\",\"208\"],\"Samples\":[\"[0, 8, 15, 16, 26]\",\"['No Claim', 'low carb', 'beans', 'cocoa', 'vanilla']\"],\"Variable Name\":[\"CLAIM_ID\",\"Claim Name\"],\"index\":[\"CLAIM_ID\",\"Claim Name\"]},\"selected\":{\"id\":\"10944\"},\"selection_policy\":{\"id\":\"10984\"}},\"id\":\"10916\",\"type\":\"ColumnDataSource\"},{\"attributes\":{\"editor\":{\"id\":\"10808\"},\"field\":\"Datatype\",\"formatter\":{\"id\":\"10807\"},\"title\":\"Datatype\",\"width\":null},\"id\":\"10809\",\"type\":\"TableColumn\"},{\"attributes\":{\"editor\":{\"id\":\"10868\"},\"field\":\"Datatype\",\"formatter\":{\"id\":\"10867\"},\"title\":\"Datatype\",\"width\":null},\"id\":\"10869\",\"type\":\"TableColumn\"},{\"attributes\":{\"data\":{\"Datatype\":[\"int64\",\"object\"],\"No of Unique\":[\"67175\",\"9\"],\"Samples\":[\"[1, 2, 3, 4, 5]\",\"['Others', 'B', 'A', 'D', 'E']\"],\"Variable Name\":[\"PRODUCT_ID\",\"Vendor\"],\"index\":[\"PRODUCT_ID\",\"Vendor\"]},\"selected\":{\"id\":\"10854\"},\"selection_policy\":{\"id\":\"10978\"}},\"id\":\"10826\",\"type\":\"ColumnDataSource\"},{\"attributes\":{},\"id\":\"10937\",\"type\":\"StringFormatter\"},{\"attributes\":{},\"id\":\"10893\",\"type\":\"StringEditor\"},{\"attributes\":{},\"id\":\"10832\",\"type\":\"StringFormatter\"},{\"attributes\":{\"editor\":{\"id\":\"10828\"},\"field\":\"index\",\"formatter\":{\"id\":\"10827\"},\"title\":\"index\",\"width\":null},\"id\":\"10829\",\"type\":\"TableColumn\"},{\"attributes\":{\"editor\":{\"id\":\"10933\"},\"field\":\"No of Unique\",\"formatter\":{\"id\":\"10932\"},\"title\":\"No of Unique\",\"width\":null},\"id\":\"10934\",\"type\":\"TableColumn\"},{\"attributes\":{\"columns\":[{\"id\":\"10859\"},{\"id\":\"10864\"},{\"id\":\"10869\"},{\"id\":\"10874\"},{\"id\":\"10879\"}],\"editable\":true,\"fit_columns\":true,\"height\":155,\"index_position\":null,\"margin\":[5,10,5,10],\"name\":\"sales_data\",\"source\":{\"id\":\"10856\"},\"view\":{\"id\":\"10883\"}},\"id\":\"10882\",\"type\":\"DataTable\"},{\"attributes\":{\"editor\":{\"id\":\"10963\"},\"field\":\"No of Unique\",\"formatter\":{\"id\":\"10962\"},\"title\":\"No of Unique\",\"width\":null},\"id\":\"10964\",\"type\":\"TableColumn\"},{\"attributes\":{},\"id\":\"10863\",\"type\":\"StringEditor\"},{\"attributes\":{\"editor\":{\"id\":\"10928\"},\"field\":\"Datatype\",\"formatter\":{\"id\":\"10927\"},\"title\":\"Datatype\",\"width\":null},\"id\":\"10929\",\"type\":\"TableColumn\"},{\"attributes\":{},\"id\":\"10813\",\"type\":\"StringEditor\"},{\"attributes\":{},\"id\":\"10963\",\"type\":\"StringEditor\"},{\"attributes\":{\"editor\":{\"id\":\"10858\"},\"field\":\"index\",\"formatter\":{\"id\":\"10857\"},\"title\":\"index\",\"width\":null},\"id\":\"10859\",\"type\":\"TableColumn\"},{\"attributes\":{\"source\":{\"id\":\"10946\"}},\"id\":\"10973\",\"type\":\"CDSView\"},{\"attributes\":{},\"id\":\"10837\",\"type\":\"StringFormatter\"},{\"attributes\":{},\"id\":\"10917\",\"type\":\"StringFormatter\"},{\"attributes\":{\"child\":{\"id\":\"10852\"},\"name\":\"product_manufacturer_list\",\"title\":\"product_manufacturer_list\"},\"id\":\"10855\",\"type\":\"Panel\"},{\"attributes\":{\"editor\":{\"id\":\"10838\"},\"field\":\"Datatype\",\"formatter\":{\"id\":\"10837\"},\"title\":\"Datatype\",\"width\":null},\"id\":\"10839\",\"type\":\"TableColumn\"},{\"attributes\":{\"editor\":{\"id\":\"10898\"},\"field\":\"Datatype\",\"formatter\":{\"id\":\"10897\"},\"title\":\"Datatype\",\"width\":null},\"id\":\"10899\",\"type\":\"TableColumn\"},{\"attributes\":{},\"id\":\"10976\",\"type\":\"UnionRenderers\"},{\"attributes\":{},\"id\":\"10873\",\"type\":\"StringEditor\"},{\"attributes\":{\"data\":{\"Datatype\":[\"datetime64[ns]\",\"object\",\"int64\",\"int64\",\"int64\",\"int64\"],\"No of Unique\":[\"2100\",\"4\",\"19129\",\"160\",\"53\",\"6\"],\"Samples\":[\"[numpy.datetime64('2014-01-05T00:00:00.000000000'), numpy.datetime64('2014-01-06T00:00:00.000000000'), numpy.datetime64('2014-01-07T00:00:00.000000000'), numpy.datetime64('2014-01-10T00:00:00.000000000'), numpy.datetime64('2014-01-20T00:00:00.000000000')]\",\"['google', 'chewy', 'amazon', 'walmart']\",\"[349, 697, 2091, 1046, 1742]\",\"[916, 8, 555, 510, 39]\",\"[1, 2, 4, 5, 6]\",\"[2014, 2015, 2016, 2017, 2018]\"],\"Variable Name\":[\"date\",\"platform\",\"searchVolume\",\"Claim_ID\",\"week_number\",\"year_new\"],\"index\":[\"date\",\"platform\",\"searchVolume\",\"Claim_ID\",\"week_number\",\"year_new\"]},\"selected\":{\"id\":\"10824\"},\"selection_policy\":{\"id\":\"10976\"}},\"id\":\"10796\",\"type\":\"ColumnDataSource\"},{\"attributes\":{},\"id\":\"10932\",\"type\":\"StringFormatter\"},{\"attributes\":{},\"id\":\"10948\",\"type\":\"StringEditor\"},{\"attributes\":{\"columns\":[{\"id\":\"10949\"},{\"id\":\"10954\"},{\"id\":\"10959\"},{\"id\":\"10964\"},{\"id\":\"10969\"}],\"editable\":true,\"fit_columns\":true,\"height\":80,\"index_position\":null,\"margin\":[5,10,5,10],\"name\":\"Theme_product_list\",\"source\":{\"id\":\"10946\"},\"view\":{\"id\":\"10973\"}},\"id\":\"10972\",\"type\":\"DataTable\"},{\"attributes\":{\"source\":{\"id\":\"10886\"}},\"id\":\"10913\",\"type\":\"CDSView\"},{\"attributes\":{\"source\":{\"id\":\"10826\"}},\"id\":\"10853\",\"type\":\"CDSView\"},{\"attributes\":{},\"id\":\"10908\",\"type\":\"StringEditor\"},{\"attributes\":{},\"id\":\"10923\",\"type\":\"StringEditor\"},{\"attributes\":{},\"id\":\"10953\",\"type\":\"StringEditor\"},{\"attributes\":{},\"id\":\"10978\",\"type\":\"UnionRenderers\"},{\"attributes\":{},\"id\":\"10827\",\"type\":\"StringFormatter\"},{\"attributes\":{\"child\":{\"id\":\"10912\"},\"name\":\"social_media_data\",\"title\":\"social_media_data\"},\"id\":\"10915\",\"type\":\"Panel\"},{\"attributes\":{},\"id\":\"10947\",\"type\":\"StringFormatter\"},{\"attributes\":{\"editor\":{\"id\":\"10968\"},\"field\":\"Samples\",\"formatter\":{\"id\":\"10967\"},\"title\":\"Samples\",\"width\":null},\"id\":\"10969\",\"type\":\"TableColumn\"},{\"attributes\":{},\"id\":\"10824\",\"type\":\"Selection\"},{\"attributes\":{},\"id\":\"10922\",\"type\":\"StringFormatter\"},{\"attributes\":{\"data\":{\"Datatype\":[\"int64\",\"int64\",\"float64\",\"int64\",\"int64\"],\"No of Unique\":[\"196\",\"42616\",\"254341\",\"114070\",\"206368\"],\"Samples\":[\"[20160109, 20160116, 20160123, 20160130, 20160206]\",\"[1, 3, 4, 6, 7]\",\"[13927.0, 10289.0, 357.0, 23113.0, 23177.0]\",\"[934, 1592, 22, 2027, 3231]\",\"[18680, 28646, 440, 81088, 58164]\"],\"Variable Name\":[\"system_calendar_key_N\",\"product_id\",\"sales_dollars_value\",\"sales_units_value\",\"sales_lbs_value\"],\"index\":[\"system_calendar_key_N\",\"product_id\",\"sales_dollars_value\",\"sales_units_value\",\"sales_lbs_value\"]},\"selected\":{\"id\":\"10884\"},\"selection_policy\":{\"id\":\"10980\"}},\"id\":\"10856\",\"type\":\"ColumnDataSource\"},{\"attributes\":{\"editor\":{\"id\":\"10818\"},\"field\":\"Samples\",\"formatter\":{\"id\":\"10817\"},\"title\":\"Samples\",\"width\":null},\"id\":\"10819\",\"type\":\"TableColumn\"},{\"attributes\":{},\"id\":\"10862\",\"type\":\"StringFormatter\"},{\"attributes\":{},\"id\":\"10928\",\"type\":\"StringEditor\"},{\"attributes\":{\"editor\":{\"id\":\"10863\"},\"field\":\"Variable Name\",\"formatter\":{\"id\":\"10862\"},\"title\":\"Variable Name\",\"width\":null},\"id\":\"10864\",\"type\":\"TableColumn\"},{\"attributes\":{\"child\":{\"id\":\"10942\"},\"name\":\"Theme_list\",\"title\":\"Theme_list\"},\"id\":\"10945\",\"type\":\"Panel\"},{\"attributes\":{},\"id\":\"10878\",\"type\":\"StringEditor\"},{\"attributes\":{},\"id\":\"10968\",\"type\":\"StringEditor\"},{\"attributes\":{\"columns\":[{\"id\":\"10829\"},{\"id\":\"10834\"},{\"id\":\"10839\"},{\"id\":\"10844\"},{\"id\":\"10849\"}],\"editable\":true,\"fit_columns\":true,\"height\":80,\"index_position\":null,\"margin\":[5,10,5,10],\"name\":\"product_manufacturer_list\",\"source\":{\"id\":\"10826\"},\"view\":{\"id\":\"10853\"}},\"id\":\"10852\",\"type\":\"DataTable\"},{\"attributes\":{},\"id\":\"10914\",\"type\":\"Selection\"},{\"attributes\":{},\"id\":\"10907\",\"type\":\"StringFormatter\"},{\"attributes\":{\"editor\":{\"id\":\"10873\"},\"field\":\"No of Unique\",\"formatter\":{\"id\":\"10872\"},\"title\":\"No of Unique\",\"width\":null},\"id\":\"10874\",\"type\":\"TableColumn\"},{\"attributes\":{},\"id\":\"10857\",\"type\":\"StringFormatter\"},{\"attributes\":{},\"id\":\"10867\",\"type\":\"StringFormatter\"},{\"attributes\":{\"source\":{\"id\":\"10796\"}},\"id\":\"10823\",\"type\":\"CDSView\"},{\"attributes\":{},\"id\":\"10888\",\"type\":\"StringEditor\"},{\"attributes\":{\"editor\":{\"id\":\"10813\"},\"field\":\"No of Unique\",\"formatter\":{\"id\":\"10812\"},\"title\":\"No of Unique\",\"width\":null},\"id\":\"10814\",\"type\":\"TableColumn\"},{\"attributes\":{},\"id\":\"10980\",\"type\":\"UnionRenderers\"},{\"attributes\":{},\"id\":\"10903\",\"type\":\"StringEditor\"},{\"attributes\":{},\"id\":\"10838\",\"type\":\"StringEditor\"},{\"attributes\":{\"source\":{\"id\":\"10856\"}},\"id\":\"10883\",\"type\":\"CDSView\"},{\"attributes\":{},\"id\":\"10818\",\"type\":\"StringEditor\"},{\"attributes\":{},\"id\":\"10898\",\"type\":\"StringEditor\"},{\"attributes\":{},\"id\":\"10986\",\"type\":\"UnionRenderers\"},{\"attributes\":{},\"id\":\"10842\",\"type\":\"StringFormatter\"},{\"attributes\":{},\"id\":\"10962\",\"type\":\"StringFormatter\"},{\"attributes\":{},\"id\":\"10897\",\"type\":\"StringFormatter\"},{\"attributes\":{\"editor\":{\"id\":\"10803\"},\"field\":\"Variable Name\",\"formatter\":{\"id\":\"10802\"},\"title\":\"Variable Name\",\"width\":null},\"id\":\"10804\",\"type\":\"TableColumn\"},{\"attributes\":{\"columns\":[{\"id\":\"10799\"},{\"id\":\"10804\"},{\"id\":\"10809\"},{\"id\":\"10814\"},{\"id\":\"10819\"}],\"editable\":true,\"fit_columns\":true,\"height\":180,\"index_position\":null,\"margin\":[5,10,5,10],\"name\":\"google\",\"source\":{\"id\":\"10796\"},\"view\":{\"id\":\"10823\"}},\"id\":\"10822\",\"type\":\"DataTable\"},{\"attributes\":{\"source\":{\"id\":\"10916\"}},\"id\":\"10943\",\"type\":\"CDSView\"},{\"attributes\":{\"editor\":{\"id\":\"10948\"},\"field\":\"index\",\"formatter\":{\"id\":\"10947\"},\"title\":\"index\",\"width\":null},\"id\":\"10949\",\"type\":\"TableColumn\"},{\"attributes\":{},\"id\":\"10858\",\"type\":\"StringEditor\"},{\"attributes\":{\"editor\":{\"id\":\"10953\"},\"field\":\"Variable Name\",\"formatter\":{\"id\":\"10952\"},\"title\":\"Variable Name\",\"width\":null},\"id\":\"10954\",\"type\":\"TableColumn\"},{\"attributes\":{},\"id\":\"10868\",\"type\":\"StringEditor\"},{\"attributes\":{},\"id\":\"10982\",\"type\":\"UnionRenderers\"},{\"attributes\":{},\"id\":\"10927\",\"type\":\"StringFormatter\"},{\"attributes\":{},\"id\":\"10854\",\"type\":\"Selection\"},{\"attributes\":{\"editor\":{\"id\":\"10958\"},\"field\":\"Datatype\",\"formatter\":{\"id\":\"10957\"},\"title\":\"Datatype\",\"width\":null},\"id\":\"10959\",\"type\":\"TableColumn\"},{\"attributes\":{\"editor\":{\"id\":\"10848\"},\"field\":\"Samples\",\"formatter\":{\"id\":\"10847\"},\"title\":\"Samples\",\"width\":null},\"id\":\"10849\",\"type\":\"TableColumn\"},{\"attributes\":{\"client_comm_id\":\"3bd350ff15a94a9a93a33c195457f3aa\",\"comm_id\":\"f6332eeeceaf4af0ab9004e97921cf09\",\"plot_id\":\"10795\"},\"id\":\"11012\",\"type\":\"panel.models.comm_manager.CommManager\"},{\"attributes\":{},\"id\":\"10803\",\"type\":\"StringEditor\"},{\"attributes\":{},\"id\":\"10944\",\"type\":\"Selection\"},{\"attributes\":{},\"id\":\"10892\",\"type\":\"StringFormatter\"},{\"attributes\":{},\"id\":\"10833\",\"type\":\"StringEditor\"},{\"attributes\":{},\"id\":\"10884\",\"type\":\"Selection\"},{\"attributes\":{},\"id\":\"10872\",\"type\":\"StringFormatter\"},{\"attributes\":{\"editor\":{\"id\":\"10918\"},\"field\":\"index\",\"formatter\":{\"id\":\"10917\"},\"title\":\"index\",\"width\":null},\"id\":\"10919\",\"type\":\"TableColumn\"},{\"attributes\":{},\"id\":\"10902\",\"type\":\"StringFormatter\"},{\"attributes\":{},\"id\":\"10974\",\"type\":\"Selection\"},{\"attributes\":{},\"id\":\"10847\",\"type\":\"StringFormatter\"},{\"attributes\":{},\"id\":\"10808\",\"type\":\"StringEditor\"},{\"attributes\":{\"columns\":[{\"id\":\"10919\"},{\"id\":\"10924\"},{\"id\":\"10929\"},{\"id\":\"10934\"},{\"id\":\"10939\"}],\"editable\":true,\"fit_columns\":true,\"height\":80,\"index_position\":null,\"margin\":[5,10,5,10],\"name\":\"Theme_list\",\"source\":{\"id\":\"10916\"},\"view\":{\"id\":\"10943\"}},\"id\":\"10942\",\"type\":\"DataTable\"},{\"attributes\":{},\"id\":\"10797\",\"type\":\"StringFormatter\"},{\"attributes\":{\"editor\":{\"id\":\"10893\"},\"field\":\"Variable Name\",\"formatter\":{\"id\":\"10892\"},\"title\":\"Variable Name\",\"width\":null},\"id\":\"10894\",\"type\":\"TableColumn\"},{\"attributes\":{\"child\":{\"id\":\"10972\"},\"name\":\"Theme_product_list\",\"title\":\"Theme_product_list\"},\"id\":\"10975\",\"type\":\"Panel\"},{\"attributes\":{\"editor\":{\"id\":\"10798\"},\"field\":\"index\",\"formatter\":{\"id\":\"10797\"},\"title\":\"index\",\"width\":null},\"id\":\"10799\",\"type\":\"TableColumn\"},{\"attributes\":{\"editor\":{\"id\":\"10843\"},\"field\":\"No of Unique\",\"formatter\":{\"id\":\"10842\"},\"title\":\"No of Unique\",\"width\":null},\"id\":\"10844\",\"type\":\"TableColumn\"},{\"attributes\":{\"margin\":[0,0,0,0],\"tabs\":[{\"id\":\"10825\"},{\"id\":\"10855\"},{\"id\":\"10885\"},{\"id\":\"10915\"},{\"id\":\"10945\"},{\"id\":\"10975\"}]},\"id\":\"10795\",\"type\":\"Tabs\"},{\"attributes\":{},\"id\":\"10952\",\"type\":\"StringFormatter\"},{\"attributes\":{},\"id\":\"10812\",\"type\":\"StringFormatter\"},{\"attributes\":{\"child\":{\"id\":\"10882\"},\"name\":\"sales_data\",\"title\":\"sales_data\"},\"id\":\"10885\",\"type\":\"Panel\"},{\"attributes\":{},\"id\":\"10807\",\"type\":\"StringFormatter\"},{\"attributes\":{\"editor\":{\"id\":\"10878\"},\"field\":\"Samples\",\"formatter\":{\"id\":\"10877\"},\"title\":\"Samples\",\"width\":null},\"id\":\"10879\",\"type\":\"TableColumn\"},{\"attributes\":{},\"id\":\"10957\",\"type\":\"StringFormatter\"},{\"attributes\":{\"columns\":[{\"id\":\"10889\"},{\"id\":\"10894\"},{\"id\":\"10899\"},{\"id\":\"10904\"},{\"id\":\"10909\"}],\"editable\":true,\"fit_columns\":true,\"height\":105,\"index_position\":null,\"margin\":[5,10,5,10],\"name\":\"social_media_data\",\"source\":{\"id\":\"10886\"},\"view\":{\"id\":\"10913\"}},\"id\":\"10912\",\"type\":\"DataTable\"},{\"attributes\":{},\"id\":\"10984\",\"type\":\"UnionRenderers\"},{\"attributes\":{},\"id\":\"10802\",\"type\":\"StringFormatter\"},{\"attributes\":{},\"id\":\"10828\",\"type\":\"StringEditor\"}],\"root_ids\":[\"10795\",\"11012\"]},\"title\":\"Bokeh Application\",\"version\":\"2.2.3\"}};\n",
       "  var render_items = [{\"docid\":\"60705dee-ce62-421c-b362-6537ea2c4e6e\",\"root_ids\":[\"10795\"],\"roots\":{\"10795\":\"4c128c07-f152-44d7-ae08-2f5909922e4a\"}}];\n",
       "  root.Bokeh.embed.embed_items_notebook(docs_json, render_items);\n",
       "  }\n",
       "if (root.Bokeh !== undefined) {\n",
       "    embed_document(root);\n",
       "  } else {\n",
       "    var attempts = 0;\n",
       "    var timer = setInterval(function(root) {\n",
       "      if (root.Bokeh !== undefined) {\n",
       "        clearInterval(timer);\n",
       "        embed_document(root);\n",
       "      } else if (document.readyState == \"complete\") {\n",
       "        attempts++;\n",
       "        if (attempts > 100) {\n",
       "          clearInterval(timer);\n",
       "          console.log(\"Bokeh: ERROR: Unable to run BokehJS code because BokehJS library is missing\");\n",
       "        }\n",
       "      }\n",
       "    }, 10, root)\n",
       "  }\n",
       "})(window);</script>"
      ],
      "text/plain": [
       "Tabs\n",
       "    [0] DataFrame(name='google', value=             Variable Name...)\n",
       "    [1] DataFrame(name='product_manufacturer_list..., value=           Variable Name D...)\n",
       "    [2] DataFrame(name='sales_data', value=                          ...)\n",
       "    [3] DataFrame(name='social_media_data', value=                 Variable ...)\n",
       "    [4] DataFrame(name='Theme_list', value=           Variable Name D...)\n",
       "    [5] DataFrame(name='Theme_product_list', value=           Variable Name D...)"
      ]
     },
     "execution_count": 59,
     "metadata": {
      "application/vnd.holoviews_exec.v0+json": {
       "id": "10795"
      }
     },
     "output_type": "execute_result"
    }
   ],
   "source": [
    "sum1 = eda.get_variable_summary(google_df)\n",
    "sum2 = eda.get_variable_summary(pro_manu_df)\n",
    "sum3 = eda.get_variable_summary(sales_df)\n",
    "sum4 = eda.get_variable_summary(soc_media_df)\n",
    "sum5 = eda.get_variable_summary(theme_df)\n",
    "sum6 = eda.get_variable_summary(theme_pro_df)\n",
    "\n",
    "display_as_tabs([('google', sum1), ('product_manufacturer_list', sum2),\n",
    "                 ('sales_data', sum3), ('social_media_data', sum4),\n",
    "                ('Theme_list', sum5), ('Theme_product_list', sum6)])"
   ]
  },
  {
   "cell_type": "markdown",
   "metadata": {},
   "source": [
    "## Health Analysis\n",
    "\n",
    "Get an overview of the overall health of the dataset. This is usually quick to compute and hopefully highlights some problems to focus on.\n",
    "\n"
   ]
  },
  {
   "cell_type": "markdown",
   "metadata": {},
   "source": [
    "### Summary Plot\n",
    "\n",
    "Provides a high level summary of the dataset health.\n",
    "\n",
    "**Watch out for:**\n",
    "\n",
    "* too few numeric values\n",
    "* high % of missing values\n",
    "* high % of duplicate values\n",
    "* high % of duplicate columns "
   ]
  },
  {
   "cell_type": "code",
   "execution_count": 60,
   "metadata": {},
   "outputs": [
    {
     "data": {},
     "metadata": {},
     "output_type": "display_data"
    },
    {
     "data": {},
     "metadata": {},
     "output_type": "display_data"
    },
    {
     "data": {
      "application/vnd.holoviews_exec.v0+json": "",
      "text/html": [
       "<div id='11073'>\n",
       "\n",
       "\n",
       "\n",
       "\n",
       "\n",
       "  <div class=\"bk-root\" id=\"4873bb72-e8ca-421a-b0af-ffb660bd0920\" data-root-id=\"11073\"></div>\n",
       "</div>\n",
       "<script type=\"application/javascript\">(function(root) {\n",
       "  function embed_document(root) {\n",
       "  var docs_json = {\"7b1ce159-47c6-4874-8439-c28df1bd2123\":{\"roots\":{\"references\":[{\"attributes\":{},\"id\":\"13201\",\"type\":\"UnionRenderers\"},{\"attributes\":{\"text\":\"Missing Values\",\"text_color\":{\"value\":\"black\"},\"text_font_size\":{\"value\":\"12pt\"}},\"id\":\"11135\",\"type\":\"Title\"},{\"attributes\":{},\"id\":\"12192\",\"type\":\"WheelZoomTool\"},{\"attributes\":{},\"id\":\"12710\",\"type\":\"SaveTool\"},{\"attributes\":{\"children\":[{\"id\":\"13417\"},{\"id\":\"13415\"}]},\"id\":\"13418\",\"type\":\"Column\"},{\"attributes\":{\"toolbars\":[{\"id\":\"11099\"},{\"id\":\"11156\"},{\"id\":\"11213\"},{\"id\":\"11270\"}],\"tools\":[{\"id\":\"11076\"},{\"id\":\"11093\"},{\"id\":\"11094\"},{\"id\":\"11095\"},{\"id\":\"11096\"},{\"id\":\"11097\"},{\"id\":\"11133\"},{\"id\":\"11150\"},{\"id\":\"11151\"},{\"id\":\"11152\"},{\"id\":\"11153\"},{\"id\":\"11154\"},{\"id\":\"11190\"},{\"id\":\"11207\"},{\"id\":\"11208\"},{\"id\":\"11209\"},{\"id\":\"11210\"},{\"id\":\"11211\"},{\"id\":\"11247\"},{\"id\":\"11264\"},{\"id\":\"11265\"},{\"id\":\"11266\"},{\"id\":\"11267\"},{\"id\":\"11268\"}]},\"id\":\"11336\",\"type\":\"ProxyToolbar\"},{\"attributes\":{\"toolbar\":{\"id\":\"11336\"},\"toolbar_location\":\"above\"},\"id\":\"11337\",\"type\":\"ToolbarBox\"},{\"attributes\":{\"label\":{\"field\":\"Variable\"},\"renderers\":[{\"id\":\"11284\"}]},\"id\":\"11295\",\"type\":\"LegendItem\"},{\"attributes\":{\"callback\":null,\"renderers\":[{\"id\":\"11170\"}],\"tags\":[\"hv_created\"],\"tooltips\":[[\"index\",\"@{index}\"],[\"Variable\",\"@{Variable}\"],[\"value\",\"@{value}\"]]},\"id\":\"11133\",\"type\":\"HoverTool\"},{\"attributes\":{},\"id\":\"11674\",\"type\":\"ResetTool\"},{\"attributes\":{\"source\":{\"id\":\"13358\"}},\"id\":\"13365\",\"type\":\"CDSView\"},{\"attributes\":{\"fill_color\":{\"field\":\"Variable\",\"transform\":{\"id\":\"13357\"}},\"height\":{\"value\":0.8},\"left\":{\"field\":\"bottom\"},\"right\":{\"field\":\"top\"},\"y\":{\"field\":\"index\"}},\"id\":\"13361\",\"type\":\"HBar\"},{\"attributes\":{\"callback\":null,\"renderers\":[{\"id\":\"12210\"}],\"tags\":[\"hv_created\"],\"tooltips\":[[\"index\",\"@{index}\"],[\"Variable\",\"@{Variable}\"],[\"value\",\"@{value}\"]]},\"id\":\"12173\",\"type\":\"HoverTool\"},{\"attributes\":{\"toolbar\":{\"id\":\"11856\"},\"toolbar_location\":\"above\"},\"id\":\"11857\",\"type\":\"ToolbarBox\"},{\"attributes\":{\"active_drag\":\"auto\",\"active_inspect\":\"auto\",\"active_multi\":null,\"active_scroll\":\"auto\",\"active_tap\":\"auto\",\"tools\":[{\"id\":\"13327\"},{\"id\":\"13344\"},{\"id\":\"13345\"},{\"id\":\"13346\"},{\"id\":\"13347\"},{\"id\":\"13348\"}]},\"id\":\"13350\",\"type\":\"Toolbar\"},{\"attributes\":{\"data\":{\"Variable\":[\"Available\",\"Missing\"],\"bottom\":{\"__ndarray__\":\"AAAAAAAAAAAAAAAAAABZQA==\",\"dtype\":\"float64\",\"order\":\"little\",\"shape\":[2]},\"index\":[\"values\",\"values\"],\"top\":{\"__ndarray__\":\"AAAAAAAAWUAAAAAAAABZQA==\",\"dtype\":\"float64\",\"order\":\"little\",\"shape\":[2]},\"value\":{\"__ndarray__\":\"AAAAAAAAWUAAAAAAAAAAAA==\",\"dtype\":\"float64\",\"order\":\"little\",\"shape\":[2]}},\"selected\":{\"id\":\"12205\"},\"selection_policy\":{\"id\":\"12218\"}},\"id\":\"12204\",\"type\":\"ColumnDataSource\"},{\"attributes\":{\"ticks\":[0]},\"id\":\"12799\",\"type\":\"FixedTicker\"},{\"attributes\":{\"style\":{\"white-space\":\"nowrap\"},\"text\":\"<span style=\\\"color:black;font-family:Arial;font-style:bold;font-weight:bold;font-size:12pt\\\">Data Shape:(208, 2)</span>\",\"width\":450},\"id\":\"13419\",\"type\":\"Div\"},{\"attributes\":{\"align\":null,\"below\":[{\"id\":\"11143\"}],\"center\":[{\"id\":\"11146\"},{\"id\":\"11149\"},{\"id\":\"11180\"}],\"left\":[{\"id\":\"11147\"}],\"margin\":null,\"min_border_bottom\":10,\"min_border_left\":10,\"min_border_right\":10,\"min_border_top\":10,\"plot_height\":100,\"plot_width\":700,\"renderers\":[{\"id\":\"11170\"}],\"right\":[{\"id\":\"11180\"}],\"sizing_mode\":\"fixed\",\"title\":{\"id\":\"11135\"},\"toolbar\":{\"id\":\"11156\"},\"toolbar_location\":null,\"x_range\":{\"id\":\"11074\"},\"x_scale\":{\"id\":\"11139\"},\"y_range\":{\"id\":\"11075\"},\"y_scale\":{\"id\":\"11141\"}},\"id\":\"11134\",\"subtype\":\"Figure\",\"type\":\"Plot\"},{\"attributes\":{\"ticks\":[0]},\"id\":\"11182\",\"type\":\"FixedTicker\"},{\"attributes\":{\"toolbars\":[{\"id\":\"11619\"},{\"id\":\"11676\"},{\"id\":\"11733\"},{\"id\":\"11790\"}],\"tools\":[{\"id\":\"11596\"},{\"id\":\"11613\"},{\"id\":\"11614\"},{\"id\":\"11615\"},{\"id\":\"11616\"},{\"id\":\"11617\"},{\"id\":\"11653\"},{\"id\":\"11670\"},{\"id\":\"11671\"},{\"id\":\"11672\"},{\"id\":\"11673\"},{\"id\":\"11674\"},{\"id\":\"11710\"},{\"id\":\"11727\"},{\"id\":\"11728\"},{\"id\":\"11729\"},{\"id\":\"11730\"},{\"id\":\"11731\"},{\"id\":\"11767\"},{\"id\":\"11784\"},{\"id\":\"11785\"},{\"id\":\"11786\"},{\"id\":\"11787\"},{\"id\":\"11788\"}]},\"id\":\"11856\",\"type\":\"ProxyToolbar\"},{\"attributes\":{},\"id\":\"11231\",\"type\":\"CategoricalTickFormatter\"},{\"attributes\":{\"data\":{\"Variable\":[\"Available\",\"Missing\"],\"bottom\":{\"__ndarray__\":\"AAAAAAAAAADxn+mBDJZVQA==\",\"dtype\":\"float64\",\"order\":\"little\",\"shape\":[2]},\"index\":[\"values\",\"values\"],\"top\":{\"__ndarray__\":\"8Z/pgQyWVUAAAAAAAABZQA==\",\"dtype\":\"float64\",\"order\":\"little\",\"shape\":[2]},\"value\":{\"__ndarray__\":\"8Z/pgQyWVUB1ALPwm08rQA==\",\"dtype\":\"float64\",\"order\":\"little\",\"shape\":[2]}},\"selected\":{\"id\":\"12725\"},\"selection_policy\":{\"id\":\"12738\"}},\"id\":\"12724\",\"type\":\"ColumnDataSource\"},{\"attributes\":{\"data_source\":{\"id\":\"12838\"},\"glyph\":{\"id\":\"12841\"},\"hover_glyph\":null,\"muted_glyph\":{\"id\":\"12843\"},\"nonselection_glyph\":{\"id\":\"12842\"},\"selection_glyph\":null,\"view\":{\"id\":\"12845\"}},\"id\":\"12844\",\"type\":\"GlyphRenderer\"},{\"attributes\":{\"fill_alpha\":{\"value\":0.2},\"fill_color\":{\"field\":\"Variable\",\"transform\":{\"id\":\"13357\"}},\"height\":{\"value\":0.8},\"left\":{\"field\":\"bottom\"},\"line_alpha\":{\"value\":0.2},\"right\":{\"field\":\"top\"},\"y\":{\"field\":\"index\"}},\"id\":\"13363\",\"type\":\"HBar\"},{\"attributes\":{},\"id\":\"11637\",\"type\":\"CategoricalTickFormatter\"},{\"attributes\":{\"ticks\":[0]},\"id\":\"12222\",\"type\":\"FixedTicker\"},{\"attributes\":{},\"id\":\"12181\",\"type\":\"CategoricalScale\"},{\"attributes\":{\"items\":[{\"id\":\"13261\"}],\"location\":[0,0]},\"id\":\"13260\",\"type\":\"Legend\"},{\"attributes\":{},\"id\":\"12679\",\"type\":\"BasicTickFormatter\"},{\"attributes\":{\"toolbar\":{\"id\":\"12376\"},\"toolbar_location\":\"above\"},\"id\":\"12377\",\"type\":\"ToolbarBox\"},{\"attributes\":{},\"id\":\"12677\",\"type\":\"CategoricalTickFormatter\"},{\"attributes\":{\"callback\":null,\"renderers\":[{\"id\":\"11113\"}],\"tags\":[\"hv_created\"],\"tooltips\":[[\"index\",\"@{index}\"],[\"Variable\",\"@{Variable}\"],[\"value\",\"@{value}\"]]},\"id\":\"11076\",\"type\":\"HoverTool\"},{\"attributes\":{\"items\":[{\"id\":\"11238\"}],\"location\":[0,0]},\"id\":\"11237\",\"type\":\"Legend\"},{\"attributes\":{},\"id\":\"12238\",\"type\":\"CategoricalScale\"},{\"attributes\":{\"callback\":null,\"renderers\":[{\"id\":\"12730\"}],\"tags\":[\"hv_created\"],\"tooltips\":[[\"index\",\"@{index}\"],[\"Variable\",\"@{Variable}\"],[\"value\",\"@{value}\"]]},\"id\":\"12693\",\"type\":\"HoverTool\"},{\"attributes\":{\"source\":{\"id\":\"12838\"}},\"id\":\"12845\",\"type\":\"CDSView\"},{\"attributes\":{\"text\":\"Datatypes\",\"text_color\":{\"value\":\"black\"},\"text_font_size\":{\"value\":\"12pt\"}},\"id\":\"11078\",\"type\":\"Title\"},{\"attributes\":{},\"id\":\"12304\",\"type\":\"SaveTool\"},{\"attributes\":{\"fill_alpha\":{\"value\":0.1},\"fill_color\":{\"field\":\"Variable\",\"transform\":{\"id\":\"13357\"}},\"height\":{\"value\":0.8},\"left\":{\"field\":\"bottom\"},\"line_alpha\":{\"value\":0.1},\"right\":{\"field\":\"top\"},\"y\":{\"field\":\"index\"}},\"id\":\"13362\",\"type\":\"HBar\"},{\"attributes\":{\"fill_alpha\":{\"value\":0.2},\"fill_color\":{\"field\":\"Variable\",\"transform\":{\"id\":\"12837\"}},\"height\":{\"value\":0.8},\"left\":{\"field\":\"bottom\"},\"line_alpha\":{\"value\":0.2},\"right\":{\"field\":\"top\"},\"y\":{\"field\":\"index\"}},\"id\":\"12843\",\"type\":\"HBar\"},{\"attributes\":{\"children\":[{\"id\":\"12377\"},{\"id\":\"12375\"}]},\"id\":\"12378\",\"type\":\"Column\"},{\"attributes\":{\"axis\":{\"id\":\"12187\"},\"dimension\":1,\"grid_line_color\":null,\"ticker\":null},\"id\":\"12189\",\"type\":\"Grid\"},{\"attributes\":{\"data_source\":{\"id\":\"13358\"},\"glyph\":{\"id\":\"13361\"},\"hover_glyph\":null,\"muted_glyph\":{\"id\":\"13363\"},\"nonselection_glyph\":{\"id\":\"13362\"},\"selection_glyph\":null,\"view\":{\"id\":\"13365\"}},\"id\":\"13364\",\"type\":\"GlyphRenderer\"},{\"attributes\":{\"callback\":null,\"renderers\":[{\"id\":\"12153\"}],\"tags\":[\"hv_created\"],\"tooltips\":[[\"index\",\"@{index}\"],[\"Variable\",\"@{Variable}\"],[\"value\",\"@{value}\"]]},\"id\":\"12116\",\"type\":\"HoverTool\"},{\"attributes\":{\"fill_alpha\":{\"value\":0.2},\"fill_color\":{\"field\":\"Variable\",\"transform\":{\"id\":\"11220\"}},\"height\":{\"value\":0.8},\"left\":{\"field\":\"bottom\"},\"line_alpha\":{\"value\":0.2},\"right\":{\"field\":\"top\"},\"y\":{\"field\":\"index\"}},\"id\":\"11226\",\"type\":\"HBar\"},{\"attributes\":{\"factors\":[\"Unique\",\"Duplicate\"],\"palette\":[\"#1f77b3\",\"#ff7e0e\"]},\"id\":\"12780\",\"type\":\"CategoricalColorMapper\"},{\"attributes\":{\"children\":[[{\"id\":\"11077\"},0,0],[{\"id\":\"11134\"},1,0],[{\"id\":\"11191\"},2,0],[{\"id\":\"11248\"},3,0]]},\"id\":\"11335\",\"type\":\"GridBox\"},{\"attributes\":{\"data_source\":{\"id\":\"11221\"},\"glyph\":{\"id\":\"11224\"},\"hover_glyph\":null,\"muted_glyph\":{\"id\":\"11226\"},\"nonselection_glyph\":{\"id\":\"11225\"},\"selection_glyph\":null,\"view\":{\"id\":\"11228\"}},\"id\":\"11227\",\"type\":\"GlyphRenderer\"},{\"attributes\":{\"children\":[[{\"id\":\"12117\"},0,0],[{\"id\":\"12174\"},1,0],[{\"id\":\"12231\"},2,0],[{\"id\":\"12288\"},3,0]]},\"id\":\"12375\",\"type\":\"GridBox\"},{\"attributes\":{},\"id\":\"12275\",\"type\":\"UnionRenderers\"},{\"attributes\":{\"axis_label\":\"\",\"bounds\":\"auto\",\"formatter\":{\"id\":\"12216\"},\"major_label_orientation\":\"horizontal\",\"ticker\":{\"id\":\"12222\"}},\"id\":\"12183\",\"type\":\"LinearAxis\"},{\"attributes\":{\"factors\":[\"Unique\",\"Duplicate\"],\"palette\":[\"#1f77b3\",\"#ff7e0e\"]},\"id\":\"11220\",\"type\":\"CategoricalColorMapper\"},{\"attributes\":{\"fill_alpha\":{\"value\":0.2},\"fill_color\":{\"field\":\"Variable\",\"transform\":{\"id\":\"11277\"}},\"height\":{\"value\":0.8},\"left\":{\"field\":\"bottom\"},\"line_alpha\":{\"value\":0.2},\"right\":{\"field\":\"top\"},\"y\":{\"field\":\"index\"}},\"id\":\"11283\",\"type\":\"HBar\"},{\"attributes\":{},\"id\":\"11235\",\"type\":\"UnionRenderers\"},{\"attributes\":{\"label\":{\"field\":\"Variable\"},\"renderers\":[{\"id\":\"11227\"}]},\"id\":\"11238\",\"type\":\"LegendItem\"},{\"attributes\":{},\"id\":\"13199\",\"type\":\"BasicTickFormatter\"},{\"attributes\":{},\"id\":\"13171\",\"type\":\"CategoricalTicker\"},{\"attributes\":{\"style\":{\"white-space\":\"nowrap\"},\"text\":\"<span style=\\\"color:black;font-family:Arial;font-style:bold;font-weight:bold;font-size:12pt\\\">Data Shape:(181565, 6)</span>\",\"width\":450},\"id\":\"11339\",\"type\":\"Div\"},{\"attributes\":{},\"id\":\"12179\",\"type\":\"LinearScale\"},{\"attributes\":{},\"id\":\"13370\",\"type\":\"BasicTickFormatter\"},{\"attributes\":{\"factors\":[\"Numeric\",\"Others\"],\"palette\":[\"#1f77b3\",\"#ff7e0e\"]},\"id\":\"12146\",\"type\":\"CategoricalColorMapper\"},{\"attributes\":{\"items\":[{\"id\":\"11295\"}],\"location\":[0,0]},\"id\":\"11294\",\"type\":\"Legend\"},{\"attributes\":{\"callback\":null,\"renderers\":[{\"id\":\"11804\"}],\"tags\":[\"hv_created\"],\"tooltips\":[[\"index\",\"@{index}\"],[\"Variable\",\"@{Variable}\"],[\"value\",\"@{value}\"]]},\"id\":\"11767\",\"type\":\"HoverTool\"},{\"attributes\":{\"axis\":{\"id\":\"13170\"},\"dimension\":1,\"grid_line_color\":null,\"ticker\":null},\"id\":\"13172\",\"type\":\"Grid\"},{\"attributes\":{},\"id\":\"13368\",\"type\":\"CategoricalTickFormatter\"},{\"attributes\":{\"toolbars\":[{\"id\":\"12139\"},{\"id\":\"12196\"},{\"id\":\"12253\"},{\"id\":\"12310\"}],\"tools\":[{\"id\":\"12116\"},{\"id\":\"12133\"},{\"id\":\"12134\"},{\"id\":\"12135\"},{\"id\":\"12136\"},{\"id\":\"12137\"},{\"id\":\"12173\"},{\"id\":\"12190\"},{\"id\":\"12191\"},{\"id\":\"12192\"},{\"id\":\"12193\"},{\"id\":\"12194\"},{\"id\":\"12230\"},{\"id\":\"12247\"},{\"id\":\"12248\"},{\"id\":\"12249\"},{\"id\":\"12250\"},{\"id\":\"12251\"},{\"id\":\"12287\"},{\"id\":\"12304\"},{\"id\":\"12305\"},{\"id\":\"12306\"},{\"id\":\"12307\"},{\"id\":\"12308\"}]},\"id\":\"12376\",\"type\":\"ProxyToolbar\"},{\"attributes\":{\"data\":{\"Variable\":[\"Unique\",\"Duplicate\"],\"bottom\":{\"__ndarray__\":\"AAAAAAAAAAAAAAAAAABZQA==\",\"dtype\":\"float64\",\"order\":\"little\",\"shape\":[2]},\"index\":[\"values\",\"values\"],\"top\":{\"__ndarray__\":\"AAAAAAAAWUAAAAAAAABZQA==\",\"dtype\":\"float64\",\"order\":\"little\",\"shape\":[2]},\"value\":{\"__ndarray__\":\"AAAAAAAAWUAAAAAAAAAAAA==\",\"dtype\":\"float64\",\"order\":\"little\",\"shape\":[2]}},\"selected\":{\"id\":\"12319\"},\"selection_policy\":{\"id\":\"12332\"}},\"id\":\"12318\",\"type\":\"ColumnDataSource\"},{\"attributes\":{\"child\":{\"id\":\"13420\"},\"name\":\"Theme_list\",\"title\":\"Theme_list\"},\"id\":\"13673\",\"type\":\"Panel\"},{\"attributes\":{\"bottom_units\":\"screen\",\"fill_alpha\":0.5,\"fill_color\":\"lightgrey\",\"left_units\":\"screen\",\"level\":\"overlay\",\"line_alpha\":1.0,\"line_color\":\"black\",\"line_dash\":[4,4],\"line_width\":2,\"right_units\":\"screen\",\"top_units\":\"screen\"},\"id\":\"11212\",\"type\":\"BoxAnnotation\"},{\"attributes\":{\"factors\":[\"values\"],\"tags\":[[[\"index\",\"index\",null]]]},\"id\":\"11075\",\"type\":\"FactorRange\"},{\"attributes\":{\"text\":\"Duplicate Columns\",\"text_color\":{\"value\":\"black\"},\"text_font_size\":{\"value\":\"12pt\"}},\"id\":\"11769\",\"type\":\"Title\"},{\"attributes\":{\"axis\":{\"id\":\"12183\"},\"grid_line_color\":null,\"ticker\":null},\"id\":\"12186\",\"type\":\"Grid\"},{\"attributes\":{\"bottom_units\":\"screen\",\"fill_alpha\":0.5,\"fill_color\":\"lightgrey\",\"left_units\":\"screen\",\"level\":\"overlay\",\"line_alpha\":1.0,\"line_color\":\"black\",\"line_dash\":[4,4],\"line_width\":2,\"right_units\":\"screen\",\"top_units\":\"screen\"},\"id\":\"12829\",\"type\":\"BoxAnnotation\"},{\"attributes\":{},\"id\":\"13197\",\"type\":\"CategoricalTickFormatter\"},{\"attributes\":{\"align\":null,\"below\":[{\"id\":\"11777\"}],\"center\":[{\"id\":\"11780\"},{\"id\":\"11783\"},{\"id\":\"11814\"}],\"left\":[{\"id\":\"11781\"}],\"margin\":null,\"min_border_bottom\":10,\"min_border_left\":10,\"min_border_right\":10,\"min_border_top\":10,\"plot_height\":100,\"plot_width\":700,\"renderers\":[{\"id\":\"11804\"}],\"right\":[{\"id\":\"11814\"}],\"sizing_mode\":\"fixed\",\"title\":{\"id\":\"11769\"},\"toolbar\":{\"id\":\"11790\"},\"toolbar_location\":null,\"x_range\":{\"id\":\"11074\"},\"x_scale\":{\"id\":\"11773\"},\"y_range\":{\"id\":\"11075\"},\"y_scale\":{\"id\":\"11775\"}},\"id\":\"11768\",\"subtype\":\"Figure\",\"type\":\"Plot\"},{\"attributes\":{},\"id\":\"12218\",\"type\":\"UnionRenderers\"},{\"attributes\":{},\"id\":\"12191\",\"type\":\"PanTool\"},{\"attributes\":{},\"id\":\"11233\",\"type\":\"BasicTickFormatter\"},{\"attributes\":{\"style\":{\"white-space\":\"nowrap\"},\"text\":\"<span style=\\\"color:black;font-family:Arial;font-style:bold;font-weight:bold;font-size:12pt\\\">Data Shape:(4526182, 5)</span>\",\"width\":450},\"id\":\"12379\",\"type\":\"Div\"},{\"attributes\":{\"children\":[{\"id\":\"12379\"},{\"id\":\"12378\"}]},\"id\":\"12380\",\"type\":\"Column\"},{\"attributes\":{\"data_source\":{\"id\":\"13707\"},\"glyph\":{\"id\":\"13710\"},\"hover_glyph\":null,\"muted_glyph\":{\"id\":\"13712\"},\"nonselection_glyph\":{\"id\":\"13711\"},\"selection_glyph\":null,\"view\":{\"id\":\"13714\"}},\"id\":\"13713\",\"type\":\"GlyphRenderer\"},{\"attributes\":{\"axis_label\":\"\",\"bounds\":\"auto\",\"formatter\":{\"id\":\"12214\"},\"major_label_orientation\":\"horizontal\",\"ticker\":{\"id\":\"12188\"}},\"id\":\"12187\",\"type\":\"CategoricalAxis\"},{\"attributes\":{\"ticks\":[0]},\"id\":\"13262\",\"type\":\"FixedTicker\"},{\"attributes\":{\"align\":null,\"below\":[{\"id\":\"12183\"}],\"center\":[{\"id\":\"12186\"},{\"id\":\"12189\"},{\"id\":\"12220\"}],\"left\":[{\"id\":\"12187\"}],\"margin\":null,\"min_border_bottom\":10,\"min_border_left\":10,\"min_border_right\":10,\"min_border_top\":10,\"plot_height\":100,\"plot_width\":700,\"renderers\":[{\"id\":\"12210\"}],\"right\":[{\"id\":\"12220\"}],\"sizing_mode\":\"fixed\",\"title\":{\"id\":\"12175\"},\"toolbar\":{\"id\":\"12196\"},\"toolbar_location\":null,\"x_range\":{\"id\":\"11074\"},\"x_scale\":{\"id\":\"12179\"},\"y_range\":{\"id\":\"11075\"},\"y_scale\":{\"id\":\"12181\"}},\"id\":\"12174\",\"subtype\":\"Figure\",\"type\":\"Plot\"},{\"attributes\":{\"bottom_units\":\"screen\",\"fill_alpha\":0.5,\"fill_color\":\"lightgrey\",\"left_units\":\"screen\",\"level\":\"overlay\",\"line_alpha\":1.0,\"line_color\":\"black\",\"line_dash\":[4,4],\"line_width\":2,\"right_units\":\"screen\",\"top_units\":\"screen\"},\"id\":\"12715\",\"type\":\"BoxAnnotation\"},{\"attributes\":{\"factors\":[\"Unique\",\"Duplicate\"],\"palette\":[\"#1f77b3\",\"#ff7e0e\"]},\"id\":\"11797\",\"type\":\"CategoricalColorMapper\"},{\"attributes\":{},\"id\":\"12190\",\"type\":\"SaveTool\"},{\"attributes\":{\"ticks\":[0]},\"id\":\"12279\",\"type\":\"FixedTicker\"},{\"attributes\":{\"ticks\":[0]},\"id\":\"13205\",\"type\":\"FixedTicker\"},{\"attributes\":{\"source\":{\"id\":\"11221\"}},\"id\":\"11228\",\"type\":\"CDSView\"},{\"attributes\":{},\"id\":\"11639\",\"type\":\"BasicTickFormatter\"},{\"attributes\":{\"child\":{\"id\":\"12380\"},\"name\":\"sales_data\",\"title\":\"sales_data\"},\"id\":\"12633\",\"type\":\"Panel\"},{\"attributes\":{},\"id\":\"12188\",\"type\":\"CategoricalTicker\"},{\"attributes\":{\"children\":[{\"id\":\"13419\"},{\"id\":\"13418\"}]},\"id\":\"13420\",\"type\":\"Column\"},{\"attributes\":{\"ticks\":[0]},\"id\":\"11239\",\"type\":\"FixedTicker\"},{\"attributes\":{\"align\":null,\"below\":[{\"id\":\"11086\"}],\"center\":[{\"id\":\"11089\"},{\"id\":\"11092\"},{\"id\":\"11123\"}],\"left\":[{\"id\":\"11090\"}],\"margin\":null,\"min_border_bottom\":10,\"min_border_left\":10,\"min_border_right\":10,\"min_border_top\":10,\"plot_height\":100,\"plot_width\":700,\"renderers\":[{\"id\":\"11113\"}],\"right\":[{\"id\":\"11123\"}],\"sizing_mode\":\"fixed\",\"title\":{\"id\":\"11078\"},\"toolbar\":{\"id\":\"11099\"},\"toolbar_location\":null,\"x_range\":{\"id\":\"11074\"},\"x_scale\":{\"id\":\"11082\"},\"y_range\":{\"id\":\"11075\"},\"y_scale\":{\"id\":\"11084\"}},\"id\":\"11077\",\"subtype\":\"Figure\",\"type\":\"Plot\"},{\"attributes\":{\"callback\":null,\"renderers\":[{\"id\":\"12673\"}],\"tags\":[\"hv_created\"],\"tooltips\":[[\"index\",\"@{index}\"],[\"Variable\",\"@{Variable}\"],[\"value\",\"@{value}\"]]},\"id\":\"12636\",\"type\":\"HoverTool\"},{\"attributes\":{\"children\":[[{\"id\":\"11597\"},0,0],[{\"id\":\"11654\"},1,0],[{\"id\":\"11711\"},2,0],[{\"id\":\"11768\"},3,0]]},\"id\":\"11855\",\"type\":\"GridBox\"},{\"attributes\":{},\"id\":\"11727\",\"type\":\"SaveTool\"},{\"attributes\":{},\"id\":\"12654\",\"type\":\"PanTool\"},{\"attributes\":{\"align\":null,\"below\":[{\"id\":\"11663\"}],\"center\":[{\"id\":\"11666\"},{\"id\":\"11669\"},{\"id\":\"11700\"}],\"left\":[{\"id\":\"11667\"}],\"margin\":null,\"min_border_bottom\":10,\"min_border_left\":10,\"min_border_right\":10,\"min_border_top\":10,\"plot_height\":100,\"plot_width\":700,\"renderers\":[{\"id\":\"11690\"}],\"right\":[{\"id\":\"11700\"}],\"sizing_mode\":\"fixed\",\"title\":{\"id\":\"11655\"},\"toolbar\":{\"id\":\"11676\"},\"toolbar_location\":null,\"x_range\":{\"id\":\"11074\"},\"x_scale\":{\"id\":\"11659\"},\"y_range\":{\"id\":\"11075\"},\"y_scale\":{\"id\":\"11661\"}},\"id\":\"11654\",\"subtype\":\"Figure\",\"type\":\"Plot\"},{\"attributes\":{},\"id\":\"12699\",\"type\":\"LinearScale\"},{\"attributes\":{\"axis\":{\"id\":\"13747\"},\"dimension\":1,\"grid_line_color\":null,\"ticker\":null},\"id\":\"13749\",\"type\":\"Grid\"},{\"attributes\":{\"items\":[{\"id\":\"13375\"}],\"location\":[0,0]},\"id\":\"13374\",\"type\":\"Legend\"},{\"attributes\":{},\"id\":\"13748\",\"type\":\"CategoricalTicker\"},{\"attributes\":{\"axis\":{\"id\":\"12130\"},\"dimension\":1,\"grid_line_color\":null,\"ticker\":null},\"id\":\"12132\",\"type\":\"Grid\"},{\"attributes\":{\"label\":{\"field\":\"Variable\"},\"renderers\":[{\"id\":\"11113\"}]},\"id\":\"11124\",\"type\":\"LegendItem\"},{\"attributes\":{\"axis_label\":\"\",\"bounds\":\"auto\",\"formatter\":{\"id\":\"13774\"},\"major_label_orientation\":\"horizontal\",\"ticker\":{\"id\":\"13748\"}},\"id\":\"13747\",\"type\":\"CategoricalAxis\"},{\"attributes\":{},\"id\":\"12131\",\"type\":\"CategoricalTicker\"},{\"attributes\":{\"axis\":{\"id\":\"12650\"},\"dimension\":1,\"grid_line_color\":null,\"ticker\":null},\"id\":\"12652\",\"type\":\"Grid\"},{\"attributes\":{\"fill_color\":{\"field\":\"Variable\",\"transform\":{\"id\":\"11683\"}},\"height\":{\"value\":0.8},\"left\":{\"field\":\"bottom\"},\"right\":{\"field\":\"top\"},\"y\":{\"field\":\"index\"}},\"id\":\"11687\",\"type\":\"HBar\"},{\"attributes\":{\"ticks\":[0]},\"id\":\"12856\",\"type\":\"FixedTicker\"},{\"attributes\":{\"active_drag\":\"auto\",\"active_inspect\":\"auto\",\"active_multi\":null,\"active_scroll\":\"auto\",\"active_tap\":\"auto\",\"tools\":[{\"id\":\"13733\"},{\"id\":\"13750\"},{\"id\":\"13751\"},{\"id\":\"13752\"},{\"id\":\"13753\"},{\"id\":\"13754\"}]},\"id\":\"13756\",\"type\":\"Toolbar\"},{\"attributes\":{\"child\":{\"id\":\"11340\"},\"name\":\"google\",\"title\":\"google\"},\"id\":\"11593\",\"type\":\"Panel\"},{\"attributes\":{\"overlay\":{\"id\":\"13755\"}},\"id\":\"13753\",\"type\":\"BoxZoomTool\"},{\"attributes\":{\"axis_label\":\"\",\"bounds\":\"auto\",\"formatter\":{\"id\":\"11117\"},\"major_label_orientation\":\"horizontal\",\"ticker\":{\"id\":\"11091\"}},\"id\":\"11090\",\"type\":\"CategoricalAxis\"},{\"attributes\":{\"data\":{\"Variable\":[\"Numeric\",\"Others\"],\"bottom\":{\"__ndarray__\":\"AAAAAAAAAACqqqqqqqpQQA==\",\"dtype\":\"float64\",\"order\":\"little\",\"shape\":[2]},\"index\":[\"values\",\"values\"],\"top\":{\"__ndarray__\":\"qqqqqqqqUED///////9YQA==\",\"dtype\":\"float64\",\"order\":\"little\",\"shape\":[2]},\"value\":{\"__ndarray__\":\"qqqqqqqqUECqqqqqqqpAQA==\",\"dtype\":\"float64\",\"order\":\"little\",\"shape\":[2]}},\"selected\":{\"id\":\"12668\"},\"selection_policy\":{\"id\":\"12681\"}},\"id\":\"12667\",\"type\":\"ColumnDataSource\"},{\"attributes\":{},\"id\":\"11728\",\"type\":\"PanTool\"},{\"attributes\":{\"axis_label\":\"\",\"bounds\":\"auto\",\"formatter\":{\"id\":\"12157\"},\"major_label_orientation\":\"horizontal\",\"ticker\":{\"id\":\"12131\"}},\"id\":\"12130\",\"type\":\"CategoricalAxis\"},{\"attributes\":{},\"id\":\"12651\",\"type\":\"CategoricalTicker\"},{\"attributes\":{\"fill_alpha\":{\"value\":0.1},\"fill_color\":{\"field\":\"Variable\",\"transform\":{\"id\":\"11683\"}},\"height\":{\"value\":0.8},\"left\":{\"field\":\"bottom\"},\"line_alpha\":{\"value\":0.1},\"right\":{\"field\":\"top\"},\"y\":{\"field\":\"index\"}},\"id\":\"11688\",\"type\":\"HBar\"},{\"attributes\":{\"fill_color\":{\"field\":\"Variable\",\"transform\":{\"id\":\"12146\"}},\"height\":{\"value\":0.8},\"left\":{\"field\":\"bottom\"},\"right\":{\"field\":\"top\"},\"y\":{\"field\":\"index\"}},\"id\":\"12150\",\"type\":\"HBar\"},{\"attributes\":{\"axis\":{\"id\":\"12646\"},\"grid_line_color\":null,\"ticker\":null},\"id\":\"12649\",\"type\":\"Grid\"},{\"attributes\":{},\"id\":\"11731\",\"type\":\"ResetTool\"},{\"attributes\":{},\"id\":\"12644\",\"type\":\"CategoricalScale\"},{\"attributes\":{\"child\":{\"id\":\"12900\"},\"name\":\"social_media_data\",\"title\":\"social_media_data\"},\"id\":\"13153\",\"type\":\"Panel\"},{\"attributes\":{\"label\":{\"field\":\"Variable\"},\"renderers\":[{\"id\":\"13364\"}]},\"id\":\"13375\",\"type\":\"LegendItem\"},{\"attributes\":{},\"id\":\"12642\",\"type\":\"LinearScale\"},{\"attributes\":{\"ticks\":[0]},\"id\":\"13376\",\"type\":\"FixedTicker\"},{\"attributes\":{},\"id\":\"13750\",\"type\":\"SaveTool\"},{\"attributes\":{\"toolbars\":[{\"id\":\"12659\"},{\"id\":\"12716\"},{\"id\":\"12773\"},{\"id\":\"12830\"}],\"tools\":[{\"id\":\"12636\"},{\"id\":\"12653\"},{\"id\":\"12654\"},{\"id\":\"12655\"},{\"id\":\"12656\"},{\"id\":\"12657\"},{\"id\":\"12693\"},{\"id\":\"12710\"},{\"id\":\"12711\"},{\"id\":\"12712\"},{\"id\":\"12713\"},{\"id\":\"12714\"},{\"id\":\"12750\"},{\"id\":\"12767\"},{\"id\":\"12768\"},{\"id\":\"12769\"},{\"id\":\"12770\"},{\"id\":\"12771\"},{\"id\":\"12807\"},{\"id\":\"12824\"},{\"id\":\"12825\"},{\"id\":\"12826\"},{\"id\":\"12827\"},{\"id\":\"12828\"}]},\"id\":\"12896\",\"type\":\"ProxyToolbar\"},{\"attributes\":{},\"id\":\"13754\",\"type\":\"ResetTool\"},{\"attributes\":{\"bottom_units\":\"screen\",\"fill_alpha\":0.5,\"fill_color\":\"lightgrey\",\"left_units\":\"screen\",\"level\":\"overlay\",\"line_alpha\":1.0,\"line_color\":\"black\",\"line_dash\":[4,4],\"line_width\":2,\"right_units\":\"screen\",\"top_units\":\"screen\"},\"id\":\"11269\",\"type\":\"BoxAnnotation\"},{\"attributes\":{\"children\":[{\"id\":\"12897\"},{\"id\":\"12895\"}]},\"id\":\"12898\",\"type\":\"Column\"},{\"attributes\":{},\"id\":\"13752\",\"type\":\"WheelZoomTool\"},{\"attributes\":{\"data_source\":{\"id\":\"11741\"},\"glyph\":{\"id\":\"11744\"},\"hover_glyph\":null,\"muted_glyph\":{\"id\":\"11746\"},\"nonselection_glyph\":{\"id\":\"11745\"},\"selection_glyph\":null,\"view\":{\"id\":\"11748\"}},\"id\":\"11747\",\"type\":\"GlyphRenderer\"},{\"attributes\":{\"axis\":{\"id\":\"13743\"},\"grid_line_color\":null,\"ticker\":null},\"id\":\"13746\",\"type\":\"Grid\"},{\"attributes\":{},\"id\":\"13751\",\"type\":\"PanTool\"},{\"attributes\":{\"fill_alpha\":{\"value\":0.1},\"fill_color\":{\"field\":\"Variable\",\"transform\":{\"id\":\"12146\"}},\"height\":{\"value\":0.8},\"left\":{\"field\":\"bottom\"},\"line_alpha\":{\"value\":0.1},\"right\":{\"field\":\"top\"},\"y\":{\"field\":\"index\"}},\"id\":\"12151\",\"type\":\"HBar\"},{\"attributes\":{},\"id\":\"11729\",\"type\":\"WheelZoomTool\"},{\"attributes\":{\"fill_alpha\":{\"value\":0.2},\"fill_color\":{\"field\":\"Variable\",\"transform\":{\"id\":\"11740\"}},\"height\":{\"value\":0.8},\"left\":{\"field\":\"bottom\"},\"line_alpha\":{\"value\":0.2},\"right\":{\"field\":\"top\"},\"y\":{\"field\":\"index\"}},\"id\":\"11746\",\"type\":\"HBar\"},{\"attributes\":{\"align\":null,\"below\":[{\"id\":\"13686\"}],\"center\":[{\"id\":\"13689\"},{\"id\":\"13692\"},{\"id\":\"13723\"}],\"left\":[{\"id\":\"13690\"}],\"margin\":null,\"min_border_bottom\":10,\"min_border_left\":10,\"min_border_right\":10,\"min_border_top\":10,\"plot_height\":100,\"plot_width\":700,\"renderers\":[{\"id\":\"13713\"}],\"right\":[{\"id\":\"13723\"}],\"sizing_mode\":\"fixed\",\"title\":{\"id\":\"13678\"},\"toolbar\":{\"id\":\"13699\"},\"toolbar_location\":null,\"x_range\":{\"id\":\"11074\"},\"x_scale\":{\"id\":\"13682\"},\"y_range\":{\"id\":\"11075\"},\"y_scale\":{\"id\":\"13684\"}},\"id\":\"13677\",\"subtype\":\"Figure\",\"type\":\"Plot\"},{\"attributes\":{\"fill_color\":{\"field\":\"Variable\",\"transform\":{\"id\":\"13763\"}},\"height\":{\"value\":0.8},\"left\":{\"field\":\"bottom\"},\"right\":{\"field\":\"top\"},\"y\":{\"field\":\"index\"}},\"id\":\"13767\",\"type\":\"HBar\"},{\"attributes\":{\"align\":null,\"below\":[{\"id\":\"12646\"}],\"center\":[{\"id\":\"12649\"},{\"id\":\"12652\"},{\"id\":\"12683\"}],\"left\":[{\"id\":\"12650\"}],\"margin\":null,\"min_border_bottom\":10,\"min_border_left\":10,\"min_border_right\":10,\"min_border_top\":10,\"plot_height\":100,\"plot_width\":700,\"renderers\":[{\"id\":\"12673\"}],\"right\":[{\"id\":\"12683\"}],\"sizing_mode\":\"fixed\",\"title\":{\"id\":\"12638\"},\"toolbar\":{\"id\":\"12659\"},\"toolbar_location\":null,\"x_range\":{\"id\":\"11074\"},\"x_scale\":{\"id\":\"12642\"},\"y_range\":{\"id\":\"11075\"},\"y_scale\":{\"id\":\"12644\"}},\"id\":\"12637\",\"subtype\":\"Figure\",\"type\":\"Plot\"},{\"attributes\":{},\"id\":\"13765\",\"type\":\"Selection\"},{\"attributes\":{\"style\":{\"white-space\":\"nowrap\"},\"text\":\"<span style=\\\"color:black;font-family:Arial;font-style:bold;font-weight:bold;font-size:12pt\\\">Data Shape:(533390, 3)</span>\",\"width\":450},\"id\":\"12899\",\"type\":\"Div\"},{\"attributes\":{\"factors\":[\"Date\",\"Numeric\",\"Others\"],\"palette\":[\"#1f77b3\",\"#ff7e0e\",\"#2ba02b\"]},\"id\":\"11106\",\"type\":\"CategoricalColorMapper\"},{\"attributes\":{},\"id\":\"12653\",\"type\":\"SaveTool\"},{\"attributes\":{},\"id\":\"11117\",\"type\":\"CategoricalTickFormatter\"},{\"attributes\":{\"axis_label\":\"\",\"bounds\":\"auto\",\"formatter\":{\"id\":\"12677\"},\"major_label_orientation\":\"horizontal\",\"ticker\":{\"id\":\"12651\"}},\"id\":\"12650\",\"type\":\"CategoricalAxis\"},{\"attributes\":{},\"id\":\"12655\",\"type\":\"WheelZoomTool\"},{\"attributes\":{},\"id\":\"13372\",\"type\":\"UnionRenderers\"},{\"attributes\":{\"align\":null,\"below\":[{\"id\":\"12126\"}],\"center\":[{\"id\":\"12129\"},{\"id\":\"12132\"},{\"id\":\"12163\"}],\"left\":[{\"id\":\"12130\"}],\"margin\":null,\"min_border_bottom\":10,\"min_border_left\":10,\"min_border_right\":10,\"min_border_top\":10,\"plot_height\":100,\"plot_width\":700,\"renderers\":[{\"id\":\"12153\"}],\"right\":[{\"id\":\"12163\"}],\"sizing_mode\":\"fixed\",\"title\":{\"id\":\"12118\"},\"toolbar\":{\"id\":\"12139\"},\"toolbar_location\":null,\"x_range\":{\"id\":\"11074\"},\"x_scale\":{\"id\":\"12122\"},\"y_range\":{\"id\":\"11075\"},\"y_scale\":{\"id\":\"12124\"}},\"id\":\"12117\",\"subtype\":\"Figure\",\"type\":\"Plot\"},{\"attributes\":{\"source\":{\"id\":\"11278\"}},\"id\":\"11285\",\"type\":\"CDSView\"},{\"attributes\":{\"source\":{\"id\":\"13244\"}},\"id\":\"13251\",\"type\":\"CDSView\"},{\"attributes\":{\"bottom_units\":\"screen\",\"fill_alpha\":0.5,\"fill_color\":\"lightgrey\",\"left_units\":\"screen\",\"level\":\"overlay\",\"line_alpha\":1.0,\"line_color\":\"black\",\"line_dash\":[4,4],\"line_width\":2,\"right_units\":\"screen\",\"top_units\":\"screen\"},\"id\":\"13755\",\"type\":\"BoxAnnotation\"},{\"attributes\":{\"text\":\"Datatypes\",\"text_color\":{\"value\":\"black\"},\"text_font_size\":{\"value\":\"12pt\"}},\"id\":\"12638\",\"type\":\"Title\"},{\"attributes\":{\"source\":{\"id\":\"11741\"}},\"id\":\"11748\",\"type\":\"CDSView\"},{\"attributes\":{\"axis_label\":\"\",\"bounds\":\"auto\",\"formatter\":{\"id\":\"12679\"},\"major_label_orientation\":\"horizontal\",\"ticker\":{\"id\":\"12685\"}},\"id\":\"12646\",\"type\":\"LinearAxis\"},{\"attributes\":{\"child\":{\"id\":\"13940\"},\"name\":\"Theme_product_list\",\"title\":\"Theme_product_list\"},\"id\":\"14193\",\"type\":\"Panel\"},{\"attributes\":{\"overlay\":{\"id\":\"11732\"}},\"id\":\"11730\",\"type\":\"BoxZoomTool\"},{\"attributes\":{\"items\":[{\"id\":\"11758\"}],\"location\":[0,0]},\"id\":\"11757\",\"type\":\"Legend\"},{\"attributes\":{\"bottom_units\":\"screen\",\"fill_alpha\":0.5,\"fill_color\":\"lightgrey\",\"left_units\":\"screen\",\"level\":\"overlay\",\"line_alpha\":1.0,\"line_color\":\"black\",\"line_dash\":[4,4],\"line_width\":2,\"right_units\":\"screen\",\"top_units\":\"screen\"},\"id\":\"13178\",\"type\":\"BoxAnnotation\"},{\"attributes\":{\"label\":{\"field\":\"Variable\"},\"renderers\":[{\"id\":\"11747\"}]},\"id\":\"11758\",\"type\":\"LegendItem\"},{\"attributes\":{\"data_source\":{\"id\":\"12781\"},\"glyph\":{\"id\":\"12784\"},\"hover_glyph\":null,\"muted_glyph\":{\"id\":\"12786\"},\"nonselection_glyph\":{\"id\":\"12785\"},\"selection_glyph\":null,\"view\":{\"id\":\"12788\"}},\"id\":\"12787\",\"type\":\"GlyphRenderer\"},{\"attributes\":{\"ticks\":[0]},\"id\":\"11125\",\"type\":\"FixedTicker\"},{\"attributes\":{\"axis_label\":\"\",\"bounds\":\"auto\",\"formatter\":{\"id\":\"12793\"},\"major_label_orientation\":\"horizontal\",\"ticker\":{\"id\":\"12799\"}},\"id\":\"12760\",\"type\":\"LinearAxis\"},{\"attributes\":{\"source\":{\"id\":\"11627\"}},\"id\":\"11634\",\"type\":\"CDSView\"},{\"attributes\":{\"align\":null,\"below\":[{\"id\":\"12760\"}],\"center\":[{\"id\":\"12763\"},{\"id\":\"12766\"},{\"id\":\"12797\"}],\"left\":[{\"id\":\"12764\"}],\"margin\":null,\"min_border_bottom\":10,\"min_border_left\":10,\"min_border_right\":10,\"min_border_top\":10,\"plot_height\":100,\"plot_width\":700,\"renderers\":[{\"id\":\"12787\"}],\"right\":[{\"id\":\"12797\"}],\"sizing_mode\":\"fixed\",\"title\":{\"id\":\"12752\"},\"toolbar\":{\"id\":\"12773\"},\"toolbar_location\":null,\"x_range\":{\"id\":\"11074\"},\"x_scale\":{\"id\":\"12756\"},\"y_range\":{\"id\":\"11075\"},\"y_scale\":{\"id\":\"12758\"}},\"id\":\"12751\",\"subtype\":\"Figure\",\"type\":\"Plot\"},{\"attributes\":{},\"id\":\"12756\",\"type\":\"LinearScale\"},{\"attributes\":{},\"id\":\"11141\",\"type\":\"CategoricalScale\"},{\"attributes\":{\"fill_color\":{\"field\":\"Variable\",\"transform\":{\"id\":\"12666\"}},\"height\":{\"value\":0.8},\"left\":{\"field\":\"bottom\"},\"right\":{\"field\":\"top\"},\"y\":{\"field\":\"index\"}},\"id\":\"12670\",\"type\":\"HBar\"},{\"attributes\":{},\"id\":\"12657\",\"type\":\"ResetTool\"},{\"attributes\":{\"factors\":[\"Numeric\",\"Others\"],\"palette\":[\"#1f77b3\",\"#ff7e0e\"]},\"id\":\"12666\",\"type\":\"CategoricalColorMapper\"},{\"attributes\":{\"axis_label\":\"\",\"bounds\":\"auto\",\"formatter\":{\"id\":\"11176\"},\"major_label_orientation\":\"horizontal\",\"ticker\":{\"id\":\"11182\"}},\"id\":\"11143\",\"type\":\"LinearAxis\"},{\"attributes\":{\"fill_alpha\":{\"value\":0.2},\"fill_color\":{\"field\":\"Variable\",\"transform\":{\"id\":\"12780\"}},\"height\":{\"value\":0.8},\"left\":{\"field\":\"bottom\"},\"line_alpha\":{\"value\":0.2},\"right\":{\"field\":\"top\"},\"y\":{\"field\":\"index\"}},\"id\":\"12786\",\"type\":\"HBar\"},{\"attributes\":{\"active_drag\":\"auto\",\"active_inspect\":\"auto\",\"active_multi\":null,\"active_scroll\":\"auto\",\"active_tap\":\"auto\",\"tools\":[{\"id\":\"12693\"},{\"id\":\"12710\"},{\"id\":\"12711\"},{\"id\":\"12712\"},{\"id\":\"12713\"},{\"id\":\"12714\"}]},\"id\":\"12716\",\"type\":\"Toolbar\"},{\"attributes\":{},\"id\":\"12791\",\"type\":\"CategoricalTickFormatter\"},{\"attributes\":{\"source\":{\"id\":\"12781\"}},\"id\":\"12788\",\"type\":\"CDSView\"},{\"attributes\":{\"ticks\":[0]},\"id\":\"12685\",\"type\":\"FixedTicker\"},{\"attributes\":{},\"id\":\"11097\",\"type\":\"ResetTool\"},{\"attributes\":{\"label\":{\"field\":\"Variable\"},\"renderers\":[{\"id\":\"12787\"}]},\"id\":\"12798\",\"type\":\"LegendItem\"},{\"attributes\":{},\"id\":\"11119\",\"type\":\"BasicTickFormatter\"},{\"attributes\":{},\"id\":\"12758\",\"type\":\"CategoricalScale\"},{\"attributes\":{},\"id\":\"12793\",\"type\":\"BasicTickFormatter\"},{\"attributes\":{},\"id\":\"12668\",\"type\":\"Selection\"},{\"attributes\":{},\"id\":\"12681\",\"type\":\"UnionRenderers\"},{\"attributes\":{\"callback\":null,\"renderers\":[{\"id\":\"12787\"}],\"tags\":[\"hv_created\"],\"tooltips\":[[\"index\",\"@{index}\"],[\"Variable\",\"@{Variable}\"],[\"value\",\"@{value}\"]]},\"id\":\"12750\",\"type\":\"HoverTool\"},{\"attributes\":{\"overlay\":{\"id\":\"12658\"}},\"id\":\"12656\",\"type\":\"BoxZoomTool\"},{\"attributes\":{\"items\":[{\"id\":\"12798\"}],\"location\":[0,0]},\"id\":\"12797\",\"type\":\"Legend\"},{\"attributes\":{\"text\":\"Duplicate Values\",\"text_color\":{\"value\":\"black\"},\"text_font_size\":{\"value\":\"12pt\"}},\"id\":\"12752\",\"type\":\"Title\"},{\"attributes\":{\"bottom_units\":\"screen\",\"fill_alpha\":0.5,\"fill_color\":\"lightgrey\",\"left_units\":\"screen\",\"level\":\"overlay\",\"line_alpha\":1.0,\"line_color\":\"black\",\"line_dash\":[4,4],\"line_width\":2,\"right_units\":\"screen\",\"top_units\":\"screen\"},\"id\":\"12658\",\"type\":\"BoxAnnotation\"},{\"attributes\":{\"active_drag\":\"auto\",\"active_inspect\":\"auto\",\"active_multi\":null,\"active_scroll\":\"auto\",\"active_tap\":\"auto\",\"tools\":[{\"id\":\"12636\"},{\"id\":\"12653\"},{\"id\":\"12654\"},{\"id\":\"12655\"},{\"id\":\"12656\"},{\"id\":\"12657\"}]},\"id\":\"12659\",\"type\":\"Toolbar\"},{\"attributes\":{\"bottom_units\":\"screen\",\"fill_alpha\":0.5,\"fill_color\":\"lightgrey\",\"left_units\":\"screen\",\"level\":\"overlay\",\"line_alpha\":1.0,\"line_color\":\"black\",\"line_dash\":[4,4],\"line_width\":2,\"right_units\":\"screen\",\"top_units\":\"screen\"},\"id\":\"13292\",\"type\":\"BoxAnnotation\"},{\"attributes\":{\"data\":{\"Variable\":[\"Available\",\"Missing\"],\"bottom\":{\"__ndarray__\":\"AAAAAAAAAAAAAAAAAABZQA==\",\"dtype\":\"float64\",\"order\":\"little\",\"shape\":[2]},\"index\":[\"values\",\"values\"],\"top\":{\"__ndarray__\":\"AAAAAAAAWUAAAAAAAABZQA==\",\"dtype\":\"float64\",\"order\":\"little\",\"shape\":[2]},\"value\":{\"__ndarray__\":\"AAAAAAAAWUAAAAAAAAAAAA==\",\"dtype\":\"float64\",\"order\":\"little\",\"shape\":[2]}},\"selected\":{\"id\":\"11685\"},\"selection_policy\":{\"id\":\"11698\"}},\"id\":\"11684\",\"type\":\"ColumnDataSource\"},{\"attributes\":{},\"id\":\"13315\",\"type\":\"UnionRenderers\"},{\"attributes\":{\"align\":null,\"below\":[{\"id\":\"11200\"}],\"center\":[{\"id\":\"11203\"},{\"id\":\"11206\"},{\"id\":\"11237\"}],\"left\":[{\"id\":\"11204\"}],\"margin\":null,\"min_border_bottom\":10,\"min_border_left\":10,\"min_border_right\":10,\"min_border_top\":10,\"plot_height\":100,\"plot_width\":700,\"renderers\":[{\"id\":\"11227\"}],\"right\":[{\"id\":\"11237\"}],\"sizing_mode\":\"fixed\",\"title\":{\"id\":\"11192\"},\"toolbar\":{\"id\":\"11213\"},\"toolbar_location\":null,\"x_range\":{\"id\":\"11074\"},\"x_scale\":{\"id\":\"11196\"},\"y_range\":{\"id\":\"11075\"},\"y_scale\":{\"id\":\"11198\"}},\"id\":\"11191\",\"subtype\":\"Figure\",\"type\":\"Plot\"},{\"attributes\":{},\"id\":\"11198\",\"type\":\"CategoricalScale\"},{\"attributes\":{},\"id\":\"12124\",\"type\":\"CategoricalScale\"},{\"attributes\":{},\"id\":\"13853\",\"type\":\"LinearScale\"},{\"attributes\":{},\"id\":\"12214\",\"type\":\"CategoricalTickFormatter\"},{\"attributes\":{\"factors\":[\"Available\",\"Missing\"],\"palette\":[\"#1f77b3\",\"#ff7e0e\"]},\"id\":\"12723\",\"type\":\"CategoricalColorMapper\"},{\"attributes\":{},\"id\":\"11266\",\"type\":\"WheelZoomTool\"},{\"attributes\":{},\"id\":\"13344\",\"type\":\"SaveTool\"},{\"attributes\":{\"text\":\"Duplicate Values\",\"text_color\":{\"value\":\"black\"},\"text_font_size\":{\"value\":\"12pt\"}},\"id\":\"11192\",\"type\":\"Title\"},{\"attributes\":{\"bottom_units\":\"screen\",\"fill_alpha\":0.5,\"fill_color\":\"lightgrey\",\"left_units\":\"screen\",\"level\":\"overlay\",\"line_alpha\":1.0,\"line_color\":\"black\",\"line_dash\":[4,4],\"line_width\":2,\"right_units\":\"screen\",\"top_units\":\"screen\"},\"id\":\"13235\",\"type\":\"BoxAnnotation\"},{\"attributes\":{},\"id\":\"12768\",\"type\":\"PanTool\"},{\"attributes\":{\"ticks\":[0]},\"id\":\"13319\",\"type\":\"FixedTicker\"},{\"attributes\":{\"callback\":null,\"renderers\":[{\"id\":\"11227\"}],\"tags\":[\"hv_created\"],\"tooltips\":[[\"index\",\"@{index}\"],[\"Variable\",\"@{Variable}\"],[\"value\",\"@{value}\"]]},\"id\":\"11190\",\"type\":\"HoverTool\"},{\"attributes\":{\"overlay\":{\"id\":\"13349\"}},\"id\":\"13347\",\"type\":\"BoxZoomTool\"},{\"attributes\":{\"data\":{\"Variable\":[\"Unique\",\"Duplicate\"],\"bottom\":{\"__ndarray__\":\"AAAAAAAAAACz1BkOcsRXQA==\",\"dtype\":\"float64\",\"order\":\"little\",\"shape\":[2]},\"index\":[\"values\",\"values\"],\"top\":{\"__ndarray__\":\"s9QZDnLEV0AAAAAAAABZQA==\",\"dtype\":\"float64\",\"order\":\"little\",\"shape\":[2]},\"value\":{\"__ndarray__\":\"s9QZDnLEV0DRtGIe37gTQA==\",\"dtype\":\"float64\",\"order\":\"little\",\"shape\":[2]}},\"selected\":{\"id\":\"12782\"},\"selection_policy\":{\"id\":\"12795\"}},\"id\":\"12781\",\"type\":\"ColumnDataSource\"},{\"attributes\":{},\"id\":\"12767\",\"type\":\"SaveTool\"},{\"attributes\":{\"active_drag\":\"auto\",\"active_inspect\":\"auto\",\"active_multi\":null,\"active_scroll\":\"auto\",\"active_tap\":\"auto\",\"tools\":[{\"id\":\"13270\"},{\"id\":\"13287\"},{\"id\":\"13288\"},{\"id\":\"13289\"},{\"id\":\"13290\"},{\"id\":\"13291\"}]},\"id\":\"13293\",\"type\":\"Toolbar\"},{\"attributes\":{\"axis_label\":\"\",\"bounds\":\"auto\",\"formatter\":{\"id\":\"13313\"},\"major_label_orientation\":\"horizontal\",\"ticker\":{\"id\":\"13319\"}},\"id\":\"13280\",\"type\":\"LinearAxis\"},{\"attributes\":{\"fill_alpha\":{\"value\":0.2},\"fill_color\":{\"field\":\"Variable\",\"transform\":{\"id\":\"12723\"}},\"height\":{\"value\":0.8},\"left\":{\"field\":\"bottom\"},\"line_alpha\":{\"value\":0.2},\"right\":{\"field\":\"top\"},\"y\":{\"field\":\"index\"}},\"id\":\"12729\",\"type\":\"HBar\"},{\"attributes\":{},\"id\":\"12122\",\"type\":\"LinearScale\"},{\"attributes\":{},\"id\":\"13721\",\"type\":\"UnionRenderers\"},{\"attributes\":{\"overlay\":{\"id\":\"12772\"}},\"id\":\"12770\",\"type\":\"BoxZoomTool\"},{\"attributes\":{\"active_drag\":\"auto\",\"active_inspect\":\"auto\",\"active_multi\":null,\"active_scroll\":\"auto\",\"active_tap\":\"auto\",\"tools\":[{\"id\":\"12750\"},{\"id\":\"12767\"},{\"id\":\"12768\"},{\"id\":\"12769\"},{\"id\":\"12770\"},{\"id\":\"12771\"}]},\"id\":\"12773\",\"type\":\"Toolbar\"},{\"attributes\":{\"callback\":null,\"renderers\":[{\"id\":\"13884\"}],\"tags\":[\"hv_created\"],\"tooltips\":[[\"index\",\"@{index}\"],[\"Variable\",\"@{Variable}\"],[\"value\",\"@{value}\"]]},\"id\":\"13847\",\"type\":\"HoverTool\"},{\"attributes\":{},\"id\":\"11264\",\"type\":\"SaveTool\"},{\"attributes\":{\"axis\":{\"id\":\"13341\"},\"dimension\":1,\"grid_line_color\":null,\"ticker\":null},\"id\":\"13343\",\"type\":\"Grid\"},{\"attributes\":{\"axis_label\":\"\",\"bounds\":\"auto\",\"formatter\":{\"id\":\"13890\"},\"major_label_orientation\":\"horizontal\",\"ticker\":{\"id\":\"13896\"}},\"id\":\"13857\",\"type\":\"LinearAxis\"},{\"attributes\":{},\"id\":\"13278\",\"type\":\"CategoricalScale\"},{\"attributes\":{\"fill_alpha\":{\"value\":0.2},\"fill_color\":{\"field\":\"Variable\",\"transform\":{\"id\":\"12203\"}},\"height\":{\"value\":0.8},\"left\":{\"field\":\"bottom\"},\"line_alpha\":{\"value\":0.2},\"right\":{\"field\":\"top\"},\"y\":{\"field\":\"index\"}},\"id\":\"12209\",\"type\":\"HBar\"},{\"attributes\":{},\"id\":\"13245\",\"type\":\"Selection\"},{\"attributes\":{},\"id\":\"13346\",\"type\":\"WheelZoomTool\"},{\"attributes\":{},\"id\":\"13276\",\"type\":\"LinearScale\"},{\"attributes\":{\"items\":[{\"id\":\"12221\"}],\"location\":[0,0]},\"id\":\"12220\",\"type\":\"Legend\"},{\"attributes\":{},\"id\":\"13348\",\"type\":\"ResetTool\"},{\"attributes\":{\"align\":null,\"below\":[{\"id\":\"13280\"}],\"center\":[{\"id\":\"13283\"},{\"id\":\"13286\"},{\"id\":\"13317\"}],\"left\":[{\"id\":\"13284\"}],\"margin\":null,\"min_border_bottom\":10,\"min_border_left\":10,\"min_border_right\":10,\"min_border_top\":10,\"plot_height\":100,\"plot_width\":700,\"renderers\":[{\"id\":\"13307\"}],\"right\":[{\"id\":\"13317\"}],\"sizing_mode\":\"fixed\",\"title\":{\"id\":\"13272\"},\"toolbar\":{\"id\":\"13293\"},\"toolbar_location\":null,\"x_range\":{\"id\":\"11074\"},\"x_scale\":{\"id\":\"13276\"},\"y_range\":{\"id\":\"11075\"},\"y_scale\":{\"id\":\"13278\"}},\"id\":\"13271\",\"subtype\":\"Figure\",\"type\":\"Plot\"},{\"attributes\":{\"axis_label\":\"\",\"bounds\":\"auto\",\"formatter\":{\"id\":\"13888\"},\"major_label_orientation\":\"horizontal\",\"ticker\":{\"id\":\"13862\"}},\"id\":\"13861\",\"type\":\"CategoricalAxis\"},{\"attributes\":{},\"id\":\"13342\",\"type\":\"CategoricalTicker\"},{\"attributes\":{},\"id\":\"11139\",\"type\":\"LinearScale\"},{\"attributes\":{\"items\":[{\"id\":\"12741\"}],\"location\":[0,0]},\"id\":\"12740\",\"type\":\"Legend\"},{\"attributes\":{\"callback\":null,\"renderers\":[{\"id\":\"13827\"}],\"tags\":[\"hv_created\"],\"tooltips\":[[\"index\",\"@{index}\"],[\"Variable\",\"@{Variable}\"],[\"value\",\"@{value}\"]]},\"id\":\"13790\",\"type\":\"HoverTool\"},{\"attributes\":{},\"id\":\"13855\",\"type\":\"CategoricalScale\"},{\"attributes\":{},\"id\":\"12216\",\"type\":\"BasicTickFormatter\"},{\"attributes\":{\"factors\":[\"Available\",\"Missing\"],\"palette\":[\"#1f77b3\",\"#ff7e0e\"]},\"id\":\"12203\",\"type\":\"CategoricalColorMapper\"},{\"attributes\":{\"fill_alpha\":{\"value\":0.1},\"fill_color\":{\"field\":\"Variable\",\"transform\":{\"id\":\"13243\"}},\"height\":{\"value\":0.8},\"left\":{\"field\":\"bottom\"},\"line_alpha\":{\"value\":0.1},\"right\":{\"field\":\"top\"},\"y\":{\"field\":\"index\"}},\"id\":\"13248\",\"type\":\"HBar\"},{\"attributes\":{\"callback\":null,\"renderers\":[{\"id\":\"11690\"}],\"tags\":[\"hv_created\"],\"tooltips\":[[\"index\",\"@{index}\"],[\"Variable\",\"@{Variable}\"],[\"value\",\"@{value}\"]]},\"id\":\"11653\",\"type\":\"HoverTool\"},{\"attributes\":{},\"id\":\"12271\",\"type\":\"CategoricalTickFormatter\"},{\"attributes\":{\"source\":{\"id\":\"12204\"}},\"id\":\"12211\",\"type\":\"CDSView\"},{\"attributes\":{},\"id\":\"12771\",\"type\":\"ResetTool\"},{\"attributes\":{\"axis\":{\"id\":\"13857\"},\"grid_line_color\":null,\"ticker\":null},\"id\":\"13860\",\"type\":\"Grid\"},{\"attributes\":{\"fill_color\":{\"field\":\"Variable\",\"transform\":{\"id\":\"13243\"}},\"height\":{\"value\":0.8},\"left\":{\"field\":\"bottom\"},\"right\":{\"field\":\"top\"},\"y\":{\"field\":\"index\"}},\"id\":\"13247\",\"type\":\"HBar\"},{\"attributes\":{},\"id\":\"12273\",\"type\":\"BasicTickFormatter\"},{\"attributes\":{\"axis\":{\"id\":\"11261\"},\"dimension\":1,\"grid_line_color\":null,\"ticker\":null},\"id\":\"11263\",\"type\":\"Grid\"},{\"attributes\":{},\"id\":\"11265\",\"type\":\"PanTool\"},{\"attributes\":{\"ticks\":[0]},\"id\":\"13896\",\"type\":\"FixedTicker\"},{\"attributes\":{\"data_source\":{\"id\":\"12204\"},\"glyph\":{\"id\":\"12207\"},\"hover_glyph\":null,\"muted_glyph\":{\"id\":\"12209\"},\"nonselection_glyph\":{\"id\":\"12208\"},\"selection_glyph\":null,\"view\":{\"id\":\"12211\"}},\"id\":\"12210\",\"type\":\"GlyphRenderer\"},{\"attributes\":{\"label\":{\"field\":\"Variable\"},\"renderers\":[{\"id\":\"12730\"}]},\"id\":\"12741\",\"type\":\"LegendItem\"},{\"attributes\":{\"ticks\":[0]},\"id\":\"13839\",\"type\":\"FixedTicker\"},{\"attributes\":{\"overlay\":{\"id\":\"11269\"}},\"id\":\"11267\",\"type\":\"BoxZoomTool\"},{\"attributes\":{\"source\":{\"id\":\"12724\"}},\"id\":\"12731\",\"type\":\"CDSView\"},{\"attributes\":{},\"id\":\"11268\",\"type\":\"ResetTool\"},{\"attributes\":{},\"id\":\"13345\",\"type\":\"PanTool\"},{\"attributes\":{\"text\":\"Duplicate Values\",\"text_color\":{\"value\":\"black\"},\"text_font_size\":{\"value\":\"12pt\"}},\"id\":\"13272\",\"type\":\"Title\"},{\"attributes\":{\"axis_label\":\"\",\"bounds\":\"auto\",\"formatter\":{\"id\":\"11288\"},\"major_label_orientation\":\"horizontal\",\"ticker\":{\"id\":\"11262\"}},\"id\":\"11261\",\"type\":\"CategoricalAxis\"},{\"attributes\":{\"data_source\":{\"id\":\"12724\"},\"glyph\":{\"id\":\"12727\"},\"hover_glyph\":null,\"muted_glyph\":{\"id\":\"12729\"},\"nonselection_glyph\":{\"id\":\"12728\"},\"selection_glyph\":null,\"view\":{\"id\":\"12731\"}},\"id\":\"12730\",\"type\":\"GlyphRenderer\"},{\"attributes\":{\"text\":\"Duplicate Columns\",\"text_color\":{\"value\":\"black\"},\"text_font_size\":{\"value\":\"12pt\"}},\"id\":\"13849\",\"type\":\"Title\"},{\"attributes\":{},\"id\":\"11262\",\"type\":\"CategoricalTicker\"},{\"attributes\":{\"active_drag\":\"auto\",\"active_inspect\":\"auto\",\"active_multi\":null,\"active_scroll\":\"auto\",\"active_tap\":\"auto\",\"tools\":[{\"id\":\"11247\"},{\"id\":\"11264\"},{\"id\":\"11265\"},{\"id\":\"11266\"},{\"id\":\"11267\"},{\"id\":\"11268\"}]},\"id\":\"11270\",\"type\":\"Toolbar\"},{\"attributes\":{\"callback\":null,\"renderers\":[{\"id\":\"13307\"}],\"tags\":[\"hv_created\"],\"tooltips\":[[\"index\",\"@{index}\"],[\"Variable\",\"@{Variable}\"],[\"value\",\"@{value}\"]]},\"id\":\"13270\",\"type\":\"HoverTool\"},{\"attributes\":{},\"id\":\"12769\",\"type\":\"WheelZoomTool\"},{\"attributes\":{\"align\":null,\"below\":[{\"id\":\"13857\"}],\"center\":[{\"id\":\"13860\"},{\"id\":\"13863\"},{\"id\":\"13894\"}],\"left\":[{\"id\":\"13861\"}],\"margin\":null,\"min_border_bottom\":10,\"min_border_left\":10,\"min_border_right\":10,\"min_border_top\":10,\"plot_height\":100,\"plot_width\":700,\"renderers\":[{\"id\":\"13884\"}],\"right\":[{\"id\":\"13894\"}],\"sizing_mode\":\"fixed\",\"title\":{\"id\":\"13849\"},\"toolbar\":{\"id\":\"13870\"},\"toolbar_location\":null,\"x_range\":{\"id\":\"11074\"},\"x_scale\":{\"id\":\"13853\"},\"y_range\":{\"id\":\"11075\"},\"y_scale\":{\"id\":\"13855\"}},\"id\":\"13848\",\"subtype\":\"Figure\",\"type\":\"Plot\"},{\"attributes\":{\"fill_alpha\":{\"value\":0.2},\"fill_color\":{\"field\":\"Variable\",\"transform\":{\"id\":\"11163\"}},\"height\":{\"value\":0.8},\"left\":{\"field\":\"bottom\"},\"line_alpha\":{\"value\":0.2},\"right\":{\"field\":\"top\"},\"y\":{\"field\":\"index\"}},\"id\":\"11169\",\"type\":\"HBar\"},{\"attributes\":{\"items\":[{\"id\":\"11181\"}],\"location\":[0,0]},\"id\":\"11180\",\"type\":\"Legend\"},{\"attributes\":{},\"id\":\"12795\",\"type\":\"UnionRenderers\"},{\"attributes\":{},\"id\":\"13892\",\"type\":\"UnionRenderers\"},{\"attributes\":{},\"id\":\"13719\",\"type\":\"BasicTickFormatter\"},{\"attributes\":{\"text\":\"Duplicate Columns\",\"text_color\":{\"value\":\"black\"},\"text_font_size\":{\"value\":\"12pt\"}},\"id\":\"13329\",\"type\":\"Title\"},{\"attributes\":{\"child\":{\"id\":\"11860\"},\"name\":\"product_manufacturer_list\",\"title\":\"product_manufacturer_list\"},\"id\":\"12113\",\"type\":\"Panel\"},{\"attributes\":{\"overlay\":{\"id\":\"13869\"}},\"id\":\"13867\",\"type\":\"BoxZoomTool\"},{\"attributes\":{\"source\":{\"id\":\"12667\"}},\"id\":\"12674\",\"type\":\"CDSView\"},{\"attributes\":{},\"id\":\"13809\",\"type\":\"WheelZoomTool\"},{\"attributes\":{\"data\":{\"Variable\":[\"Unique\",\"Duplicate\"],\"bottom\":{\"__ndarray__\":\"AAAAAAAAAAAAAAAAAABZQA==\",\"dtype\":\"float64\",\"order\":\"little\",\"shape\":[2]},\"index\":[\"values\",\"values\"],\"top\":{\"__ndarray__\":\"AAAAAAAAWUAAAAAAAABZQA==\",\"dtype\":\"float64\",\"order\":\"little\",\"shape\":[2]},\"value\":{\"__ndarray__\":\"AAAAAAAAWUAAAAAAAAAAAA==\",\"dtype\":\"float64\",\"order\":\"little\",\"shape\":[2]}},\"selected\":{\"id\":\"11799\"},\"selection_policy\":{\"id\":\"11812\"}},\"id\":\"11798\",\"type\":\"ColumnDataSource\"},{\"attributes\":{},\"id\":\"11196\",\"type\":\"LinearScale\"},{\"attributes\":{\"data_source\":{\"id\":\"12667\"},\"glyph\":{\"id\":\"12670\"},\"hover_glyph\":null,\"muted_glyph\":{\"id\":\"12672\"},\"nonselection_glyph\":{\"id\":\"12671\"},\"selection_glyph\":null,\"view\":{\"id\":\"12674\"}},\"id\":\"12673\",\"type\":\"GlyphRenderer\"},{\"attributes\":{},\"id\":\"12850\",\"type\":\"BasicTickFormatter\"},{\"attributes\":{\"style\":{\"white-space\":\"nowrap\"},\"text\":\"<span style=\\\"color:black;font-family:Arial;font-style:bold;font-weight:bold;font-size:12pt\\\">Data Shape:(67175, 2)</span>\",\"width\":450},\"id\":\"11859\",\"type\":\"Div\"},{\"attributes\":{\"active_drag\":\"auto\",\"active_inspect\":\"auto\",\"active_multi\":null,\"active_scroll\":\"auto\",\"active_tap\":\"auto\",\"tools\":[{\"id\":\"11076\"},{\"id\":\"11093\"},{\"id\":\"11094\"},{\"id\":\"11095\"},{\"id\":\"11096\"},{\"id\":\"11097\"}]},\"id\":\"11099\",\"type\":\"Toolbar\"},{\"attributes\":{\"fill_alpha\":{\"value\":0.1},\"fill_color\":{\"field\":\"Variable\",\"transform\":{\"id\":\"12260\"}},\"height\":{\"value\":0.8},\"left\":{\"field\":\"bottom\"},\"line_alpha\":{\"value\":0.1},\"right\":{\"field\":\"top\"},\"y\":{\"field\":\"index\"}},\"id\":\"12265\",\"type\":\"HBar\"},{\"attributes\":{},\"id\":\"12148\",\"type\":\"Selection\"},{\"attributes\":{\"factors\":[\"Unique\",\"Duplicate\"],\"palette\":[\"#1f77b3\",\"#ff7e0e\"]},\"id\":\"13357\",\"type\":\"CategoricalColorMapper\"},{\"attributes\":{\"overlay\":{\"id\":\"13812\"}},\"id\":\"13810\",\"type\":\"BoxZoomTool\"},{\"attributes\":{\"fill_color\":{\"field\":\"Variable\",\"transform\":{\"id\":\"12260\"}},\"height\":{\"value\":0.8},\"left\":{\"field\":\"bottom\"},\"right\":{\"field\":\"top\"},\"y\":{\"field\":\"index\"}},\"id\":\"12264\",\"type\":\"HBar\"},{\"attributes\":{},\"id\":\"13256\",\"type\":\"BasicTickFormatter\"},{\"attributes\":{},\"id\":\"11718\",\"type\":\"CategoricalScale\"},{\"attributes\":{\"active_drag\":\"auto\",\"active_inspect\":\"auto\",\"active_multi\":null,\"active_scroll\":\"auto\",\"active_tap\":\"auto\",\"tools\":[{\"id\":\"12230\"},{\"id\":\"12247\"},{\"id\":\"12248\"},{\"id\":\"12249\"},{\"id\":\"12250\"},{\"id\":\"12251\"}]},\"id\":\"12253\",\"type\":\"Toolbar\"},{\"attributes\":{},\"id\":\"11755\",\"type\":\"UnionRenderers\"},{\"attributes\":{},\"id\":\"11095\",\"type\":\"WheelZoomTool\"},{\"attributes\":{},\"id\":\"11082\",\"type\":\"LinearScale\"},{\"attributes\":{},\"id\":\"13807\",\"type\":\"SaveTool\"},{\"attributes\":{\"bottom_units\":\"screen\",\"fill_alpha\":0.5,\"fill_color\":\"lightgrey\",\"left_units\":\"screen\",\"level\":\"overlay\",\"line_alpha\":1.0,\"line_color\":\"black\",\"line_dash\":[4,4],\"line_width\":2,\"right_units\":\"screen\",\"top_units\":\"screen\"},\"id\":\"12252\",\"type\":\"BoxAnnotation\"},{\"attributes\":{\"children\":[{\"id\":\"11857\"},{\"id\":\"11855\"}]},\"id\":\"11858\",\"type\":\"Column\"},{\"attributes\":{},\"id\":\"13798\",\"type\":\"CategoricalScale\"},{\"attributes\":{},\"id\":\"11292\",\"type\":\"UnionRenderers\"},{\"attributes\":{},\"id\":\"13866\",\"type\":\"WheelZoomTool\"},{\"attributes\":{\"items\":[{\"id\":\"13895\"}],\"location\":[0,0]},\"id\":\"13894\",\"type\":\"Legend\"},{\"attributes\":{\"ticks\":[0]},\"id\":\"11702\",\"type\":\"FixedTicker\"},{\"attributes\":{\"active_drag\":\"auto\",\"active_inspect\":\"auto\",\"active_multi\":null,\"active_scroll\":\"auto\",\"active_tap\":\"auto\",\"tools\":[{\"id\":\"13847\"},{\"id\":\"13864\"},{\"id\":\"13865\"},{\"id\":\"13866\"},{\"id\":\"13867\"},{\"id\":\"13868\"}]},\"id\":\"13870\",\"type\":\"Toolbar\"},{\"attributes\":{\"fill_alpha\":{\"value\":0.2},\"fill_color\":{\"field\":\"Variable\",\"transform\":{\"id\":\"12666\"}},\"height\":{\"value\":0.8},\"left\":{\"field\":\"bottom\"},\"line_alpha\":{\"value\":0.2},\"right\":{\"field\":\"top\"},\"y\":{\"field\":\"index\"}},\"id\":\"12672\",\"type\":\"HBar\"},{\"attributes\":{},\"id\":\"13359\",\"type\":\"Selection\"},{\"attributes\":{\"fill_alpha\":{\"value\":0.1},\"fill_color\":{\"field\":\"Variable\",\"transform\":{\"id\":\"12317\"}},\"height\":{\"value\":0.8},\"left\":{\"field\":\"bottom\"},\"line_alpha\":{\"value\":0.1},\"right\":{\"field\":\"top\"},\"y\":{\"field\":\"index\"}},\"id\":\"12322\",\"type\":\"HBar\"},{\"attributes\":{\"ticks\":[0]},\"id\":\"12336\",\"type\":\"FixedTicker\"},{\"attributes\":{},\"id\":\"11093\",\"type\":\"SaveTool\"},{\"attributes\":{\"axis_label\":\"\",\"bounds\":\"auto\",\"formatter\":{\"id\":\"11753\"},\"major_label_orientation\":\"horizontal\",\"ticker\":{\"id\":\"11759\"}},\"id\":\"11720\",\"type\":\"LinearAxis\"},{\"attributes\":{},\"id\":\"13333\",\"type\":\"LinearScale\"},{\"attributes\":{\"fill_alpha\":{\"value\":0.2},\"fill_color\":{\"field\":\"Variable\",\"transform\":{\"id\":\"13820\"}},\"height\":{\"value\":0.8},\"left\":{\"field\":\"bottom\"},\"line_alpha\":{\"value\":0.2},\"right\":{\"field\":\"top\"},\"y\":{\"field\":\"index\"}},\"id\":\"13826\",\"type\":\"HBar\"},{\"attributes\":{\"factors\":[\"Available\",\"Missing\"],\"palette\":[\"#1f77b3\",\"#ff7e0e\"]},\"id\":\"13243\",\"type\":\"CategoricalColorMapper\"},{\"attributes\":{},\"id\":\"13808\",\"type\":\"PanTool\"},{\"attributes\":{\"source\":{\"id\":\"13878\"}},\"id\":\"13885\",\"type\":\"CDSView\"},{\"attributes\":{\"text\":\"Duplicate Values\",\"text_color\":{\"value\":\"black\"},\"text_font_size\":{\"value\":\"12pt\"}},\"id\":\"13792\",\"type\":\"Title\"},{\"attributes\":{\"children\":[{\"id\":\"11859\"},{\"id\":\"11858\"}]},\"id\":\"11860\",\"type\":\"Column\"},{\"attributes\":{},\"id\":\"12251\",\"type\":\"ResetTool\"},{\"attributes\":{},\"id\":\"13717\",\"type\":\"CategoricalTickFormatter\"},{\"attributes\":{\"axis_label\":\"\",\"bounds\":\"auto\",\"formatter\":{\"id\":\"13833\"},\"major_label_orientation\":\"horizontal\",\"ticker\":{\"id\":\"13839\"}},\"id\":\"13800\",\"type\":\"LinearAxis\"},{\"attributes\":{\"overlay\":{\"id\":\"12252\"}},\"id\":\"12250\",\"type\":\"BoxZoomTool\"},{\"attributes\":{},\"id\":\"11659\",\"type\":\"LinearScale\"},{\"attributes\":{\"active_drag\":\"auto\",\"active_inspect\":\"auto\",\"active_multi\":null,\"active_scroll\":\"auto\",\"active_tap\":\"auto\",\"tools\":[{\"id\":\"13790\"},{\"id\":\"13807\"},{\"id\":\"13808\"},{\"id\":\"13809\"},{\"id\":\"13810\"},{\"id\":\"13811\"}]},\"id\":\"13813\",\"type\":\"Toolbar\"},{\"attributes\":{\"fill_alpha\":{\"value\":0.1},\"fill_color\":{\"field\":\"Variable\",\"transform\":{\"id\":\"12666\"}},\"height\":{\"value\":0.8},\"left\":{\"field\":\"bottom\"},\"line_alpha\":{\"value\":0.1},\"right\":{\"field\":\"top\"},\"y\":{\"field\":\"index\"}},\"id\":\"12671\",\"type\":\"HBar\"},{\"attributes\":{},\"id\":\"11742\",\"type\":\"Selection\"},{\"attributes\":{},\"id\":\"12161\",\"type\":\"UnionRenderers\"},{\"attributes\":{},\"id\":\"13865\",\"type\":\"PanTool\"},{\"attributes\":{\"active_drag\":\"auto\",\"active_inspect\":\"auto\",\"active_multi\":null,\"active_scroll\":\"auto\",\"active_tap\":\"auto\",\"tools\":[{\"id\":\"12116\"},{\"id\":\"12133\"},{\"id\":\"12134\"},{\"id\":\"12135\"},{\"id\":\"12136\"},{\"id\":\"12137\"}]},\"id\":\"12139\",\"type\":\"Toolbar\"},{\"attributes\":{\"callback\":null,\"renderers\":[{\"id\":\"13364\"}],\"tags\":[\"hv_created\"],\"tooltips\":[[\"index\",\"@{index}\"],[\"Variable\",\"@{Variable}\"],[\"value\",\"@{value}\"]]},\"id\":\"13327\",\"type\":\"HoverTool\"},{\"attributes\":{\"axis_label\":\"\",\"bounds\":\"auto\",\"formatter\":{\"id\":\"13831\"},\"major_label_orientation\":\"horizontal\",\"ticker\":{\"id\":\"13805\"}},\"id\":\"13804\",\"type\":\"CategoricalAxis\"},{\"attributes\":{},\"id\":\"13888\",\"type\":\"CategoricalTickFormatter\"},{\"attributes\":{\"text\":\"Duplicate Values\",\"text_color\":{\"value\":\"black\"},\"text_font_size\":{\"value\":\"12pt\"}},\"id\":\"11712\",\"type\":\"Title\"},{\"attributes\":{},\"id\":\"13811\",\"type\":\"ResetTool\"},{\"attributes\":{\"fill_alpha\":{\"value\":0.1},\"fill_color\":{\"field\":\"Variable\",\"transform\":{\"id\":\"11740\"}},\"height\":{\"value\":0.8},\"left\":{\"field\":\"bottom\"},\"line_alpha\":{\"value\":0.1},\"right\":{\"field\":\"top\"},\"y\":{\"field\":\"index\"}},\"id\":\"11745\",\"type\":\"HBar\"},{\"attributes\":{\"axis_label\":\"\",\"bounds\":\"auto\",\"formatter\":{\"id\":\"11119\"},\"major_label_orientation\":\"horizontal\",\"ticker\":{\"id\":\"11125\"}},\"id\":\"11086\",\"type\":\"LinearAxis\"},{\"attributes\":{},\"id\":\"13335\",\"type\":\"CategoricalScale\"},{\"attributes\":{\"data\":{\"Variable\":[\"Unique\",\"Duplicate\"],\"bottom\":{\"__ndarray__\":\"AAAAAAAAAAAAAAAAAABZQA==\",\"dtype\":\"float64\",\"order\":\"little\",\"shape\":[2]},\"index\":[\"values\",\"values\"],\"top\":{\"__ndarray__\":\"AAAAAAAAWUAAAAAAAABZQA==\",\"dtype\":\"float64\",\"order\":\"little\",\"shape\":[2]},\"value\":{\"__ndarray__\":\"AAAAAAAAWUAAAAAAAAAAAA==\",\"dtype\":\"float64\",\"order\":\"little\",\"shape\":[2]}},\"selected\":{\"id\":\"13879\"},\"selection_policy\":{\"id\":\"13892\"}},\"id\":\"13878\",\"type\":\"ColumnDataSource\"},{\"attributes\":{},\"id\":\"11753\",\"type\":\"BasicTickFormatter\"},{\"attributes\":{},\"id\":\"12159\",\"type\":\"BasicTickFormatter\"},{\"attributes\":{\"align\":null,\"below\":[{\"id\":\"13800\"}],\"center\":[{\"id\":\"13803\"},{\"id\":\"13806\"},{\"id\":\"13837\"}],\"left\":[{\"id\":\"13804\"}],\"margin\":null,\"min_border_bottom\":10,\"min_border_left\":10,\"min_border_right\":10,\"min_border_top\":10,\"plot_height\":100,\"plot_width\":700,\"renderers\":[{\"id\":\"13827\"}],\"right\":[{\"id\":\"13837\"}],\"sizing_mode\":\"fixed\",\"title\":{\"id\":\"13792\"},\"toolbar\":{\"id\":\"13813\"},\"toolbar_location\":null,\"x_range\":{\"id\":\"11074\"},\"x_scale\":{\"id\":\"13796\"},\"y_range\":{\"id\":\"11075\"},\"y_scale\":{\"id\":\"13798\"}},\"id\":\"13791\",\"subtype\":\"Figure\",\"type\":\"Plot\"},{\"attributes\":{},\"id\":\"11084\",\"type\":\"CategoricalScale\"},{\"attributes\":{\"axis_label\":\"\",\"bounds\":\"auto\",\"formatter\":{\"id\":\"13370\"},\"major_label_orientation\":\"horizontal\",\"ticker\":{\"id\":\"13376\"}},\"id\":\"13337\",\"type\":\"LinearAxis\"},{\"attributes\":{\"axis\":{\"id\":\"13804\"},\"dimension\":1,\"grid_line_color\":null,\"ticker\":null},\"id\":\"13806\",\"type\":\"Grid\"},{\"attributes\":{},\"id\":\"12319\",\"type\":\"Selection\"},{\"attributes\":{},\"id\":\"12135\",\"type\":\"WheelZoomTool\"},{\"attributes\":{\"callback\":null,\"renderers\":[{\"id\":\"11747\"}],\"tags\":[\"hv_created\"],\"tooltips\":[[\"index\",\"@{index}\"],[\"Variable\",\"@{Variable}\"],[\"value\",\"@{value}\"]]},\"id\":\"11710\",\"type\":\"HoverTool\"},{\"attributes\":{\"data\":{\"Variable\":[\"Unique\",\"Duplicate\"],\"bottom\":{\"__ndarray__\":\"AAAAAAAAAAAAAAAAAABZQA==\",\"dtype\":\"float64\",\"order\":\"little\",\"shape\":[2]},\"index\":[\"values\",\"values\"],\"top\":{\"__ndarray__\":\"AAAAAAAAWUAAAAAAAABZQA==\",\"dtype\":\"float64\",\"order\":\"little\",\"shape\":[2]},\"value\":{\"__ndarray__\":\"AAAAAAAAWUAAAAAAAAAAAA==\",\"dtype\":\"float64\",\"order\":\"little\",\"shape\":[2]}},\"selected\":{\"id\":\"12262\"},\"selection_policy\":{\"id\":\"12275\"}},\"id\":\"12261\",\"type\":\"ColumnDataSource\"},{\"attributes\":{},\"id\":\"13805\",\"type\":\"CategoricalTicker\"},{\"attributes\":{\"data_source\":{\"id\":\"11164\"},\"glyph\":{\"id\":\"11167\"},\"hover_glyph\":null,\"muted_glyph\":{\"id\":\"11169\"},\"nonselection_glyph\":{\"id\":\"11168\"},\"selection_glyph\":null,\"view\":{\"id\":\"11171\"}},\"id\":\"11170\",\"type\":\"GlyphRenderer\"},{\"attributes\":{\"label\":{\"field\":\"Variable\"},\"renderers\":[{\"id\":\"13884\"}]},\"id\":\"13895\",\"type\":\"LegendItem\"},{\"attributes\":{},\"id\":\"13868\",\"type\":\"ResetTool\"},{\"attributes\":{\"factors\":[\"Unique\",\"Duplicate\"],\"palette\":[\"#1f77b3\",\"#ff7e0e\"]},\"id\":\"12837\",\"type\":\"CategoricalColorMapper\"},{\"attributes\":{},\"id\":\"11094\",\"type\":\"PanTool\"},{\"attributes\":{\"fill_color\":{\"field\":\"Variable\",\"transform\":{\"id\":\"11740\"}},\"height\":{\"value\":0.8},\"left\":{\"field\":\"bottom\"},\"right\":{\"field\":\"top\"},\"y\":{\"field\":\"index\"}},\"id\":\"11744\",\"type\":\"HBar\"},{\"attributes\":{\"fill_color\":{\"field\":\"Variable\",\"transform\":{\"id\":\"13820\"}},\"height\":{\"value\":0.8},\"left\":{\"field\":\"bottom\"},\"right\":{\"field\":\"top\"},\"y\":{\"field\":\"index\"}},\"id\":\"13824\",\"type\":\"HBar\"},{\"attributes\":{},\"id\":\"13862\",\"type\":\"CategoricalTicker\"},{\"attributes\":{\"factors\":[\"Unique\",\"Duplicate\"],\"palette\":[\"#1f77b3\",\"#ff7e0e\"]},\"id\":\"13877\",\"type\":\"CategoricalColorMapper\"},{\"attributes\":{},\"id\":\"13254\",\"type\":\"CategoricalTickFormatter\"},{\"attributes\":{\"align\":null,\"below\":[{\"id\":\"11720\"}],\"center\":[{\"id\":\"11723\"},{\"id\":\"11726\"},{\"id\":\"11757\"}],\"left\":[{\"id\":\"11724\"}],\"margin\":null,\"min_border_bottom\":10,\"min_border_left\":10,\"min_border_right\":10,\"min_border_top\":10,\"plot_height\":100,\"plot_width\":700,\"renderers\":[{\"id\":\"11747\"}],\"right\":[{\"id\":\"11757\"}],\"sizing_mode\":\"fixed\",\"title\":{\"id\":\"11712\"},\"toolbar\":{\"id\":\"11733\"},\"toolbar_location\":null,\"x_range\":{\"id\":\"11074\"},\"x_scale\":{\"id\":\"11716\"},\"y_range\":{\"id\":\"11075\"},\"y_scale\":{\"id\":\"11718\"}},\"id\":\"11711\",\"subtype\":\"Figure\",\"type\":\"Plot\"},{\"attributes\":{\"align\":null,\"below\":[{\"id\":\"13337\"}],\"center\":[{\"id\":\"13340\"},{\"id\":\"13343\"},{\"id\":\"13374\"}],\"left\":[{\"id\":\"13341\"}],\"margin\":null,\"min_border_bottom\":10,\"min_border_left\":10,\"min_border_right\":10,\"min_border_top\":10,\"plot_height\":100,\"plot_width\":700,\"renderers\":[{\"id\":\"13364\"}],\"right\":[{\"id\":\"13374\"}],\"sizing_mode\":\"fixed\",\"title\":{\"id\":\"13329\"},\"toolbar\":{\"id\":\"13350\"},\"toolbar_location\":null,\"x_range\":{\"id\":\"11074\"},\"x_scale\":{\"id\":\"13333\"},\"y_range\":{\"id\":\"11075\"},\"y_scale\":{\"id\":\"13335\"}},\"id\":\"13328\",\"subtype\":\"Figure\",\"type\":\"Plot\"},{\"attributes\":{},\"id\":\"13822\",\"type\":\"Selection\"},{\"attributes\":{},\"id\":\"12701\",\"type\":\"CategoricalScale\"},{\"attributes\":{},\"id\":\"11751\",\"type\":\"CategoricalTickFormatter\"},{\"attributes\":{\"overlay\":{\"id\":\"11098\"}},\"id\":\"11096\",\"type\":\"BoxZoomTool\"},{\"attributes\":{\"axis\":{\"id\":\"13861\"},\"dimension\":1,\"grid_line_color\":null,\"ticker\":null},\"id\":\"13863\",\"type\":\"Grid\"},{\"attributes\":{},\"id\":\"13864\",\"type\":\"SaveTool\"},{\"attributes\":{\"bottom_units\":\"screen\",\"fill_alpha\":0.5,\"fill_color\":\"lightgrey\",\"left_units\":\"screen\",\"level\":\"overlay\",\"line_alpha\":1.0,\"line_color\":\"black\",\"line_dash\":[4,4],\"line_width\":2,\"right_units\":\"screen\",\"top_units\":\"screen\"},\"id\":\"12309\",\"type\":\"BoxAnnotation\"},{\"attributes\":{},\"id\":\"12157\",\"type\":\"CategoricalTickFormatter\"},{\"attributes\":{},\"id\":\"12848\",\"type\":\"CategoricalTickFormatter\"},{\"attributes\":{},\"id\":\"11165\",\"type\":\"Selection\"},{\"attributes\":{\"factors\":[\"Unique\",\"Duplicate\"],\"palette\":[\"#1f77b3\",\"#ff7e0e\"]},\"id\":\"11740\",\"type\":\"CategoricalColorMapper\"},{\"attributes\":{\"data\":{\"Variable\":[\"Unique\",\"Duplicate\"],\"bottom\":{\"__ndarray__\":\"AAAAAAAAAAAAAAAAAABZQA==\",\"dtype\":\"float64\",\"order\":\"little\",\"shape\":[2]},\"index\":[\"values\",\"values\"],\"top\":{\"__ndarray__\":\"AAAAAAAAWUAAAAAAAABZQA==\",\"dtype\":\"float64\",\"order\":\"little\",\"shape\":[2]},\"value\":{\"__ndarray__\":\"AAAAAAAAWUAAAAAAAAAAAA==\",\"dtype\":\"float64\",\"order\":\"little\",\"shape\":[2]}},\"selected\":{\"id\":\"13302\"},\"selection_policy\":{\"id\":\"13315\"}},\"id\":\"13301\",\"type\":\"ColumnDataSource\"},{\"attributes\":{},\"id\":\"12262\",\"type\":\"Selection\"},{\"attributes\":{\"margin\":[0,0,0,0],\"tabs\":[{\"id\":\"11593\"},{\"id\":\"12113\"},{\"id\":\"12633\"},{\"id\":\"13153\"},{\"id\":\"13673\"},{\"id\":\"14193\"}]},\"id\":\"11073\",\"type\":\"Tabs\"},{\"attributes\":{\"overlay\":{\"id\":\"12138\"}},\"id\":\"12136\",\"type\":\"BoxZoomTool\"},{\"attributes\":{},\"id\":\"11091\",\"type\":\"CategoricalTicker\"},{\"attributes\":{\"text\":\"Missing Values\",\"text_color\":{\"value\":\"black\"},\"text_font_size\":{\"value\":\"12pt\"}},\"id\":\"12175\",\"type\":\"Title\"},{\"attributes\":{\"label\":{\"field\":\"Variable\"},\"renderers\":[{\"id\":\"11170\"}]},\"id\":\"11181\",\"type\":\"LegendItem\"},{\"attributes\":{\"fill_color\":{\"field\":\"Variable\",\"transform\":{\"id\":\"12317\"}},\"height\":{\"value\":0.8},\"left\":{\"field\":\"bottom\"},\"right\":{\"field\":\"top\"},\"y\":{\"field\":\"index\"}},\"id\":\"12321\",\"type\":\"HBar\"},{\"attributes\":{\"fill_alpha\":{\"value\":0.1},\"fill_color\":{\"field\":\"Variable\",\"transform\":{\"id\":\"13820\"}},\"height\":{\"value\":0.8},\"left\":{\"field\":\"bottom\"},\"line_alpha\":{\"value\":0.1},\"right\":{\"field\":\"top\"},\"y\":{\"field\":\"index\"}},\"id\":\"13825\",\"type\":\"HBar\"},{\"attributes\":{\"source\":{\"id\":\"11164\"}},\"id\":\"11171\",\"type\":\"CDSView\"},{\"attributes\":{\"children\":[{\"id\":\"12899\"},{\"id\":\"12898\"}]},\"id\":\"12900\",\"type\":\"Column\"},{\"attributes\":{\"active_drag\":\"auto\",\"active_inspect\":\"auto\",\"active_multi\":null,\"active_scroll\":\"auto\",\"active_tap\":\"auto\",\"tools\":[{\"id\":\"11710\"},{\"id\":\"11727\"},{\"id\":\"11728\"},{\"id\":\"11729\"},{\"id\":\"11730\"},{\"id\":\"11731\"}]},\"id\":\"11733\",\"type\":\"Toolbar\"},{\"attributes\":{},\"id\":\"12137\",\"type\":\"ResetTool\"},{\"attributes\":{\"ticks\":[0]},\"id\":\"12165\",\"type\":\"FixedTicker\"},{\"attributes\":{},\"id\":\"13890\",\"type\":\"BasicTickFormatter\"},{\"attributes\":{},\"id\":\"13302\",\"type\":\"Selection\"},{\"attributes\":{\"fill_alpha\":{\"value\":0.1},\"fill_color\":{\"field\":\"Variable\",\"transform\":{\"id\":\"11277\"}},\"height\":{\"value\":0.8},\"left\":{\"field\":\"bottom\"},\"line_alpha\":{\"value\":0.1},\"right\":{\"field\":\"top\"},\"y\":{\"field\":\"index\"}},\"id\":\"11282\",\"type\":\"HBar\"},{\"attributes\":{\"bottom_units\":\"screen\",\"fill_alpha\":0.5,\"fill_color\":\"lightgrey\",\"left_units\":\"screen\",\"level\":\"overlay\",\"line_alpha\":1.0,\"line_color\":\"black\",\"line_dash\":[4,4],\"line_width\":2,\"right_units\":\"screen\",\"top_units\":\"screen\"},\"id\":\"11789\",\"type\":\"BoxAnnotation\"},{\"attributes\":{\"data\":{\"Variable\":[\"Numeric\",\"Others\"],\"bottom\":{\"__ndarray__\":\"AAAAAAAAAAAAAAAAAABZQA==\",\"dtype\":\"float64\",\"order\":\"little\",\"shape\":[2]},\"index\":[\"values\",\"values\"],\"top\":{\"__ndarray__\":\"AAAAAAAAWUAAAAAAAABZQA==\",\"dtype\":\"float64\",\"order\":\"little\",\"shape\":[2]},\"value\":{\"__ndarray__\":\"AAAAAAAAWUAAAAAAAAAAAA==\",\"dtype\":\"float64\",\"order\":\"little\",\"shape\":[2]}},\"selected\":{\"id\":\"12148\"},\"selection_policy\":{\"id\":\"12161\"}},\"id\":\"12147\",\"type\":\"ColumnDataSource\"},{\"attributes\":{\"axis\":{\"id\":\"11086\"},\"grid_line_color\":null,\"ticker\":null},\"id\":\"11089\",\"type\":\"Grid\"},{\"attributes\":{\"fill_color\":{\"field\":\"Variable\",\"transform\":{\"id\":\"13300\"}},\"height\":{\"value\":0.8},\"left\":{\"field\":\"bottom\"},\"right\":{\"field\":\"top\"},\"y\":{\"field\":\"index\"}},\"id\":\"13304\",\"type\":\"HBar\"},{\"attributes\":{},\"id\":\"12133\",\"type\":\"SaveTool\"},{\"attributes\":{\"bottom_units\":\"screen\",\"fill_alpha\":0.5,\"fill_color\":\"lightgrey\",\"left_units\":\"screen\",\"level\":\"overlay\",\"line_alpha\":1.0,\"line_color\":\"black\",\"line_dash\":[4,4],\"line_width\":2,\"right_units\":\"screen\",\"top_units\":\"screen\"},\"id\":\"11732\",\"type\":\"BoxAnnotation\"},{\"attributes\":{\"bottom_units\":\"screen\",\"fill_alpha\":0.5,\"fill_color\":\"lightgrey\",\"left_units\":\"screen\",\"level\":\"overlay\",\"line_alpha\":1.0,\"line_color\":\"black\",\"line_dash\":[4,4],\"line_width\":2,\"right_units\":\"screen\",\"top_units\":\"screen\"},\"id\":\"12138\",\"type\":\"BoxAnnotation\"},{\"attributes\":{},\"id\":\"12852\",\"type\":\"UnionRenderers\"},{\"attributes\":{},\"id\":\"11174\",\"type\":\"CategoricalTickFormatter\"},{\"attributes\":{},\"id\":\"12134\",\"type\":\"PanTool\"},{\"attributes\":{},\"id\":\"13796\",\"type\":\"LinearScale\"},{\"attributes\":{\"axis\":{\"id\":\"13800\"},\"grid_line_color\":null,\"ticker\":null},\"id\":\"13803\",\"type\":\"Grid\"},{\"attributes\":{\"data\":{\"Variable\":[\"Unique\",\"Duplicate\"],\"bottom\":{\"__ndarray__\":\"AAAAAAAAAAAAAAAAAABZQA==\",\"dtype\":\"float64\",\"order\":\"little\",\"shape\":[2]},\"index\":[\"values\",\"values\"],\"top\":{\"__ndarray__\":\"AAAAAAAAWUAAAAAAAABZQA==\",\"dtype\":\"float64\",\"order\":\"little\",\"shape\":[2]},\"value\":{\"__ndarray__\":\"AAAAAAAAWUAAAAAAAAAAAA==\",\"dtype\":\"float64\",\"order\":\"little\",\"shape\":[2]}},\"selected\":{\"id\":\"13359\"},\"selection_policy\":{\"id\":\"13372\"}},\"id\":\"13358\",\"type\":\"ColumnDataSource\"},{\"attributes\":{},\"id\":\"11698\",\"type\":\"UnionRenderers\"},{\"attributes\":{\"text\":\"Datatypes\",\"text_color\":{\"value\":\"black\"},\"text_font_size\":{\"value\":\"12pt\"}},\"id\":\"12118\",\"type\":\"Title\"},{\"attributes\":{\"axis_label\":\"\",\"bounds\":\"auto\",\"formatter\":{\"id\":\"13719\"},\"major_label_orientation\":\"horizontal\",\"ticker\":{\"id\":\"13725\"}},\"id\":\"13686\",\"type\":\"LinearAxis\"},{\"attributes\":{},\"id\":\"11209\",\"type\":\"WheelZoomTool\"},{\"attributes\":{},\"id\":\"13684\",\"type\":\"CategoricalScale\"},{\"attributes\":{\"label\":{\"field\":\"Variable\"},\"renderers\":[{\"id\":\"11690\"}]},\"id\":\"11701\",\"type\":\"LegendItem\"},{\"attributes\":{},\"id\":\"11208\",\"type\":\"PanTool\"},{\"attributes\":{\"fill_color\":{\"field\":\"Variable\",\"transform\":{\"id\":\"12203\"}},\"height\":{\"value\":0.8},\"left\":{\"field\":\"bottom\"},\"right\":{\"field\":\"top\"},\"y\":{\"field\":\"index\"}},\"id\":\"12207\",\"type\":\"HBar\"},{\"attributes\":{\"axis_label\":\"\",\"bounds\":\"auto\",\"formatter\":{\"id\":\"11231\"},\"major_label_orientation\":\"horizontal\",\"ticker\":{\"id\":\"11205\"}},\"id\":\"11204\",\"type\":\"CategoricalAxis\"},{\"attributes\":{\"text\":\"Datatypes\",\"text_color\":{\"value\":\"black\"},\"text_font_size\":{\"value\":\"12pt\"}},\"id\":\"13678\",\"type\":\"Title\"},{\"attributes\":{\"axis_label\":\"\",\"bounds\":\"auto\",\"formatter\":{\"id\":\"11810\"},\"major_label_orientation\":\"horizontal\",\"ticker\":{\"id\":\"11816\"}},\"id\":\"11777\",\"type\":\"LinearAxis\"},{\"attributes\":{\"axis_label\":\"\",\"bounds\":\"auto\",\"formatter\":{\"id\":\"12271\"},\"major_label_orientation\":\"horizontal\",\"ticker\":{\"id\":\"12245\"}},\"id\":\"12244\",\"type\":\"CategoricalAxis\"},{\"attributes\":{\"text\":\"Missing Values\",\"text_color\":{\"value\":\"black\"},\"text_font_size\":{\"value\":\"12pt\"}},\"id\":\"12695\",\"type\":\"Title\"},{\"attributes\":{\"fill_alpha\":{\"value\":0.2},\"fill_color\":{\"field\":\"Variable\",\"transform\":{\"id\":\"11106\"}},\"height\":{\"value\":0.8},\"left\":{\"field\":\"bottom\"},\"line_alpha\":{\"value\":0.2},\"right\":{\"field\":\"top\"},\"y\":{\"field\":\"index\"}},\"id\":\"11112\",\"type\":\"HBar\"},{\"attributes\":{\"axis\":{\"id\":\"12126\"},\"grid_line_color\":null,\"ticker\":null},\"id\":\"12129\",\"type\":\"Grid\"},{\"attributes\":{},\"id\":\"11696\",\"type\":\"BasicTickFormatter\"},{\"attributes\":{},\"id\":\"12765\",\"type\":\"CategoricalTicker\"},{\"attributes\":{\"label\":{\"field\":\"Variable\"},\"renderers\":[{\"id\":\"11804\"}]},\"id\":\"11815\",\"type\":\"LegendItem\"},{\"attributes\":{\"items\":[{\"id\":\"12278\"}],\"location\":[0,0]},\"id\":\"12277\",\"type\":\"Legend\"},{\"attributes\":{\"fill_color\":{\"field\":\"Variable\",\"transform\":{\"id\":\"11797\"}},\"height\":{\"value\":0.8},\"left\":{\"field\":\"bottom\"},\"right\":{\"field\":\"top\"},\"y\":{\"field\":\"index\"}},\"id\":\"11801\",\"type\":\"HBar\"},{\"attributes\":{},\"id\":\"11151\",\"type\":\"PanTool\"},{\"attributes\":{\"overlay\":{\"id\":\"11789\"}},\"id\":\"11787\",\"type\":\"BoxZoomTool\"},{\"attributes\":{\"fill_alpha\":{\"value\":0.1},\"fill_color\":{\"field\":\"Variable\",\"transform\":{\"id\":\"11220\"}},\"height\":{\"value\":0.8},\"left\":{\"field\":\"bottom\"},\"line_alpha\":{\"value\":0.1},\"right\":{\"field\":\"top\"},\"y\":{\"field\":\"index\"}},\"id\":\"11225\",\"type\":\"HBar\"},{\"attributes\":{\"items\":[{\"id\":\"13781\"}],\"location\":[0,0]},\"id\":\"13780\",\"type\":\"Legend\"},{\"attributes\":{\"fill_alpha\":{\"value\":0.1},\"fill_color\":{\"field\":\"Variable\",\"transform\":{\"id\":\"11797\"}},\"height\":{\"value\":0.8},\"left\":{\"field\":\"bottom\"},\"line_alpha\":{\"value\":0.1},\"right\":{\"field\":\"top\"},\"y\":{\"field\":\"index\"}},\"id\":\"11802\",\"type\":\"HBar\"},{\"attributes\":{\"ticks\":[0]},\"id\":\"13725\",\"type\":\"FixedTicker\"},{\"attributes\":{},\"id\":\"11786\",\"type\":\"WheelZoomTool\"},{\"attributes\":{\"factors\":[\"Available\",\"Missing\"],\"palette\":[\"#1f77b3\",\"#ff7e0e\"]},\"id\":\"11683\",\"type\":\"CategoricalColorMapper\"},{\"attributes\":{},\"id\":\"12205\",\"type\":\"Selection\"},{\"attributes\":{\"axis_label\":\"\",\"bounds\":\"auto\",\"formatter\":{\"id\":\"12273\"},\"major_label_orientation\":\"horizontal\",\"ticker\":{\"id\":\"12279\"}},\"id\":\"12240\",\"type\":\"LinearAxis\"},{\"attributes\":{},\"id\":\"11148\",\"type\":\"CategoricalTicker\"},{\"attributes\":{\"active_drag\":\"auto\",\"active_inspect\":\"auto\",\"active_multi\":null,\"active_scroll\":\"auto\",\"active_tap\":\"auto\",\"tools\":[{\"id\":\"12287\"},{\"id\":\"12304\"},{\"id\":\"12305\"},{\"id\":\"12306\"},{\"id\":\"12307\"},{\"id\":\"12308\"}]},\"id\":\"12310\",\"type\":\"Toolbar\"},{\"attributes\":{},\"id\":\"11799\",\"type\":\"Selection\"},{\"attributes\":{\"axis_label\":\"\",\"bounds\":\"auto\",\"formatter\":{\"id\":\"12159\"},\"major_label_orientation\":\"horizontal\",\"ticker\":{\"id\":\"12165\"}},\"id\":\"12126\",\"type\":\"LinearAxis\"},{\"attributes\":{\"data_source\":{\"id\":\"12261\"},\"glyph\":{\"id\":\"12264\"},\"hover_glyph\":null,\"muted_glyph\":{\"id\":\"12266\"},\"nonselection_glyph\":{\"id\":\"12265\"},\"selection_glyph\":null,\"view\":{\"id\":\"12268\"}},\"id\":\"12267\",\"type\":\"GlyphRenderer\"},{\"attributes\":{\"source\":{\"id\":\"13764\"}},\"id\":\"13771\",\"type\":\"CDSView\"},{\"attributes\":{\"items\":[{\"id\":\"11701\"}],\"location\":[0,0]},\"id\":\"11700\",\"type\":\"Legend\"},{\"attributes\":{\"fill_alpha\":{\"value\":0.2},\"fill_color\":{\"field\":\"Variable\",\"transform\":{\"id\":\"13706\"}},\"height\":{\"value\":0.8},\"left\":{\"field\":\"bottom\"},\"line_alpha\":{\"value\":0.2},\"right\":{\"field\":\"top\"},\"y\":{\"field\":\"index\"}},\"id\":\"13712\",\"type\":\"HBar\"},{\"attributes\":{},\"id\":\"12248\",\"type\":\"PanTool\"},{\"attributes\":{\"fill_color\":{\"field\":\"Variable\",\"transform\":{\"id\":\"11163\"}},\"height\":{\"value\":0.8},\"left\":{\"field\":\"bottom\"},\"right\":{\"field\":\"top\"},\"y\":{\"field\":\"index\"}},\"id\":\"11167\",\"type\":\"HBar\"},{\"attributes\":{\"factors\":[\"Available\",\"Missing\"],\"palette\":[\"#1f77b3\",\"#ff7e0e\"]},\"id\":\"13763\",\"type\":\"CategoricalColorMapper\"},{\"attributes\":{},\"id\":\"11211\",\"type\":\"ResetTool\"},{\"attributes\":{\"fill_color\":{\"field\":\"Variable\",\"transform\":{\"id\":\"12723\"}},\"height\":{\"value\":0.8},\"left\":{\"field\":\"bottom\"},\"right\":{\"field\":\"top\"},\"y\":{\"field\":\"index\"}},\"id\":\"12727\",\"type\":\"HBar\"},{\"attributes\":{\"active_drag\":\"auto\",\"active_inspect\":\"auto\",\"active_multi\":null,\"active_scroll\":\"auto\",\"active_tap\":\"auto\",\"tools\":[{\"id\":\"11190\"},{\"id\":\"11207\"},{\"id\":\"11208\"},{\"id\":\"11209\"},{\"id\":\"11210\"},{\"id\":\"11211\"}]},\"id\":\"11213\",\"type\":\"Toolbar\"},{\"attributes\":{\"text\":\"Missing Values\",\"text_color\":{\"value\":\"black\"},\"text_font_size\":{\"value\":\"12pt\"}},\"id\":\"11655\",\"type\":\"Title\"},{\"attributes\":{\"axis_label\":\"\",\"bounds\":\"auto\",\"formatter\":{\"id\":\"11808\"},\"major_label_orientation\":\"horizontal\",\"ticker\":{\"id\":\"11782\"}},\"id\":\"11781\",\"type\":\"CategoricalAxis\"},{\"attributes\":{\"fill_alpha\":{\"value\":0.1},\"fill_color\":{\"field\":\"Variable\",\"transform\":{\"id\":\"11163\"}},\"height\":{\"value\":0.8},\"left\":{\"field\":\"bottom\"},\"line_alpha\":{\"value\":0.1},\"right\":{\"field\":\"top\"},\"y\":{\"field\":\"index\"}},\"id\":\"11168\",\"type\":\"HBar\"},{\"attributes\":{\"data_source\":{\"id\":\"12147\"},\"glyph\":{\"id\":\"12150\"},\"hover_glyph\":null,\"muted_glyph\":{\"id\":\"12152\"},\"nonselection_glyph\":{\"id\":\"12151\"},\"selection_glyph\":null,\"view\":{\"id\":\"12154\"}},\"id\":\"12153\",\"type\":\"GlyphRenderer\"},{\"attributes\":{},\"id\":\"12245\",\"type\":\"CategoricalTicker\"},{\"attributes\":{\"bottom_units\":\"screen\",\"fill_alpha\":0.5,\"fill_color\":\"lightgrey\",\"left_units\":\"screen\",\"level\":\"overlay\",\"line_alpha\":1.0,\"line_color\":\"black\",\"line_dash\":[4,4],\"line_width\":2,\"right_units\":\"screen\",\"top_units\":\"screen\"},\"id\":\"13812\",\"type\":\"BoxAnnotation\"},{\"attributes\":{\"source\":{\"id\":\"11798\"}},\"id\":\"11805\",\"type\":\"CDSView\"},{\"attributes\":{},\"id\":\"11279\",\"type\":\"Selection\"},{\"attributes\":{\"fill_color\":{\"field\":\"Variable\",\"transform\":{\"id\":\"11277\"}},\"height\":{\"value\":0.8},\"left\":{\"field\":\"bottom\"},\"right\":{\"field\":\"top\"},\"y\":{\"field\":\"index\"}},\"id\":\"11281\",\"type\":\"HBar\"},{\"attributes\":{\"axis_label\":\"\",\"bounds\":\"auto\",\"formatter\":{\"id\":\"11174\"},\"major_label_orientation\":\"horizontal\",\"ticker\":{\"id\":\"11148\"}},\"id\":\"11147\",\"type\":\"CategoricalAxis\"},{\"attributes\":{\"label\":{\"field\":\"Variable\"},\"renderers\":[{\"id\":\"12267\"}]},\"id\":\"12278\",\"type\":\"LegendItem\"},{\"attributes\":{},\"id\":\"11785\",\"type\":\"PanTool\"},{\"attributes\":{\"label\":{\"field\":\"Variable\"},\"renderers\":[{\"id\":\"12153\"}]},\"id\":\"12164\",\"type\":\"LegendItem\"},{\"attributes\":{\"fill_alpha\":{\"value\":0.2},\"fill_color\":{\"field\":\"Variable\",\"transform\":{\"id\":\"13763\"}},\"height\":{\"value\":0.8},\"left\":{\"field\":\"bottom\"},\"line_alpha\":{\"value\":0.2},\"right\":{\"field\":\"top\"},\"y\":{\"field\":\"index\"}},\"id\":\"13769\",\"type\":\"HBar\"},{\"attributes\":{},\"id\":\"11152\",\"type\":\"WheelZoomTool\"},{\"attributes\":{\"axis\":{\"id\":\"11143\"},\"grid_line_color\":null,\"ticker\":null},\"id\":\"11146\",\"type\":\"Grid\"},{\"attributes\":{},\"id\":\"12249\",\"type\":\"WheelZoomTool\"},{\"attributes\":{\"axis\":{\"id\":\"12764\"},\"dimension\":1,\"grid_line_color\":null,\"ticker\":null},\"id\":\"12766\",\"type\":\"Grid\"},{\"attributes\":{},\"id\":\"11205\",\"type\":\"CategoricalTicker\"},{\"attributes\":{\"label\":{\"field\":\"Variable\"},\"renderers\":[{\"id\":\"12210\"}]},\"id\":\"12221\",\"type\":\"LegendItem\"},{\"attributes\":{\"data_source\":{\"id\":\"11684\"},\"glyph\":{\"id\":\"11687\"},\"hover_glyph\":null,\"muted_glyph\":{\"id\":\"11689\"},\"nonselection_glyph\":{\"id\":\"11688\"},\"selection_glyph\":null,\"view\":{\"id\":\"11691\"}},\"id\":\"11690\",\"type\":\"GlyphRenderer\"},{\"attributes\":{\"fill_alpha\":{\"value\":0.1},\"fill_color\":{\"field\":\"Variable\",\"transform\":{\"id\":\"12723\"}},\"height\":{\"value\":0.8},\"left\":{\"field\":\"bottom\"},\"line_alpha\":{\"value\":0.1},\"right\":{\"field\":\"top\"},\"y\":{\"field\":\"index\"}},\"id\":\"12728\",\"type\":\"HBar\"},{\"attributes\":{\"active_drag\":\"auto\",\"active_inspect\":\"auto\",\"active_multi\":null,\"active_scroll\":\"auto\",\"active_tap\":\"auto\",\"tools\":[{\"id\":\"11767\"},{\"id\":\"11784\"},{\"id\":\"11785\"},{\"id\":\"11786\"},{\"id\":\"11787\"},{\"id\":\"11788\"}]},\"id\":\"11790\",\"type\":\"Toolbar\"},{\"attributes\":{\"fill_alpha\":{\"value\":0.1},\"fill_color\":{\"field\":\"Variable\",\"transform\":{\"id\":\"12203\"}},\"height\":{\"value\":0.8},\"left\":{\"field\":\"bottom\"},\"line_alpha\":{\"value\":0.1},\"right\":{\"field\":\"top\"},\"y\":{\"field\":\"index\"}},\"id\":\"12208\",\"type\":\"HBar\"},{\"attributes\":{\"active_drag\":\"auto\",\"active_inspect\":\"auto\",\"active_multi\":null,\"active_scroll\":\"auto\",\"active_tap\":\"auto\",\"tools\":[{\"id\":\"12173\"},{\"id\":\"12190\"},{\"id\":\"12191\"},{\"id\":\"12192\"},{\"id\":\"12193\"},{\"id\":\"12194\"}]},\"id\":\"12196\",\"type\":\"Toolbar\"},{\"attributes\":{\"axis\":{\"id\":\"11200\"},\"grid_line_color\":null,\"ticker\":null},\"id\":\"11203\",\"type\":\"Grid\"},{\"attributes\":{},\"id\":\"11788\",\"type\":\"ResetTool\"},{\"attributes\":{\"fill_alpha\":{\"value\":0.1},\"fill_color\":{\"field\":\"Variable\",\"transform\":{\"id\":\"13763\"}},\"height\":{\"value\":0.8},\"left\":{\"field\":\"bottom\"},\"line_alpha\":{\"value\":0.1},\"right\":{\"field\":\"top\"},\"y\":{\"field\":\"index\"}},\"id\":\"13768\",\"type\":\"HBar\"},{\"attributes\":{},\"id\":\"11784\",\"type\":\"SaveTool\"},{\"attributes\":{},\"id\":\"12194\",\"type\":\"ResetTool\"},{\"attributes\":{\"axis\":{\"id\":\"11257\"},\"grid_line_color\":null,\"ticker\":null},\"id\":\"11260\",\"type\":\"Grid\"},{\"attributes\":{\"label\":{\"field\":\"Variable\"},\"renderers\":[{\"id\":\"13713\"}]},\"id\":\"13724\",\"type\":\"LegendItem\"},{\"attributes\":{\"text\":\"Duplicate Columns\",\"text_color\":{\"value\":\"black\"},\"text_font_size\":{\"value\":\"12pt\"}},\"id\":\"11249\",\"type\":\"Title\"},{\"attributes\":{},\"id\":\"11782\",\"type\":\"CategoricalTicker\"},{\"attributes\":{\"align\":null,\"below\":[{\"id\":\"11257\"}],\"center\":[{\"id\":\"11260\"},{\"id\":\"11263\"},{\"id\":\"11294\"}],\"left\":[{\"id\":\"11261\"}],\"margin\":null,\"min_border_bottom\":10,\"min_border_left\":10,\"min_border_right\":10,\"min_border_top\":10,\"plot_height\":100,\"plot_width\":700,\"renderers\":[{\"id\":\"11284\"}],\"right\":[{\"id\":\"11294\"}],\"sizing_mode\":\"fixed\",\"title\":{\"id\":\"11249\"},\"toolbar\":{\"id\":\"11270\"},\"toolbar_location\":null,\"x_range\":{\"id\":\"11074\"},\"x_scale\":{\"id\":\"11253\"},\"y_range\":{\"id\":\"11075\"},\"y_scale\":{\"id\":\"11255\"}},\"id\":\"11248\",\"subtype\":\"Figure\",\"type\":\"Plot\"},{\"attributes\":{\"fill_alpha\":{\"value\":0.2},\"fill_color\":{\"field\":\"Variable\",\"transform\":{\"id\":\"12260\"}},\"height\":{\"value\":0.8},\"left\":{\"field\":\"bottom\"},\"line_alpha\":{\"value\":0.2},\"right\":{\"field\":\"top\"},\"y\":{\"field\":\"index\"}},\"id\":\"12266\",\"type\":\"HBar\"},{\"attributes\":{\"axis_label\":\"\",\"bounds\":\"auto\",\"formatter\":{\"id\":\"11233\"},\"major_label_orientation\":\"horizontal\",\"ticker\":{\"id\":\"11239\"}},\"id\":\"11200\",\"type\":\"LinearAxis\"},{\"attributes\":{\"bottom_units\":\"screen\",\"fill_alpha\":0.5,\"fill_color\":\"lightgrey\",\"left_units\":\"screen\",\"level\":\"overlay\",\"line_alpha\":1.0,\"line_color\":\"black\",\"line_dash\":[4,4],\"line_width\":2,\"right_units\":\"screen\",\"top_units\":\"screen\"},\"id\":\"11098\",\"type\":\"BoxAnnotation\"},{\"attributes\":{\"data_source\":{\"id\":\"11278\"},\"glyph\":{\"id\":\"11281\"},\"hover_glyph\":null,\"muted_glyph\":{\"id\":\"11283\"},\"nonselection_glyph\":{\"id\":\"11282\"},\"selection_glyph\":null,\"view\":{\"id\":\"11285\"}},\"id\":\"11284\",\"type\":\"GlyphRenderer\"},{\"attributes\":{},\"id\":\"11661\",\"type\":\"CategoricalScale\"},{\"attributes\":{\"axis_label\":\"\",\"bounds\":\"auto\",\"formatter\":{\"id\":\"12791\"},\"major_label_orientation\":\"horizontal\",\"ticker\":{\"id\":\"12765\"}},\"id\":\"12764\",\"type\":\"CategoricalAxis\"},{\"attributes\":{\"overlay\":{\"id\":\"12309\"}},\"id\":\"12307\",\"type\":\"BoxZoomTool\"},{\"attributes\":{},\"id\":\"13682\",\"type\":\"LinearScale\"},{\"attributes\":{\"ticks\":[0]},\"id\":\"11296\",\"type\":\"FixedTicker\"},{\"attributes\":{\"data\":{\"Variable\":[\"Unique\",\"Duplicate\"],\"bottom\":{\"__ndarray__\":\"AAAAAAAAAAAAAAAAAABZQA==\",\"dtype\":\"float64\",\"order\":\"little\",\"shape\":[2]},\"index\":[\"values\",\"values\"],\"top\":{\"__ndarray__\":\"AAAAAAAAWUAAAAAAAABZQA==\",\"dtype\":\"float64\",\"order\":\"little\",\"shape\":[2]},\"value\":{\"__ndarray__\":\"AAAAAAAAWUAAAAAAAAAAAA==\",\"dtype\":\"float64\",\"order\":\"little\",\"shape\":[2]}},\"selected\":{\"id\":\"11279\"},\"selection_policy\":{\"id\":\"11292\"}},\"id\":\"11278\",\"type\":\"ColumnDataSource\"},{\"attributes\":{},\"id\":\"11222\",\"type\":\"Selection\"},{\"attributes\":{},\"id\":\"12725\",\"type\":\"Selection\"},{\"attributes\":{},\"id\":\"12308\",\"type\":\"ResetTool\"},{\"attributes\":{\"overlay\":{\"id\":\"12195\"}},\"id\":\"12193\",\"type\":\"BoxZoomTool\"},{\"attributes\":{\"source\":{\"id\":\"12261\"}},\"id\":\"12268\",\"type\":\"CDSView\"},{\"attributes\":{\"fill_alpha\":{\"value\":0.1},\"fill_color\":{\"field\":\"Variable\",\"transform\":{\"id\":\"11106\"}},\"height\":{\"value\":0.8},\"left\":{\"field\":\"bottom\"},\"line_alpha\":{\"value\":0.1},\"right\":{\"field\":\"top\"},\"y\":{\"field\":\"index\"}},\"id\":\"11111\",\"type\":\"HBar\"},{\"attributes\":{},\"id\":\"11694\",\"type\":\"CategoricalTickFormatter\"},{\"attributes\":{},\"id\":\"11716\",\"type\":\"LinearScale\"},{\"attributes\":{\"bottom_units\":\"screen\",\"fill_alpha\":0.5,\"fill_color\":\"lightgrey\",\"left_units\":\"screen\",\"level\":\"overlay\",\"line_alpha\":1.0,\"line_color\":\"black\",\"line_dash\":[4,4],\"line_width\":2,\"right_units\":\"screen\",\"top_units\":\"screen\"},\"id\":\"12195\",\"type\":\"BoxAnnotation\"},{\"attributes\":{},\"id\":\"11150\",\"type\":\"SaveTool\"},{\"attributes\":{},\"id\":\"11773\",\"type\":\"LinearScale\"},{\"attributes\":{\"axis\":{\"id\":\"11781\"},\"dimension\":1,\"grid_line_color\":null,\"ticker\":null},\"id\":\"11783\",\"type\":\"Grid\"},{\"attributes\":{\"overlay\":{\"id\":\"11212\"}},\"id\":\"11210\",\"type\":\"BoxZoomTool\"},{\"attributes\":{},\"id\":\"12306\",\"type\":\"WheelZoomTool\"},{\"attributes\":{\"fill_color\":{\"field\":\"Variable\",\"transform\":{\"id\":\"11106\"}},\"height\":{\"value\":0.8},\"left\":{\"field\":\"bottom\"},\"right\":{\"field\":\"top\"},\"y\":{\"field\":\"index\"}},\"id\":\"11110\",\"type\":\"HBar\"},{\"attributes\":{\"axis\":{\"id\":\"11147\"},\"dimension\":1,\"grid_line_color\":null,\"ticker\":null},\"id\":\"11149\",\"type\":\"Grid\"},{\"attributes\":{},\"id\":\"12236\",\"type\":\"LinearScale\"},{\"attributes\":{\"source\":{\"id\":\"12147\"}},\"id\":\"12154\",\"type\":\"CDSView\"},{\"attributes\":{\"source\":{\"id\":\"13707\"}},\"id\":\"13714\",\"type\":\"CDSView\"},{\"attributes\":{\"data\":{\"Variable\":[\"Unique\",\"Duplicate\"],\"bottom\":{\"__ndarray__\":\"AAAAAAAAAAAAAAAAAABZQA==\",\"dtype\":\"float64\",\"order\":\"little\",\"shape\":[2]},\"index\":[\"values\",\"values\"],\"top\":{\"__ndarray__\":\"AAAAAAAAWUAAAAAAAABZQA==\",\"dtype\":\"float64\",\"order\":\"little\",\"shape\":[2]},\"value\":{\"__ndarray__\":\"AAAAAAAAWUAAAAAAAAAAAA==\",\"dtype\":\"float64\",\"order\":\"little\",\"shape\":[2]}},\"selected\":{\"id\":\"13822\"},\"selection_policy\":{\"id\":\"13835\"}},\"id\":\"13821\",\"type\":\"ColumnDataSource\"},{\"attributes\":{\"factors\":[\"Unique\",\"Duplicate\"],\"palette\":[\"#1f77b3\",\"#ff7e0e\"]},\"id\":\"11277\",\"type\":\"CategoricalColorMapper\"},{\"attributes\":{\"axis\":{\"id\":\"12240\"},\"grid_line_color\":null,\"ticker\":null},\"id\":\"12243\",\"type\":\"Grid\"},{\"attributes\":{\"items\":[{\"id\":\"13724\"}],\"location\":[0,0]},\"id\":\"13723\",\"type\":\"Legend\"},{\"attributes\":{\"source\":{\"id\":\"11684\"}},\"id\":\"11691\",\"type\":\"CDSView\"},{\"attributes\":{\"fill_alpha\":{\"value\":0.2},\"fill_color\":{\"field\":\"Variable\",\"transform\":{\"id\":\"11683\"}},\"height\":{\"value\":0.8},\"left\":{\"field\":\"bottom\"},\"line_alpha\":{\"value\":0.2},\"right\":{\"field\":\"top\"},\"y\":{\"field\":\"index\"}},\"id\":\"11689\",\"type\":\"HBar\"},{\"attributes\":{\"items\":[{\"id\":\"12164\"}],\"location\":[0,0]},\"id\":\"12163\",\"type\":\"Legend\"},{\"attributes\":{\"data\":{\"Variable\":[\"Available\",\"Missing\"],\"bottom\":{\"__ndarray__\":\"AAAAAAAAAAAAAAAAAABZQA==\",\"dtype\":\"float64\",\"order\":\"little\",\"shape\":[2]},\"index\":[\"values\",\"values\"],\"top\":{\"__ndarray__\":\"AAAAAAAAWUAAAAAAAABZQA==\",\"dtype\":\"float64\",\"order\":\"little\",\"shape\":[2]},\"value\":{\"__ndarray__\":\"AAAAAAAAWUAAAAAAAAAAAA==\",\"dtype\":\"float64\",\"order\":\"little\",\"shape\":[2]}},\"selected\":{\"id\":\"11165\"},\"selection_policy\":{\"id\":\"11178\"}},\"id\":\"11164\",\"type\":\"ColumnDataSource\"},{\"attributes\":{\"fill_alpha\":{\"value\":0.2},\"fill_color\":{\"field\":\"Variable\",\"transform\":{\"id\":\"12146\"}},\"height\":{\"value\":0.8},\"left\":{\"field\":\"bottom\"},\"line_alpha\":{\"value\":0.2},\"right\":{\"field\":\"top\"},\"y\":{\"field\":\"index\"}},\"id\":\"12152\",\"type\":\"HBar\"},{\"attributes\":{\"data_source\":{\"id\":\"11798\"},\"glyph\":{\"id\":\"11801\"},\"hover_glyph\":null,\"muted_glyph\":{\"id\":\"11803\"},\"nonselection_glyph\":{\"id\":\"11802\"},\"selection_glyph\":null,\"view\":{\"id\":\"11805\"}},\"id\":\"11804\",\"type\":\"GlyphRenderer\"},{\"attributes\":{},\"id\":\"12305\",\"type\":\"PanTool\"},{\"attributes\":{},\"id\":\"12302\",\"type\":\"CategoricalTicker\"},{\"attributes\":{\"axis\":{\"id\":\"12244\"},\"dimension\":1,\"grid_line_color\":null,\"ticker\":null},\"id\":\"12246\",\"type\":\"Grid\"},{\"attributes\":{},\"id\":\"11108\",\"type\":\"Selection\"},{\"attributes\":{\"data_source\":{\"id\":\"13764\"},\"glyph\":{\"id\":\"13767\"},\"hover_glyph\":null,\"muted_glyph\":{\"id\":\"13769\"},\"nonselection_glyph\":{\"id\":\"13768\"},\"selection_glyph\":null,\"view\":{\"id\":\"13771\"}},\"id\":\"13770\",\"type\":\"GlyphRenderer\"},{\"attributes\":{},\"id\":\"11253\",\"type\":\"LinearScale\"},{\"attributes\":{\"fill_alpha\":{\"value\":0.2},\"fill_color\":{\"field\":\"Variable\",\"transform\":{\"id\":\"11797\"}},\"height\":{\"value\":0.8},\"left\":{\"field\":\"bottom\"},\"line_alpha\":{\"value\":0.2},\"right\":{\"field\":\"top\"},\"y\":{\"field\":\"index\"}},\"id\":\"11803\",\"type\":\"HBar\"},{\"attributes\":{\"items\":[{\"id\":\"11815\"}],\"location\":[0,0]},\"id\":\"11814\",\"type\":\"Legend\"},{\"attributes\":{\"axis_label\":\"\",\"bounds\":\"auto\",\"formatter\":{\"id\":\"12328\"},\"major_label_orientation\":\"horizontal\",\"ticker\":{\"id\":\"12302\"}},\"id\":\"12301\",\"type\":\"CategoricalAxis\"},{\"attributes\":{\"fill_color\":{\"field\":\"Variable\",\"transform\":{\"id\":\"11220\"}},\"height\":{\"value\":0.8},\"left\":{\"field\":\"bottom\"},\"right\":{\"field\":\"top\"},\"y\":{\"field\":\"index\"}},\"id\":\"11224\",\"type\":\"HBar\"},{\"attributes\":{},\"id\":\"11255\",\"type\":\"CategoricalScale\"},{\"attributes\":{\"axis\":{\"id\":\"11204\"},\"dimension\":1,\"grid_line_color\":null,\"ticker\":null},\"id\":\"11206\",\"type\":\"Grid\"},{\"attributes\":{\"data\":{\"Variable\":[\"Unique\",\"Duplicate\"],\"bottom\":{\"__ndarray__\":\"AAAAAAAAAAAAAAAAAABZQA==\",\"dtype\":\"float64\",\"order\":\"little\",\"shape\":[2]},\"index\":[\"values\",\"values\"],\"top\":{\"__ndarray__\":\"AAAAAAAAWUAAAAAAAABZQA==\",\"dtype\":\"float64\",\"order\":\"little\",\"shape\":[2]},\"value\":{\"__ndarray__\":\"AAAAAAAAWUAAAAAAAAAAAA==\",\"dtype\":\"float64\",\"order\":\"little\",\"shape\":[2]}},\"selected\":{\"id\":\"12839\"},\"selection_policy\":{\"id\":\"12852\"}},\"id\":\"12838\",\"type\":\"ColumnDataSource\"},{\"attributes\":{\"axis_label\":\"\",\"bounds\":\"auto\",\"formatter\":{\"id\":\"11290\"},\"major_label_orientation\":\"horizontal\",\"ticker\":{\"id\":\"11296\"}},\"id\":\"11257\",\"type\":\"LinearAxis\"},{\"attributes\":{},\"id\":\"12247\",\"type\":\"SaveTool\"},{\"attributes\":{\"fill_alpha\":{\"value\":0.1},\"fill_color\":{\"field\":\"Variable\",\"transform\":{\"id\":\"13186\"}},\"height\":{\"value\":0.8},\"left\":{\"field\":\"bottom\"},\"line_alpha\":{\"value\":0.1},\"right\":{\"field\":\"top\"},\"y\":{\"field\":\"index\"}},\"id\":\"13191\",\"type\":\"HBar\"},{\"attributes\":{\"axis\":{\"id\":\"12707\"},\"dimension\":1,\"grid_line_color\":null,\"ticker\":null},\"id\":\"12709\",\"type\":\"Grid\"},{\"attributes\":{},\"id\":\"12711\",\"type\":\"PanTool\"},{\"attributes\":{\"axis\":{\"id\":\"12301\"},\"dimension\":1,\"grid_line_color\":null,\"ticker\":null},\"id\":\"12303\",\"type\":\"Grid\"},{\"attributes\":{},\"id\":\"11775\",\"type\":\"CategoricalScale\"},{\"attributes\":{\"callback\":null,\"renderers\":[{\"id\":\"11284\"}],\"tags\":[\"hv_created\"],\"tooltips\":[[\"index\",\"@{index}\"],[\"Variable\",\"@{Variable}\"],[\"value\",\"@{value}\"]]},\"id\":\"11247\",\"type\":\"HoverTool\"},{\"attributes\":{\"axis\":{\"id\":\"11090\"},\"dimension\":1,\"grid_line_color\":null,\"ticker\":null},\"id\":\"11092\",\"type\":\"Grid\"},{\"attributes\":{\"bottom_units\":\"screen\",\"fill_alpha\":0.5,\"fill_color\":\"lightgrey\",\"left_units\":\"screen\",\"level\":\"overlay\",\"line_alpha\":1.0,\"line_color\":\"black\",\"line_dash\":[4,4],\"line_width\":2,\"right_units\":\"screen\",\"top_units\":\"screen\"},\"id\":\"11155\",\"type\":\"BoxAnnotation\"},{\"attributes\":{},\"id\":\"12712\",\"type\":\"WheelZoomTool\"},{\"attributes\":{},\"id\":\"11207\",\"type\":\"SaveTool\"},{\"attributes\":{\"children\":[[{\"id\":\"13157\"},0,0],[{\"id\":\"13214\"},1,0],[{\"id\":\"13271\"},2,0],[{\"id\":\"13328\"},3,0]]},\"id\":\"13415\",\"type\":\"GridBox\"},{\"attributes\":{\"axis\":{\"id\":\"11777\"},\"grid_line_color\":null,\"ticker\":null},\"id\":\"11780\",\"type\":\"Grid\"},{\"attributes\":{\"callback\":null,\"renderers\":[{\"id\":\"13713\"}],\"tags\":[\"hv_created\"],\"tooltips\":[[\"index\",\"@{index}\"],[\"Variable\",\"@{Variable}\"],[\"value\",\"@{value}\"]]},\"id\":\"13676\",\"type\":\"HoverTool\"},{\"attributes\":{},\"id\":\"12815\",\"type\":\"CategoricalScale\"},{\"attributes\":{\"ticks\":[0]},\"id\":\"11816\",\"type\":\"FixedTicker\"},{\"attributes\":{\"fill_alpha\":{\"value\":0.2},\"fill_color\":{\"field\":\"Variable\",\"transform\":{\"id\":\"12317\"}},\"height\":{\"value\":0.8},\"left\":{\"field\":\"bottom\"},\"line_alpha\":{\"value\":0.2},\"right\":{\"field\":\"top\"},\"y\":{\"field\":\"index\"}},\"id\":\"12323\",\"type\":\"HBar\"},{\"attributes\":{},\"id\":\"13739\",\"type\":\"LinearScale\"},{\"attributes\":{},\"id\":\"11685\",\"type\":\"Selection\"},{\"attributes\":{},\"id\":\"13695\",\"type\":\"WheelZoomTool\"},{\"attributes\":{\"axis_label\":\"\",\"bounds\":\"auto\",\"formatter\":{\"id\":\"13776\"},\"major_label_orientation\":\"horizontal\",\"ticker\":{\"id\":\"13782\"}},\"id\":\"13743\",\"type\":\"LinearAxis\"},{\"attributes\":{\"align\":null,\"below\":[{\"id\":\"13223\"}],\"center\":[{\"id\":\"13226\"},{\"id\":\"13229\"},{\"id\":\"13260\"}],\"left\":[{\"id\":\"13227\"}],\"margin\":null,\"min_border_bottom\":10,\"min_border_left\":10,\"min_border_right\":10,\"min_border_top\":10,\"plot_height\":100,\"plot_width\":700,\"renderers\":[{\"id\":\"13250\"}],\"right\":[{\"id\":\"13260\"}],\"sizing_mode\":\"fixed\",\"title\":{\"id\":\"13215\"},\"toolbar\":{\"id\":\"13236\"},\"toolbar_location\":null,\"x_range\":{\"id\":\"11074\"},\"x_scale\":{\"id\":\"13219\"},\"y_range\":{\"id\":\"11075\"},\"y_scale\":{\"id\":\"13221\"}},\"id\":\"13214\",\"subtype\":\"Figure\",\"type\":\"Plot\"},{\"attributes\":{\"fill_color\":{\"field\":\"Variable\",\"transform\":{\"id\":\"13706\"}},\"height\":{\"value\":0.8},\"left\":{\"field\":\"bottom\"},\"right\":{\"field\":\"top\"},\"y\":{\"field\":\"index\"}},\"id\":\"13710\",\"type\":\"HBar\"},{\"attributes\":{},\"id\":\"11628\",\"type\":\"Selection\"},{\"attributes\":{\"factors\":[\"Unique\",\"Duplicate\"],\"palette\":[\"#1f77b3\",\"#ff7e0e\"]},\"id\":\"12260\",\"type\":\"CategoricalColorMapper\"},{\"attributes\":{\"items\":[{\"id\":\"12684\"}],\"location\":[0,0]},\"id\":\"12683\",\"type\":\"Legend\"},{\"attributes\":{\"fill_alpha\":{\"value\":0.1},\"fill_color\":{\"field\":\"Variable\",\"transform\":{\"id\":\"12780\"}},\"height\":{\"value\":0.8},\"left\":{\"field\":\"bottom\"},\"line_alpha\":{\"value\":0.1},\"right\":{\"field\":\"top\"},\"y\":{\"field\":\"index\"}},\"id\":\"12785\",\"type\":\"HBar\"},{\"attributes\":{\"axis\":{\"id\":\"13686\"},\"grid_line_color\":null,\"ticker\":null},\"id\":\"13689\",\"type\":\"Grid\"},{\"attributes\":{\"fill_color\":{\"field\":\"Variable\",\"transform\":{\"id\":\"12780\"}},\"height\":{\"value\":0.8},\"left\":{\"field\":\"bottom\"},\"right\":{\"field\":\"top\"},\"y\":{\"field\":\"index\"}},\"id\":\"12784\",\"type\":\"HBar\"},{\"attributes\":{\"axis\":{\"id\":\"13690\"},\"dimension\":1,\"grid_line_color\":null,\"ticker\":null},\"id\":\"13692\",\"type\":\"Grid\"},{\"attributes\":{},\"id\":\"13741\",\"type\":\"CategoricalScale\"},{\"attributes\":{\"fill_alpha\":{\"value\":0.1},\"fill_color\":{\"field\":\"Variable\",\"transform\":{\"id\":\"12837\"}},\"height\":{\"value\":0.8},\"left\":{\"field\":\"bottom\"},\"line_alpha\":{\"value\":0.1},\"right\":{\"field\":\"top\"},\"y\":{\"field\":\"index\"}},\"id\":\"12842\",\"type\":\"HBar\"},{\"attributes\":{\"axis_label\":\"\",\"bounds\":\"auto\",\"formatter\":{\"id\":\"13717\"},\"major_label_orientation\":\"horizontal\",\"ticker\":{\"id\":\"13691\"}},\"id\":\"13690\",\"type\":\"CategoricalAxis\"},{\"attributes\":{\"text\":\"Duplicate Columns\",\"text_color\":{\"value\":\"black\"},\"text_font_size\":{\"value\":\"12pt\"}},\"id\":\"12809\",\"type\":\"Title\"},{\"attributes\":{\"active_drag\":\"auto\",\"active_inspect\":\"auto\",\"active_multi\":null,\"active_scroll\":\"auto\",\"active_tap\":\"auto\",\"tools\":[{\"id\":\"13156\"},{\"id\":\"13173\"},{\"id\":\"13174\"},{\"id\":\"13175\"},{\"id\":\"13176\"},{\"id\":\"13177\"}]},\"id\":\"13179\",\"type\":\"Toolbar\"},{\"attributes\":{},\"id\":\"13697\",\"type\":\"ResetTool\"},{\"attributes\":{\"align\":null,\"below\":[{\"id\":\"13743\"}],\"center\":[{\"id\":\"13746\"},{\"id\":\"13749\"},{\"id\":\"13780\"}],\"left\":[{\"id\":\"13747\"}],\"margin\":null,\"min_border_bottom\":10,\"min_border_left\":10,\"min_border_right\":10,\"min_border_top\":10,\"plot_height\":100,\"plot_width\":700,\"renderers\":[{\"id\":\"13770\"}],\"right\":[{\"id\":\"13780\"}],\"sizing_mode\":\"fixed\",\"title\":{\"id\":\"13735\"},\"toolbar\":{\"id\":\"13756\"},\"toolbar_location\":null,\"x_range\":{\"id\":\"11074\"},\"x_scale\":{\"id\":\"13739\"},\"y_range\":{\"id\":\"11075\"},\"y_scale\":{\"id\":\"13741\"}},\"id\":\"13734\",\"subtype\":\"Figure\",\"type\":\"Plot\"},{\"attributes\":{\"items\":[{\"id\":\"12855\"}],\"location\":[0,0]},\"id\":\"12854\",\"type\":\"Legend\"},{\"attributes\":{\"label\":{\"field\":\"Variable\"},\"renderers\":[{\"id\":\"12673\"}]},\"id\":\"12684\",\"type\":\"LegendItem\"},{\"attributes\":{},\"id\":\"12839\",\"type\":\"Selection\"},{\"attributes\":{\"label\":{\"field\":\"Variable\"},\"renderers\":[{\"id\":\"12844\"}]},\"id\":\"12855\",\"type\":\"LegendItem\"},{\"attributes\":{},\"id\":\"12328\",\"type\":\"CategoricalTickFormatter\"},{\"attributes\":{},\"id\":\"13708\",\"type\":\"Selection\"},{\"attributes\":{\"children\":[{\"id\":\"11337\"},{\"id\":\"11335\"}]},\"id\":\"11338\",\"type\":\"Column\"},{\"attributes\":{\"align\":null,\"below\":[{\"id\":\"12817\"}],\"center\":[{\"id\":\"12820\"},{\"id\":\"12823\"},{\"id\":\"12854\"}],\"left\":[{\"id\":\"12821\"}],\"margin\":null,\"min_border_bottom\":10,\"min_border_left\":10,\"min_border_right\":10,\"min_border_top\":10,\"plot_height\":100,\"plot_width\":700,\"renderers\":[{\"id\":\"12844\"}],\"right\":[{\"id\":\"12854\"}],\"sizing_mode\":\"fixed\",\"title\":{\"id\":\"12809\"},\"toolbar\":{\"id\":\"12830\"},\"toolbar_location\":null,\"x_range\":{\"id\":\"11074\"},\"x_scale\":{\"id\":\"12813\"},\"y_range\":{\"id\":\"11075\"},\"y_scale\":{\"id\":\"12815\"}},\"id\":\"12808\",\"subtype\":\"Figure\",\"type\":\"Plot\"},{\"attributes\":{},\"id\":\"11810\",\"type\":\"BasicTickFormatter\"},{\"attributes\":{\"overlay\":{\"id\":\"12715\"}},\"id\":\"12713\",\"type\":\"BoxZoomTool\"},{\"attributes\":{},\"id\":\"13691\",\"type\":\"CategoricalTicker\"},{\"attributes\":{},\"id\":\"12714\",\"type\":\"ResetTool\"},{\"attributes\":{\"overlay\":{\"id\":\"12829\"}},\"id\":\"12827\",\"type\":\"BoxZoomTool\"},{\"attributes\":{\"overlay\":{\"id\":\"13698\"}},\"id\":\"13696\",\"type\":\"BoxZoomTool\"},{\"attributes\":{\"active_drag\":\"auto\",\"active_inspect\":\"auto\",\"active_multi\":null,\"active_scroll\":\"auto\",\"active_tap\":\"auto\",\"tools\":[{\"id\":\"13676\"},{\"id\":\"13693\"},{\"id\":\"13694\"},{\"id\":\"13695\"},{\"id\":\"13696\"},{\"id\":\"13697\"}]},\"id\":\"13699\",\"type\":\"Toolbar\"},{\"attributes\":{\"bottom_units\":\"screen\",\"fill_alpha\":0.5,\"fill_color\":\"lightgrey\",\"left_units\":\"screen\",\"level\":\"overlay\",\"line_alpha\":1.0,\"line_color\":\"black\",\"line_dash\":[4,4],\"line_width\":2,\"right_units\":\"screen\",\"top_units\":\"screen\"},\"id\":\"12772\",\"type\":\"BoxAnnotation\"},{\"attributes\":{\"fill_color\":{\"field\":\"Variable\",\"transform\":{\"id\":\"13186\"}},\"height\":{\"value\":0.8},\"left\":{\"field\":\"bottom\"},\"right\":{\"field\":\"top\"},\"y\":{\"field\":\"index\"}},\"id\":\"13190\",\"type\":\"HBar\"},{\"attributes\":{\"factors\":[\"Numeric\",\"Others\"],\"palette\":[\"#1f77b3\",\"#ff7e0e\"]},\"id\":\"13706\",\"type\":\"CategoricalColorMapper\"},{\"attributes\":{},\"id\":\"12828\",\"type\":\"ResetTool\"},{\"attributes\":{\"fill_color\":{\"field\":\"Variable\",\"transform\":{\"id\":\"11626\"}},\"height\":{\"value\":0.8},\"left\":{\"field\":\"bottom\"},\"right\":{\"field\":\"top\"},\"y\":{\"field\":\"index\"}},\"id\":\"11630\",\"type\":\"HBar\"},{\"attributes\":{},\"id\":\"13778\",\"type\":\"UnionRenderers\"},{\"attributes\":{},\"id\":\"12825\",\"type\":\"PanTool\"},{\"attributes\":{\"active_drag\":\"auto\",\"active_inspect\":\"auto\",\"active_multi\":null,\"active_scroll\":\"auto\",\"active_tap\":\"auto\",\"tools\":[{\"id\":\"11596\"},{\"id\":\"11613\"},{\"id\":\"11614\"},{\"id\":\"11615\"},{\"id\":\"11616\"},{\"id\":\"11617\"}]},\"id\":\"11619\",\"type\":\"Toolbar\"},{\"attributes\":{},\"id\":\"12822\",\"type\":\"CategoricalTicker\"},{\"attributes\":{\"axis\":{\"id\":\"12817\"},\"grid_line_color\":null,\"ticker\":null},\"id\":\"12820\",\"type\":\"Grid\"},{\"attributes\":{},\"id\":\"11808\",\"type\":\"CategoricalTickFormatter\"},{\"attributes\":{},\"id\":\"13188\",\"type\":\"Selection\"},{\"attributes\":{\"toolbar\":{\"id\":\"12896\"},\"toolbar_location\":\"above\"},\"id\":\"12897\",\"type\":\"ToolbarBox\"},{\"attributes\":{\"bottom_units\":\"screen\",\"fill_alpha\":0.5,\"fill_color\":\"lightgrey\",\"left_units\":\"screen\",\"level\":\"overlay\",\"line_alpha\":1.0,\"line_color\":\"black\",\"line_dash\":[4,4],\"line_width\":2,\"right_units\":\"screen\",\"top_units\":\"screen\"},\"id\":\"11618\",\"type\":\"BoxAnnotation\"},{\"attributes\":{\"fill_alpha\":{\"value\":0.1},\"fill_color\":{\"field\":\"Variable\",\"transform\":{\"id\":\"13706\"}},\"height\":{\"value\":0.8},\"left\":{\"field\":\"bottom\"},\"line_alpha\":{\"value\":0.1},\"right\":{\"field\":\"top\"},\"y\":{\"field\":\"index\"}},\"id\":\"13711\",\"type\":\"HBar\"},{\"attributes\":{\"data_source\":{\"id\":\"12318\"},\"glyph\":{\"id\":\"12321\"},\"hover_glyph\":null,\"muted_glyph\":{\"id\":\"12323\"},\"nonselection_glyph\":{\"id\":\"12322\"},\"selection_glyph\":null,\"view\":{\"id\":\"12325\"}},\"id\":\"12324\",\"type\":\"GlyphRenderer\"},{\"attributes\":{},\"id\":\"13694\",\"type\":\"PanTool\"},{\"attributes\":{\"fill_color\":{\"field\":\"Variable\",\"transform\":{\"id\":\"12837\"}},\"height\":{\"value\":0.8},\"left\":{\"field\":\"bottom\"},\"right\":{\"field\":\"top\"},\"y\":{\"field\":\"index\"}},\"id\":\"12841\",\"type\":\"HBar\"},{\"attributes\":{\"items\":[{\"id\":\"12335\"}],\"location\":[0,0]},\"id\":\"12334\",\"type\":\"Legend\"},{\"attributes\":{\"bottom_units\":\"screen\",\"fill_alpha\":0.5,\"fill_color\":\"lightgrey\",\"left_units\":\"screen\",\"level\":\"overlay\",\"line_alpha\":1.0,\"line_color\":\"black\",\"line_dash\":[4,4],\"line_width\":2,\"right_units\":\"screen\",\"top_units\":\"screen\"},\"id\":\"13698\",\"type\":\"BoxAnnotation\"},{\"attributes\":{},\"id\":\"12826\",\"type\":\"WheelZoomTool\"},{\"attributes\":{},\"id\":\"12330\",\"type\":\"BasicTickFormatter\"},{\"attributes\":{\"source\":{\"id\":\"12318\"}},\"id\":\"12325\",\"type\":\"CDSView\"},{\"attributes\":{\"axis_label\":\"\",\"bounds\":\"auto\",\"formatter\":{\"id\":\"12850\"},\"major_label_orientation\":\"horizontal\",\"ticker\":{\"id\":\"12856\"}},\"id\":\"12817\",\"type\":\"LinearAxis\"},{\"attributes\":{\"label\":{\"field\":\"Variable\"},\"renderers\":[{\"id\":\"12324\"}]},\"id\":\"12335\",\"type\":\"LegendItem\"},{\"attributes\":{},\"id\":\"11812\",\"type\":\"UnionRenderers\"},{\"attributes\":{},\"id\":\"12708\",\"type\":\"CategoricalTicker\"},{\"attributes\":{\"callback\":null,\"renderers\":[{\"id\":\"12844\"}],\"tags\":[\"hv_created\"],\"tooltips\":[[\"index\",\"@{index}\"],[\"Variable\",\"@{Variable}\"],[\"value\",\"@{value}\"]]},\"id\":\"12807\",\"type\":\"HoverTool\"},{\"attributes\":{\"data\":{\"Variable\":[\"Numeric\",\"Others\"],\"bottom\":{\"__ndarray__\":\"AAAAAAAAAAAAAAAAAABJQA==\",\"dtype\":\"float64\",\"order\":\"little\",\"shape\":[2]},\"index\":[\"values\",\"values\"],\"top\":{\"__ndarray__\":\"AAAAAAAASUAAAAAAAABZQA==\",\"dtype\":\"float64\",\"order\":\"little\",\"shape\":[2]},\"value\":{\"__ndarray__\":\"AAAAAAAASUAAAAAAAABJQA==\",\"dtype\":\"float64\",\"order\":\"little\",\"shape\":[2]}},\"selected\":{\"id\":\"13188\"},\"selection_policy\":{\"id\":\"13201\"}},\"id\":\"13187\",\"type\":\"ColumnDataSource\"},{\"attributes\":{\"axis_label\":\"\",\"bounds\":\"auto\",\"formatter\":{\"id\":\"12736\"},\"major_label_orientation\":\"horizontal\",\"ticker\":{\"id\":\"12742\"}},\"id\":\"12703\",\"type\":\"LinearAxis\"},{\"attributes\":{\"bottom_units\":\"screen\",\"fill_alpha\":0.5,\"fill_color\":\"lightgrey\",\"left_units\":\"screen\",\"level\":\"overlay\",\"line_alpha\":1.0,\"line_color\":\"black\",\"line_dash\":[4,4],\"line_width\":2,\"right_units\":\"screen\",\"top_units\":\"screen\"},\"id\":\"11675\",\"type\":\"BoxAnnotation\"},{\"attributes\":{\"text\":\"Missing Values\",\"text_color\":{\"value\":\"black\"},\"text_font_size\":{\"value\":\"12pt\"}},\"id\":\"13735\",\"type\":\"Title\"},{\"attributes\":{\"axis_label\":\"\",\"bounds\":\"auto\",\"formatter\":{\"id\":\"12734\"},\"major_label_orientation\":\"horizontal\",\"ticker\":{\"id\":\"12708\"}},\"id\":\"12707\",\"type\":\"CategoricalAxis\"},{\"attributes\":{},\"id\":\"12782\",\"type\":\"Selection\"},{\"attributes\":{\"axis\":{\"id\":\"12703\"},\"grid_line_color\":null,\"ticker\":null},\"id\":\"12706\",\"type\":\"Grid\"},{\"attributes\":{\"axis_label\":\"\",\"bounds\":\"auto\",\"formatter\":{\"id\":\"12848\"},\"major_label_orientation\":\"horizontal\",\"ticker\":{\"id\":\"12822\"}},\"id\":\"12821\",\"type\":\"CategoricalAxis\"},{\"attributes\":{\"factors\":[\"Numeric\",\"Others\"],\"palette\":[\"#1f77b3\",\"#ff7e0e\"]},\"id\":\"11626\",\"type\":\"CategoricalColorMapper\"},{\"attributes\":{\"factors\":[\"Unique\",\"Duplicate\"],\"palette\":[\"#1f77b3\",\"#ff7e0e\"]},\"id\":\"12317\",\"type\":\"CategoricalColorMapper\"},{\"attributes\":{\"axis\":{\"id\":\"12821\"},\"dimension\":1,\"grid_line_color\":null,\"ticker\":null},\"id\":\"12823\",\"type\":\"Grid\"},{\"attributes\":{\"label\":{\"field\":\"Variable\"},\"renderers\":[{\"id\":\"13770\"}]},\"id\":\"13781\",\"type\":\"LegendItem\"},{\"attributes\":{\"factors\":[\"Available\",\"Missing\"],\"palette\":[\"#1f77b3\",\"#ff7e0e\"]},\"id\":\"11163\",\"type\":\"CategoricalColorMapper\"},{\"attributes\":{\"data\":{\"Variable\":[\"Numeric\",\"Others\"],\"bottom\":{\"__ndarray__\":\"AAAAAAAAAAAAAAAAAABZQA==\",\"dtype\":\"float64\",\"order\":\"little\",\"shape\":[2]},\"index\":[\"values\",\"values\"],\"top\":{\"__ndarray__\":\"AAAAAAAAWUAAAAAAAABZQA==\",\"dtype\":\"float64\",\"order\":\"little\",\"shape\":[2]},\"value\":{\"__ndarray__\":\"AAAAAAAAWUAAAAAAAAAAAA==\",\"dtype\":\"float64\",\"order\":\"little\",\"shape\":[2]}},\"selected\":{\"id\":\"13708\"},\"selection_policy\":{\"id\":\"13721\"}},\"id\":\"13707\",\"type\":\"ColumnDataSource\"},{\"attributes\":{},\"id\":\"12813\",\"type\":\"LinearScale\"},{\"attributes\":{},\"id\":\"12824\",\"type\":\"SaveTool\"},{\"attributes\":{\"callback\":null,\"renderers\":[{\"id\":\"13770\"}],\"tags\":[\"hv_created\"],\"tooltips\":[[\"index\",\"@{index}\"],[\"Variable\",\"@{Variable}\"],[\"value\",\"@{value}\"]]},\"id\":\"13733\",\"type\":\"HoverTool\"},{\"attributes\":{\"ticks\":[0]},\"id\":\"11645\",\"type\":\"FixedTicker\"},{\"attributes\":{},\"id\":\"11617\",\"type\":\"ResetTool\"},{\"attributes\":{\"ticks\":[0]},\"id\":\"13782\",\"type\":\"FixedTicker\"},{\"attributes\":{},\"id\":\"13693\",\"type\":\"SaveTool\"},{\"attributes\":{\"data\":{\"Variable\":[\"Available\",\"Missing\"],\"bottom\":{\"__ndarray__\":\"AAAAAAAAAAAAAAAAAABZQA==\",\"dtype\":\"float64\",\"order\":\"little\",\"shape\":[2]},\"index\":[\"values\",\"values\"],\"top\":{\"__ndarray__\":\"AAAAAAAAWUAAAAAAAABZQA==\",\"dtype\":\"float64\",\"order\":\"little\",\"shape\":[2]},\"value\":{\"__ndarray__\":\"AAAAAAAAWUAAAAAAAAAAAA==\",\"dtype\":\"float64\",\"order\":\"little\",\"shape\":[2]}},\"selected\":{\"id\":\"13765\"},\"selection_policy\":{\"id\":\"13778\"}},\"id\":\"13764\",\"type\":\"ColumnDataSource\"},{\"attributes\":{\"active_drag\":\"auto\",\"active_inspect\":\"auto\",\"active_multi\":null,\"active_scroll\":\"auto\",\"active_tap\":\"auto\",\"tools\":[{\"id\":\"12807\"},{\"id\":\"12824\"},{\"id\":\"12825\"},{\"id\":\"12826\"},{\"id\":\"12827\"},{\"id\":\"12828\"}]},\"id\":\"12830\",\"type\":\"Toolbar\"},{\"attributes\":{\"end\":100.0,\"reset_end\":100.0,\"reset_start\":0.0,\"tags\":[[[\"value\",\"value\",null]]]},\"id\":\"11074\",\"type\":\"Range1d\"},{\"attributes\":{},\"id\":\"13173\",\"type\":\"SaveTool\"},{\"attributes\":{},\"id\":\"13162\",\"type\":\"LinearScale\"},{\"attributes\":{\"data\":{\"Variable\":[\"Unique\",\"Duplicate\"],\"bottom\":{\"__ndarray__\":\"AAAAAAAAAAAf7KMMl/5YQA==\",\"dtype\":\"float64\",\"order\":\"little\",\"shape\":[2]},\"index\":[\"values\",\"values\"],\"top\":{\"__ndarray__\":\"H+yjDJf+WEAAAAAAAABZQA==\",\"dtype\":\"float64\",\"order\":\"little\",\"shape\":[2]},\"value\":{\"__ndarray__\":\"H+yjDJf+WEB2Fj7BNY+WPw==\",\"dtype\":\"float64\",\"order\":\"little\",\"shape\":[2]}},\"selected\":{\"id\":\"11222\"},\"selection_policy\":{\"id\":\"11235\"}},\"id\":\"11221\",\"type\":\"ColumnDataSource\"},{\"attributes\":{\"callback\":null,\"renderers\":[{\"id\":\"13250\"}],\"tags\":[\"hv_created\"],\"tooltips\":[[\"index\",\"@{index}\"],[\"Variable\",\"@{Variable}\"],[\"value\",\"@{value}\"]]},\"id\":\"13213\",\"type\":\"HoverTool\"},{\"attributes\":{\"text\":\"Missing Values\",\"text_color\":{\"value\":\"black\"},\"text_font_size\":{\"value\":\"12pt\"}},\"id\":\"13215\",\"type\":\"Title\"},{\"attributes\":{\"data_source\":{\"id\":\"13821\"},\"glyph\":{\"id\":\"13824\"},\"hover_glyph\":null,\"muted_glyph\":{\"id\":\"13826\"},\"nonselection_glyph\":{\"id\":\"13825\"},\"selection_glyph\":null,\"view\":{\"id\":\"13828\"}},\"id\":\"13827\",\"type\":\"GlyphRenderer\"},{\"attributes\":{\"axis_label\":\"\",\"bounds\":\"auto\",\"formatter\":{\"id\":\"13254\"},\"major_label_orientation\":\"horizontal\",\"ticker\":{\"id\":\"13228\"}},\"id\":\"13227\",\"type\":\"CategoricalAxis\"},{\"attributes\":{\"source\":{\"id\":\"11107\"}},\"id\":\"11114\",\"type\":\"CDSView\"},{\"attributes\":{\"data_source\":{\"id\":\"13878\"},\"glyph\":{\"id\":\"13881\"},\"hover_glyph\":null,\"muted_glyph\":{\"id\":\"13883\"},\"nonselection_glyph\":{\"id\":\"13882\"},\"selection_glyph\":null,\"view\":{\"id\":\"13885\"}},\"id\":\"13884\",\"type\":\"GlyphRenderer\"},{\"attributes\":{\"label\":{\"field\":\"Variable\"},\"renderers\":[{\"id\":\"11633\"}]},\"id\":\"11644\",\"type\":\"LegendItem\"},{\"attributes\":{},\"id\":\"11615\",\"type\":\"WheelZoomTool\"},{\"attributes\":{\"data_source\":{\"id\":\"13301\"},\"glyph\":{\"id\":\"13304\"},\"hover_glyph\":null,\"muted_glyph\":{\"id\":\"13306\"},\"nonselection_glyph\":{\"id\":\"13305\"},\"selection_glyph\":null,\"view\":{\"id\":\"13308\"}},\"id\":\"13307\",\"type\":\"GlyphRenderer\"},{\"attributes\":{\"axis\":{\"id\":\"13227\"},\"dimension\":1,\"grid_line_color\":null,\"ticker\":null},\"id\":\"13229\",\"type\":\"Grid\"},{\"attributes\":{\"axis\":{\"id\":\"13280\"},\"grid_line_color\":null,\"ticker\":null},\"id\":\"13283\",\"type\":\"Grid\"},{\"attributes\":{\"source\":{\"id\":\"13821\"}},\"id\":\"13828\",\"type\":\"CDSView\"},{\"attributes\":{\"axis_label\":\"\",\"bounds\":\"auto\",\"formatter\":{\"id\":\"13368\"},\"major_label_orientation\":\"horizontal\",\"ticker\":{\"id\":\"13342\"}},\"id\":\"13341\",\"type\":\"CategoricalAxis\"},{\"attributes\":{},\"id\":\"11121\",\"type\":\"UnionRenderers\"},{\"attributes\":{\"axis\":{\"id\":\"11606\"},\"grid_line_color\":null,\"ticker\":null},\"id\":\"11609\",\"type\":\"Grid\"},{\"attributes\":{\"text\":\"Duplicate Values\",\"text_color\":{\"value\":\"black\"},\"text_font_size\":{\"value\":\"12pt\"}},\"id\":\"12232\",\"type\":\"Title\"},{\"attributes\":{\"data\":{\"Variable\":[\"Available\",\"Missing\"],\"bottom\":{\"__ndarray__\":\"AAAAAAAAAAAAAAAAAABZQA==\",\"dtype\":\"float64\",\"order\":\"little\",\"shape\":[2]},\"index\":[\"values\",\"values\"],\"top\":{\"__ndarray__\":\"AAAAAAAAWUAAAAAAAABZQA==\",\"dtype\":\"float64\",\"order\":\"little\",\"shape\":[2]},\"value\":{\"__ndarray__\":\"AAAAAAAAWUAAAAAAAAAAAA==\",\"dtype\":\"float64\",\"order\":\"little\",\"shape\":[2]}},\"selected\":{\"id\":\"13245\"},\"selection_policy\":{\"id\":\"13258\"}},\"id\":\"13244\",\"type\":\"ColumnDataSource\"},{\"attributes\":{\"axis\":{\"id\":\"13166\"},\"grid_line_color\":null,\"ticker\":null},\"id\":\"13169\",\"type\":\"Grid\"},{\"attributes\":{\"factors\":[\"Unique\",\"Duplicate\"],\"palette\":[\"#1f77b3\",\"#ff7e0e\"]},\"id\":\"13300\",\"type\":\"CategoricalColorMapper\"},{\"attributes\":{},\"id\":\"13288\",\"type\":\"PanTool\"},{\"attributes\":{},\"id\":\"11670\",\"type\":\"SaveTool\"},{\"attributes\":{\"text\":\"Datatypes\",\"text_color\":{\"value\":\"black\"},\"text_font_size\":{\"value\":\"12pt\"}},\"id\":\"11598\",\"type\":\"Title\"},{\"attributes\":{\"factors\":[\"Numeric\",\"Others\"],\"palette\":[\"#1f77b3\",\"#ff7e0e\"]},\"id\":\"13186\",\"type\":\"CategoricalColorMapper\"},{\"attributes\":{\"overlay\":{\"id\":\"11675\"}},\"id\":\"11673\",\"type\":\"BoxZoomTool\"},{\"attributes\":{\"items\":[{\"id\":\"11644\"}],\"location\":[0,0]},\"id\":\"11643\",\"type\":\"Legend\"},{\"attributes\":{\"axis_label\":\"\",\"bounds\":\"auto\",\"formatter\":{\"id\":\"11751\"},\"major_label_orientation\":\"horizontal\",\"ticker\":{\"id\":\"11725\"}},\"id\":\"11724\",\"type\":\"CategoricalAxis\"},{\"attributes\":{\"factors\":[\"Unique\",\"Duplicate\"],\"palette\":[\"#1f77b3\",\"#ff7e0e\"]},\"id\":\"13820\",\"type\":\"CategoricalColorMapper\"},{\"attributes\":{\"callback\":null,\"renderers\":[{\"id\":\"12267\"}],\"tags\":[\"hv_created\"],\"tooltips\":[[\"index\",\"@{index}\"],[\"Variable\",\"@{Variable}\"],[\"value\",\"@{value}\"]]},\"id\":\"12230\",\"type\":\"HoverTool\"},{\"attributes\":{\"bottom_units\":\"screen\",\"fill_alpha\":0.5,\"fill_color\":\"lightgrey\",\"left_units\":\"screen\",\"level\":\"overlay\",\"line_alpha\":1.0,\"line_color\":\"black\",\"line_dash\":[4,4],\"line_width\":2,\"right_units\":\"screen\",\"top_units\":\"screen\"},\"id\":\"13869\",\"type\":\"BoxAnnotation\"},{\"attributes\":{},\"id\":\"11602\",\"type\":\"LinearScale\"},{\"attributes\":{\"items\":[{\"id\":\"13838\"}],\"location\":[0,0]},\"id\":\"13837\",\"type\":\"Legend\"},{\"attributes\":{},\"id\":\"13285\",\"type\":\"CategoricalTicker\"},{\"attributes\":{\"overlay\":{\"id\":\"11155\"}},\"id\":\"11153\",\"type\":\"BoxZoomTool\"},{\"attributes\":{\"fill_color\":{\"field\":\"Variable\",\"transform\":{\"id\":\"13877\"}},\"height\":{\"value\":0.8},\"left\":{\"field\":\"bottom\"},\"right\":{\"field\":\"top\"},\"y\":{\"field\":\"index\"}},\"id\":\"13881\",\"type\":\"HBar\"},{\"attributes\":{},\"id\":\"13258\",\"type\":\"UnionRenderers\"},{\"attributes\":{\"callback\":null,\"renderers\":[{\"id\":\"13193\"}],\"tags\":[\"hv_created\"],\"tooltips\":[[\"index\",\"@{index}\"],[\"Variable\",\"@{Variable}\"],[\"value\",\"@{value}\"]]},\"id\":\"13156\",\"type\":\"HoverTool\"},{\"attributes\":{},\"id\":\"13219\",\"type\":\"LinearScale\"},{\"attributes\":{\"fill_alpha\":{\"value\":0.1},\"fill_color\":{\"field\":\"Variable\",\"transform\":{\"id\":\"13877\"}},\"height\":{\"value\":0.8},\"left\":{\"field\":\"bottom\"},\"line_alpha\":{\"value\":0.1},\"right\":{\"field\":\"top\"},\"y\":{\"field\":\"index\"}},\"id\":\"13882\",\"type\":\"HBar\"},{\"attributes\":{\"active_drag\":\"auto\",\"active_inspect\":\"auto\",\"active_multi\":null,\"active_scroll\":\"auto\",\"active_tap\":\"auto\",\"tools\":[{\"id\":\"13213\"},{\"id\":\"13230\"},{\"id\":\"13231\"},{\"id\":\"13232\"},{\"id\":\"13233\"},{\"id\":\"13234\"}]},\"id\":\"13236\",\"type\":\"Toolbar\"},{\"attributes\":{},\"id\":\"13231\",\"type\":\"PanTool\"},{\"attributes\":{\"fill_alpha\":{\"value\":0.2},\"fill_color\":{\"field\":\"Variable\",\"transform\":{\"id\":\"13877\"}},\"height\":{\"value\":0.8},\"left\":{\"field\":\"bottom\"},\"line_alpha\":{\"value\":0.2},\"right\":{\"field\":\"top\"},\"y\":{\"field\":\"index\"}},\"id\":\"13883\",\"type\":\"HBar\"},{\"attributes\":{},\"id\":\"13879\",\"type\":\"Selection\"},{\"attributes\":{\"align\":null,\"below\":[{\"id\":\"13166\"}],\"center\":[{\"id\":\"13169\"},{\"id\":\"13172\"},{\"id\":\"13203\"}],\"left\":[{\"id\":\"13170\"}],\"margin\":null,\"min_border_bottom\":10,\"min_border_left\":10,\"min_border_right\":10,\"min_border_top\":10,\"plot_height\":100,\"plot_width\":700,\"renderers\":[{\"id\":\"13193\"}],\"right\":[{\"id\":\"13203\"}],\"sizing_mode\":\"fixed\",\"title\":{\"id\":\"13158\"},\"toolbar\":{\"id\":\"13179\"},\"toolbar_location\":null,\"x_range\":{\"id\":\"11074\"},\"x_scale\":{\"id\":\"13162\"},\"y_range\":{\"id\":\"11075\"},\"y_scale\":{\"id\":\"13164\"}},\"id\":\"13157\",\"subtype\":\"Figure\",\"type\":\"Plot\"},{\"attributes\":{\"data\":{\"Variable\":[\"Date\",\"Numeric\",\"Others\"],\"bottom\":{\"__ndarray__\":\"AAAAAAAAAACqqqqqqqowQFRVVVVV1VRA\",\"dtype\":\"float64\",\"order\":\"little\",\"shape\":[3]},\"index\":[\"values\",\"values\",\"values\"],\"top\":{\"__ndarray__\":\"qqqqqqqqMEBUVVVVVdVUQP7//////1hA\",\"dtype\":\"float64\",\"order\":\"little\",\"shape\":[3]},\"value\":{\"__ndarray__\":\"qqqqqqqqMECqqqqqqqpQQKqqqqqqqjBA\",\"dtype\":\"float64\",\"order\":\"little\",\"shape\":[3]}},\"selected\":{\"id\":\"11108\"},\"selection_policy\":{\"id\":\"11121\"}},\"id\":\"11107\",\"type\":\"ColumnDataSource\"},{\"attributes\":{\"overlay\":{\"id\":\"13292\"}},\"id\":\"13290\",\"type\":\"BoxZoomTool\"},{\"attributes\":{},\"id\":\"13228\",\"type\":\"CategoricalTicker\"},{\"attributes\":{},\"id\":\"13174\",\"type\":\"PanTool\"},{\"attributes\":{\"data_source\":{\"id\":\"13244\"},\"glyph\":{\"id\":\"13247\"},\"hover_glyph\":null,\"muted_glyph\":{\"id\":\"13249\"},\"nonselection_glyph\":{\"id\":\"13248\"},\"selection_glyph\":null,\"view\":{\"id\":\"13251\"}},\"id\":\"13250\",\"type\":\"GlyphRenderer\"},{\"attributes\":{\"children\":[{\"id\":\"11339\"},{\"id\":\"11338\"}]},\"id\":\"11340\",\"type\":\"Column\"},{\"attributes\":{},\"id\":\"11671\",\"type\":\"PanTool\"},{\"attributes\":{},\"id\":\"11604\",\"type\":\"CategoricalScale\"},{\"attributes\":{\"label\":{\"field\":\"Variable\"},\"renderers\":[{\"id\":\"13250\"}]},\"id\":\"13261\",\"type\":\"LegendItem\"},{\"attributes\":{\"source\":{\"id\":\"13301\"}},\"id\":\"13308\",\"type\":\"CDSView\"},{\"attributes\":{},\"id\":\"13232\",\"type\":\"WheelZoomTool\"},{\"attributes\":{\"axis_label\":\"\",\"bounds\":\"auto\",\"formatter\":{\"id\":\"13197\"},\"major_label_orientation\":\"horizontal\",\"ticker\":{\"id\":\"13171\"}},\"id\":\"13170\",\"type\":\"CategoricalAxis\"},{\"attributes\":{\"overlay\":{\"id\":\"13178\"}},\"id\":\"13176\",\"type\":\"BoxZoomTool\"},{\"attributes\":{\"align\":null,\"below\":[{\"id\":\"11606\"}],\"center\":[{\"id\":\"11609\"},{\"id\":\"11612\"},{\"id\":\"11643\"}],\"left\":[{\"id\":\"11610\"}],\"margin\":null,\"min_border_bottom\":10,\"min_border_left\":10,\"min_border_right\":10,\"min_border_top\":10,\"plot_height\":100,\"plot_width\":700,\"renderers\":[{\"id\":\"11633\"}],\"right\":[{\"id\":\"11643\"}],\"sizing_mode\":\"fixed\",\"title\":{\"id\":\"11598\"},\"toolbar\":{\"id\":\"11619\"},\"toolbar_location\":null,\"x_range\":{\"id\":\"11074\"},\"x_scale\":{\"id\":\"11602\"},\"y_range\":{\"id\":\"11075\"},\"y_scale\":{\"id\":\"11604\"}},\"id\":\"11597\",\"subtype\":\"Figure\",\"type\":\"Plot\"},{\"attributes\":{\"axis_label\":\"\",\"bounds\":\"auto\",\"formatter\":{\"id\":\"11696\"},\"major_label_orientation\":\"horizontal\",\"ticker\":{\"id\":\"11702\"}},\"id\":\"11663\",\"type\":\"LinearAxis\"},{\"attributes\":{\"fill_alpha\":{\"value\":0.2},\"fill_color\":{\"field\":\"Variable\",\"transform\":{\"id\":\"11626\"}},\"height\":{\"value\":0.8},\"left\":{\"field\":\"bottom\"},\"line_alpha\":{\"value\":0.2},\"right\":{\"field\":\"top\"},\"y\":{\"field\":\"index\"}},\"id\":\"11632\",\"type\":\"HBar\"},{\"attributes\":{},\"id\":\"13311\",\"type\":\"CategoricalTickFormatter\"},{\"attributes\":{\"data_source\":{\"id\":\"11627\"},\"glyph\":{\"id\":\"11630\"},\"hover_glyph\":null,\"muted_glyph\":{\"id\":\"11632\"},\"nonselection_glyph\":{\"id\":\"11631\"},\"selection_glyph\":null,\"view\":{\"id\":\"11634\"}},\"id\":\"11633\",\"type\":\"GlyphRenderer\"},{\"attributes\":{\"axis\":{\"id\":\"11667\"},\"dimension\":1,\"grid_line_color\":null,\"ticker\":null},\"id\":\"11669\",\"type\":\"Grid\"},{\"attributes\":{\"axis\":{\"id\":\"11720\"},\"grid_line_color\":null,\"ticker\":null},\"id\":\"11723\",\"type\":\"Grid\"},{\"attributes\":{},\"id\":\"13230\",\"type\":\"SaveTool\"},{\"attributes\":{\"align\":null,\"below\":[{\"id\":\"12240\"}],\"center\":[{\"id\":\"12243\"},{\"id\":\"12246\"},{\"id\":\"12277\"}],\"left\":[{\"id\":\"12244\"}],\"margin\":null,\"min_border_bottom\":10,\"min_border_left\":10,\"min_border_right\":10,\"min_border_top\":10,\"plot_height\":100,\"plot_width\":700,\"renderers\":[{\"id\":\"12267\"}],\"right\":[{\"id\":\"12277\"}],\"sizing_mode\":\"fixed\",\"title\":{\"id\":\"12232\"},\"toolbar\":{\"id\":\"12253\"},\"toolbar_location\":null,\"x_range\":{\"id\":\"11074\"},\"x_scale\":{\"id\":\"12236\"},\"y_range\":{\"id\":\"11075\"},\"y_scale\":{\"id\":\"12238\"}},\"id\":\"12231\",\"subtype\":\"Figure\",\"type\":\"Plot\"},{\"attributes\":{\"axis\":{\"id\":\"13337\"},\"grid_line_color\":null,\"ticker\":null},\"id\":\"13340\",\"type\":\"Grid\"},{\"attributes\":{\"data\":{\"Variable\":[\"Numeric\",\"Others\"],\"bottom\":{\"__ndarray__\":\"AAAAAAAAAAAAAAAAAABJQA==\",\"dtype\":\"float64\",\"order\":\"little\",\"shape\":[2]},\"index\":[\"values\",\"values\"],\"top\":{\"__ndarray__\":\"AAAAAAAASUAAAAAAAABZQA==\",\"dtype\":\"float64\",\"order\":\"little\",\"shape\":[2]},\"value\":{\"__ndarray__\":\"AAAAAAAASUAAAAAAAABJQA==\",\"dtype\":\"float64\",\"order\":\"little\",\"shape\":[2]}},\"selected\":{\"id\":\"11628\"},\"selection_policy\":{\"id\":\"11641\"}},\"id\":\"11627\",\"type\":\"ColumnDataSource\"},{\"attributes\":{\"children\":[[{\"id\":\"12637\"},0,0],[{\"id\":\"12694\"},1,0],[{\"id\":\"12751\"},2,0],[{\"id\":\"12808\"},3,0]]},\"id\":\"12895\",\"type\":\"GridBox\"},{\"attributes\":{\"bottom_units\":\"screen\",\"fill_alpha\":0.5,\"fill_color\":\"lightgrey\",\"left_units\":\"screen\",\"level\":\"overlay\",\"line_alpha\":1.0,\"line_color\":\"black\",\"line_dash\":[4,4],\"line_width\":2,\"right_units\":\"screen\",\"top_units\":\"screen\"},\"id\":\"13349\",\"type\":\"BoxAnnotation\"},{\"attributes\":{},\"id\":\"11176\",\"type\":\"BasicTickFormatter\"},{\"attributes\":{},\"id\":\"11613\",\"type\":\"SaveTool\"},{\"attributes\":{\"active_drag\":\"auto\",\"active_inspect\":\"auto\",\"active_multi\":null,\"active_scroll\":\"auto\",\"active_tap\":\"auto\",\"tools\":[{\"id\":\"11653\"},{\"id\":\"11670\"},{\"id\":\"11671\"},{\"id\":\"11672\"},{\"id\":\"11673\"},{\"id\":\"11674\"}]},\"id\":\"11676\",\"type\":\"Toolbar\"},{\"attributes\":{\"callback\":null,\"renderers\":[{\"id\":\"12324\"}],\"tags\":[\"hv_created\"],\"tooltips\":[[\"index\",\"@{index}\"],[\"Variable\",\"@{Variable}\"],[\"value\",\"@{value}\"]]},\"id\":\"12287\",\"type\":\"HoverTool\"},{\"attributes\":{\"label\":{\"field\":\"Variable\"},\"renderers\":[{\"id\":\"13307\"}]},\"id\":\"13318\",\"type\":\"LegendItem\"},{\"attributes\":{\"toolbars\":[{\"id\":\"13699\"},{\"id\":\"13756\"},{\"id\":\"13813\"},{\"id\":\"13870\"}],\"tools\":[{\"id\":\"13676\"},{\"id\":\"13693\"},{\"id\":\"13694\"},{\"id\":\"13695\"},{\"id\":\"13696\"},{\"id\":\"13697\"},{\"id\":\"13733\"},{\"id\":\"13750\"},{\"id\":\"13751\"},{\"id\":\"13752\"},{\"id\":\"13753\"},{\"id\":\"13754\"},{\"id\":\"13790\"},{\"id\":\"13807\"},{\"id\":\"13808\"},{\"id\":\"13809\"},{\"id\":\"13810\"},{\"id\":\"13811\"},{\"id\":\"13847\"},{\"id\":\"13864\"},{\"id\":\"13865\"},{\"id\":\"13866\"},{\"id\":\"13867\"},{\"id\":\"13868\"}]},\"id\":\"13936\",\"type\":\"ProxyToolbar\"},{\"attributes\":{\"axis\":{\"id\":\"11610\"},\"dimension\":1,\"grid_line_color\":null,\"ticker\":null},\"id\":\"11612\",\"type\":\"Grid\"},{\"attributes\":{\"ticks\":[0]},\"id\":\"11759\",\"type\":\"FixedTicker\"},{\"attributes\":{},\"id\":\"13831\",\"type\":\"CategoricalTickFormatter\"},{\"attributes\":{},\"id\":\"13234\",\"type\":\"ResetTool\"},{\"attributes\":{\"axis_label\":\"\",\"bounds\":\"auto\",\"formatter\":{\"id\":\"13199\"},\"major_label_orientation\":\"horizontal\",\"ticker\":{\"id\":\"13205\"}},\"id\":\"13166\",\"type\":\"LinearAxis\"},{\"attributes\":{\"data_source\":{\"id\":\"11107\"},\"glyph\":{\"id\":\"11110\"},\"hover_glyph\":null,\"muted_glyph\":{\"id\":\"11112\"},\"nonselection_glyph\":{\"id\":\"11111\"},\"selection_glyph\":null,\"view\":{\"id\":\"11114\"}},\"id\":\"11113\",\"type\":\"GlyphRenderer\"},{\"attributes\":{},\"id\":\"12736\",\"type\":\"BasicTickFormatter\"},{\"attributes\":{},\"id\":\"11614\",\"type\":\"PanTool\"},{\"attributes\":{},\"id\":\"13833\",\"type\":\"BasicTickFormatter\"},{\"attributes\":{\"toolbars\":[{\"id\":\"13179\"},{\"id\":\"13236\"},{\"id\":\"13293\"},{\"id\":\"13350\"}],\"tools\":[{\"id\":\"13156\"},{\"id\":\"13173\"},{\"id\":\"13174\"},{\"id\":\"13175\"},{\"id\":\"13176\"},{\"id\":\"13177\"},{\"id\":\"13213\"},{\"id\":\"13230\"},{\"id\":\"13231\"},{\"id\":\"13232\"},{\"id\":\"13233\"},{\"id\":\"13234\"},{\"id\":\"13270\"},{\"id\":\"13287\"},{\"id\":\"13288\"},{\"id\":\"13289\"},{\"id\":\"13290\"},{\"id\":\"13291\"},{\"id\":\"13327\"},{\"id\":\"13344\"},{\"id\":\"13345\"},{\"id\":\"13346\"},{\"id\":\"13347\"},{\"id\":\"13348\"}]},\"id\":\"13416\",\"type\":\"ProxyToolbar\"},{\"attributes\":{},\"id\":\"11154\",\"type\":\"ResetTool\"},{\"attributes\":{},\"id\":\"11672\",\"type\":\"WheelZoomTool\"},{\"attributes\":{\"data\":{\"Variable\":[\"Unique\",\"Duplicate\"],\"bottom\":{\"__ndarray__\":\"AAAAAAAAAAAAAAAAAABZQA==\",\"dtype\":\"float64\",\"order\":\"little\",\"shape\":[2]},\"index\":[\"values\",\"values\"],\"top\":{\"__ndarray__\":\"AAAAAAAAWUAAAAAAAABZQA==\",\"dtype\":\"float64\",\"order\":\"little\",\"shape\":[2]},\"value\":{\"__ndarray__\":\"AAAAAAAAWUAAAAAAAAAAAA==\",\"dtype\":\"float64\",\"order\":\"little\",\"shape\":[2]}},\"selected\":{\"id\":\"11742\"},\"selection_policy\":{\"id\":\"11755\"}},\"id\":\"11741\",\"type\":\"ColumnDataSource\"},{\"attributes\":{\"source\":{\"id\":\"13187\"}},\"id\":\"13194\",\"type\":\"CDSView\"},{\"attributes\":{\"axis_label\":\"\",\"bounds\":\"auto\",\"formatter\":{\"id\":\"12330\"},\"major_label_orientation\":\"horizontal\",\"ticker\":{\"id\":\"12336\"}},\"id\":\"12297\",\"type\":\"LinearAxis\"},{\"attributes\":{},\"id\":\"12738\",\"type\":\"UnionRenderers\"},{\"attributes\":{\"client_comm_id\":\"52213e75f8424bad9e45b3696685bbf7\",\"comm_id\":\"2fa8c5accf414bb59be6e0ed7567051e\",\"plot_id\":\"11073\"},\"id\":\"14698\",\"type\":\"panel.models.comm_manager.CommManager\"},{\"attributes\":{},\"id\":\"12295\",\"type\":\"CategoricalScale\"},{\"attributes\":{},\"id\":\"11641\",\"type\":\"UnionRenderers\"},{\"attributes\":{\"style\":{\"white-space\":\"nowrap\"},\"text\":\"<span style=\\\"color:black;font-family:Arial;font-style:bold;font-weight:bold;font-size:12pt\\\">Data Shape:(91485, 2)</span>\",\"width\":450},\"id\":\"13939\",\"type\":\"Div\"},{\"attributes\":{\"callback\":null,\"renderers\":[{\"id\":\"11633\"}],\"tags\":[\"hv_created\"],\"tooltips\":[[\"index\",\"@{index}\"],[\"Variable\",\"@{Variable}\"],[\"value\",\"@{value}\"]]},\"id\":\"11596\",\"type\":\"HoverTool\"},{\"attributes\":{},\"id\":\"11178\",\"type\":\"UnionRenderers\"},{\"attributes\":{\"overlay\":{\"id\":\"13235\"}},\"id\":\"13233\",\"type\":\"BoxZoomTool\"},{\"attributes\":{},\"id\":\"13287\",\"type\":\"SaveTool\"},{\"attributes\":{\"items\":[{\"id\":\"13204\"}],\"location\":[0,0]},\"id\":\"13203\",\"type\":\"Legend\"},{\"attributes\":{},\"id\":\"13221\",\"type\":\"CategoricalScale\"},{\"attributes\":{\"axis\":{\"id\":\"13284\"},\"dimension\":1,\"grid_line_color\":null,\"ticker\":null},\"id\":\"13286\",\"type\":\"Grid\"},{\"attributes\":{},\"id\":\"13177\",\"type\":\"ResetTool\"},{\"attributes\":{\"fill_alpha\":{\"value\":0.2},\"fill_color\":{\"field\":\"Variable\",\"transform\":{\"id\":\"13186\"}},\"height\":{\"value\":0.8},\"left\":{\"field\":\"bottom\"},\"line_alpha\":{\"value\":0.2},\"right\":{\"field\":\"top\"},\"y\":{\"field\":\"index\"}},\"id\":\"13192\",\"type\":\"HBar\"},{\"attributes\":{},\"id\":\"11668\",\"type\":\"CategoricalTicker\"},{\"attributes\":{\"fill_alpha\":{\"value\":0.2},\"fill_color\":{\"field\":\"Variable\",\"transform\":{\"id\":\"13243\"}},\"height\":{\"value\":0.8},\"left\":{\"field\":\"bottom\"},\"line_alpha\":{\"value\":0.2},\"right\":{\"field\":\"top\"},\"y\":{\"field\":\"index\"}},\"id\":\"13249\",\"type\":\"HBar\"},{\"attributes\":{\"items\":[{\"id\":\"11124\"}],\"location\":[0,0]},\"id\":\"11123\",\"type\":\"Legend\"},{\"attributes\":{\"axis\":{\"id\":\"12760\"},\"grid_line_color\":null,\"ticker\":null},\"id\":\"12763\",\"type\":\"Grid\"},{\"attributes\":{},\"id\":\"13291\",\"type\":\"ResetTool\"},{\"attributes\":{},\"id\":\"12332\",\"type\":\"UnionRenderers\"},{\"attributes\":{},\"id\":\"13835\",\"type\":\"UnionRenderers\"},{\"attributes\":{\"children\":[[{\"id\":\"13677\"},0,0],[{\"id\":\"13734\"},1,0],[{\"id\":\"13791\"},2,0],[{\"id\":\"13848\"},3,0]]},\"id\":\"13935\",\"type\":\"GridBox\"},{\"attributes\":{\"overlay\":{\"id\":\"11618\"}},\"id\":\"11616\",\"type\":\"BoxZoomTool\"},{\"attributes\":{},\"id\":\"13776\",\"type\":\"BasicTickFormatter\"},{\"attributes\":{\"toolbar\":{\"id\":\"13416\"},\"toolbar_location\":\"above\"},\"id\":\"13417\",\"type\":\"ToolbarBox\"},{\"attributes\":{\"fill_alpha\":{\"value\":0.1},\"fill_color\":{\"field\":\"Variable\",\"transform\":{\"id\":\"13300\"}},\"height\":{\"value\":0.8},\"left\":{\"field\":\"bottom\"},\"line_alpha\":{\"value\":0.1},\"right\":{\"field\":\"top\"},\"y\":{\"field\":\"index\"}},\"id\":\"13305\",\"type\":\"HBar\"},{\"attributes\":{\"text\":\"Datatypes\",\"text_color\":{\"value\":\"black\"},\"text_font_size\":{\"value\":\"12pt\"}},\"id\":\"13158\",\"type\":\"Title\"},{\"attributes\":{},\"id\":\"13313\",\"type\":\"BasicTickFormatter\"},{\"attributes\":{\"align\":null,\"below\":[{\"id\":\"12297\"}],\"center\":[{\"id\":\"12300\"},{\"id\":\"12303\"},{\"id\":\"12334\"}],\"left\":[{\"id\":\"12301\"}],\"margin\":null,\"min_border_bottom\":10,\"min_border_left\":10,\"min_border_right\":10,\"min_border_top\":10,\"plot_height\":100,\"plot_width\":700,\"renderers\":[{\"id\":\"12324\"}],\"right\":[{\"id\":\"12334\"}],\"sizing_mode\":\"fixed\",\"title\":{\"id\":\"12289\"},\"toolbar\":{\"id\":\"12310\"},\"toolbar_location\":null,\"x_range\":{\"id\":\"11074\"},\"x_scale\":{\"id\":\"12293\"},\"y_range\":{\"id\":\"11075\"},\"y_scale\":{\"id\":\"12295\"}},\"id\":\"12288\",\"subtype\":\"Figure\",\"type\":\"Plot\"},{\"attributes\":{\"axis_label\":\"\",\"bounds\":\"auto\",\"formatter\":{\"id\":\"11694\"},\"major_label_orientation\":\"horizontal\",\"ticker\":{\"id\":\"11668\"}},\"id\":\"11667\",\"type\":\"CategoricalAxis\"},{\"attributes\":{\"active_drag\":\"auto\",\"active_inspect\":\"auto\",\"active_multi\":null,\"active_scroll\":\"auto\",\"active_tap\":\"auto\",\"tools\":[{\"id\":\"11133\"},{\"id\":\"11150\"},{\"id\":\"11151\"},{\"id\":\"11152\"},{\"id\":\"11153\"},{\"id\":\"11154\"}]},\"id\":\"11156\",\"type\":\"Toolbar\"},{\"attributes\":{\"axis_label\":\"\",\"bounds\":\"auto\",\"formatter\":{\"id\":\"11639\"},\"major_label_orientation\":\"horizontal\",\"ticker\":{\"id\":\"11645\"}},\"id\":\"11606\",\"type\":\"LinearAxis\"},{\"attributes\":{},\"id\":\"12293\",\"type\":\"LinearScale\"},{\"attributes\":{\"toolbar\":{\"id\":\"13936\"},\"toolbar_location\":\"above\"},\"id\":\"13937\",\"type\":\"ToolbarBox\"},{\"attributes\":{\"align\":null,\"below\":[{\"id\":\"12703\"}],\"center\":[{\"id\":\"12706\"},{\"id\":\"12709\"},{\"id\":\"12740\"}],\"left\":[{\"id\":\"12707\"}],\"margin\":null,\"min_border_bottom\":10,\"min_border_left\":10,\"min_border_right\":10,\"min_border_top\":10,\"plot_height\":100,\"plot_width\":700,\"renderers\":[{\"id\":\"12730\"}],\"right\":[{\"id\":\"12740\"}],\"sizing_mode\":\"fixed\",\"title\":{\"id\":\"12695\"},\"toolbar\":{\"id\":\"12716\"},\"toolbar_location\":null,\"x_range\":{\"id\":\"11074\"},\"x_scale\":{\"id\":\"12699\"},\"y_range\":{\"id\":\"11075\"},\"y_scale\":{\"id\":\"12701\"}},\"id\":\"12694\",\"subtype\":\"Figure\",\"type\":\"Plot\"},{\"attributes\":{\"fill_alpha\":{\"value\":0.1},\"fill_color\":{\"field\":\"Variable\",\"transform\":{\"id\":\"11626\"}},\"height\":{\"value\":0.8},\"left\":{\"field\":\"bottom\"},\"line_alpha\":{\"value\":0.1},\"right\":{\"field\":\"top\"},\"y\":{\"field\":\"index\"}},\"id\":\"11631\",\"type\":\"HBar\"},{\"attributes\":{\"axis_label\":\"\",\"bounds\":\"auto\",\"formatter\":{\"id\":\"13311\"},\"major_label_orientation\":\"horizontal\",\"ticker\":{\"id\":\"13285\"}},\"id\":\"13284\",\"type\":\"CategoricalAxis\"},{\"attributes\":{},\"id\":\"11288\",\"type\":\"CategoricalTickFormatter\"},{\"attributes\":{},\"id\":\"13774\",\"type\":\"CategoricalTickFormatter\"},{\"attributes\":{\"axis\":{\"id\":\"11724\"},\"dimension\":1,\"grid_line_color\":null,\"ticker\":null},\"id\":\"11726\",\"type\":\"Grid\"},{\"attributes\":{},\"id\":\"13164\",\"type\":\"CategoricalScale\"},{\"attributes\":{\"items\":[{\"id\":\"13318\"}],\"location\":[0,0]},\"id\":\"13317\",\"type\":\"Legend\"},{\"attributes\":{\"axis\":{\"id\":\"12297\"},\"grid_line_color\":null,\"ticker\":null},\"id\":\"12300\",\"type\":\"Grid\"},{\"attributes\":{},\"id\":\"11290\",\"type\":\"BasicTickFormatter\"},{\"attributes\":{},\"id\":\"11725\",\"type\":\"CategoricalTicker\"},{\"attributes\":{\"children\":[{\"id\":\"13937\"},{\"id\":\"13935\"}]},\"id\":\"13938\",\"type\":\"Column\"},{\"attributes\":{},\"id\":\"12734\",\"type\":\"CategoricalTickFormatter\"},{\"attributes\":{\"label\":{\"field\":\"Variable\"},\"renderers\":[{\"id\":\"13193\"}]},\"id\":\"13204\",\"type\":\"LegendItem\"},{\"attributes\":{\"fill_alpha\":{\"value\":0.2},\"fill_color\":{\"field\":\"Variable\",\"transform\":{\"id\":\"13300\"}},\"height\":{\"value\":0.8},\"left\":{\"field\":\"bottom\"},\"line_alpha\":{\"value\":0.2},\"right\":{\"field\":\"top\"},\"y\":{\"field\":\"index\"}},\"id\":\"13306\",\"type\":\"HBar\"},{\"attributes\":{\"children\":[{\"id\":\"13939\"},{\"id\":\"13938\"}]},\"id\":\"13940\",\"type\":\"Column\"},{\"attributes\":{},\"id\":\"13175\",\"type\":\"WheelZoomTool\"},{\"attributes\":{\"axis\":{\"id\":\"13223\"},\"grid_line_color\":null,\"ticker\":null},\"id\":\"13226\",\"type\":\"Grid\"},{\"attributes\":{\"text\":\"Duplicate Columns\",\"text_color\":{\"value\":\"black\"},\"text_font_size\":{\"value\":\"12pt\"}},\"id\":\"12289\",\"type\":\"Title\"},{\"attributes\":{\"ticks\":[0]},\"id\":\"12742\",\"type\":\"FixedTicker\"},{\"attributes\":{\"axis\":{\"id\":\"11663\"},\"grid_line_color\":null,\"ticker\":null},\"id\":\"11666\",\"type\":\"Grid\"},{\"attributes\":{},\"id\":\"13289\",\"type\":\"WheelZoomTool\"},{\"attributes\":{\"data_source\":{\"id\":\"13187\"},\"glyph\":{\"id\":\"13190\"},\"hover_glyph\":null,\"muted_glyph\":{\"id\":\"13192\"},\"nonselection_glyph\":{\"id\":\"13191\"},\"selection_glyph\":null,\"view\":{\"id\":\"13194\"}},\"id\":\"13193\",\"type\":\"GlyphRenderer\"},{\"attributes\":{\"axis_label\":\"\",\"bounds\":\"auto\",\"formatter\":{\"id\":\"13256\"},\"major_label_orientation\":\"horizontal\",\"ticker\":{\"id\":\"13262\"}},\"id\":\"13223\",\"type\":\"LinearAxis\"},{\"attributes\":{},\"id\":\"11611\",\"type\":\"CategoricalTicker\"},{\"attributes\":{\"label\":{\"field\":\"Variable\"},\"renderers\":[{\"id\":\"13827\"}]},\"id\":\"13838\",\"type\":\"LegendItem\"},{\"attributes\":{\"axis_label\":\"\",\"bounds\":\"auto\",\"formatter\":{\"id\":\"11637\"},\"major_label_orientation\":\"horizontal\",\"ticker\":{\"id\":\"11611\"}},\"id\":\"11610\",\"type\":\"CategoricalAxis\"}],\"root_ids\":[\"11073\",\"14698\"]},\"title\":\"Bokeh Application\",\"version\":\"2.2.3\"}};\n",
       "  var render_items = [{\"docid\":\"7b1ce159-47c6-4874-8439-c28df1bd2123\",\"root_ids\":[\"11073\"],\"roots\":{\"11073\":\"4873bb72-e8ca-421a-b0af-ffb660bd0920\"}}];\n",
       "  root.Bokeh.embed.embed_items_notebook(docs_json, render_items);\n",
       "  }\n",
       "if (root.Bokeh !== undefined) {\n",
       "    embed_document(root);\n",
       "  } else {\n",
       "    var attempts = 0;\n",
       "    var timer = setInterval(function(root) {\n",
       "      if (root.Bokeh !== undefined) {\n",
       "        clearInterval(timer);\n",
       "        embed_document(root);\n",
       "      } else if (document.readyState == \"complete\") {\n",
       "        attempts++;\n",
       "        if (attempts > 100) {\n",
       "          clearInterval(timer);\n",
       "          console.log(\"Bokeh: ERROR: Unable to run BokehJS code because BokehJS library is missing\");\n",
       "        }\n",
       "      }\n",
       "    }, 10, root)\n",
       "  }\n",
       "})(window);</script>"
      ],
      "text/plain": [
       "Tabs\n",
       "    [0] HoloViews(Layout, name='google')\n",
       "    [1] HoloViews(Layout, name='product_manufacturer_list...)\n",
       "    [2] HoloViews(Layout, name='sales_data')\n",
       "    [3] HoloViews(Layout, name='social_media_data')\n",
       "    [4] HoloViews(Layout, name='Theme_list')\n",
       "    [5] HoloViews(Layout, name='Theme_product_list')"
      ]
     },
     "execution_count": 60,
     "metadata": {
      "application/vnd.holoviews_exec.v0+json": {
       "id": "11073"
      }
     },
     "output_type": "execute_result"
    }
   ],
   "source": [
    "sum1, plot1 = eda.get_data_health_summary(google_df, return_plot=True)\n",
    "sum2, plot2 = eda.get_data_health_summary(pro_manu_df, return_plot=True)\n",
    "sum3, plot3 = eda.get_data_health_summary(sales_df, return_plot=True)\n",
    "sum4, plot4 = eda.get_data_health_summary(soc_media_df, return_plot=True)\n",
    "sum5, plot5 = eda.get_data_health_summary(theme_df, return_plot=True)\n",
    "sum6, plot6 = eda.get_data_health_summary(theme_pro_df, return_plot=True)\n",
    "\n",
    "display_as_tabs([('google', plot1), ('product_manufacturer_list', plot2),\n",
    "                 ('sales_data', plot3), ('social_media_data', plot4),\n",
    "                ('Theme_list', plot5), ('Theme_product_list', plot6)])"
   ]
  },
  {
   "cell_type": "markdown",
   "metadata": {},
   "source": [
    "**Dev NOTES**\n",
    "\n",
    "<details>\n",
    "1. Datatypes : We have both numeric and other types. The bulk of them seem to be numeric. `Numeric` is defined to be one of [float|int|date] and the rest are categorized as `Others`. A column is assumed to have `date` values if it has the string `date` in the column name.\n",
    "\n",
    "2. The missing value plot seems to indicate missing values are not present but we do have them. \n",
    "\n",
    "3. We are looking for duplicate observations (rows in the data). The plot shows the % of rows that are an exact replica of another row (using `df.duplicated`)\n",
    "\n",
    "4. We are looking for duplicate features (columns in the data).\n",
    "\n",
    "</details>"
   ]
  },
  {
   "cell_type": "markdown",
   "metadata": {},
   "source": [
    "### Missing Values summary\n",
    "\n",
    "This provides an overall view focussing on amount of missing values in the dataset.\n",
    "\n",
    "**Watch out for:**\n",
    "* A few columns have significant number of missing values \n",
    "* Most columns have significant number of missing values\n"
   ]
  },
  {
   "cell_type": "code",
   "execution_count": 61,
   "metadata": {},
   "outputs": [
    {
     "data": {},
     "metadata": {},
     "output_type": "display_data"
    },
    {
     "data": {},
     "metadata": {},
     "output_type": "display_data"
    },
    {
     "data": {
      "application/vnd.holoviews_exec.v0+json": "",
      "text/html": [
       "<div id='15539'>\n",
       "\n",
       "\n",
       "\n",
       "\n",
       "\n",
       "  <div class=\"bk-root\" id=\"402bbf93-7a02-44cd-8e14-6a006c9e65ad\" data-root-id=\"15539\"></div>\n",
       "</div>\n",
       "<script type=\"application/javascript\">(function(root) {\n",
       "  function embed_document(root) {\n",
       "  var docs_json = {\"2f31dcba-ae15-4c3a-9d69-d3221a587455\":{\"roots\":{\"references\":[{\"attributes\":{},\"id\":\"15794\",\"type\":\"LinearScale\"},{\"attributes\":{\"margin\":[0,0,0,0],\"tabs\":[{\"id\":\"15600\"},{\"id\":\"15661\"},{\"id\":\"15722\"},{\"id\":\"15783\"},{\"id\":\"15844\"},{\"id\":\"15905\"}]},\"id\":\"15539\",\"type\":\"Tabs\"},{\"attributes\":{\"text\":\"Missing Variables - Data Shape:(208, 2)\",\"text_color\":{\"value\":\"black\"},\"text_font_size\":{\"value\":\"12pt\"}},\"id\":\"15788\",\"type\":\"Title\"},{\"attributes\":{\"fill_color\":{\"value\":\"#1f77b3\"},\"top\":{\"field\":\"A_0\"},\"width\":{\"value\":0.8},\"x\":{\"field\":\"index\"}},\"id\":\"15880\",\"type\":\"VBar\"},{\"attributes\":{},\"id\":\"15561\",\"type\":\"WheelZoomTool\"},{\"attributes\":{},\"id\":\"15805\",\"type\":\"WheelZoomTool\"},{\"attributes\":{\"data_source\":{\"id\":\"15877\"},\"glyph\":{\"id\":\"15880\"},\"hover_glyph\":null,\"muted_glyph\":{\"id\":\"15882\"},\"nonselection_glyph\":{\"id\":\"15881\"},\"selection_glyph\":null,\"view\":{\"id\":\"15884\"}},\"id\":\"15883\",\"type\":\"GlyphRenderer\"},{\"attributes\":{},\"id\":\"15617\",\"type\":\"BasicTicker\"},{\"attributes\":{\"bottom_units\":\"screen\",\"fill_alpha\":0.5,\"fill_color\":\"lightgrey\",\"left_units\":\"screen\",\"level\":\"overlay\",\"line_alpha\":1.0,\"line_color\":\"black\",\"line_dash\":[4,4],\"line_width\":2,\"right_units\":\"screen\",\"top_units\":\"screen\"},\"id\":\"15625\",\"type\":\"BoxAnnotation\"},{\"attributes\":{},\"id\":\"15573\",\"type\":\"Selection\"},{\"attributes\":{},\"id\":\"15824\",\"type\":\"CategoricalTickFormatter\"},{\"attributes\":{\"source\":{\"id\":\"15816\"}},\"id\":\"15823\",\"type\":\"CDSView\"},{\"attributes\":{\"align\":null,\"below\":[{\"id\":\"15796\"}],\"center\":[{\"id\":\"15798\"},{\"id\":\"15802\"}],\"left\":[{\"id\":\"15799\"}],\"margin\":null,\"min_border_bottom\":10,\"min_border_left\":10,\"min_border_right\":10,\"min_border_top\":10,\"plot_height\":300,\"plot_width\":700,\"renderers\":[{\"id\":\"15822\"}],\"sizing_mode\":\"fixed\",\"title\":{\"id\":\"15788\"},\"toolbar\":{\"id\":\"15809\"},\"x_range\":{\"id\":\"15540\"},\"x_scale\":{\"id\":\"15792\"},\"y_range\":{\"id\":\"15541\"},\"y_scale\":{\"id\":\"15794\"}},\"id\":\"15787\",\"subtype\":\"Figure\",\"type\":\"Plot\"},{\"attributes\":{\"axis_label\":\"# of variables\",\"bounds\":\"auto\",\"formatter\":{\"id\":\"15583\"},\"major_label_orientation\":\"horizontal\",\"ticker\":{\"id\":\"15556\"}},\"id\":\"15555\",\"type\":\"LinearAxis\"},{\"attributes\":{\"fill_alpha\":{\"value\":0.1},\"fill_color\":{\"value\":\"#1f77b3\"},\"line_alpha\":{\"value\":0.1},\"top\":{\"field\":\"A_0\"},\"width\":{\"value\":0.8},\"x\":{\"field\":\"index\"}},\"id\":\"15820\",\"type\":\"VBar\"},{\"attributes\":{\"active_drag\":\"auto\",\"active_inspect\":\"auto\",\"active_multi\":null,\"active_scroll\":\"auto\",\"active_tap\":\"auto\",\"tools\":[{\"id\":\"15786\"},{\"id\":\"15803\"},{\"id\":\"15804\"},{\"id\":\"15805\"},{\"id\":\"15806\"},{\"id\":\"15807\"}]},\"id\":\"15809\",\"type\":\"Toolbar\"},{\"attributes\":{\"overlay\":{\"id\":\"15564\"}},\"id\":\"15562\",\"type\":\"BoxZoomTool\"},{\"attributes\":{},\"id\":\"15773\",\"type\":\"UnionRenderers\"},{\"attributes\":{\"callback\":null,\"renderers\":[{\"id\":\"15883\"}],\"tags\":[\"hv_created\"],\"tooltips\":[[\"index\",\"@{index}\"],[\"0\",\"@{A_0}\"]]},\"id\":\"15847\",\"type\":\"HoverTool\"},{\"attributes\":{},\"id\":\"15817\",\"type\":\"Selection\"},{\"attributes\":{\"source\":{\"id\":\"15755\"}},\"id\":\"15762\",\"type\":\"CDSView\"},{\"attributes\":{\"axis\":{\"id\":\"15552\"},\"grid_line_color\":null,\"ticker\":null},\"id\":\"15554\",\"type\":\"Grid\"},{\"attributes\":{\"axis\":{\"id\":\"15613\"},\"grid_line_color\":null,\"ticker\":null},\"id\":\"15615\",\"type\":\"Grid\"},{\"attributes\":{},\"id\":\"15797\",\"type\":\"CategoricalTicker\"},{\"attributes\":{},\"id\":\"15731\",\"type\":\"CategoricalScale\"},{\"attributes\":{},\"id\":\"15792\",\"type\":\"CategoricalScale\"},{\"attributes\":{\"data\":{\"A_0\":[2,0,0,0,0,0,0,0],\"index\":[\"No Missing\",\"0-5%\",\"5-10%\",\"10-20%\",\"20-30%\",\"30-40%\",\"40-50%\",\"50-100%\"]},\"selected\":{\"id\":\"15634\"},\"selection_policy\":{\"id\":\"15651\"}},\"id\":\"15633\",\"type\":\"ColumnDataSource\"},{\"attributes\":{\"fill_alpha\":{\"value\":0.2},\"fill_color\":{\"value\":\"#1f77b3\"},\"line_alpha\":{\"value\":0.2},\"top\":{\"field\":\"A_0\"},\"width\":{\"value\":0.8},\"x\":{\"field\":\"index\"}},\"id\":\"15760\",\"type\":\"VBar\"},{\"attributes\":{},\"id\":\"15807\",\"type\":\"ResetTool\"},{\"attributes\":{},\"id\":\"15712\",\"type\":\"UnionRenderers\"},{\"attributes\":{\"axis\":{\"id\":\"15799\"},\"dimension\":1,\"grid_line_color\":null,\"ticker\":null},\"id\":\"15802\",\"type\":\"Grid\"},{\"attributes\":{},\"id\":\"15624\",\"type\":\"ResetTool\"},{\"attributes\":{},\"id\":\"15804\",\"type\":\"PanTool\"},{\"attributes\":{},\"id\":\"15705\",\"type\":\"BasicTickFormatter\"},{\"attributes\":{},\"id\":\"15622\",\"type\":\"WheelZoomTool\"},{\"attributes\":{\"fill_alpha\":{\"value\":0.2},\"fill_color\":{\"value\":\"#1f77b3\"},\"line_alpha\":{\"value\":0.2},\"top\":{\"field\":\"A_0\"},\"width\":{\"value\":0.8},\"x\":{\"field\":\"index\"}},\"id\":\"15882\",\"type\":\"VBar\"},{\"attributes\":{},\"id\":\"15621\",\"type\":\"PanTool\"},{\"attributes\":{\"child\":{\"id\":\"15726\"},\"name\":\"social_media_data\",\"title\":\"social_media_data\"},\"id\":\"15783\",\"type\":\"Panel\"},{\"attributes\":{},\"id\":\"15853\",\"type\":\"CategoricalScale\"},{\"attributes\":{\"source\":{\"id\":\"15572\"}},\"id\":\"15579\",\"type\":\"CDSView\"},{\"attributes\":{},\"id\":\"15620\",\"type\":\"SaveTool\"},{\"attributes\":{\"axis\":{\"id\":\"15796\"},\"grid_line_color\":null,\"ticker\":null},\"id\":\"15798\",\"type\":\"Grid\"},{\"attributes\":{\"overlay\":{\"id\":\"15625\"}},\"id\":\"15623\",\"type\":\"BoxZoomTool\"},{\"attributes\":{\"child\":{\"id\":\"15665\"},\"name\":\"sales_data\",\"title\":\"sales_data\"},\"id\":\"15722\",\"type\":\"Panel\"},{\"attributes\":{\"axis_label\":\"# of missing observations\",\"bounds\":\"auto\",\"formatter\":{\"id\":\"15824\"},\"major_label_orientation\":\"horizontal\",\"ticker\":{\"id\":\"15797\"}},\"id\":\"15796\",\"type\":\"CategoricalAxis\"},{\"attributes\":{},\"id\":\"15550\",\"type\":\"LinearScale\"},{\"attributes\":{\"axis\":{\"id\":\"15616\"},\"dimension\":1,\"grid_line_color\":null,\"ticker\":null},\"id\":\"15619\",\"type\":\"Grid\"},{\"attributes\":{},\"id\":\"15763\",\"type\":\"CategoricalTickFormatter\"},{\"attributes\":{\"end\":6.6,\"reset_end\":6.6,\"reset_start\":0.0,\"tags\":[[[\"0\",\"0\",null]]]},\"id\":\"15541\",\"type\":\"Range1d\"},{\"attributes\":{\"data_source\":{\"id\":\"15755\"},\"glyph\":{\"id\":\"15758\"},\"hover_glyph\":null,\"muted_glyph\":{\"id\":\"15760\"},\"nonselection_glyph\":{\"id\":\"15759\"},\"selection_glyph\":null,\"view\":{\"id\":\"15762\"}},\"id\":\"15761\",\"type\":\"GlyphRenderer\"},{\"attributes\":{\"data\":{\"A_0\":[2,0,0,0,0,0,0,0],\"index\":[\"No Missing\",\"0-5%\",\"5-10%\",\"10-20%\",\"20-30%\",\"30-40%\",\"40-50%\",\"50-100%\"]},\"selected\":{\"id\":\"15878\"},\"selection_policy\":{\"id\":\"15895\"}},\"id\":\"15877\",\"type\":\"ColumnDataSource\"},{\"attributes\":{\"child\":{\"id\":\"15543\"},\"name\":\"google\",\"title\":\"google\"},\"id\":\"15600\",\"type\":\"Panel\"},{\"attributes\":{\"source\":{\"id\":\"15877\"}},\"id\":\"15884\",\"type\":\"CDSView\"},{\"attributes\":{\"callback\":null,\"renderers\":[{\"id\":\"15822\"}],\"tags\":[\"hv_created\"],\"tooltips\":[[\"index\",\"@{index}\"],[\"0\",\"@{A_0}\"]]},\"id\":\"15786\",\"type\":\"HoverTool\"},{\"attributes\":{\"fill_color\":{\"value\":\"#1f77b3\"},\"top\":{\"field\":\"A_0\"},\"width\":{\"value\":0.8},\"x\":{\"field\":\"index\"}},\"id\":\"15819\",\"type\":\"VBar\"},{\"attributes\":{\"axis_label\":\"# of variables\",\"bounds\":\"auto\",\"formatter\":{\"id\":\"15827\"},\"major_label_orientation\":\"horizontal\",\"ticker\":{\"id\":\"15800\"}},\"id\":\"15799\",\"type\":\"LinearAxis\"},{\"attributes\":{},\"id\":\"15858\",\"type\":\"CategoricalTicker\"},{\"attributes\":{},\"id\":\"15885\",\"type\":\"CategoricalTickFormatter\"},{\"attributes\":{},\"id\":\"15888\",\"type\":\"BasicTickFormatter\"},{\"attributes\":{},\"id\":\"15590\",\"type\":\"UnionRenderers\"},{\"attributes\":{\"fill_alpha\":{\"value\":0.2},\"fill_color\":{\"value\":\"#1f77b3\"},\"line_alpha\":{\"value\":0.2},\"top\":{\"field\":\"A_0\"},\"width\":{\"value\":0.8},\"x\":{\"field\":\"index\"}},\"id\":\"15821\",\"type\":\"VBar\"},{\"attributes\":{\"text\":\"Missing Variables - Data Shape:(91485, 2)\",\"text_color\":{\"value\":\"black\"},\"text_font_size\":{\"value\":\"12pt\"}},\"id\":\"15849\",\"type\":\"Title\"},{\"attributes\":{\"child\":{\"id\":\"15848\"},\"name\":\"Theme_product_list\",\"title\":\"Theme_product_list\"},\"id\":\"15905\",\"type\":\"Panel\"},{\"attributes\":{},\"id\":\"15733\",\"type\":\"LinearScale\"},{\"attributes\":{\"overlay\":{\"id\":\"15808\"}},\"id\":\"15806\",\"type\":\"BoxZoomTool\"},{\"attributes\":{\"active_drag\":\"auto\",\"active_inspect\":\"auto\",\"active_multi\":null,\"active_scroll\":\"auto\",\"active_tap\":\"auto\",\"tools\":[{\"id\":\"15542\"},{\"id\":\"15559\"},{\"id\":\"15560\"},{\"id\":\"15561\"},{\"id\":\"15562\"},{\"id\":\"15563\"}]},\"id\":\"15565\",\"type\":\"Toolbar\"},{\"attributes\":{},\"id\":\"15800\",\"type\":\"BasicTicker\"},{\"attributes\":{\"bottom_units\":\"screen\",\"fill_alpha\":0.5,\"fill_color\":\"lightgrey\",\"left_units\":\"screen\",\"level\":\"overlay\",\"line_alpha\":1.0,\"line_color\":\"black\",\"line_dash\":[4,4],\"line_width\":2,\"right_units\":\"screen\",\"top_units\":\"screen\"},\"id\":\"15564\",\"type\":\"BoxAnnotation\"},{\"attributes\":{\"align\":null,\"below\":[{\"id\":\"15857\"}],\"center\":[{\"id\":\"15859\"},{\"id\":\"15863\"}],\"left\":[{\"id\":\"15860\"}],\"margin\":null,\"min_border_bottom\":10,\"min_border_left\":10,\"min_border_right\":10,\"min_border_top\":10,\"plot_height\":300,\"plot_width\":700,\"renderers\":[{\"id\":\"15883\"}],\"sizing_mode\":\"fixed\",\"title\":{\"id\":\"15849\"},\"toolbar\":{\"id\":\"15870\"},\"x_range\":{\"id\":\"15540\"},\"x_scale\":{\"id\":\"15853\"},\"y_range\":{\"id\":\"15541\"},\"y_scale\":{\"id\":\"15855\"}},\"id\":\"15848\",\"subtype\":\"Figure\",\"type\":\"Plot\"},{\"attributes\":{\"axis_label\":\"# of missing observations\",\"bounds\":\"auto\",\"formatter\":{\"id\":\"15885\"},\"major_label_orientation\":\"horizontal\",\"ticker\":{\"id\":\"15858\"}},\"id\":\"15857\",\"type\":\"CategoricalAxis\"},{\"attributes\":{},\"id\":\"15855\",\"type\":\"LinearScale\"},{\"attributes\":{},\"id\":\"15556\",\"type\":\"BasicTicker\"},{\"attributes\":{},\"id\":\"15878\",\"type\":\"Selection\"},{\"attributes\":{\"fill_alpha\":{\"value\":0.1},\"fill_color\":{\"value\":\"#1f77b3\"},\"line_alpha\":{\"value\":0.1},\"top\":{\"field\":\"A_0\"},\"width\":{\"value\":0.8},\"x\":{\"field\":\"index\"}},\"id\":\"15576\",\"type\":\"VBar\"},{\"attributes\":{\"bottom_units\":\"screen\",\"fill_alpha\":0.5,\"fill_color\":\"lightgrey\",\"left_units\":\"screen\",\"level\":\"overlay\",\"line_alpha\":1.0,\"line_color\":\"black\",\"line_dash\":[4,4],\"line_width\":2,\"right_units\":\"screen\",\"top_units\":\"screen\"},\"id\":\"15747\",\"type\":\"BoxAnnotation\"},{\"attributes\":{\"client_comm_id\":\"ca586baa945b4e27b9342d8090e60d7e\",\"comm_id\":\"dfbbc48ade6346bc8b59e0f842186a3a\",\"plot_id\":\"15539\"},\"id\":\"16050\",\"type\":\"panel.models.comm_manager.CommManager\"},{\"attributes\":{\"data_source\":{\"id\":\"15816\"},\"glyph\":{\"id\":\"15819\"},\"hover_glyph\":null,\"muted_glyph\":{\"id\":\"15821\"},\"nonselection_glyph\":{\"id\":\"15820\"},\"selection_glyph\":null,\"view\":{\"id\":\"15823\"}},\"id\":\"15822\",\"type\":\"GlyphRenderer\"},{\"attributes\":{\"fill_alpha\":{\"value\":0.1},\"fill_color\":{\"value\":\"#1f77b3\"},\"line_alpha\":{\"value\":0.1},\"top\":{\"field\":\"A_0\"},\"width\":{\"value\":0.8},\"x\":{\"field\":\"index\"}},\"id\":\"15881\",\"type\":\"VBar\"},{\"attributes\":{},\"id\":\"15580\",\"type\":\"CategoricalTickFormatter\"},{\"attributes\":{},\"id\":\"15803\",\"type\":\"SaveTool\"},{\"attributes\":{},\"id\":\"15827\",\"type\":\"BasicTickFormatter\"},{\"attributes\":{\"bottom_units\":\"screen\",\"fill_alpha\":0.5,\"fill_color\":\"lightgrey\",\"left_units\":\"screen\",\"level\":\"overlay\",\"line_alpha\":1.0,\"line_color\":\"black\",\"line_dash\":[4,4],\"line_width\":2,\"right_units\":\"screen\",\"top_units\":\"screen\"},\"id\":\"15869\",\"type\":\"BoxAnnotation\"},{\"attributes\":{\"data_source\":{\"id\":\"15572\"},\"glyph\":{\"id\":\"15575\"},\"hover_glyph\":null,\"muted_glyph\":{\"id\":\"15577\"},\"nonselection_glyph\":{\"id\":\"15576\"},\"selection_glyph\":null,\"view\":{\"id\":\"15579\"}},\"id\":\"15578\",\"type\":\"GlyphRenderer\"},{\"attributes\":{\"align\":null,\"below\":[{\"id\":\"15613\"}],\"center\":[{\"id\":\"15615\"},{\"id\":\"15619\"}],\"left\":[{\"id\":\"15616\"}],\"margin\":null,\"min_border_bottom\":10,\"min_border_left\":10,\"min_border_right\":10,\"min_border_top\":10,\"plot_height\":300,\"plot_width\":700,\"renderers\":[{\"id\":\"15639\"}],\"sizing_mode\":\"fixed\",\"title\":{\"id\":\"15605\"},\"toolbar\":{\"id\":\"15626\"},\"x_range\":{\"id\":\"15540\"},\"x_scale\":{\"id\":\"15609\"},\"y_range\":{\"id\":\"15541\"},\"y_scale\":{\"id\":\"15611\"}},\"id\":\"15604\",\"subtype\":\"Figure\",\"type\":\"Plot\"},{\"attributes\":{},\"id\":\"15682\",\"type\":\"PanTool\"},{\"attributes\":{},\"id\":\"15756\",\"type\":\"Selection\"},{\"attributes\":{\"axis_label\":\"# of missing observations\",\"bounds\":\"auto\",\"formatter\":{\"id\":\"15580\"},\"major_label_orientation\":\"horizontal\",\"ticker\":{\"id\":\"15553\"}},\"id\":\"15552\",\"type\":\"CategoricalAxis\"},{\"attributes\":{\"axis_label\":\"# of missing observations\",\"bounds\":\"auto\",\"formatter\":{\"id\":\"15702\"},\"major_label_orientation\":\"horizontal\",\"ticker\":{\"id\":\"15675\"}},\"id\":\"15674\",\"type\":\"CategoricalAxis\"},{\"attributes\":{},\"id\":\"15651\",\"type\":\"UnionRenderers\"},{\"attributes\":{},\"id\":\"15644\",\"type\":\"BasicTickFormatter\"},{\"attributes\":{\"overlay\":{\"id\":\"15686\"}},\"id\":\"15684\",\"type\":\"BoxZoomTool\"},{\"attributes\":{},\"id\":\"15868\",\"type\":\"ResetTool\"},{\"attributes\":{\"align\":null,\"below\":[{\"id\":\"15552\"}],\"center\":[{\"id\":\"15554\"},{\"id\":\"15558\"}],\"left\":[{\"id\":\"15555\"}],\"margin\":null,\"min_border_bottom\":10,\"min_border_left\":10,\"min_border_right\":10,\"min_border_top\":10,\"plot_height\":300,\"plot_width\":700,\"renderers\":[{\"id\":\"15578\"}],\"sizing_mode\":\"fixed\",\"title\":{\"id\":\"15544\"},\"toolbar\":{\"id\":\"15565\"},\"x_range\":{\"id\":\"15540\"},\"x_scale\":{\"id\":\"15548\"},\"y_range\":{\"id\":\"15541\"},\"y_scale\":{\"id\":\"15550\"}},\"id\":\"15543\",\"subtype\":\"Figure\",\"type\":\"Plot\"},{\"attributes\":{\"fill_alpha\":{\"value\":0.2},\"fill_color\":{\"value\":\"#1f77b3\"},\"line_alpha\":{\"value\":0.2},\"top\":{\"field\":\"A_0\"},\"width\":{\"value\":0.8},\"x\":{\"field\":\"index\"}},\"id\":\"15699\",\"type\":\"VBar\"},{\"attributes\":{},\"id\":\"15670\",\"type\":\"CategoricalScale\"},{\"attributes\":{\"axis_label\":\"# of variables\",\"bounds\":\"auto\",\"formatter\":{\"id\":\"15888\"},\"major_label_orientation\":\"horizontal\",\"ticker\":{\"id\":\"15861\"}},\"id\":\"15860\",\"type\":\"LinearAxis\"},{\"attributes\":{\"text\":\"Missing Variables - Data Shape:(533390, 3)\",\"text_color\":{\"value\":\"black\"},\"text_font_size\":{\"value\":\"12pt\"}},\"id\":\"15727\",\"type\":\"Title\"},{\"attributes\":{\"axis_label\":\"# of variables\",\"bounds\":\"auto\",\"formatter\":{\"id\":\"15705\"},\"major_label_orientation\":\"horizontal\",\"ticker\":{\"id\":\"15678\"}},\"id\":\"15677\",\"type\":\"LinearAxis\"},{\"attributes\":{},\"id\":\"15864\",\"type\":\"SaveTool\"},{\"attributes\":{},\"id\":\"15683\",\"type\":\"WheelZoomTool\"},{\"attributes\":{\"data\":{\"A_0\":[5,0,0,0,0,0,0,0],\"index\":[\"No Missing\",\"0-5%\",\"5-10%\",\"10-20%\",\"20-30%\",\"30-40%\",\"40-50%\",\"50-100%\"]},\"selected\":{\"id\":\"15695\"},\"selection_policy\":{\"id\":\"15712\"}},\"id\":\"15694\",\"type\":\"ColumnDataSource\"},{\"attributes\":{},\"id\":\"15865\",\"type\":\"PanTool\"},{\"attributes\":{\"data\":{\"A_0\":[6,0,0,0,0,0,0,0],\"index\":[\"No Missing\",\"0-5%\",\"5-10%\",\"10-20%\",\"20-30%\",\"30-40%\",\"40-50%\",\"50-100%\"]},\"selected\":{\"id\":\"15573\"},\"selection_policy\":{\"id\":\"15590\"}},\"id\":\"15572\",\"type\":\"ColumnDataSource\"},{\"attributes\":{\"bottom_units\":\"screen\",\"fill_alpha\":0.5,\"fill_color\":\"lightgrey\",\"left_units\":\"screen\",\"level\":\"overlay\",\"line_alpha\":1.0,\"line_color\":\"black\",\"line_dash\":[4,4],\"line_width\":2,\"right_units\":\"screen\",\"top_units\":\"screen\"},\"id\":\"15808\",\"type\":\"BoxAnnotation\"},{\"attributes\":{\"align\":null,\"below\":[{\"id\":\"15735\"}],\"center\":[{\"id\":\"15737\"},{\"id\":\"15741\"}],\"left\":[{\"id\":\"15738\"}],\"margin\":null,\"min_border_bottom\":10,\"min_border_left\":10,\"min_border_right\":10,\"min_border_top\":10,\"plot_height\":300,\"plot_width\":700,\"renderers\":[{\"id\":\"15761\"}],\"sizing_mode\":\"fixed\",\"title\":{\"id\":\"15727\"},\"toolbar\":{\"id\":\"15748\"},\"x_range\":{\"id\":\"15540\"},\"x_scale\":{\"id\":\"15731\"},\"y_range\":{\"id\":\"15541\"},\"y_scale\":{\"id\":\"15733\"}},\"id\":\"15726\",\"subtype\":\"Figure\",\"type\":\"Plot\"},{\"attributes\":{},\"id\":\"15563\",\"type\":\"ResetTool\"},{\"attributes\":{},\"id\":\"15553\",\"type\":\"CategoricalTicker\"},{\"attributes\":{},\"id\":\"15681\",\"type\":\"SaveTool\"},{\"attributes\":{\"source\":{\"id\":\"15633\"}},\"id\":\"15640\",\"type\":\"CDSView\"},{\"attributes\":{},\"id\":\"15560\",\"type\":\"PanTool\"},{\"attributes\":{},\"id\":\"15742\",\"type\":\"SaveTool\"},{\"attributes\":{\"fill_alpha\":{\"value\":0.1},\"fill_color\":{\"value\":\"#1f77b3\"},\"line_alpha\":{\"value\":0.1},\"top\":{\"field\":\"A_0\"},\"width\":{\"value\":0.8},\"x\":{\"field\":\"index\"}},\"id\":\"15759\",\"type\":\"VBar\"},{\"attributes\":{\"text\":\"Missing Variables - Data Shape:(181565, 6)\",\"text_color\":{\"value\":\"black\"},\"text_font_size\":{\"value\":\"12pt\"}},\"id\":\"15544\",\"type\":\"Title\"},{\"attributes\":{},\"id\":\"15685\",\"type\":\"ResetTool\"},{\"attributes\":{\"axis\":{\"id\":\"15735\"},\"grid_line_color\":null,\"ticker\":null},\"id\":\"15737\",\"type\":\"Grid\"},{\"attributes\":{},\"id\":\"15678\",\"type\":\"BasicTicker\"},{\"attributes\":{\"axis\":{\"id\":\"15857\"},\"grid_line_color\":null,\"ticker\":null},\"id\":\"15859\",\"type\":\"Grid\"},{\"attributes\":{\"overlay\":{\"id\":\"15869\"}},\"id\":\"15867\",\"type\":\"BoxZoomTool\"},{\"attributes\":{\"axis_label\":\"# of variables\",\"bounds\":\"auto\",\"formatter\":{\"id\":\"15766\"},\"major_label_orientation\":\"horizontal\",\"ticker\":{\"id\":\"15739\"}},\"id\":\"15738\",\"type\":\"LinearAxis\"},{\"attributes\":{\"source\":{\"id\":\"15694\"}},\"id\":\"15701\",\"type\":\"CDSView\"},{\"attributes\":{},\"id\":\"15611\",\"type\":\"LinearScale\"},{\"attributes\":{\"data\":{\"A_0\":[2,0,0,0,0,0,1,0],\"index\":[\"No Missing\",\"0-5%\",\"5-10%\",\"10-20%\",\"20-30%\",\"30-40%\",\"40-50%\",\"50-100%\"]},\"selected\":{\"id\":\"15756\"},\"selection_policy\":{\"id\":\"15773\"}},\"id\":\"15755\",\"type\":\"ColumnDataSource\"},{\"attributes\":{},\"id\":\"15675\",\"type\":\"CategoricalTicker\"},{\"attributes\":{\"overlay\":{\"id\":\"15747\"}},\"id\":\"15745\",\"type\":\"BoxZoomTool\"},{\"attributes\":{\"fill_alpha\":{\"value\":0.1},\"fill_color\":{\"value\":\"#1f77b3\"},\"line_alpha\":{\"value\":0.1},\"top\":{\"field\":\"A_0\"},\"width\":{\"value\":0.8},\"x\":{\"field\":\"index\"}},\"id\":\"15637\",\"type\":\"VBar\"},{\"attributes\":{},\"id\":\"15609\",\"type\":\"CategoricalScale\"},{\"attributes\":{\"active_drag\":\"auto\",\"active_inspect\":\"auto\",\"active_multi\":null,\"active_scroll\":\"auto\",\"active_tap\":\"auto\",\"tools\":[{\"id\":\"15725\"},{\"id\":\"15742\"},{\"id\":\"15743\"},{\"id\":\"15744\"},{\"id\":\"15745\"},{\"id\":\"15746\"}]},\"id\":\"15748\",\"type\":\"Toolbar\"},{\"attributes\":{},\"id\":\"15614\",\"type\":\"CategoricalTicker\"},{\"attributes\":{\"text\":\"Missing Variables - Data Shape:(67175, 2)\",\"text_color\":{\"value\":\"black\"},\"text_font_size\":{\"value\":\"12pt\"}},\"id\":\"15605\",\"type\":\"Title\"},{\"attributes\":{},\"id\":\"15866\",\"type\":\"WheelZoomTool\"},{\"attributes\":{},\"id\":\"15559\",\"type\":\"SaveTool\"},{\"attributes\":{\"fill_color\":{\"value\":\"#1f77b3\"},\"top\":{\"field\":\"A_0\"},\"width\":{\"value\":0.8},\"x\":{\"field\":\"index\"}},\"id\":\"15697\",\"type\":\"VBar\"},{\"attributes\":{\"data\":{\"A_0\":[2,0,0,0,0,0,0,0],\"index\":[\"No Missing\",\"0-5%\",\"5-10%\",\"10-20%\",\"20-30%\",\"30-40%\",\"40-50%\",\"50-100%\"]},\"selected\":{\"id\":\"15817\"},\"selection_policy\":{\"id\":\"15834\"}},\"id\":\"15816\",\"type\":\"ColumnDataSource\"},{\"attributes\":{},\"id\":\"15861\",\"type\":\"BasicTicker\"},{\"attributes\":{},\"id\":\"15672\",\"type\":\"LinearScale\"},{\"attributes\":{\"axis\":{\"id\":\"15860\"},\"dimension\":1,\"grid_line_color\":null,\"ticker\":null},\"id\":\"15863\",\"type\":\"Grid\"},{\"attributes\":{\"fill_color\":{\"value\":\"#1f77b3\"},\"top\":{\"field\":\"A_0\"},\"width\":{\"value\":0.8},\"x\":{\"field\":\"index\"}},\"id\":\"15636\",\"type\":\"VBar\"},{\"attributes\":{\"axis_label\":\"# of missing observations\",\"bounds\":\"auto\",\"formatter\":{\"id\":\"15641\"},\"major_label_orientation\":\"horizontal\",\"ticker\":{\"id\":\"15614\"}},\"id\":\"15613\",\"type\":\"CategoricalAxis\"},{\"attributes\":{\"fill_alpha\":{\"value\":0.2},\"fill_color\":{\"value\":\"#1f77b3\"},\"line_alpha\":{\"value\":0.2},\"top\":{\"field\":\"A_0\"},\"width\":{\"value\":0.8},\"x\":{\"field\":\"index\"}},\"id\":\"15638\",\"type\":\"VBar\"},{\"attributes\":{\"data_source\":{\"id\":\"15633\"},\"glyph\":{\"id\":\"15636\"},\"hover_glyph\":null,\"muted_glyph\":{\"id\":\"15638\"},\"nonselection_glyph\":{\"id\":\"15637\"},\"selection_glyph\":null,\"view\":{\"id\":\"15640\"}},\"id\":\"15639\",\"type\":\"GlyphRenderer\"},{\"attributes\":{},\"id\":\"15739\",\"type\":\"BasicTicker\"},{\"attributes\":{\"child\":{\"id\":\"15604\"},\"name\":\"product_manufacturer_list\",\"title\":\"product_manufacturer_list\"},\"id\":\"15661\",\"type\":\"Panel\"},{\"attributes\":{\"callback\":null,\"renderers\":[{\"id\":\"15578\"}],\"tags\":[\"hv_created\"],\"tooltips\":[[\"index\",\"@{index}\"],[\"0\",\"@{A_0}\"]]},\"id\":\"15542\",\"type\":\"HoverTool\"},{\"attributes\":{\"fill_color\":{\"value\":\"#1f77b3\"},\"top\":{\"field\":\"A_0\"},\"width\":{\"value\":0.8},\"x\":{\"field\":\"index\"}},\"id\":\"15575\",\"type\":\"VBar\"},{\"attributes\":{\"axis\":{\"id\":\"15555\"},\"dimension\":1,\"grid_line_color\":null,\"ticker\":null},\"id\":\"15558\",\"type\":\"Grid\"},{\"attributes\":{},\"id\":\"15548\",\"type\":\"CategoricalScale\"},{\"attributes\":{\"active_drag\":\"auto\",\"active_inspect\":\"auto\",\"active_multi\":null,\"active_scroll\":\"auto\",\"active_tap\":\"auto\",\"tools\":[{\"id\":\"15603\"},{\"id\":\"15620\"},{\"id\":\"15621\"},{\"id\":\"15622\"},{\"id\":\"15623\"},{\"id\":\"15624\"}]},\"id\":\"15626\",\"type\":\"Toolbar\"},{\"attributes\":{\"text\":\"Missing Variables - Data Shape:(4526182, 5)\",\"text_color\":{\"value\":\"black\"},\"text_font_size\":{\"value\":\"12pt\"}},\"id\":\"15666\",\"type\":\"Title\"},{\"attributes\":{\"callback\":null,\"renderers\":[{\"id\":\"15761\"}],\"tags\":[\"hv_created\"],\"tooltips\":[[\"index\",\"@{index}\"],[\"0\",\"@{A_0}\"]]},\"id\":\"15725\",\"type\":\"HoverTool\"},{\"attributes\":{\"data_source\":{\"id\":\"15694\"},\"glyph\":{\"id\":\"15697\"},\"hover_glyph\":null,\"muted_glyph\":{\"id\":\"15699\"},\"nonselection_glyph\":{\"id\":\"15698\"},\"selection_glyph\":null,\"view\":{\"id\":\"15701\"}},\"id\":\"15700\",\"type\":\"GlyphRenderer\"},{\"attributes\":{},\"id\":\"15634\",\"type\":\"Selection\"},{\"attributes\":{\"child\":{\"id\":\"15787\"},\"name\":\"Theme_list\",\"title\":\"Theme_list\"},\"id\":\"15844\",\"type\":\"Panel\"},{\"attributes\":{},\"id\":\"15583\",\"type\":\"BasicTickFormatter\"},{\"attributes\":{},\"id\":\"15834\",\"type\":\"UnionRenderers\"},{\"attributes\":{\"fill_alpha\":{\"value\":0.1},\"fill_color\":{\"value\":\"#1f77b3\"},\"line_alpha\":{\"value\":0.1},\"top\":{\"field\":\"A_0\"},\"width\":{\"value\":0.8},\"x\":{\"field\":\"index\"}},\"id\":\"15698\",\"type\":\"VBar\"},{\"attributes\":{\"axis\":{\"id\":\"15674\"},\"grid_line_color\":null,\"ticker\":null},\"id\":\"15676\",\"type\":\"Grid\"},{\"attributes\":{\"fill_color\":{\"value\":\"#1f77b3\"},\"top\":{\"field\":\"A_0\"},\"width\":{\"value\":0.8},\"x\":{\"field\":\"index\"}},\"id\":\"15758\",\"type\":\"VBar\"},{\"attributes\":{\"axis\":{\"id\":\"15677\"},\"dimension\":1,\"grid_line_color\":null,\"ticker\":null},\"id\":\"15680\",\"type\":\"Grid\"},{\"attributes\":{\"callback\":null,\"renderers\":[{\"id\":\"15639\"}],\"tags\":[\"hv_created\"],\"tooltips\":[[\"index\",\"@{index}\"],[\"0\",\"@{A_0}\"]]},\"id\":\"15603\",\"type\":\"HoverTool\"},{\"attributes\":{\"active_drag\":\"auto\",\"active_inspect\":\"auto\",\"active_multi\":null,\"active_scroll\":\"auto\",\"active_tap\":\"auto\",\"tools\":[{\"id\":\"15664\"},{\"id\":\"15681\"},{\"id\":\"15682\"},{\"id\":\"15683\"},{\"id\":\"15684\"},{\"id\":\"15685\"}]},\"id\":\"15687\",\"type\":\"Toolbar\"},{\"attributes\":{\"bottom_units\":\"screen\",\"fill_alpha\":0.5,\"fill_color\":\"lightgrey\",\"left_units\":\"screen\",\"level\":\"overlay\",\"line_alpha\":1.0,\"line_color\":\"black\",\"line_dash\":[4,4],\"line_width\":2,\"right_units\":\"screen\",\"top_units\":\"screen\"},\"id\":\"15686\",\"type\":\"BoxAnnotation\"},{\"attributes\":{},\"id\":\"15736\",\"type\":\"CategoricalTicker\"},{\"attributes\":{\"axis_label\":\"# of missing observations\",\"bounds\":\"auto\",\"formatter\":{\"id\":\"15763\"},\"major_label_orientation\":\"horizontal\",\"ticker\":{\"id\":\"15736\"}},\"id\":\"15735\",\"type\":\"CategoricalAxis\"},{\"attributes\":{},\"id\":\"15744\",\"type\":\"WheelZoomTool\"},{\"attributes\":{\"axis\":{\"id\":\"15738\"},\"dimension\":1,\"grid_line_color\":null,\"ticker\":null},\"id\":\"15741\",\"type\":\"Grid\"},{\"attributes\":{},\"id\":\"15641\",\"type\":\"CategoricalTickFormatter\"},{\"attributes\":{\"callback\":null,\"renderers\":[{\"id\":\"15700\"}],\"tags\":[\"hv_created\"],\"tooltips\":[[\"index\",\"@{index}\"],[\"0\",\"@{A_0}\"]]},\"id\":\"15664\",\"type\":\"HoverTool\"},{\"attributes\":{},\"id\":\"15746\",\"type\":\"ResetTool\"},{\"attributes\":{},\"id\":\"15766\",\"type\":\"BasicTickFormatter\"},{\"attributes\":{\"align\":null,\"below\":[{\"id\":\"15674\"}],\"center\":[{\"id\":\"15676\"},{\"id\":\"15680\"}],\"left\":[{\"id\":\"15677\"}],\"margin\":null,\"min_border_bottom\":10,\"min_border_left\":10,\"min_border_right\":10,\"min_border_top\":10,\"plot_height\":300,\"plot_width\":700,\"renderers\":[{\"id\":\"15700\"}],\"sizing_mode\":\"fixed\",\"title\":{\"id\":\"15666\"},\"toolbar\":{\"id\":\"15687\"},\"x_range\":{\"id\":\"15540\"},\"x_scale\":{\"id\":\"15670\"},\"y_range\":{\"id\":\"15541\"},\"y_scale\":{\"id\":\"15672\"}},\"id\":\"15665\",\"subtype\":\"Figure\",\"type\":\"Plot\"},{\"attributes\":{},\"id\":\"15743\",\"type\":\"PanTool\"},{\"attributes\":{\"axis_label\":\"# of variables\",\"bounds\":\"auto\",\"formatter\":{\"id\":\"15644\"},\"major_label_orientation\":\"horizontal\",\"ticker\":{\"id\":\"15617\"}},\"id\":\"15616\",\"type\":\"LinearAxis\"},{\"attributes\":{\"factors\":[\"No Missing\",\"0-5%\",\"5-10%\",\"10-20%\",\"20-30%\",\"30-40%\",\"40-50%\",\"50-100%\"],\"tags\":[[[\"index\",\"index\",null]]]},\"id\":\"15540\",\"type\":\"FactorRange\"},{\"attributes\":{},\"id\":\"15702\",\"type\":\"CategoricalTickFormatter\"},{\"attributes\":{},\"id\":\"15695\",\"type\":\"Selection\"},{\"attributes\":{\"active_drag\":\"auto\",\"active_inspect\":\"auto\",\"active_multi\":null,\"active_scroll\":\"auto\",\"active_tap\":\"auto\",\"tools\":[{\"id\":\"15847\"},{\"id\":\"15864\"},{\"id\":\"15865\"},{\"id\":\"15866\"},{\"id\":\"15867\"},{\"id\":\"15868\"}]},\"id\":\"15870\",\"type\":\"Toolbar\"},{\"attributes\":{},\"id\":\"15895\",\"type\":\"UnionRenderers\"},{\"attributes\":{\"fill_alpha\":{\"value\":0.2},\"fill_color\":{\"value\":\"#1f77b3\"},\"line_alpha\":{\"value\":0.2},\"top\":{\"field\":\"A_0\"},\"width\":{\"value\":0.8},\"x\":{\"field\":\"index\"}},\"id\":\"15577\",\"type\":\"VBar\"}],\"root_ids\":[\"15539\",\"16050\"]},\"title\":\"Bokeh Application\",\"version\":\"2.2.3\"}};\n",
       "  var render_items = [{\"docid\":\"2f31dcba-ae15-4c3a-9d69-d3221a587455\",\"root_ids\":[\"15539\"],\"roots\":{\"15539\":\"402bbf93-7a02-44cd-8e14-6a006c9e65ad\"}}];\n",
       "  root.Bokeh.embed.embed_items_notebook(docs_json, render_items);\n",
       "  }\n",
       "if (root.Bokeh !== undefined) {\n",
       "    embed_document(root);\n",
       "  } else {\n",
       "    var attempts = 0;\n",
       "    var timer = setInterval(function(root) {\n",
       "      if (root.Bokeh !== undefined) {\n",
       "        clearInterval(timer);\n",
       "        embed_document(root);\n",
       "      } else if (document.readyState == \"complete\") {\n",
       "        attempts++;\n",
       "        if (attempts > 100) {\n",
       "          clearInterval(timer);\n",
       "          console.log(\"Bokeh: ERROR: Unable to run BokehJS code because BokehJS library is missing\");\n",
       "        }\n",
       "      }\n",
       "    }, 10, root)\n",
       "  }\n",
       "})(window);</script>"
      ],
      "text/plain": [
       "Tabs\n",
       "    [0] HoloViews(Bars, name='google')\n",
       "    [1] HoloViews(Bars, name='product_manufacturer_list...)\n",
       "    [2] HoloViews(Bars, name='sales_data')\n",
       "    [3] HoloViews(Bars, name='social_media_data')\n",
       "    [4] HoloViews(Bars, name='Theme_list')\n",
       "    [5] HoloViews(Bars, name='Theme_product_list')"
      ]
     },
     "execution_count": 61,
     "metadata": {
      "application/vnd.holoviews_exec.v0+json": {
       "id": "15539"
      }
     },
     "output_type": "execute_result"
    }
   ],
   "source": [
    "sum1, plot1 = eda.get_missing_values_summary(google_df, return_plot=True)\n",
    "sum2, plot2 = eda.get_missing_values_summary(pro_manu_df, return_plot=True)\n",
    "sum3, plot3 = eda.get_missing_values_summary(sales_df, return_plot=True)\n",
    "sum4, plot4 = eda.get_missing_values_summary(soc_media_df, return_plot=True)\n",
    "sum5, plot5 = eda.get_missing_values_summary(theme_df, return_plot=True)\n",
    "sum6, plot6 = eda.get_missing_values_summary(theme_pro_df, return_plot=True)\n",
    "\n",
    "display_as_tabs([('google', plot1), ('product_manufacturer_list', plot2),\n",
    "                 ('sales_data', plot3), ('social_media_data', plot4),\n",
    "                ('Theme_list', plot5), ('Theme_product_list', plot6)])"
   ]
  },
  {
   "cell_type": "markdown",
   "metadata": {},
   "source": [
    "**Dev notes:**\n",
    "\n",
    "<details>\n",
    "    \n",
    "    * By default, the following are considered missing/NA values : `[np.Nan, pd.NaT, 'NA', None]`\n",
    "    * additional values can be passed to tigerml (add_additional_na_values)\n",
    "    * these are applied to all columns.\n",
    "    \n",
    "    * some of the above information can be learnt from the data discovery step (see discussion below)\n",
    "    \n",
    "</details>"
   ]
  },
  {
   "cell_type": "code",
   "execution_count": 62,
   "metadata": {},
   "outputs": [
    {
     "data": {},
     "metadata": {},
     "output_type": "display_data"
    },
    {
     "data": {
      "application/vnd.holoviews_exec.v0+json": "",
      "text/html": [
       "<div id='16291'>\n",
       "\n",
       "\n",
       "\n",
       "\n",
       "\n",
       "  <div class=\"bk-root\" id=\"10e1eac1-1378-472e-9ac0-7414cea4ac34\" data-root-id=\"16291\"></div>\n",
       "</div>\n",
       "<script type=\"application/javascript\">(function(root) {\n",
       "  function embed_document(root) {\n",
       "  var docs_json = {\"7da4ffa8-1629-4f99-855b-a636ff1a694b\":{\"roots\":{\"references\":[{\"attributes\":{\"child\":{\"id\":\"16292\"},\"name\":\"google\",\"title\":\"google\"},\"id\":\"16293\",\"type\":\"Panel\"},{\"attributes\":{\"child\":{\"id\":\"16294\"},\"name\":\"product_manufacturer_list\",\"title\":\"product_manufacturer_list\"},\"id\":\"16295\",\"type\":\"Panel\"},{\"attributes\":{\"child\":{\"id\":\"16296\"},\"name\":\"sales_data\",\"title\":\"sales_data\"},\"id\":\"16297\",\"type\":\"Panel\"},{\"attributes\":{\"client_comm_id\":\"55660f68bd714cb09d564bec2d4c2b4f\",\"comm_id\":\"350cc74871d9442a959943f92b9bcee6\",\"plot_id\":\"16291\"},\"id\":\"16304\",\"type\":\"panel.models.comm_manager.CommManager\"},{\"attributes\":{\"css_classes\":[\"markdown\"],\"margin\":[5,5,5,5],\"name\":\"sales_data\",\"text\":\"&lt;p&gt;No duplicate variables&lt;/p&gt;\"},\"id\":\"16296\",\"type\":\"panel.models.markup.HTML\"},{\"attributes\":{\"css_classes\":[\"markdown\"],\"margin\":[5,5,5,5],\"name\":\"product_manufacturer_list\",\"text\":\"&lt;p&gt;No duplicate variables&lt;/p&gt;\"},\"id\":\"16294\",\"type\":\"panel.models.markup.HTML\"},{\"attributes\":{\"child\":{\"id\":\"16302\"},\"name\":\"Theme_product_list\",\"title\":\"Theme_product_list\"},\"id\":\"16303\",\"type\":\"Panel\"},{\"attributes\":{\"margin\":[0,0,0,0],\"tabs\":[{\"id\":\"16293\"},{\"id\":\"16295\"},{\"id\":\"16297\"},{\"id\":\"16299\"},{\"id\":\"16301\"},{\"id\":\"16303\"}]},\"id\":\"16291\",\"type\":\"Tabs\"},{\"attributes\":{\"child\":{\"id\":\"16298\"},\"name\":\"social_media_data\",\"title\":\"social_media_data\"},\"id\":\"16299\",\"type\":\"Panel\"},{\"attributes\":{\"css_classes\":[\"markdown\"],\"margin\":[5,5,5,5],\"name\":\"Theme_list\",\"text\":\"&lt;p&gt;No duplicate variables&lt;/p&gt;\"},\"id\":\"16300\",\"type\":\"panel.models.markup.HTML\"},{\"attributes\":{\"css_classes\":[\"markdown\"],\"margin\":[5,5,5,5],\"name\":\"Theme_product_list\",\"text\":\"&lt;p&gt;No duplicate variables&lt;/p&gt;\"},\"id\":\"16302\",\"type\":\"panel.models.markup.HTML\"},{\"attributes\":{\"child\":{\"id\":\"16300\"},\"name\":\"Theme_list\",\"title\":\"Theme_list\"},\"id\":\"16301\",\"type\":\"Panel\"},{\"attributes\":{\"css_classes\":[\"markdown\"],\"margin\":[5,5,5,5],\"name\":\"google\",\"text\":\"&lt;p&gt;No duplicate variables&lt;/p&gt;\"},\"id\":\"16292\",\"type\":\"panel.models.markup.HTML\"},{\"attributes\":{\"css_classes\":[\"markdown\"],\"margin\":[5,5,5,5],\"name\":\"social_media_data\",\"text\":\"&lt;p&gt;No duplicate variables&lt;/p&gt;\"},\"id\":\"16298\",\"type\":\"panel.models.markup.HTML\"}],\"root_ids\":[\"16291\",\"16304\"]},\"title\":\"Bokeh Application\",\"version\":\"2.2.3\"}};\n",
       "  var render_items = [{\"docid\":\"7da4ffa8-1629-4f99-855b-a636ff1a694b\",\"root_ids\":[\"16291\"],\"roots\":{\"16291\":\"10e1eac1-1378-472e-9ac0-7414cea4ac34\"}}];\n",
       "  root.Bokeh.embed.embed_items_notebook(docs_json, render_items);\n",
       "  }\n",
       "if (root.Bokeh !== undefined) {\n",
       "    embed_document(root);\n",
       "  } else {\n",
       "    var attempts = 0;\n",
       "    var timer = setInterval(function(root) {\n",
       "      if (root.Bokeh !== undefined) {\n",
       "        clearInterval(timer);\n",
       "        embed_document(root);\n",
       "      } else if (document.readyState == \"complete\") {\n",
       "        attempts++;\n",
       "        if (attempts > 100) {\n",
       "          clearInterval(timer);\n",
       "          console.log(\"Bokeh: ERROR: Unable to run BokehJS code because BokehJS library is missing\");\n",
       "        }\n",
       "      }\n",
       "    }, 10, root)\n",
       "  }\n",
       "})(window);</script>"
      ],
      "text/plain": [
       "Tabs\n",
       "    [0] Markdown(str, name='google')\n",
       "    [1] Markdown(str, name='product_manufacturer_list...)\n",
       "    [2] Markdown(str, name='sales_data')\n",
       "    [3] Markdown(str, name='social_media_data')\n",
       "    [4] Markdown(str, name='Theme_list')\n",
       "    [5] Markdown(str, name='Theme_product_list')"
      ]
     },
     "execution_count": 62,
     "metadata": {
      "application/vnd.holoviews_exec.v0+json": {
       "id": "16291"
      }
     },
     "output_type": "execute_result"
    }
   ],
   "source": [
    "sum1 = eda.get_duplicate_columns(google_df)\n",
    "sum2 = eda.get_duplicate_columns(pro_manu_df)\n",
    "sum3 = eda.get_duplicate_columns(sales_df)\n",
    "sum4 = eda.get_duplicate_columns(soc_media_df)\n",
    "sum5 = eda.get_duplicate_columns(theme_df)\n",
    "sum6 = eda.get_duplicate_columns(theme_pro_df)\n",
    "\n",
    "display_as_tabs([('google', sum1), ('product_manufacturer_list', sum2),\n",
    "                 ('sales_data', sum3), ('social_media_data', sum4),\n",
    "                ('Theme_list', sum5), ('Theme_product_list', sum6)])"
   ]
  },
  {
   "cell_type": "code",
   "execution_count": 63,
   "metadata": {},
   "outputs": [
    {
     "data": {},
     "metadata": {},
     "output_type": "display_data"
    },
    {
     "data": {
      "application/vnd.holoviews_exec.v0+json": "",
      "text/html": [
       "<div id='16305'>\n",
       "\n",
       "\n",
       "\n",
       "\n",
       "\n",
       "  <div class=\"bk-root\" id=\"9f2f7ac7-e9e4-412f-ade1-52fe7a20a77a\" data-root-id=\"16305\"></div>\n",
       "</div>\n",
       "<script type=\"application/javascript\">(function(root) {\n",
       "  function embed_document(root) {\n",
       "  var docs_json = {\"3ee84e22-642b-4097-b957-52cf63f0f494\":{\"roots\":{\"references\":[{\"attributes\":{},\"id\":\"16318\",\"type\":\"IntEditor\"},{\"attributes\":{},\"id\":\"16419\",\"type\":\"NumberFormatter\"},{\"attributes\":{},\"id\":\"16360\",\"type\":\"IntEditor\"},{\"attributes\":{},\"id\":\"16476\",\"type\":\"UnionRenderers\"},{\"attributes\":{},\"id\":\"16308\",\"type\":\"StringEditor\"},{\"attributes\":{},\"id\":\"16322\",\"type\":\"NumberFormatter\"},{\"attributes\":{},\"id\":\"16390\",\"type\":\"StringEditor\"},{\"attributes\":{},\"id\":\"16451\",\"type\":\"NumberFormatter\"},{\"attributes\":{\"data\":{\"('Data Shape:(4526182, 5)', '+inf')\":[0,0,0],\"('Data Shape:(4526182, 5)', '-inf')\":[0,0,0],\"('Data Shape:(4526182, 5)', '< (1stQ - 1.5 * IQR)')\":[0,0,0],\"('Data Shape:(4526182, 5)', '< (mean-3*std)')\":[0,0,0],\"('Data Shape:(4526182, 5)', '> (3rdQ + 1.5 * IQR)')\":[631250,668926,715431],\"('Data Shape:(4526182, 5)', '> (mean+3*std)')\":[70655,47393,35562],\"index\":[\"sales_dollars_value\",\"sales_units_value\",\"sales_lbs_value\"]},\"selected\":{\"id\":\"16386\"},\"selection_policy\":{\"id\":\"16472\"}},\"id\":\"16348\",\"type\":\"ColumnDataSource\"},{\"attributes\":{},\"id\":\"16327\",\"type\":\"NumberFormatter\"},{\"attributes\":{},\"id\":\"16369\",\"type\":\"NumberFormatter\"},{\"attributes\":{},\"id\":\"16338\",\"type\":\"IntEditor\"},{\"attributes\":{\"editor\":{\"id\":\"16318\"},\"field\":\"('Data Shape:(181565, 6)', '> (mean+3*std)')\",\"formatter\":{\"id\":\"16317\"},\"title\":\"('Data Shape:(181565, 6)', '> (mean+3*std)')\",\"width\":null},\"id\":\"16319\",\"type\":\"TableColumn\"},{\"attributes\":{},\"id\":\"16432\",\"type\":\"StringEditor\"},{\"attributes\":{},\"id\":\"16399\",\"type\":\"NumberFormatter\"},{\"attributes\":{\"child\":{\"id\":\"16466\"},\"name\":\"Theme_product_list\",\"title\":\"Theme_product_list\"},\"id\":\"16469\",\"type\":\"Panel\"},{\"attributes\":{},\"id\":\"16379\",\"type\":\"NumberFormatter\"},{\"attributes\":{},\"id\":\"16349\",\"type\":\"StringFormatter\"},{\"attributes\":{},\"id\":\"16409\",\"type\":\"NumberFormatter\"},{\"attributes\":{},\"id\":\"16442\",\"type\":\"IntEditor\"},{\"attributes\":{},\"id\":\"16344\",\"type\":\"Selection\"},{\"attributes\":{\"editor\":{\"id\":\"16355\"},\"field\":\"('Data Shape:(4526182, 5)', '< (mean-3*std)')\",\"formatter\":{\"id\":\"16354\"},\"title\":\"('Data Shape:(4526182, 5)', '< (mean-3*std)')\",\"width\":null},\"id\":\"16356\",\"type\":\"TableColumn\"},{\"attributes\":{\"editor\":{\"id\":\"16400\"},\"field\":\"('Data Shape:(533390, 3)', '> (mean+3*std)')\",\"formatter\":{\"id\":\"16399\"},\"title\":\"('Data Shape:(533390, 3)', '> (mean+3*std)')\",\"width\":null},\"id\":\"16401\",\"type\":\"TableColumn\"},{\"attributes\":{},\"id\":\"16414\",\"type\":\"NumberFormatter\"},{\"attributes\":{},\"id\":\"16380\",\"type\":\"IntEditor\"},{\"attributes\":{\"source\":{\"id\":\"16430\"}},\"id\":\"16467\",\"type\":\"CDSView\"},{\"attributes\":{\"css_classes\":[\"markdown\"],\"margin\":[5,5,5,5],\"name\":\"Theme_list\",\"text\":\"&lt;p&gt;No Outlier Values&lt;/p&gt;\"},\"id\":\"16428\",\"type\":\"panel.models.markup.HTML\"},{\"attributes\":{\"editor\":{\"id\":\"16432\"},\"field\":\"index\",\"formatter\":{\"id\":\"16431\"},\"title\":\"index\",\"width\":null},\"id\":\"16433\",\"type\":\"TableColumn\"},{\"attributes\":{},\"id\":\"16354\",\"type\":\"NumberFormatter\"},{\"attributes\":{\"editor\":{\"id\":\"16360\"},\"field\":\"('Data Shape:(4526182, 5)', '> (mean+3*std)')\",\"formatter\":{\"id\":\"16359\"},\"title\":\"('Data Shape:(4526182, 5)', '> (mean+3*std)')\",\"width\":null},\"id\":\"16361\",\"type\":\"TableColumn\"},{\"attributes\":{\"editor\":{\"id\":\"16370\"},\"field\":\"('Data Shape:(4526182, 5)', '> (3rdQ + 1.5 * IQR)')\",\"formatter\":{\"id\":\"16369\"},\"title\":\"('Data Shape:(4526182, 5)', '> (3rdQ + 1.5 * IQR)')\",\"width\":null},\"id\":\"16371\",\"type\":\"TableColumn\"},{\"attributes\":{\"editor\":{\"id\":\"16323\"},\"field\":\"('Data Shape:(181565, 6)', '< (1stQ - 1.5 * IQR)')\",\"formatter\":{\"id\":\"16322\"},\"title\":\"('Data Shape:(181565, 6)', '< (1stQ - 1.5 * IQR)')\",\"width\":null},\"id\":\"16324\",\"type\":\"TableColumn\"},{\"attributes\":{},\"id\":\"16452\",\"type\":\"IntEditor\"},{\"attributes\":{},\"id\":\"16394\",\"type\":\"NumberFormatter\"},{\"attributes\":{\"editor\":{\"id\":\"16437\"},\"field\":\"('Data Shape:(91485, 2)', '< (mean-3*std)')\",\"formatter\":{\"id\":\"16436\"},\"title\":\"('Data Shape:(91485, 2)', '< (mean-3*std)')\",\"width\":null},\"id\":\"16438\",\"type\":\"TableColumn\"},{\"attributes\":{},\"id\":\"16350\",\"type\":\"StringEditor\"},{\"attributes\":{\"editor\":{\"id\":\"16350\"},\"field\":\"index\",\"formatter\":{\"id\":\"16349\"},\"title\":\"index\",\"width\":null},\"id\":\"16351\",\"type\":\"TableColumn\"},{\"attributes\":{\"editor\":{\"id\":\"16462\"},\"field\":\"('Data Shape:(91485, 2)', '+inf')\",\"formatter\":{\"id\":\"16461\"},\"title\":\"('Data Shape:(91485, 2)', '+inf')\",\"width\":null},\"id\":\"16463\",\"type\":\"TableColumn\"},{\"attributes\":{},\"id\":\"16400\",\"type\":\"IntEditor\"},{\"attributes\":{\"editor\":{\"id\":\"16308\"},\"field\":\"index\",\"formatter\":{\"id\":\"16307\"},\"title\":\"index\",\"width\":null},\"id\":\"16309\",\"type\":\"TableColumn\"},{\"attributes\":{\"columns\":[{\"id\":\"16351\"},{\"id\":\"16356\"},{\"id\":\"16361\"},{\"id\":\"16366\"},{\"id\":\"16371\"},{\"id\":\"16376\"},{\"id\":\"16381\"}],\"editable\":true,\"fit_columns\":true,\"height\":105,\"index_position\":null,\"margin\":[5,10,5,10],\"name\":\"sales_data\",\"source\":{\"id\":\"16348\"},\"view\":{\"id\":\"16385\"}},\"id\":\"16384\",\"type\":\"DataTable\"},{\"attributes\":{\"source\":{\"id\":\"16388\"}},\"id\":\"16425\",\"type\":\"CDSView\"},{\"attributes\":{\"data\":{\"('Data Shape:(91485, 2)', '+inf')\":[0],\"('Data Shape:(91485, 2)', '-inf')\":[0],\"('Data Shape:(91485, 2)', '< (1stQ - 1.5 * IQR)')\":[0],\"('Data Shape:(91485, 2)', '< (mean-3*std)')\":[0],\"('Data Shape:(91485, 2)', '> (3rdQ + 1.5 * IQR)')\":[8194],\"('Data Shape:(91485, 2)', '> (mean+3*std)')\":[0],\"index\":[\"CLAIM_ID\"]},\"selected\":{\"id\":\"16468\"},\"selection_policy\":{\"id\":\"16476\"}},\"id\":\"16430\",\"type\":\"ColumnDataSource\"},{\"attributes\":{},\"id\":\"16472\",\"type\":\"UnionRenderers\"},{\"attributes\":{},\"id\":\"16404\",\"type\":\"NumberFormatter\"},{\"attributes\":{\"child\":{\"id\":\"16342\"},\"name\":\"google\",\"title\":\"google\"},\"id\":\"16345\",\"type\":\"Panel\"},{\"attributes\":{},\"id\":\"16420\",\"type\":\"IntEditor\"},{\"attributes\":{\"editor\":{\"id\":\"16415\"},\"field\":\"('Data Shape:(533390, 3)', '-inf')\",\"formatter\":{\"id\":\"16414\"},\"title\":\"('Data Shape:(533390, 3)', '-inf')\",\"width\":null},\"id\":\"16416\",\"type\":\"TableColumn\"},{\"attributes\":{},\"id\":\"16410\",\"type\":\"IntEditor\"},{\"attributes\":{},\"id\":\"16468\",\"type\":\"Selection\"},{\"attributes\":{},\"id\":\"16436\",\"type\":\"NumberFormatter\"},{\"attributes\":{\"editor\":{\"id\":\"16380\"},\"field\":\"('Data Shape:(4526182, 5)', '+inf')\",\"formatter\":{\"id\":\"16379\"},\"title\":\"('Data Shape:(4526182, 5)', '+inf')\",\"width\":null},\"id\":\"16381\",\"type\":\"TableColumn\"},{\"attributes\":{},\"id\":\"16426\",\"type\":\"Selection\"},{\"attributes\":{\"editor\":{\"id\":\"16452\"},\"field\":\"('Data Shape:(91485, 2)', '> (3rdQ + 1.5 * IQR)')\",\"formatter\":{\"id\":\"16451\"},\"title\":\"('Data Shape:(91485, 2)', '> (3rdQ + 1.5 * IQR)')\",\"width\":null},\"id\":\"16453\",\"type\":\"TableColumn\"},{\"attributes\":{},\"id\":\"16333\",\"type\":\"IntEditor\"},{\"attributes\":{},\"id\":\"16374\",\"type\":\"NumberFormatter\"},{\"attributes\":{},\"id\":\"16456\",\"type\":\"NumberFormatter\"},{\"attributes\":{},\"id\":\"16431\",\"type\":\"StringFormatter\"},{\"attributes\":{},\"id\":\"16474\",\"type\":\"UnionRenderers\"},{\"attributes\":{\"child\":{\"id\":\"16424\"},\"name\":\"social_media_data\",\"title\":\"social_media_data\"},\"id\":\"16427\",\"type\":\"Panel\"},{\"attributes\":{},\"id\":\"16386\",\"type\":\"Selection\"},{\"attributes\":{\"source\":{\"id\":\"16306\"}},\"id\":\"16343\",\"type\":\"CDSView\"},{\"attributes\":{\"editor\":{\"id\":\"16333\"},\"field\":\"('Data Shape:(181565, 6)', '-inf')\",\"formatter\":{\"id\":\"16332\"},\"title\":\"('Data Shape:(181565, 6)', '-inf')\",\"width\":null},\"id\":\"16334\",\"type\":\"TableColumn\"},{\"attributes\":{},\"id\":\"16395\",\"type\":\"IntEditor\"},{\"attributes\":{\"editor\":{\"id\":\"16457\"},\"field\":\"('Data Shape:(91485, 2)', '-inf')\",\"formatter\":{\"id\":\"16456\"},\"title\":\"('Data Shape:(91485, 2)', '-inf')\",\"width\":null},\"id\":\"16458\",\"type\":\"TableColumn\"},{\"attributes\":{\"editor\":{\"id\":\"16375\"},\"field\":\"('Data Shape:(4526182, 5)', '-inf')\",\"formatter\":{\"id\":\"16374\"},\"title\":\"('Data Shape:(4526182, 5)', '-inf')\",\"width\":null},\"id\":\"16376\",\"type\":\"TableColumn\"},{\"attributes\":{},\"id\":\"16365\",\"type\":\"IntEditor\"},{\"attributes\":{\"editor\":{\"id\":\"16338\"},\"field\":\"('Data Shape:(181565, 6)', '+inf')\",\"formatter\":{\"id\":\"16337\"},\"title\":\"('Data Shape:(181565, 6)', '+inf')\",\"width\":null},\"id\":\"16339\",\"type\":\"TableColumn\"},{\"attributes\":{\"editor\":{\"id\":\"16420\"},\"field\":\"('Data Shape:(533390, 3)', '+inf')\",\"formatter\":{\"id\":\"16419\"},\"title\":\"('Data Shape:(533390, 3)', '+inf')\",\"width\":null},\"id\":\"16421\",\"type\":\"TableColumn\"},{\"attributes\":{\"child\":{\"id\":\"16428\"},\"name\":\"Theme_list\",\"title\":\"Theme_list\"},\"id\":\"16429\",\"type\":\"Panel\"},{\"attributes\":{\"editor\":{\"id\":\"16328\"},\"field\":\"('Data Shape:(181565, 6)', '> (3rdQ + 1.5 * IQR)')\",\"formatter\":{\"id\":\"16327\"},\"title\":\"('Data Shape:(181565, 6)', '> (3rdQ + 1.5 * IQR)')\",\"width\":null},\"id\":\"16329\",\"type\":\"TableColumn\"},{\"attributes\":{},\"id\":\"16370\",\"type\":\"IntEditor\"},{\"attributes\":{\"editor\":{\"id\":\"16390\"},\"field\":\"index\",\"formatter\":{\"id\":\"16389\"},\"title\":\"index\",\"width\":null},\"id\":\"16391\",\"type\":\"TableColumn\"},{\"attributes\":{\"css_classes\":[\"markdown\"],\"margin\":[5,5,5,5],\"name\":\"product_manufacturer_list\",\"text\":\"&lt;p&gt;No Outlier Values&lt;/p&gt;\"},\"id\":\"16346\",\"type\":\"panel.models.markup.HTML\"},{\"attributes\":{\"editor\":{\"id\":\"16442\"},\"field\":\"('Data Shape:(91485, 2)', '> (mean+3*std)')\",\"formatter\":{\"id\":\"16441\"},\"title\":\"('Data Shape:(91485, 2)', '> (mean+3*std)')\",\"width\":null},\"id\":\"16443\",\"type\":\"TableColumn\"},{\"attributes\":{},\"id\":\"16437\",\"type\":\"IntEditor\"},{\"attributes\":{},\"id\":\"16364\",\"type\":\"NumberFormatter\"},{\"attributes\":{\"columns\":[{\"id\":\"16391\"},{\"id\":\"16396\"},{\"id\":\"16401\"},{\"id\":\"16406\"},{\"id\":\"16411\"},{\"id\":\"16416\"},{\"id\":\"16421\"}],\"editable\":true,\"fit_columns\":true,\"height\":55,\"index_position\":null,\"margin\":[5,10,5,10],\"name\":\"social_media_data\",\"source\":{\"id\":\"16388\"},\"view\":{\"id\":\"16425\"}},\"id\":\"16424\",\"type\":\"DataTable\"},{\"attributes\":{\"editor\":{\"id\":\"16395\"},\"field\":\"('Data Shape:(533390, 3)', '< (mean-3*std)')\",\"formatter\":{\"id\":\"16394\"},\"title\":\"('Data Shape:(533390, 3)', '< (mean-3*std)')\",\"width\":null},\"id\":\"16396\",\"type\":\"TableColumn\"},{\"attributes\":{\"margin\":[0,0,0,0],\"tabs\":[{\"id\":\"16345\"},{\"id\":\"16347\"},{\"id\":\"16387\"},{\"id\":\"16427\"},{\"id\":\"16429\"},{\"id\":\"16469\"}]},\"id\":\"16305\",\"type\":\"Tabs\"},{\"attributes\":{\"editor\":{\"id\":\"16365\"},\"field\":\"('Data Shape:(4526182, 5)', '< (1stQ - 1.5 * IQR)')\",\"formatter\":{\"id\":\"16364\"},\"title\":\"('Data Shape:(4526182, 5)', '< (1stQ - 1.5 * IQR)')\",\"width\":null},\"id\":\"16366\",\"type\":\"TableColumn\"},{\"attributes\":{},\"id\":\"16359\",\"type\":\"NumberFormatter\"},{\"attributes\":{\"columns\":[{\"id\":\"16433\"},{\"id\":\"16438\"},{\"id\":\"16443\"},{\"id\":\"16448\"},{\"id\":\"16453\"},{\"id\":\"16458\"},{\"id\":\"16463\"}],\"editable\":true,\"fit_columns\":true,\"height\":55,\"index_position\":null,\"margin\":[5,10,5,10],\"name\":\"Theme_product_list\",\"source\":{\"id\":\"16430\"},\"view\":{\"id\":\"16467\"}},\"id\":\"16466\",\"type\":\"DataTable\"},{\"attributes\":{},\"id\":\"16461\",\"type\":\"NumberFormatter\"},{\"attributes\":{},\"id\":\"16328\",\"type\":\"IntEditor\"},{\"attributes\":{},\"id\":\"16441\",\"type\":\"NumberFormatter\"},{\"attributes\":{\"editor\":{\"id\":\"16410\"},\"field\":\"('Data Shape:(533390, 3)', '> (3rdQ + 1.5 * IQR)')\",\"formatter\":{\"id\":\"16409\"},\"title\":\"('Data Shape:(533390, 3)', '> (3rdQ + 1.5 * IQR)')\",\"width\":null},\"id\":\"16411\",\"type\":\"TableColumn\"},{\"attributes\":{},\"id\":\"16447\",\"type\":\"IntEditor\"},{\"attributes\":{},\"id\":\"16462\",\"type\":\"IntEditor\"},{\"attributes\":{\"editor\":{\"id\":\"16447\"},\"field\":\"('Data Shape:(91485, 2)', '< (1stQ - 1.5 * IQR)')\",\"formatter\":{\"id\":\"16446\"},\"title\":\"('Data Shape:(91485, 2)', '< (1stQ - 1.5 * IQR)')\",\"width\":null},\"id\":\"16448\",\"type\":\"TableColumn\"},{\"attributes\":{},\"id\":\"16415\",\"type\":\"IntEditor\"},{\"attributes\":{\"client_comm_id\":\"139865241b9f40d08f7de65ebc450044\",\"comm_id\":\"1c8a07588c9a44769387fbf112091830\",\"plot_id\":\"16305\"},\"id\":\"16494\",\"type\":\"panel.models.comm_manager.CommManager\"},{\"attributes\":{},\"id\":\"16323\",\"type\":\"IntEditor\"},{\"attributes\":{},\"id\":\"16332\",\"type\":\"NumberFormatter\"},{\"attributes\":{\"data\":{\"('Data Shape:(181565, 6)', '+inf')\":[0],\"('Data Shape:(181565, 6)', '-inf')\":[0],\"('Data Shape:(181565, 6)', '< (1stQ - 1.5 * IQR)')\":[0],\"('Data Shape:(181565, 6)', '< (mean-3*std)')\":[0],\"('Data Shape:(181565, 6)', '> (3rdQ + 1.5 * IQR)')\":[25218],\"('Data Shape:(181565, 6)', '> (mean+3*std)')\":[4478],\"index\":[\"searchVolume\"]},\"selected\":{\"id\":\"16344\"},\"selection_policy\":{\"id\":\"16470\"}},\"id\":\"16306\",\"type\":\"ColumnDataSource\"},{\"attributes\":{},\"id\":\"16457\",\"type\":\"IntEditor\"},{\"attributes\":{},\"id\":\"16470\",\"type\":\"UnionRenderers\"},{\"attributes\":{},\"id\":\"16405\",\"type\":\"IntEditor\"},{\"attributes\":{},\"id\":\"16313\",\"type\":\"IntEditor\"},{\"attributes\":{},\"id\":\"16317\",\"type\":\"NumberFormatter\"},{\"attributes\":{},\"id\":\"16337\",\"type\":\"NumberFormatter\"},{\"attributes\":{},\"id\":\"16446\",\"type\":\"NumberFormatter\"},{\"attributes\":{\"child\":{\"id\":\"16346\"},\"name\":\"product_manufacturer_list\",\"title\":\"product_manufacturer_list\"},\"id\":\"16347\",\"type\":\"Panel\"},{\"attributes\":{},\"id\":\"16312\",\"type\":\"NumberFormatter\"},{\"attributes\":{\"editor\":{\"id\":\"16313\"},\"field\":\"('Data Shape:(181565, 6)', '< (mean-3*std)')\",\"formatter\":{\"id\":\"16312\"},\"title\":\"('Data Shape:(181565, 6)', '< (mean-3*std)')\",\"width\":null},\"id\":\"16314\",\"type\":\"TableColumn\"},{\"attributes\":{\"child\":{\"id\":\"16384\"},\"name\":\"sales_data\",\"title\":\"sales_data\"},\"id\":\"16387\",\"type\":\"Panel\"},{\"attributes\":{\"source\":{\"id\":\"16348\"}},\"id\":\"16385\",\"type\":\"CDSView\"},{\"attributes\":{\"columns\":[{\"id\":\"16309\"},{\"id\":\"16314\"},{\"id\":\"16319\"},{\"id\":\"16324\"},{\"id\":\"16329\"},{\"id\":\"16334\"},{\"id\":\"16339\"}],\"editable\":true,\"fit_columns\":true,\"height\":55,\"index_position\":null,\"margin\":[5,10,5,10],\"name\":\"google\",\"source\":{\"id\":\"16306\"},\"view\":{\"id\":\"16343\"}},\"id\":\"16342\",\"type\":\"DataTable\"},{\"attributes\":{},\"id\":\"16389\",\"type\":\"StringFormatter\"},{\"attributes\":{},\"id\":\"16355\",\"type\":\"IntEditor\"},{\"attributes\":{},\"id\":\"16375\",\"type\":\"IntEditor\"},{\"attributes\":{},\"id\":\"16307\",\"type\":\"StringFormatter\"},{\"attributes\":{\"editor\":{\"id\":\"16405\"},\"field\":\"('Data Shape:(533390, 3)', '< (1stQ - 1.5 * IQR)')\",\"formatter\":{\"id\":\"16404\"},\"title\":\"('Data Shape:(533390, 3)', '< (1stQ - 1.5 * IQR)')\",\"width\":null},\"id\":\"16406\",\"type\":\"TableColumn\"},{\"attributes\":{\"data\":{\"('Data Shape:(533390, 3)', '+inf')\":[0],\"('Data Shape:(533390, 3)', '-inf')\":[0],\"('Data Shape:(533390, 3)', '< (1stQ - 1.5 * IQR)')\":[0],\"('Data Shape:(533390, 3)', '< (mean-3*std)')\":[0],\"('Data Shape:(533390, 3)', '> (3rdQ + 1.5 * IQR)')\":[92918],\"('Data Shape:(533390, 3)', '> (mean+3*std)')\":[7403],\"index\":[\"total_post\"]},\"selected\":{\"id\":\"16426\"},\"selection_policy\":{\"id\":\"16474\"}},\"id\":\"16388\",\"type\":\"ColumnDataSource\"}],\"root_ids\":[\"16305\",\"16494\"]},\"title\":\"Bokeh Application\",\"version\":\"2.2.3\"}};\n",
       "  var render_items = [{\"docid\":\"3ee84e22-642b-4097-b957-52cf63f0f494\",\"root_ids\":[\"16305\"],\"roots\":{\"16305\":\"9f2f7ac7-e9e4-412f-ade1-52fe7a20a77a\"}}];\n",
       "  root.Bokeh.embed.embed_items_notebook(docs_json, render_items);\n",
       "  }\n",
       "if (root.Bokeh !== undefined) {\n",
       "    embed_document(root);\n",
       "  } else {\n",
       "    var attempts = 0;\n",
       "    var timer = setInterval(function(root) {\n",
       "      if (root.Bokeh !== undefined) {\n",
       "        clearInterval(timer);\n",
       "        embed_document(root);\n",
       "      } else if (document.readyState == \"complete\") {\n",
       "        attempts++;\n",
       "        if (attempts > 100) {\n",
       "          clearInterval(timer);\n",
       "          console.log(\"Bokeh: ERROR: Unable to run BokehJS code because BokehJS library is missing\");\n",
       "        }\n",
       "      }\n",
       "    }, 10, root)\n",
       "  }\n",
       "})(window);</script>"
      ],
      "text/plain": [
       "Tabs\n",
       "    [0] DataFrame(name='google', value=              ('Data Shape...)\n",
       "    [1] Markdown(str, name='product_manufacturer_list...)\n",
       "    [2] DataFrame(name='sales_data', value=                     ('Dat...)\n",
       "    [3] DataFrame(name='social_media_data', value=            ('Data Shape:(...)\n",
       "    [4] Markdown(str, name='Theme_list')\n",
       "    [5] DataFrame(name='Theme_product_list', value=          ('Data Shape:(91...)"
      ]
     },
     "execution_count": 63,
     "metadata": {
      "application/vnd.holoviews_exec.v0+json": {
       "id": "16305"
      }
     },
     "output_type": "execute_result"
    }
   ],
   "source": [
    "sum1 = eda.get_outliers(google_df)\n",
    "sum2 = eda.get_outliers(pro_manu_df)\n",
    "sum3 = eda.get_outliers(sales_df)\n",
    "sum4 = eda.get_outliers(soc_media_df)\n",
    "sum5 = eda.get_outliers(theme_df)\n",
    "sum6 = eda.get_outliers(theme_pro_df)\n",
    "\n",
    "display_as_tabs([('google', sum1), ('product_manufacturer_list', sum2),\n",
    "                 ('sales_data', sum3), ('social_media_data', sum4),\n",
    "                ('Theme_list', sum5), ('Theme_product_list', sum6)])"
   ]
  },
  {
   "cell_type": "markdown",
   "metadata": {},
   "source": [
    "## Health Analysis report\n",
    "\n",
    "Generate a report that has all the above data in a single html. This could be useful to submit to a client"
   ]
  },
  {
   "cell_type": "code",
   "execution_count": 64,
   "metadata": {},
   "outputs": [],
   "source": [
    "from ta_lib.reports.api import summary_report\n",
    "\n",
    "summary_report(google_df, './google.html')\n",
    "summary_report(pro_manu_df, './product_manufacturer_list.html')\n",
    "summary_report(sales_df, './sales_data.html')\n",
    "summary_report(soc_media_df, './social_media_data.html')\n",
    "summary_report(theme_df, './Theme_list.html')\n",
    "summary_report(theme_pro_df, './Theme_product_list.html')"
   ]
  },
  {
   "cell_type": "markdown",
   "metadata": {},
   "source": [
    "# Dataset Merging \n",
    "\n",
    "* We will merge the dataset which will speically focus on our client\n",
    "\n"
   ]
  },
  {
   "cell_type": "code",
   "execution_count": 65,
   "metadata": {},
   "outputs": [
    {
     "data": {
      "text/html": [
       "<div>\n",
       "<style scoped>\n",
       "    .dataframe tbody tr th:only-of-type {\n",
       "        vertical-align: middle;\n",
       "    }\n",
       "\n",
       "    .dataframe tbody tr th {\n",
       "        vertical-align: top;\n",
       "    }\n",
       "\n",
       "    .dataframe thead th {\n",
       "        text-align: right;\n",
       "    }\n",
       "</style>\n",
       "<table border=\"1\" class=\"dataframe\">\n",
       "  <thead>\n",
       "    <tr style=\"text-align: right;\">\n",
       "      <th></th>\n",
       "      <th>system_calendar_key_N</th>\n",
       "      <th>product_id</th>\n",
       "      <th>sales_dollars_value</th>\n",
       "      <th>sales_units_value</th>\n",
       "      <th>sales_lbs_value</th>\n",
       "      <th>PRODUCT_ID</th>\n",
       "      <th>CLAIM_ID</th>\n",
       "      <th>Claim Name</th>\n",
       "    </tr>\n",
       "  </thead>\n",
       "  <tbody>\n",
       "    <tr>\n",
       "      <th>0</th>\n",
       "      <td>20160109</td>\n",
       "      <td>1</td>\n",
       "      <td>13927.0</td>\n",
       "      <td>934</td>\n",
       "      <td>18680</td>\n",
       "      <td>1</td>\n",
       "      <td>0</td>\n",
       "      <td>No Claim</td>\n",
       "    </tr>\n",
       "    <tr>\n",
       "      <th>1</th>\n",
       "      <td>20160123</td>\n",
       "      <td>1</td>\n",
       "      <td>12628.0</td>\n",
       "      <td>878</td>\n",
       "      <td>17564</td>\n",
       "      <td>1</td>\n",
       "      <td>0</td>\n",
       "      <td>No Claim</td>\n",
       "    </tr>\n",
       "    <tr>\n",
       "      <th>2</th>\n",
       "      <td>20160206</td>\n",
       "      <td>1</td>\n",
       "      <td>11379.0</td>\n",
       "      <td>810</td>\n",
       "      <td>16200</td>\n",
       "      <td>1</td>\n",
       "      <td>0</td>\n",
       "      <td>No Claim</td>\n",
       "    </tr>\n",
       "    <tr>\n",
       "      <th>3</th>\n",
       "      <td>20160130</td>\n",
       "      <td>1</td>\n",
       "      <td>11568.0</td>\n",
       "      <td>821</td>\n",
       "      <td>16424</td>\n",
       "      <td>1</td>\n",
       "      <td>0</td>\n",
       "      <td>No Claim</td>\n",
       "    </tr>\n",
       "    <tr>\n",
       "      <th>4</th>\n",
       "      <td>20160213</td>\n",
       "      <td>1</td>\n",
       "      <td>10959.0</td>\n",
       "      <td>784</td>\n",
       "      <td>15682</td>\n",
       "      <td>1</td>\n",
       "      <td>0</td>\n",
       "      <td>No Claim</td>\n",
       "    </tr>\n",
       "  </tbody>\n",
       "</table>\n",
       "</div>"
      ],
      "text/plain": [
       "   system_calendar_key_N  product_id  sales_dollars_value  sales_units_value  \\\n",
       "0               20160109           1              13927.0                934   \n",
       "1               20160123           1              12628.0                878   \n",
       "2               20160206           1              11379.0                810   \n",
       "3               20160130           1              11568.0                821   \n",
       "4               20160213           1              10959.0                784   \n",
       "\n",
       "   sales_lbs_value  PRODUCT_ID  CLAIM_ID Claim Name  \n",
       "0            18680           1         0   No Claim  \n",
       "1            17564           1         0   No Claim  \n",
       "2            16200           1         0   No Claim  \n",
       "3            16424           1         0   No Claim  \n",
       "4            15682           1         0   No Claim  "
      ]
     },
     "execution_count": 65,
     "metadata": {},
     "output_type": "execute_result"
    }
   ],
   "source": [
    "# Merging the Sales with the  theme  after merfing it with the theme product Dataset\n",
    "sa_tp = pd.merge(sales_df , theme_pro_df , left_on= 'product_id',right_on = \"PRODUCT_ID\")\n",
    "sa_th = pd.merge(sa_tp , theme_df , on = 'CLAIM_ID')\n",
    "sa_th.head()"
   ]
  },
  {
   "cell_type": "code",
   "execution_count": 66,
   "metadata": {},
   "outputs": [
    {
     "data": {
      "text/html": [
       "<div>\n",
       "<style scoped>\n",
       "    .dataframe tbody tr th:only-of-type {\n",
       "        vertical-align: middle;\n",
       "    }\n",
       "\n",
       "    .dataframe tbody tr th {\n",
       "        vertical-align: top;\n",
       "    }\n",
       "\n",
       "    .dataframe thead th {\n",
       "        text-align: right;\n",
       "    }\n",
       "</style>\n",
       "<table border=\"1\" class=\"dataframe\">\n",
       "  <thead>\n",
       "    <tr style=\"text-align: right;\">\n",
       "      <th></th>\n",
       "      <th>system_calendar_key_N</th>\n",
       "      <th>product_id</th>\n",
       "      <th>sales_dollars_value</th>\n",
       "      <th>sales_units_value</th>\n",
       "      <th>sales_lbs_value</th>\n",
       "      <th>PRODUCT_ID</th>\n",
       "      <th>CLAIM_ID</th>\n",
       "      <th>Claim Name</th>\n",
       "      <th>Vendor</th>\n",
       "    </tr>\n",
       "  </thead>\n",
       "  <tbody>\n",
       "    <tr>\n",
       "      <th>0</th>\n",
       "      <td>20160109</td>\n",
       "      <td>1</td>\n",
       "      <td>13927.0</td>\n",
       "      <td>934</td>\n",
       "      <td>18680</td>\n",
       "      <td>1</td>\n",
       "      <td>0</td>\n",
       "      <td>No Claim</td>\n",
       "      <td>Others</td>\n",
       "    </tr>\n",
       "    <tr>\n",
       "      <th>1</th>\n",
       "      <td>20160123</td>\n",
       "      <td>1</td>\n",
       "      <td>12628.0</td>\n",
       "      <td>878</td>\n",
       "      <td>17564</td>\n",
       "      <td>1</td>\n",
       "      <td>0</td>\n",
       "      <td>No Claim</td>\n",
       "      <td>Others</td>\n",
       "    </tr>\n",
       "    <tr>\n",
       "      <th>2</th>\n",
       "      <td>20160206</td>\n",
       "      <td>1</td>\n",
       "      <td>11379.0</td>\n",
       "      <td>810</td>\n",
       "      <td>16200</td>\n",
       "      <td>1</td>\n",
       "      <td>0</td>\n",
       "      <td>No Claim</td>\n",
       "      <td>Others</td>\n",
       "    </tr>\n",
       "    <tr>\n",
       "      <th>3</th>\n",
       "      <td>20160130</td>\n",
       "      <td>1</td>\n",
       "      <td>11568.0</td>\n",
       "      <td>821</td>\n",
       "      <td>16424</td>\n",
       "      <td>1</td>\n",
       "      <td>0</td>\n",
       "      <td>No Claim</td>\n",
       "      <td>Others</td>\n",
       "    </tr>\n",
       "    <tr>\n",
       "      <th>4</th>\n",
       "      <td>20160213</td>\n",
       "      <td>1</td>\n",
       "      <td>10959.0</td>\n",
       "      <td>784</td>\n",
       "      <td>15682</td>\n",
       "      <td>1</td>\n",
       "      <td>0</td>\n",
       "      <td>No Claim</td>\n",
       "      <td>Others</td>\n",
       "    </tr>\n",
       "  </tbody>\n",
       "</table>\n",
       "</div>"
      ],
      "text/plain": [
       "   system_calendar_key_N  product_id  sales_dollars_value  sales_units_value  \\\n",
       "0               20160109           1              13927.0                934   \n",
       "1               20160123           1              12628.0                878   \n",
       "2               20160206           1              11379.0                810   \n",
       "3               20160130           1              11568.0                821   \n",
       "4               20160213           1              10959.0                784   \n",
       "\n",
       "   sales_lbs_value  PRODUCT_ID  CLAIM_ID Claim Name  Vendor  \n",
       "0            18680           1         0   No Claim  Others  \n",
       "1            17564           1         0   No Claim  Others  \n",
       "2            16200           1         0   No Claim  Others  \n",
       "3            16424           1         0   No Claim  Others  \n",
       "4            15682           1         0   No Claim  Others  "
      ]
     },
     "execution_count": 66,
     "metadata": {},
     "output_type": "execute_result"
    }
   ],
   "source": [
    "# Getting the Data only focus on our client A\n",
    "vendor = pd.merge(sa_th , pro_manu_df , on = 'PRODUCT_ID')\n",
    "vendor.head()"
   ]
  },
  {
   "cell_type": "code",
   "execution_count": 67,
   "metadata": {},
   "outputs": [
    {
     "data": {
      "text/plain": [
       "Vendor         Claim Name              \n",
       "A              No Claim                    2.352178e+10\n",
       "               american gumbo              2.573988e+06\n",
       "               american southwest style    4.557530e+08\n",
       "               apple cinnamon              1.241048e+09\n",
       "               beans                       9.654130e+05\n",
       "                                               ...     \n",
       "Private Label  pizza                       2.084414e+08\n",
       "               pollock                     5.022839e+08\n",
       "               red raspberry               5.137100e+04\n",
       "               salmon                      2.654635e+08\n",
       "               soy foods                   3.988618e+07\n",
       "Name: sales_dollars_value, Length: 197, dtype: float64"
      ]
     },
     "execution_count": 67,
     "metadata": {},
     "output_type": "execute_result"
    }
   ],
   "source": [
    "vendor.groupby(['Vendor','Claim Name'])['sales_dollars_value'].sum()"
   ]
  },
  {
   "cell_type": "code",
   "execution_count": 68,
   "metadata": {},
   "outputs": [
    {
     "name": "stdout",
     "output_type": "stream",
     "text": [
      "<class 'pandas.core.frame.DataFrame'>\n",
      "Int64Index: 811370 entries, 9459 to 7760500\n",
      "Data columns (total 9 columns):\n",
      " #   Column                 Non-Null Count   Dtype  \n",
      "---  ------                 --------------   -----  \n",
      " 0   system_calendar_key_N  811370 non-null  int64  \n",
      " 1   product_id             811370 non-null  int64  \n",
      " 2   sales_dollars_value    811370 non-null  float64\n",
      " 3   sales_units_value      811370 non-null  int64  \n",
      " 4   sales_lbs_value        811370 non-null  int64  \n",
      " 5   PRODUCT_ID             811370 non-null  int64  \n",
      " 6   CLAIM_ID               811370 non-null  int64  \n",
      " 7   Claim Name             811370 non-null  object \n",
      " 8   Vendor                 811370 non-null  object \n",
      "dtypes: float64(1), int64(6), object(2)\n",
      "memory usage: 61.9+ MB\n"
     ]
    }
   ],
   "source": [
    "# Creating a seperate Dataset for Clietn A\n",
    "Client_A= vendor[vendor.Vendor =='A']\n",
    "Client_A.info()"
   ]
  },
  {
   "cell_type": "code",
   "execution_count": 69,
   "metadata": {},
   "outputs": [
    {
     "data": {
      "text/html": [
       "<div>\n",
       "<style scoped>\n",
       "    .dataframe tbody tr th:only-of-type {\n",
       "        vertical-align: middle;\n",
       "    }\n",
       "\n",
       "    .dataframe tbody tr th {\n",
       "        vertical-align: top;\n",
       "    }\n",
       "\n",
       "    .dataframe thead th {\n",
       "        text-align: right;\n",
       "    }\n",
       "</style>\n",
       "<table border=\"1\" class=\"dataframe\">\n",
       "  <thead>\n",
       "    <tr style=\"text-align: right;\">\n",
       "      <th></th>\n",
       "      <th>system_calendar_key_N</th>\n",
       "      <th>product_id</th>\n",
       "      <th>sales_dollars_value</th>\n",
       "      <th>sales_units_value</th>\n",
       "      <th>sales_lbs_value</th>\n",
       "      <th>PRODUCT_ID</th>\n",
       "      <th>CLAIM_ID</th>\n",
       "      <th>Claim Name</th>\n",
       "      <th>Vendor</th>\n",
       "    </tr>\n",
       "  </thead>\n",
       "  <tbody>\n",
       "    <tr>\n",
       "      <th>9459</th>\n",
       "      <td>20160109</td>\n",
       "      <td>587</td>\n",
       "      <td>156606.0</td>\n",
       "      <td>40400</td>\n",
       "      <td>161603</td>\n",
       "      <td>587</td>\n",
       "      <td>0</td>\n",
       "      <td>No Claim</td>\n",
       "      <td>A</td>\n",
       "    </tr>\n",
       "    <tr>\n",
       "      <th>9460</th>\n",
       "      <td>20160123</td>\n",
       "      <td>587</td>\n",
       "      <td>162052.0</td>\n",
       "      <td>41781</td>\n",
       "      <td>167125</td>\n",
       "      <td>587</td>\n",
       "      <td>0</td>\n",
       "      <td>No Claim</td>\n",
       "      <td>A</td>\n",
       "    </tr>\n",
       "    <tr>\n",
       "      <th>9461</th>\n",
       "      <td>20160206</td>\n",
       "      <td>587</td>\n",
       "      <td>167919.0</td>\n",
       "      <td>43560</td>\n",
       "      <td>174239</td>\n",
       "      <td>587</td>\n",
       "      <td>0</td>\n",
       "      <td>No Claim</td>\n",
       "      <td>A</td>\n",
       "    </tr>\n",
       "    <tr>\n",
       "      <th>9462</th>\n",
       "      <td>20160130</td>\n",
       "      <td>587</td>\n",
       "      <td>162358.0</td>\n",
       "      <td>42077</td>\n",
       "      <td>168307</td>\n",
       "      <td>587</td>\n",
       "      <td>0</td>\n",
       "      <td>No Claim</td>\n",
       "      <td>A</td>\n",
       "    </tr>\n",
       "    <tr>\n",
       "      <th>9463</th>\n",
       "      <td>20160213</td>\n",
       "      <td>587</td>\n",
       "      <td>157831.0</td>\n",
       "      <td>40814</td>\n",
       "      <td>163256</td>\n",
       "      <td>587</td>\n",
       "      <td>0</td>\n",
       "      <td>No Claim</td>\n",
       "      <td>A</td>\n",
       "    </tr>\n",
       "  </tbody>\n",
       "</table>\n",
       "</div>"
      ],
      "text/plain": [
       "      system_calendar_key_N  product_id  sales_dollars_value  \\\n",
       "9459               20160109         587             156606.0   \n",
       "9460               20160123         587             162052.0   \n",
       "9461               20160206         587             167919.0   \n",
       "9462               20160130         587             162358.0   \n",
       "9463               20160213         587             157831.0   \n",
       "\n",
       "      sales_units_value  sales_lbs_value  PRODUCT_ID  CLAIM_ID Claim Name  \\\n",
       "9459              40400           161603         587         0   No Claim   \n",
       "9460              41781           167125         587         0   No Claim   \n",
       "9461              43560           174239         587         0   No Claim   \n",
       "9462              42077           168307         587         0   No Claim   \n",
       "9463              40814           163256         587         0   No Claim   \n",
       "\n",
       "     Vendor  \n",
       "9459      A  \n",
       "9460      A  \n",
       "9461      A  \n",
       "9462      A  \n",
       "9463      A  "
      ]
     },
     "execution_count": 69,
     "metadata": {},
     "output_type": "execute_result"
    }
   ],
   "source": [
    "Client_A.head()"
   ]
  },
  {
   "cell_type": "code",
   "execution_count": 70,
   "metadata": {},
   "outputs": [],
   "source": [
    "google_search=google_df.groupby(\"Claim_ID\")[\"searchVolume\"].mean()"
   ]
  },
  {
   "cell_type": "code",
   "execution_count": 71,
   "metadata": {},
   "outputs": [
    {
     "data": {
      "text/plain": [
       "Claim_ID\n",
       "8      3759.708522\n",
       "39      232.585921\n",
       "40       66.682927\n",
       "65      884.715996\n",
       "75     1057.193137\n",
       "          ...     \n",
       "981      23.925926\n",
       "982       6.250000\n",
       "984     439.835294\n",
       "985      31.500000\n",
       "999     708.423679\n",
       "Name: searchVolume, Length: 160, dtype: float64"
      ]
     },
     "execution_count": 71,
     "metadata": {},
     "output_type": "execute_result"
    }
   ],
   "source": [
    "google_search"
   ]
  },
  {
   "cell_type": "code",
   "execution_count": 72,
   "metadata": {},
   "outputs": [],
   "source": [
    "media_post=soc_media_df.groupby(\"Theme Id\")[\"total_post\"].mean()"
   ]
  },
  {
   "cell_type": "code",
   "execution_count": 73,
   "metadata": {},
   "outputs": [
    {
     "data": {
      "text/plain": [
       "Theme Id\n",
       "8.0      329.786462\n",
       "15.0       6.419900\n",
       "26.0       0.203692\n",
       "38.0       4.008615\n",
       "39.0       4.382769\n",
       "            ...    \n",
       "982.0     59.853538\n",
       "983.0    146.875077\n",
       "984.0     25.801846\n",
       "985.0      5.382979\n",
       "999.0     37.273467\n",
       "Name: total_post, Length: 193, dtype: float64"
      ]
     },
     "execution_count": 73,
     "metadata": {},
     "output_type": "execute_result"
    }
   ],
   "source": [
    "media_post"
   ]
  },
  {
   "cell_type": "code",
   "execution_count": 74,
   "metadata": {},
   "outputs": [
    {
     "name": "stderr",
     "output_type": "stream",
     "text": [
      "\n",
      "A value is trying to be set on a copy of a slice from a DataFrame.\n",
      "Try using .loc[row_indexer,col_indexer] = value instead\n",
      "\n",
      "See the caveats in the documentation: https://pandas.pydata.org/pandas-docs/stable/user_guide/indexing.html#returning-a-view-versus-a-copy\n",
      "\n",
      "\n",
      "A value is trying to be set on a copy of a slice from a DataFrame.\n",
      "Try using .loc[row_indexer,col_indexer] = value instead\n",
      "\n",
      "See the caveats in the documentation: https://pandas.pydata.org/pandas-docs/stable/user_guide/indexing.html#returning-a-view-versus-a-copy\n",
      "\n"
     ]
    }
   ],
   "source": [
    "Client_A[\"totalposts\"]=Client_A['CLAIM_ID'].map(dict(media_post))\n",
    "Client_A[\"searchvolume\"]=Client_A[\"CLAIM_ID\"].map(dict(google_search))"
   ]
  },
  {
   "cell_type": "code",
   "execution_count": 75,
   "metadata": {},
   "outputs": [
    {
     "name": "stderr",
     "output_type": "stream",
     "text": [
      "\n",
      "A value is trying to be set on a copy of a slice from a DataFrame\n",
      "\n",
      "See the caveats in the documentation: https://pandas.pydata.org/pandas-docs/stable/user_guide/indexing.html#returning-a-view-versus-a-copy\n",
      "\n"
     ]
    }
   ],
   "source": [
    "Client_A[\"searchvolume\"].fillna(Client_A[\"searchvolume\"].mean(),inplace=True)\n",
    "Client_A[\"totalposts\"].fillna(Client_A[\"totalposts\"].mean(),inplace=True)"
   ]
  },
  {
   "cell_type": "code",
   "execution_count": 76,
   "metadata": {},
   "outputs": [
    {
     "data": {
      "text/html": [
       "<div>\n",
       "<style scoped>\n",
       "    .dataframe tbody tr th:only-of-type {\n",
       "        vertical-align: middle;\n",
       "    }\n",
       "\n",
       "    .dataframe tbody tr th {\n",
       "        vertical-align: top;\n",
       "    }\n",
       "\n",
       "    .dataframe thead th {\n",
       "        text-align: right;\n",
       "    }\n",
       "</style>\n",
       "<table border=\"1\" class=\"dataframe\">\n",
       "  <thead>\n",
       "    <tr style=\"text-align: right;\">\n",
       "      <th></th>\n",
       "      <th>system_calendar_key_N</th>\n",
       "      <th>product_id</th>\n",
       "      <th>sales_dollars_value</th>\n",
       "      <th>sales_units_value</th>\n",
       "      <th>sales_lbs_value</th>\n",
       "      <th>PRODUCT_ID</th>\n",
       "      <th>CLAIM_ID</th>\n",
       "      <th>Claim Name</th>\n",
       "      <th>Vendor</th>\n",
       "      <th>totalposts</th>\n",
       "      <th>searchvolume</th>\n",
       "    </tr>\n",
       "  </thead>\n",
       "  <tbody>\n",
       "    <tr>\n",
       "      <th>9459</th>\n",
       "      <td>20160109</td>\n",
       "      <td>587</td>\n",
       "      <td>156606.0</td>\n",
       "      <td>40400</td>\n",
       "      <td>161603</td>\n",
       "      <td>587</td>\n",
       "      <td>0</td>\n",
       "      <td>No Claim</td>\n",
       "      <td>A</td>\n",
       "      <td>185.292605</td>\n",
       "      <td>2554.6548</td>\n",
       "    </tr>\n",
       "    <tr>\n",
       "      <th>9460</th>\n",
       "      <td>20160123</td>\n",
       "      <td>587</td>\n",
       "      <td>162052.0</td>\n",
       "      <td>41781</td>\n",
       "      <td>167125</td>\n",
       "      <td>587</td>\n",
       "      <td>0</td>\n",
       "      <td>No Claim</td>\n",
       "      <td>A</td>\n",
       "      <td>185.292605</td>\n",
       "      <td>2554.6548</td>\n",
       "    </tr>\n",
       "    <tr>\n",
       "      <th>9461</th>\n",
       "      <td>20160206</td>\n",
       "      <td>587</td>\n",
       "      <td>167919.0</td>\n",
       "      <td>43560</td>\n",
       "      <td>174239</td>\n",
       "      <td>587</td>\n",
       "      <td>0</td>\n",
       "      <td>No Claim</td>\n",
       "      <td>A</td>\n",
       "      <td>185.292605</td>\n",
       "      <td>2554.6548</td>\n",
       "    </tr>\n",
       "    <tr>\n",
       "      <th>9462</th>\n",
       "      <td>20160130</td>\n",
       "      <td>587</td>\n",
       "      <td>162358.0</td>\n",
       "      <td>42077</td>\n",
       "      <td>168307</td>\n",
       "      <td>587</td>\n",
       "      <td>0</td>\n",
       "      <td>No Claim</td>\n",
       "      <td>A</td>\n",
       "      <td>185.292605</td>\n",
       "      <td>2554.6548</td>\n",
       "    </tr>\n",
       "    <tr>\n",
       "      <th>9463</th>\n",
       "      <td>20160213</td>\n",
       "      <td>587</td>\n",
       "      <td>157831.0</td>\n",
       "      <td>40814</td>\n",
       "      <td>163256</td>\n",
       "      <td>587</td>\n",
       "      <td>0</td>\n",
       "      <td>No Claim</td>\n",
       "      <td>A</td>\n",
       "      <td>185.292605</td>\n",
       "      <td>2554.6548</td>\n",
       "    </tr>\n",
       "  </tbody>\n",
       "</table>\n",
       "</div>"
      ],
      "text/plain": [
       "      system_calendar_key_N  product_id  sales_dollars_value  \\\n",
       "9459               20160109         587             156606.0   \n",
       "9460               20160123         587             162052.0   \n",
       "9461               20160206         587             167919.0   \n",
       "9462               20160130         587             162358.0   \n",
       "9463               20160213         587             157831.0   \n",
       "\n",
       "      sales_units_value  sales_lbs_value  PRODUCT_ID  CLAIM_ID Claim Name  \\\n",
       "9459              40400           161603         587         0   No Claim   \n",
       "9460              41781           167125         587         0   No Claim   \n",
       "9461              43560           174239         587         0   No Claim   \n",
       "9462              42077           168307         587         0   No Claim   \n",
       "9463              40814           163256         587         0   No Claim   \n",
       "\n",
       "     Vendor  totalposts  searchvolume  \n",
       "9459      A  185.292605     2554.6548  \n",
       "9460      A  185.292605     2554.6548  \n",
       "9461      A  185.292605     2554.6548  \n",
       "9462      A  185.292605     2554.6548  \n",
       "9463      A  185.292605     2554.6548  "
      ]
     },
     "execution_count": 76,
     "metadata": {},
     "output_type": "execute_result"
    }
   ],
   "source": [
    "Client_A.head()"
   ]
  },
  {
   "cell_type": "code",
   "execution_count": 77,
   "metadata": {},
   "outputs": [
    {
     "name": "stderr",
     "output_type": "stream",
     "text": [
      "\n",
      "A value is trying to be set on a copy of a slice from a DataFrame.\n",
      "Try using .loc[row_indexer,col_indexer] = value instead\n",
      "\n",
      "See the caveats in the documentation: https://pandas.pydata.org/pandas-docs/stable/user_guide/indexing.html#returning-a-view-versus-a-copy\n",
      "\n"
     ]
    }
   ],
   "source": [
    "Client_A['system_calendar_key_N'] = pd.to_datetime(Client_A['system_calendar_key_N'], format='%Y%m%d')"
   ]
  },
  {
   "cell_type": "code",
   "execution_count": 78,
   "metadata": {},
   "outputs": [
    {
     "name": "stderr",
     "output_type": "stream",
     "text": [
      "\n",
      "A value is trying to be set on a copy of a slice from a DataFrame.\n",
      "Try using .loc[row_indexer,col_indexer] = value instead\n",
      "\n",
      "See the caveats in the documentation: https://pandas.pydata.org/pandas-docs/stable/user_guide/indexing.html#returning-a-view-versus-a-copy\n",
      "\n",
      "\n",
      "A value is trying to be set on a copy of a slice from a DataFrame.\n",
      "Try using .loc[row_indexer,col_indexer] = value instead\n",
      "\n",
      "See the caveats in the documentation: https://pandas.pydata.org/pandas-docs/stable/user_guide/indexing.html#returning-a-view-versus-a-copy\n",
      "\n",
      "\n",
      "A value is trying to be set on a copy of a slice from a DataFrame.\n",
      "Try using .loc[row_indexer,col_indexer] = value instead\n",
      "\n",
      "See the caveats in the documentation: https://pandas.pydata.org/pandas-docs/stable/user_guide/indexing.html#returning-a-view-versus-a-copy\n",
      "\n",
      "\n",
      "A value is trying to be set on a copy of a slice from a DataFrame.\n",
      "Try using .loc[row_indexer,col_indexer] = value instead\n",
      "\n",
      "See the caveats in the documentation: https://pandas.pydata.org/pandas-docs/stable/user_guide/indexing.html#returning-a-view-versus-a-copy\n",
      "\n"
     ]
    }
   ],
   "source": [
    "Client_A['Month'] = pd.DatetimeIndex(Client_A['system_calendar_key_N']).month\n",
    "Client_A['year'] = pd.DatetimeIndex(Client_A['system_calendar_key_N']).year\n",
    "Client_A['day'] = pd.DatetimeIndex(Client_A['system_calendar_key_N']).day\n",
    "Client_A['week'] = pd.DatetimeIndex(Client_A['system_calendar_key_N']).week"
   ]
  },
  {
   "cell_type": "code",
   "execution_count": 79,
   "metadata": {},
   "outputs": [],
   "source": [
    "Client_A = Client_A.drop(columns= 'system_calendar_key_N' )"
   ]
  },
  {
   "cell_type": "code",
   "execution_count": 80,
   "metadata": {},
   "outputs": [
    {
     "data": {
      "text/html": [
       "<div>\n",
       "<style scoped>\n",
       "    .dataframe tbody tr th:only-of-type {\n",
       "        vertical-align: middle;\n",
       "    }\n",
       "\n",
       "    .dataframe tbody tr th {\n",
       "        vertical-align: top;\n",
       "    }\n",
       "\n",
       "    .dataframe thead th {\n",
       "        text-align: right;\n",
       "    }\n",
       "</style>\n",
       "<table border=\"1\" class=\"dataframe\">\n",
       "  <thead>\n",
       "    <tr style=\"text-align: right;\">\n",
       "      <th></th>\n",
       "      <th>product_id</th>\n",
       "      <th>sales_dollars_value</th>\n",
       "      <th>sales_units_value</th>\n",
       "      <th>sales_lbs_value</th>\n",
       "      <th>PRODUCT_ID</th>\n",
       "      <th>CLAIM_ID</th>\n",
       "      <th>Claim Name</th>\n",
       "      <th>Vendor</th>\n",
       "      <th>totalposts</th>\n",
       "      <th>searchvolume</th>\n",
       "      <th>Month</th>\n",
       "      <th>year</th>\n",
       "      <th>day</th>\n",
       "      <th>week</th>\n",
       "    </tr>\n",
       "  </thead>\n",
       "  <tbody>\n",
       "    <tr>\n",
       "      <th>9459</th>\n",
       "      <td>587</td>\n",
       "      <td>156606.0</td>\n",
       "      <td>40400</td>\n",
       "      <td>161603</td>\n",
       "      <td>587</td>\n",
       "      <td>0</td>\n",
       "      <td>No Claim</td>\n",
       "      <td>A</td>\n",
       "      <td>185.292605</td>\n",
       "      <td>2554.6548</td>\n",
       "      <td>1</td>\n",
       "      <td>2016</td>\n",
       "      <td>9</td>\n",
       "      <td>1</td>\n",
       "    </tr>\n",
       "    <tr>\n",
       "      <th>9460</th>\n",
       "      <td>587</td>\n",
       "      <td>162052.0</td>\n",
       "      <td>41781</td>\n",
       "      <td>167125</td>\n",
       "      <td>587</td>\n",
       "      <td>0</td>\n",
       "      <td>No Claim</td>\n",
       "      <td>A</td>\n",
       "      <td>185.292605</td>\n",
       "      <td>2554.6548</td>\n",
       "      <td>1</td>\n",
       "      <td>2016</td>\n",
       "      <td>23</td>\n",
       "      <td>3</td>\n",
       "    </tr>\n",
       "    <tr>\n",
       "      <th>9461</th>\n",
       "      <td>587</td>\n",
       "      <td>167919.0</td>\n",
       "      <td>43560</td>\n",
       "      <td>174239</td>\n",
       "      <td>587</td>\n",
       "      <td>0</td>\n",
       "      <td>No Claim</td>\n",
       "      <td>A</td>\n",
       "      <td>185.292605</td>\n",
       "      <td>2554.6548</td>\n",
       "      <td>2</td>\n",
       "      <td>2016</td>\n",
       "      <td>6</td>\n",
       "      <td>5</td>\n",
       "    </tr>\n",
       "    <tr>\n",
       "      <th>9462</th>\n",
       "      <td>587</td>\n",
       "      <td>162358.0</td>\n",
       "      <td>42077</td>\n",
       "      <td>168307</td>\n",
       "      <td>587</td>\n",
       "      <td>0</td>\n",
       "      <td>No Claim</td>\n",
       "      <td>A</td>\n",
       "      <td>185.292605</td>\n",
       "      <td>2554.6548</td>\n",
       "      <td>1</td>\n",
       "      <td>2016</td>\n",
       "      <td>30</td>\n",
       "      <td>4</td>\n",
       "    </tr>\n",
       "    <tr>\n",
       "      <th>9463</th>\n",
       "      <td>587</td>\n",
       "      <td>157831.0</td>\n",
       "      <td>40814</td>\n",
       "      <td>163256</td>\n",
       "      <td>587</td>\n",
       "      <td>0</td>\n",
       "      <td>No Claim</td>\n",
       "      <td>A</td>\n",
       "      <td>185.292605</td>\n",
       "      <td>2554.6548</td>\n",
       "      <td>2</td>\n",
       "      <td>2016</td>\n",
       "      <td>13</td>\n",
       "      <td>6</td>\n",
       "    </tr>\n",
       "  </tbody>\n",
       "</table>\n",
       "</div>"
      ],
      "text/plain": [
       "      product_id  sales_dollars_value  sales_units_value  sales_lbs_value  \\\n",
       "9459         587             156606.0              40400           161603   \n",
       "9460         587             162052.0              41781           167125   \n",
       "9461         587             167919.0              43560           174239   \n",
       "9462         587             162358.0              42077           168307   \n",
       "9463         587             157831.0              40814           163256   \n",
       "\n",
       "      PRODUCT_ID  CLAIM_ID Claim Name Vendor  totalposts  searchvolume  Month  \\\n",
       "9459         587         0   No Claim      A  185.292605     2554.6548      1   \n",
       "9460         587         0   No Claim      A  185.292605     2554.6548      1   \n",
       "9461         587         0   No Claim      A  185.292605     2554.6548      2   \n",
       "9462         587         0   No Claim      A  185.292605     2554.6548      1   \n",
       "9463         587         0   No Claim      A  185.292605     2554.6548      2   \n",
       "\n",
       "      year  day  week  \n",
       "9459  2016    9     1  \n",
       "9460  2016   23     3  \n",
       "9461  2016    6     5  \n",
       "9462  2016   30     4  \n",
       "9463  2016   13     6  "
      ]
     },
     "execution_count": 80,
     "metadata": {},
     "output_type": "execute_result"
    }
   ],
   "source": [
    "Client_A.head()"
   ]
  },
  {
   "cell_type": "code",
   "execution_count": 81,
   "metadata": {},
   "outputs": [],
   "source": [
    "Client_A =Client_A.drop(columns={'product_id','sales_units_value','PRODUCT_ID',\n",
    "                             'Claim Name','Vendor'})"
   ]
  },
  {
   "cell_type": "code",
   "execution_count": 82,
   "metadata": {},
   "outputs": [
    {
     "name": "stdout",
     "output_type": "stream",
     "text": [
      "<class 'pandas.core.frame.DataFrame'>\n",
      "Int64Index: 811370 entries, 9459 to 7760500\n",
      "Data columns (total 9 columns):\n",
      " #   Column               Non-Null Count   Dtype  \n",
      "---  ------               --------------   -----  \n",
      " 0   sales_dollars_value  811370 non-null  float64\n",
      " 1   sales_lbs_value      811370 non-null  int64  \n",
      " 2   CLAIM_ID             811370 non-null  int64  \n",
      " 3   totalposts           811370 non-null  float64\n",
      " 4   searchvolume         811370 non-null  float64\n",
      " 5   Month                811370 non-null  int64  \n",
      " 6   year                 811370 non-null  int64  \n",
      " 7   day                  811370 non-null  int64  \n",
      " 8   week                 811370 non-null  int64  \n",
      "dtypes: float64(3), int64(6)\n",
      "memory usage: 61.9 MB\n"
     ]
    }
   ],
   "source": [
    "Client_A.info()"
   ]
  },
  {
   "cell_type": "code",
   "execution_count": 83,
   "metadata": {},
   "outputs": [],
   "source": [
    "# Saving the Dataset\n",
    "save_dataset(context, Client_A, 'cleaned/sales')"
   ]
  },
  {
   "cell_type": "code",
   "execution_count": 117,
   "metadata": {},
   "outputs": [
    {
     "data": {},
     "metadata": {},
     "output_type": "display_data"
    },
    {
     "data": {},
     "metadata": {},
     "output_type": "display_data"
    },
    {
     "data": {
      "application/vnd.holoviews_exec.v0+json": "",
      "text/html": [
       "<div id='21492'>\n",
       "\n",
       "\n",
       "\n",
       "\n",
       "\n",
       "  <div class=\"bk-root\" id=\"f9278f36-c99c-4fb7-b900-d3fefdd26b4f\" data-root-id=\"21492\"></div>\n",
       "</div>\n",
       "<script type=\"application/javascript\">(function(root) {\n",
       "  function embed_document(root) {\n",
       "  var docs_json = {\"8957b55c-e74c-4d71-8731-6e6f3fbc5312\":{\"roots\":{\"references\":[{\"attributes\":{},\"id\":\"21681\",\"type\":\"CategoricalTicker\"},{\"attributes\":{\"toolbars\":[{\"id\":\"21518\"},{\"id\":\"21575\"},{\"id\":\"21632\"},{\"id\":\"21689\"}],\"tools\":[{\"id\":\"21495\"},{\"id\":\"21512\"},{\"id\":\"21513\"},{\"id\":\"21514\"},{\"id\":\"21515\"},{\"id\":\"21516\"},{\"id\":\"21552\"},{\"id\":\"21569\"},{\"id\":\"21570\"},{\"id\":\"21571\"},{\"id\":\"21572\"},{\"id\":\"21573\"},{\"id\":\"21609\"},{\"id\":\"21626\"},{\"id\":\"21627\"},{\"id\":\"21628\"},{\"id\":\"21629\"},{\"id\":\"21630\"},{\"id\":\"21666\"},{\"id\":\"21683\"},{\"id\":\"21684\"},{\"id\":\"21685\"},{\"id\":\"21686\"},{\"id\":\"21687\"}]},\"id\":\"21755\",\"type\":\"ProxyToolbar\"},{\"attributes\":{\"callback\":null,\"renderers\":[{\"id\":\"21532\"}],\"tags\":[\"hv_created\"],\"tooltips\":[[\"index\",\"@{index}\"],[\"Variable\",\"@{Variable}\"],[\"value\",\"@{value}\"]]},\"id\":\"21495\",\"type\":\"HoverTool\"},{\"attributes\":{\"axis_label\":\"\",\"bounds\":\"auto\",\"formatter\":{\"id\":\"21707\"},\"major_label_orientation\":\"horizontal\",\"ticker\":{\"id\":\"21681\"}},\"id\":\"21680\",\"type\":\"CategoricalAxis\"},{\"attributes\":{\"children\":[{\"id\":\"21756\"},{\"id\":\"21754\"}]},\"id\":\"21757\",\"type\":\"Column\"},{\"attributes\":{},\"id\":\"21683\",\"type\":\"SaveTool\"},{\"attributes\":{\"axis_label\":\"\",\"bounds\":\"auto\",\"formatter\":{\"id\":\"21650\"},\"major_label_orientation\":\"horizontal\",\"ticker\":{\"id\":\"21624\"}},\"id\":\"21623\",\"type\":\"CategoricalAxis\"},{\"attributes\":{},\"id\":\"21570\",\"type\":\"PanTool\"},{\"attributes\":{\"source\":{\"id\":\"21526\"}},\"id\":\"21533\",\"type\":\"CDSView\"},{\"attributes\":{\"label\":{\"field\":\"Variable\"},\"renderers\":[{\"id\":\"21589\"}]},\"id\":\"21600\",\"type\":\"LegendItem\"},{\"attributes\":{\"data_source\":{\"id\":\"21526\"},\"glyph\":{\"id\":\"21529\"},\"hover_glyph\":null,\"muted_glyph\":{\"id\":\"21531\"},\"nonselection_glyph\":{\"id\":\"21530\"},\"selection_glyph\":null,\"view\":{\"id\":\"21533\"}},\"id\":\"21532\",\"type\":\"GlyphRenderer\"},{\"attributes\":{\"label\":{\"field\":\"Variable\"},\"renderers\":[{\"id\":\"21532\"}]},\"id\":\"21543\",\"type\":\"LegendItem\"},{\"attributes\":{\"data\":{\"Variable\":[\"Unique\",\"Duplicate\"],\"bottom\":{\"__ndarray__\":\"AAAAAAAAAAApNxZv+L1YQA==\",\"dtype\":\"float64\",\"order\":\"little\",\"shape\":[2]},\"index\":[\"values\",\"values\"],\"top\":{\"__ndarray__\":\"KTcWb/i9WEAAAAAAAABZQA==\",\"dtype\":\"float64\",\"order\":\"little\",\"shape\":[2]},\"value\":{\"__ndarray__\":\"KTcWb/i9WEDcNXI65IHwPw==\",\"dtype\":\"float64\",\"order\":\"little\",\"shape\":[2]}},\"selected\":{\"id\":\"21641\"},\"selection_policy\":{\"id\":\"21654\"}},\"id\":\"21640\",\"type\":\"ColumnDataSource\"},{\"attributes\":{\"bottom_units\":\"screen\",\"fill_alpha\":0.5,\"fill_color\":\"lightgrey\",\"left_units\":\"screen\",\"level\":\"overlay\",\"line_alpha\":1.0,\"line_color\":\"black\",\"line_dash\":[4,4],\"line_width\":2,\"right_units\":\"screen\",\"top_units\":\"screen\"},\"id\":\"21517\",\"type\":\"BoxAnnotation\"},{\"attributes\":{\"ticks\":[0]},\"id\":\"21544\",\"type\":\"FixedTicker\"},{\"attributes\":{},\"id\":\"21698\",\"type\":\"Selection\"},{\"attributes\":{\"axis_label\":\"\",\"bounds\":\"auto\",\"formatter\":{\"id\":\"21593\"},\"major_label_orientation\":\"horizontal\",\"ticker\":{\"id\":\"21567\"}},\"id\":\"21566\",\"type\":\"CategoricalAxis\"},{\"attributes\":{\"axis\":{\"id\":\"21676\"},\"grid_line_color\":null,\"ticker\":null},\"id\":\"21679\",\"type\":\"Grid\"},{\"attributes\":{},\"id\":\"21536\",\"type\":\"CategoricalTickFormatter\"},{\"attributes\":{\"data_source\":{\"id\":\"21583\"},\"glyph\":{\"id\":\"21586\"},\"hover_glyph\":null,\"muted_glyph\":{\"id\":\"21588\"},\"nonselection_glyph\":{\"id\":\"21587\"},\"selection_glyph\":null,\"view\":{\"id\":\"21590\"}},\"id\":\"21589\",\"type\":\"GlyphRenderer\"},{\"attributes\":{\"axis_label\":\"\",\"bounds\":\"auto\",\"formatter\":{\"id\":\"21709\"},\"major_label_orientation\":\"horizontal\",\"ticker\":{\"id\":\"21715\"}},\"id\":\"21676\",\"type\":\"LinearAxis\"},{\"attributes\":{\"axis_label\":\"\",\"bounds\":\"auto\",\"formatter\":{\"id\":\"21538\"},\"major_label_orientation\":\"horizontal\",\"ticker\":{\"id\":\"21544\"}},\"id\":\"21505\",\"type\":\"LinearAxis\"},{\"attributes\":{},\"id\":\"21674\",\"type\":\"CategoricalScale\"},{\"attributes\":{},\"id\":\"21684\",\"type\":\"PanTool\"},{\"attributes\":{\"align\":null,\"below\":[{\"id\":\"21505\"}],\"center\":[{\"id\":\"21508\"},{\"id\":\"21511\"},{\"id\":\"21542\"}],\"left\":[{\"id\":\"21509\"}],\"margin\":null,\"min_border_bottom\":10,\"min_border_left\":10,\"min_border_right\":10,\"min_border_top\":10,\"plot_height\":100,\"plot_width\":700,\"renderers\":[{\"id\":\"21532\"}],\"right\":[{\"id\":\"21542\"}],\"sizing_mode\":\"fixed\",\"title\":{\"id\":\"21497\"},\"toolbar\":{\"id\":\"21518\"},\"toolbar_location\":null,\"x_range\":{\"id\":\"21493\"},\"x_scale\":{\"id\":\"21501\"},\"y_range\":{\"id\":\"21494\"},\"y_scale\":{\"id\":\"21503\"}},\"id\":\"21496\",\"subtype\":\"Figure\",\"type\":\"Plot\"},{\"attributes\":{},\"id\":\"21593\",\"type\":\"CategoricalTickFormatter\"},{\"attributes\":{\"label\":{\"field\":\"Variable\"},\"renderers\":[{\"id\":\"21646\"}]},\"id\":\"21657\",\"type\":\"LegendItem\"},{\"attributes\":{},\"id\":\"21628\",\"type\":\"WheelZoomTool\"},{\"attributes\":{\"axis\":{\"id\":\"21566\"},\"dimension\":1,\"grid_line_color\":null,\"ticker\":null},\"id\":\"21568\",\"type\":\"Grid\"},{\"attributes\":{},\"id\":\"21527\",\"type\":\"Selection\"},{\"attributes\":{\"child\":{\"id\":\"21759\"},\"name\":\"Client_A\",\"title\":\"Client_A\"},\"id\":\"22012\",\"type\":\"Panel\"},{\"attributes\":{},\"id\":\"21624\",\"type\":\"CategoricalTicker\"},{\"attributes\":{\"data\":{\"Variable\":[\"Unique\",\"Duplicate\"],\"bottom\":{\"__ndarray__\":\"AAAAAAAAAAAAAAAAAABZQA==\",\"dtype\":\"float64\",\"order\":\"little\",\"shape\":[2]},\"index\":[\"values\",\"values\"],\"top\":{\"__ndarray__\":\"AAAAAAAAWUAAAAAAAABZQA==\",\"dtype\":\"float64\",\"order\":\"little\",\"shape\":[2]},\"value\":{\"__ndarray__\":\"AAAAAAAAWUAAAAAAAAAAAA==\",\"dtype\":\"float64\",\"order\":\"little\",\"shape\":[2]}},\"selected\":{\"id\":\"21698\"},\"selection_policy\":{\"id\":\"21711\"}},\"id\":\"21697\",\"type\":\"ColumnDataSource\"},{\"attributes\":{\"fill_color\":{\"field\":\"Variable\",\"transform\":{\"id\":\"21696\"}},\"height\":{\"value\":0.8},\"left\":{\"field\":\"bottom\"},\"right\":{\"field\":\"top\"},\"y\":{\"field\":\"index\"}},\"id\":\"21700\",\"type\":\"HBar\"},{\"attributes\":{\"text\":\"Datatypes\",\"text_color\":{\"value\":\"black\"},\"text_font_size\":{\"value\":\"12pt\"}},\"id\":\"21497\",\"type\":\"Title\"},{\"attributes\":{\"bottom_units\":\"screen\",\"fill_alpha\":0.5,\"fill_color\":\"lightgrey\",\"left_units\":\"screen\",\"level\":\"overlay\",\"line_alpha\":1.0,\"line_color\":\"black\",\"line_dash\":[4,4],\"line_width\":2,\"right_units\":\"screen\",\"top_units\":\"screen\"},\"id\":\"21574\",\"type\":\"BoxAnnotation\"},{\"attributes\":{\"end\":100.0,\"reset_end\":100.0,\"reset_start\":0.0,\"tags\":[[[\"value\",\"value\",null]]]},\"id\":\"21493\",\"type\":\"Range1d\"},{\"attributes\":{\"factors\":[\"Unique\",\"Duplicate\"],\"palette\":[\"#1f77b3\",\"#ff7e0e\"]},\"id\":\"21639\",\"type\":\"CategoricalColorMapper\"},{\"attributes\":{\"factors\":[\"values\"],\"tags\":[[[\"index\",\"index\",null]]]},\"id\":\"21494\",\"type\":\"FactorRange\"},{\"attributes\":{\"text\":\"Duplicate Columns\",\"text_color\":{\"value\":\"black\"},\"text_font_size\":{\"value\":\"12pt\"}},\"id\":\"21668\",\"type\":\"Title\"},{\"attributes\":{\"factors\":[\"Numeric\",\"Others\"],\"palette\":[\"#1f77b3\",\"#ff7e0e\"]},\"id\":\"21525\",\"type\":\"CategoricalColorMapper\"},{\"attributes\":{\"source\":{\"id\":\"21583\"}},\"id\":\"21590\",\"type\":\"CDSView\"},{\"attributes\":{\"align\":null,\"below\":[{\"id\":\"21676\"}],\"center\":[{\"id\":\"21679\"},{\"id\":\"21682\"},{\"id\":\"21713\"}],\"left\":[{\"id\":\"21680\"}],\"margin\":null,\"min_border_bottom\":10,\"min_border_left\":10,\"min_border_right\":10,\"min_border_top\":10,\"plot_height\":100,\"plot_width\":700,\"renderers\":[{\"id\":\"21703\"}],\"right\":[{\"id\":\"21713\"}],\"sizing_mode\":\"fixed\",\"title\":{\"id\":\"21668\"},\"toolbar\":{\"id\":\"21689\"},\"toolbar_location\":null,\"x_range\":{\"id\":\"21493\"},\"x_scale\":{\"id\":\"21672\"},\"y_range\":{\"id\":\"21494\"},\"y_scale\":{\"id\":\"21674\"}},\"id\":\"21667\",\"subtype\":\"Figure\",\"type\":\"Plot\"},{\"attributes\":{},\"id\":\"21595\",\"type\":\"BasicTickFormatter\"},{\"attributes\":{\"items\":[{\"id\":\"21543\"}],\"location\":[0,0]},\"id\":\"21542\",\"type\":\"Legend\"},{\"attributes\":{\"overlay\":{\"id\":\"21631\"}},\"id\":\"21629\",\"type\":\"BoxZoomTool\"},{\"attributes\":{},\"id\":\"21571\",\"type\":\"WheelZoomTool\"},{\"attributes\":{},\"id\":\"21630\",\"type\":\"ResetTool\"},{\"attributes\":{\"active_drag\":\"auto\",\"active_inspect\":\"auto\",\"active_multi\":null,\"active_scroll\":\"auto\",\"active_tap\":\"auto\",\"tools\":[{\"id\":\"21609\"},{\"id\":\"21626\"},{\"id\":\"21627\"},{\"id\":\"21628\"},{\"id\":\"21629\"},{\"id\":\"21630\"}]},\"id\":\"21632\",\"type\":\"Toolbar\"},{\"attributes\":{\"text\":\"Duplicate Values\",\"text_color\":{\"value\":\"black\"},\"text_font_size\":{\"value\":\"12pt\"}},\"id\":\"21611\",\"type\":\"Title\"},{\"attributes\":{\"bottom_units\":\"screen\",\"fill_alpha\":0.5,\"fill_color\":\"lightgrey\",\"left_units\":\"screen\",\"level\":\"overlay\",\"line_alpha\":1.0,\"line_color\":\"black\",\"line_dash\":[4,4],\"line_width\":2,\"right_units\":\"screen\",\"top_units\":\"screen\"},\"id\":\"21688\",\"type\":\"BoxAnnotation\"},{\"attributes\":{},\"id\":\"21558\",\"type\":\"LinearScale\"},{\"attributes\":{},\"id\":\"21650\",\"type\":\"CategoricalTickFormatter\"},{\"attributes\":{\"axis\":{\"id\":\"21623\"},\"dimension\":1,\"grid_line_color\":null,\"ticker\":null},\"id\":\"21625\",\"type\":\"Grid\"},{\"attributes\":{\"fill_alpha\":{\"value\":0.2},\"fill_color\":{\"field\":\"Variable\",\"transform\":{\"id\":\"21582\"}},\"height\":{\"value\":0.8},\"left\":{\"field\":\"bottom\"},\"line_alpha\":{\"value\":0.2},\"right\":{\"field\":\"top\"},\"y\":{\"field\":\"index\"}},\"id\":\"21588\",\"type\":\"HBar\"},{\"attributes\":{},\"id\":\"21641\",\"type\":\"Selection\"},{\"attributes\":{},\"id\":\"21516\",\"type\":\"ResetTool\"},{\"attributes\":{},\"id\":\"21626\",\"type\":\"SaveTool\"},{\"attributes\":{\"ticks\":[0]},\"id\":\"21658\",\"type\":\"FixedTicker\"},{\"attributes\":{\"bottom_units\":\"screen\",\"fill_alpha\":0.5,\"fill_color\":\"lightgrey\",\"left_units\":\"screen\",\"level\":\"overlay\",\"line_alpha\":1.0,\"line_color\":\"black\",\"line_dash\":[4,4],\"line_width\":2,\"right_units\":\"screen\",\"top_units\":\"screen\"},\"id\":\"21631\",\"type\":\"BoxAnnotation\"},{\"attributes\":{\"align\":null,\"below\":[{\"id\":\"21619\"}],\"center\":[{\"id\":\"21622\"},{\"id\":\"21625\"},{\"id\":\"21656\"}],\"left\":[{\"id\":\"21623\"}],\"margin\":null,\"min_border_bottom\":10,\"min_border_left\":10,\"min_border_right\":10,\"min_border_top\":10,\"plot_height\":100,\"plot_width\":700,\"renderers\":[{\"id\":\"21646\"}],\"right\":[{\"id\":\"21656\"}],\"sizing_mode\":\"fixed\",\"title\":{\"id\":\"21611\"},\"toolbar\":{\"id\":\"21632\"},\"toolbar_location\":null,\"x_range\":{\"id\":\"21493\"},\"x_scale\":{\"id\":\"21615\"},\"y_range\":{\"id\":\"21494\"},\"y_scale\":{\"id\":\"21617\"}},\"id\":\"21610\",\"subtype\":\"Figure\",\"type\":\"Plot\"},{\"attributes\":{},\"id\":\"21615\",\"type\":\"LinearScale\"},{\"attributes\":{},\"id\":\"21627\",\"type\":\"PanTool\"},{\"attributes\":{\"active_drag\":\"auto\",\"active_inspect\":\"auto\",\"active_multi\":null,\"active_scroll\":\"auto\",\"active_tap\":\"auto\",\"tools\":[{\"id\":\"21552\"},{\"id\":\"21569\"},{\"id\":\"21570\"},{\"id\":\"21571\"},{\"id\":\"21572\"},{\"id\":\"21573\"}]},\"id\":\"21575\",\"type\":\"Toolbar\"},{\"attributes\":{\"fill_color\":{\"field\":\"Variable\",\"transform\":{\"id\":\"21582\"}},\"height\":{\"value\":0.8},\"left\":{\"field\":\"bottom\"},\"right\":{\"field\":\"top\"},\"y\":{\"field\":\"index\"}},\"id\":\"21586\",\"type\":\"HBar\"},{\"attributes\":{},\"id\":\"21652\",\"type\":\"BasicTickFormatter\"},{\"attributes\":{},\"id\":\"21685\",\"type\":\"WheelZoomTool\"},{\"attributes\":{\"axis\":{\"id\":\"21562\"},\"grid_line_color\":null,\"ticker\":null},\"id\":\"21565\",\"type\":\"Grid\"},{\"attributes\":{\"fill_alpha\":{\"value\":0.1},\"fill_color\":{\"field\":\"Variable\",\"transform\":{\"id\":\"21582\"}},\"height\":{\"value\":0.8},\"left\":{\"field\":\"bottom\"},\"line_alpha\":{\"value\":0.1},\"right\":{\"field\":\"top\"},\"y\":{\"field\":\"index\"}},\"id\":\"21587\",\"type\":\"HBar\"},{\"attributes\":{\"text\":\"Missing Values\",\"text_color\":{\"value\":\"black\"},\"text_font_size\":{\"value\":\"12pt\"}},\"id\":\"21554\",\"type\":\"Title\"},{\"attributes\":{\"fill_alpha\":{\"value\":0.1},\"fill_color\":{\"field\":\"Variable\",\"transform\":{\"id\":\"21696\"}},\"height\":{\"value\":0.8},\"left\":{\"field\":\"bottom\"},\"line_alpha\":{\"value\":0.1},\"right\":{\"field\":\"top\"},\"y\":{\"field\":\"index\"}},\"id\":\"21701\",\"type\":\"HBar\"},{\"attributes\":{},\"id\":\"21569\",\"type\":\"SaveTool\"},{\"attributes\":{},\"id\":\"21584\",\"type\":\"Selection\"},{\"attributes\":{\"factors\":[\"Unique\",\"Duplicate\"],\"palette\":[\"#1f77b3\",\"#ff7e0e\"]},\"id\":\"21696\",\"type\":\"CategoricalColorMapper\"},{\"attributes\":{\"callback\":null,\"renderers\":[{\"id\":\"21589\"}],\"tags\":[\"hv_created\"],\"tooltips\":[[\"index\",\"@{index}\"],[\"Variable\",\"@{Variable}\"],[\"value\",\"@{value}\"]]},\"id\":\"21552\",\"type\":\"HoverTool\"},{\"attributes\":{\"callback\":null,\"renderers\":[{\"id\":\"21703\"}],\"tags\":[\"hv_created\"],\"tooltips\":[[\"index\",\"@{index}\"],[\"Variable\",\"@{Variable}\"],[\"value\",\"@{value}\"]]},\"id\":\"21666\",\"type\":\"HoverTool\"},{\"attributes\":{\"source\":{\"id\":\"21640\"}},\"id\":\"21647\",\"type\":\"CDSView\"},{\"attributes\":{},\"id\":\"21672\",\"type\":\"LinearScale\"},{\"attributes\":{},\"id\":\"21538\",\"type\":\"BasicTickFormatter\"},{\"attributes\":{\"items\":[{\"id\":\"21657\"}],\"location\":[0,0]},\"id\":\"21656\",\"type\":\"Legend\"},{\"attributes\":{\"axis_label\":\"\",\"bounds\":\"auto\",\"formatter\":{\"id\":\"21595\"},\"major_label_orientation\":\"horizontal\",\"ticker\":{\"id\":\"21601\"}},\"id\":\"21562\",\"type\":\"LinearAxis\"},{\"attributes\":{\"axis\":{\"id\":\"21680\"},\"dimension\":1,\"grid_line_color\":null,\"ticker\":null},\"id\":\"21682\",\"type\":\"Grid\"},{\"attributes\":{\"factors\":[\"Available\",\"Missing\"],\"palette\":[\"#1f77b3\",\"#ff7e0e\"]},\"id\":\"21582\",\"type\":\"CategoricalColorMapper\"},{\"attributes\":{},\"id\":\"21560\",\"type\":\"CategoricalScale\"},{\"attributes\":{\"client_comm_id\":\"543dd42bb5ac410d91eb30ffbaf8ffe0\",\"comm_id\":\"75ad97dbf8394fe6856741331d781e50\",\"plot_id\":\"21492\"},\"id\":\"22097\",\"type\":\"panel.models.comm_manager.CommManager\"},{\"attributes\":{\"style\":{\"white-space\":\"nowrap\"},\"text\":\"<span style=\\\"color:black;font-family:Arial;font-style:bold;font-weight:bold;font-size:12pt\\\">Data Shape:(811370, 9)</span>\",\"width\":450},\"id\":\"21758\",\"type\":\"Div\"},{\"attributes\":{},\"id\":\"21512\",\"type\":\"SaveTool\"},{\"attributes\":{},\"id\":\"21617\",\"type\":\"CategoricalScale\"},{\"attributes\":{\"children\":[{\"id\":\"21758\"},{\"id\":\"21757\"}]},\"id\":\"21759\",\"type\":\"Column\"},{\"attributes\":{\"axis\":{\"id\":\"21509\"},\"dimension\":1,\"grid_line_color\":null,\"ticker\":null},\"id\":\"21511\",\"type\":\"Grid\"},{\"attributes\":{\"items\":[{\"id\":\"21600\"}],\"location\":[0,0]},\"id\":\"21599\",\"type\":\"Legend\"},{\"attributes\":{\"axis_label\":\"\",\"bounds\":\"auto\",\"formatter\":{\"id\":\"21652\"},\"major_label_orientation\":\"horizontal\",\"ticker\":{\"id\":\"21658\"}},\"id\":\"21619\",\"type\":\"LinearAxis\"},{\"attributes\":{\"axis_label\":\"\",\"bounds\":\"auto\",\"formatter\":{\"id\":\"21536\"},\"major_label_orientation\":\"horizontal\",\"ticker\":{\"id\":\"21510\"}},\"id\":\"21509\",\"type\":\"CategoricalAxis\"},{\"attributes\":{\"overlay\":{\"id\":\"21574\"}},\"id\":\"21572\",\"type\":\"BoxZoomTool\"},{\"attributes\":{},\"id\":\"21573\",\"type\":\"ResetTool\"},{\"attributes\":{},\"id\":\"21501\",\"type\":\"LinearScale\"},{\"attributes\":{},\"id\":\"21654\",\"type\":\"UnionRenderers\"},{\"attributes\":{\"overlay\":{\"id\":\"21688\"}},\"id\":\"21686\",\"type\":\"BoxZoomTool\"},{\"attributes\":{},\"id\":\"21510\",\"type\":\"CategoricalTicker\"},{\"attributes\":{\"fill_color\":{\"field\":\"Variable\",\"transform\":{\"id\":\"21639\"}},\"height\":{\"value\":0.8},\"left\":{\"field\":\"bottom\"},\"right\":{\"field\":\"top\"},\"y\":{\"field\":\"index\"}},\"id\":\"21643\",\"type\":\"HBar\"},{\"attributes\":{\"data\":{\"Variable\":[\"Available\",\"Missing\"],\"bottom\":{\"__ndarray__\":\"AAAAAAAAAAAAAAAAAABZQA==\",\"dtype\":\"float64\",\"order\":\"little\",\"shape\":[2]},\"index\":[\"values\",\"values\"],\"top\":{\"__ndarray__\":\"AAAAAAAAWUAAAAAAAABZQA==\",\"dtype\":\"float64\",\"order\":\"little\",\"shape\":[2]},\"value\":{\"__ndarray__\":\"AAAAAAAAWUAAAAAAAAAAAA==\",\"dtype\":\"float64\",\"order\":\"little\",\"shape\":[2]}},\"selected\":{\"id\":\"21584\"},\"selection_policy\":{\"id\":\"21597\"}},\"id\":\"21583\",\"type\":\"ColumnDataSource\"},{\"attributes\":{},\"id\":\"21540\",\"type\":\"UnionRenderers\"},{\"attributes\":{},\"id\":\"21503\",\"type\":\"CategoricalScale\"},{\"attributes\":{\"axis\":{\"id\":\"21619\"},\"grid_line_color\":null,\"ticker\":null},\"id\":\"21622\",\"type\":\"Grid\"},{\"attributes\":{},\"id\":\"21514\",\"type\":\"WheelZoomTool\"},{\"attributes\":{\"toolbar\":{\"id\":\"21755\"},\"toolbar_location\":\"above\"},\"id\":\"21756\",\"type\":\"ToolbarBox\"},{\"attributes\":{\"align\":null,\"below\":[{\"id\":\"21562\"}],\"center\":[{\"id\":\"21565\"},{\"id\":\"21568\"},{\"id\":\"21599\"}],\"left\":[{\"id\":\"21566\"}],\"margin\":null,\"min_border_bottom\":10,\"min_border_left\":10,\"min_border_right\":10,\"min_border_top\":10,\"plot_height\":100,\"plot_width\":700,\"renderers\":[{\"id\":\"21589\"}],\"right\":[{\"id\":\"21599\"}],\"sizing_mode\":\"fixed\",\"title\":{\"id\":\"21554\"},\"toolbar\":{\"id\":\"21575\"},\"toolbar_location\":null,\"x_range\":{\"id\":\"21493\"},\"x_scale\":{\"id\":\"21558\"},\"y_range\":{\"id\":\"21494\"},\"y_scale\":{\"id\":\"21560\"}},\"id\":\"21553\",\"subtype\":\"Figure\",\"type\":\"Plot\"},{\"attributes\":{\"overlay\":{\"id\":\"21517\"}},\"id\":\"21515\",\"type\":\"BoxZoomTool\"},{\"attributes\":{},\"id\":\"21687\",\"type\":\"ResetTool\"},{\"attributes\":{\"fill_alpha\":{\"value\":0.1},\"fill_color\":{\"field\":\"Variable\",\"transform\":{\"id\":\"21639\"}},\"height\":{\"value\":0.8},\"left\":{\"field\":\"bottom\"},\"line_alpha\":{\"value\":0.1},\"right\":{\"field\":\"top\"},\"y\":{\"field\":\"index\"}},\"id\":\"21644\",\"type\":\"HBar\"},{\"attributes\":{\"callback\":null,\"renderers\":[{\"id\":\"21646\"}],\"tags\":[\"hv_created\"],\"tooltips\":[[\"index\",\"@{index}\"],[\"Variable\",\"@{Variable}\"],[\"value\",\"@{value}\"]]},\"id\":\"21609\",\"type\":\"HoverTool\"},{\"attributes\":{},\"id\":\"21567\",\"type\":\"CategoricalTicker\"},{\"attributes\":{\"axis\":{\"id\":\"21505\"},\"grid_line_color\":null,\"ticker\":null},\"id\":\"21508\",\"type\":\"Grid\"},{\"attributes\":{\"data_source\":{\"id\":\"21640\"},\"glyph\":{\"id\":\"21643\"},\"hover_glyph\":null,\"muted_glyph\":{\"id\":\"21645\"},\"nonselection_glyph\":{\"id\":\"21644\"},\"selection_glyph\":null,\"view\":{\"id\":\"21647\"}},\"id\":\"21646\",\"type\":\"GlyphRenderer\"},{\"attributes\":{\"active_drag\":\"auto\",\"active_inspect\":\"auto\",\"active_multi\":null,\"active_scroll\":\"auto\",\"active_tap\":\"auto\",\"tools\":[{\"id\":\"21666\"},{\"id\":\"21683\"},{\"id\":\"21684\"},{\"id\":\"21685\"},{\"id\":\"21686\"},{\"id\":\"21687\"}]},\"id\":\"21689\",\"type\":\"Toolbar\"},{\"attributes\":{},\"id\":\"21597\",\"type\":\"UnionRenderers\"},{\"attributes\":{},\"id\":\"21513\",\"type\":\"PanTool\"},{\"attributes\":{\"ticks\":[0]},\"id\":\"21601\",\"type\":\"FixedTicker\"},{\"attributes\":{\"fill_alpha\":{\"value\":0.2},\"fill_color\":{\"field\":\"Variable\",\"transform\":{\"id\":\"21639\"}},\"height\":{\"value\":0.8},\"left\":{\"field\":\"bottom\"},\"line_alpha\":{\"value\":0.2},\"right\":{\"field\":\"top\"},\"y\":{\"field\":\"index\"}},\"id\":\"21645\",\"type\":\"HBar\"},{\"attributes\":{\"ticks\":[0]},\"id\":\"21715\",\"type\":\"FixedTicker\"},{\"attributes\":{},\"id\":\"21707\",\"type\":\"CategoricalTickFormatter\"},{\"attributes\":{},\"id\":\"21709\",\"type\":\"BasicTickFormatter\"},{\"attributes\":{\"fill_alpha\":{\"value\":0.2},\"fill_color\":{\"field\":\"Variable\",\"transform\":{\"id\":\"21525\"}},\"height\":{\"value\":0.8},\"left\":{\"field\":\"bottom\"},\"line_alpha\":{\"value\":0.2},\"right\":{\"field\":\"top\"},\"y\":{\"field\":\"index\"}},\"id\":\"21531\",\"type\":\"HBar\"},{\"attributes\":{\"active_drag\":\"auto\",\"active_inspect\":\"auto\",\"active_multi\":null,\"active_scroll\":\"auto\",\"active_tap\":\"auto\",\"tools\":[{\"id\":\"21495\"},{\"id\":\"21512\"},{\"id\":\"21513\"},{\"id\":\"21514\"},{\"id\":\"21515\"},{\"id\":\"21516\"}]},\"id\":\"21518\",\"type\":\"Toolbar\"},{\"attributes\":{\"fill_color\":{\"field\":\"Variable\",\"transform\":{\"id\":\"21525\"}},\"height\":{\"value\":0.8},\"left\":{\"field\":\"bottom\"},\"right\":{\"field\":\"top\"},\"y\":{\"field\":\"index\"}},\"id\":\"21529\",\"type\":\"HBar\"},{\"attributes\":{\"data\":{\"Variable\":[\"Numeric\",\"Others\"],\"bottom\":{\"__ndarray__\":\"AAAAAAAAAAAAAAAAAABZQA==\",\"dtype\":\"float64\",\"order\":\"little\",\"shape\":[2]},\"index\":[\"values\",\"values\"],\"top\":{\"__ndarray__\":\"AAAAAAAAWUAAAAAAAABZQA==\",\"dtype\":\"float64\",\"order\":\"little\",\"shape\":[2]},\"value\":{\"__ndarray__\":\"AAAAAAAAWUAAAAAAAAAAAA==\",\"dtype\":\"float64\",\"order\":\"little\",\"shape\":[2]}},\"selected\":{\"id\":\"21527\"},\"selection_policy\":{\"id\":\"21540\"}},\"id\":\"21526\",\"type\":\"ColumnDataSource\"},{\"attributes\":{\"children\":[[{\"id\":\"21496\"},0,0],[{\"id\":\"21553\"},1,0],[{\"id\":\"21610\"},2,0],[{\"id\":\"21667\"},3,0]]},\"id\":\"21754\",\"type\":\"GridBox\"},{\"attributes\":{\"fill_alpha\":{\"value\":0.1},\"fill_color\":{\"field\":\"Variable\",\"transform\":{\"id\":\"21525\"}},\"height\":{\"value\":0.8},\"left\":{\"field\":\"bottom\"},\"line_alpha\":{\"value\":0.1},\"right\":{\"field\":\"top\"},\"y\":{\"field\":\"index\"}},\"id\":\"21530\",\"type\":\"HBar\"},{\"attributes\":{\"margin\":[0,0,0,0],\"tabs\":[{\"id\":\"22012\"}]},\"id\":\"21492\",\"type\":\"Tabs\"},{\"attributes\":{\"data_source\":{\"id\":\"21697\"},\"glyph\":{\"id\":\"21700\"},\"hover_glyph\":null,\"muted_glyph\":{\"id\":\"21702\"},\"nonselection_glyph\":{\"id\":\"21701\"},\"selection_glyph\":null,\"view\":{\"id\":\"21704\"}},\"id\":\"21703\",\"type\":\"GlyphRenderer\"},{\"attributes\":{\"label\":{\"field\":\"Variable\"},\"renderers\":[{\"id\":\"21703\"}]},\"id\":\"21714\",\"type\":\"LegendItem\"},{\"attributes\":{\"source\":{\"id\":\"21697\"}},\"id\":\"21704\",\"type\":\"CDSView\"},{\"attributes\":{},\"id\":\"21711\",\"type\":\"UnionRenderers\"},{\"attributes\":{\"fill_alpha\":{\"value\":0.2},\"fill_color\":{\"field\":\"Variable\",\"transform\":{\"id\":\"21696\"}},\"height\":{\"value\":0.8},\"left\":{\"field\":\"bottom\"},\"line_alpha\":{\"value\":0.2},\"right\":{\"field\":\"top\"},\"y\":{\"field\":\"index\"}},\"id\":\"21702\",\"type\":\"HBar\"},{\"attributes\":{\"items\":[{\"id\":\"21714\"}],\"location\":[0,0]},\"id\":\"21713\",\"type\":\"Legend\"}],\"root_ids\":[\"21492\",\"22097\"]},\"title\":\"Bokeh Application\",\"version\":\"2.2.3\"}};\n",
       "  var render_items = [{\"docid\":\"8957b55c-e74c-4d71-8731-6e6f3fbc5312\",\"root_ids\":[\"21492\"],\"roots\":{\"21492\":\"f9278f36-c99c-4fb7-b900-d3fefdd26b4f\"}}];\n",
       "  root.Bokeh.embed.embed_items_notebook(docs_json, render_items);\n",
       "  }\n",
       "if (root.Bokeh !== undefined) {\n",
       "    embed_document(root);\n",
       "  } else {\n",
       "    var attempts = 0;\n",
       "    var timer = setInterval(function(root) {\n",
       "      if (root.Bokeh !== undefined) {\n",
       "        clearInterval(timer);\n",
       "        embed_document(root);\n",
       "      } else if (document.readyState == \"complete\") {\n",
       "        attempts++;\n",
       "        if (attempts > 100) {\n",
       "          clearInterval(timer);\n",
       "          console.log(\"Bokeh: ERROR: Unable to run BokehJS code because BokehJS library is missing\");\n",
       "        }\n",
       "      }\n",
       "    }, 10, root)\n",
       "  }\n",
       "})(window);</script>"
      ],
      "text/plain": [
       "Tabs\n",
       "    [0] HoloViews(Layout, name='Client_A')"
      ]
     },
     "execution_count": 117,
     "metadata": {
      "application/vnd.holoviews_exec.v0+json": {
       "id": "21492"
      }
     },
     "output_type": "execute_result"
    }
   ],
   "source": [
    "sum9, plot9 = eda.get_data_health_summary(Client_A, return_plot=True)\n",
    "display_as_tabs([('Client_A', plot9)])"
   ]
  },
  {
   "cell_type": "code",
   "execution_count": 112,
   "metadata": {},
   "outputs": [
    {
     "data": {},
     "metadata": {},
     "output_type": "display_data"
    },
    {
     "data": {},
     "metadata": {},
     "output_type": "display_data"
    },
    {
     "data": {
      "application/vnd.holoviews_exec.v0+json": "",
      "text/html": [
       "<div id='20619'>\n",
       "\n",
       "\n",
       "\n",
       "\n",
       "\n",
       "  <div class=\"bk-root\" id=\"7770b16f-6cf1-41d6-b81e-0201296e5dcc\" data-root-id=\"20619\"></div>\n",
       "</div>\n",
       "<script type=\"application/javascript\">(function(root) {\n",
       "  function embed_document(root) {\n",
       "  var docs_json = {\"fc23bd86-929c-4822-a214-35051e8712bb\":{\"roots\":{\"references\":[{\"attributes\":{\"factors\":[\"No Missing\",\"0-5%\",\"5-10%\",\"10-20%\",\"20-30%\",\"30-40%\",\"40-50%\",\"50-100%\"],\"tags\":[[[\"index\",\"index\",null]]]},\"id\":\"20620\",\"type\":\"FactorRange\"},{\"attributes\":{\"client_comm_id\":\"ba022abb042e4bc6bc754a161bf76371\",\"comm_id\":\"fcc29b4758e34493be49be4858dc6de0\",\"plot_id\":\"20619\"},\"id\":\"20705\",\"type\":\"panel.models.comm_manager.CommManager\"},{\"attributes\":{\"fill_color\":{\"value\":\"#1f77b3\"},\"top\":{\"field\":\"A_0\"},\"width\":{\"value\":0.8},\"x\":{\"field\":\"index\"}},\"id\":\"20655\",\"type\":\"VBar\"},{\"attributes\":{},\"id\":\"20660\",\"type\":\"CategoricalTickFormatter\"},{\"attributes\":{\"end\":9.9,\"reset_end\":9.9,\"reset_start\":0.0,\"tags\":[[[\"0\",\"0\",null]]]},\"id\":\"20621\",\"type\":\"Range1d\"},{\"attributes\":{\"text\":\"Missing Variables - Data Shape:(811370, 9)\",\"text_color\":{\"value\":\"black\"},\"text_font_size\":{\"value\":\"12pt\"}},\"id\":\"20624\",\"type\":\"Title\"},{\"attributes\":{},\"id\":\"20663\",\"type\":\"BasicTickFormatter\"},{\"attributes\":{\"callback\":null,\"renderers\":[{\"id\":\"20658\"}],\"tags\":[\"hv_created\"],\"tooltips\":[[\"index\",\"@{index}\"],[\"0\",\"@{A_0}\"]]},\"id\":\"20622\",\"type\":\"HoverTool\"},{\"attributes\":{},\"id\":\"20628\",\"type\":\"CategoricalScale\"},{\"attributes\":{\"source\":{\"id\":\"20652\"}},\"id\":\"20659\",\"type\":\"CDSView\"},{\"attributes\":{\"bottom_units\":\"screen\",\"fill_alpha\":0.5,\"fill_color\":\"lightgrey\",\"left_units\":\"screen\",\"level\":\"overlay\",\"line_alpha\":1.0,\"line_color\":\"black\",\"line_dash\":[4,4],\"line_width\":2,\"right_units\":\"screen\",\"top_units\":\"screen\"},\"id\":\"20644\",\"type\":\"BoxAnnotation\"},{\"attributes\":{\"align\":null,\"below\":[{\"id\":\"20632\"}],\"center\":[{\"id\":\"20634\"},{\"id\":\"20638\"}],\"left\":[{\"id\":\"20635\"}],\"margin\":null,\"min_border_bottom\":10,\"min_border_left\":10,\"min_border_right\":10,\"min_border_top\":10,\"plot_height\":300,\"plot_width\":700,\"renderers\":[{\"id\":\"20658\"}],\"sizing_mode\":\"fixed\",\"title\":{\"id\":\"20624\"},\"toolbar\":{\"id\":\"20645\"},\"x_range\":{\"id\":\"20620\"},\"x_scale\":{\"id\":\"20628\"},\"y_range\":{\"id\":\"20621\"},\"y_scale\":{\"id\":\"20630\"}},\"id\":\"20623\",\"subtype\":\"Figure\",\"type\":\"Plot\"},{\"attributes\":{\"data\":{\"A_0\":[9,0,0,0,0,0,0,0],\"index\":[\"No Missing\",\"0-5%\",\"5-10%\",\"10-20%\",\"20-30%\",\"30-40%\",\"40-50%\",\"50-100%\"]},\"selected\":{\"id\":\"20653\"},\"selection_policy\":{\"id\":\"20670\"}},\"id\":\"20652\",\"type\":\"ColumnDataSource\"},{\"attributes\":{\"active_drag\":\"auto\",\"active_inspect\":\"auto\",\"active_multi\":null,\"active_scroll\":\"auto\",\"active_tap\":\"auto\",\"tools\":[{\"id\":\"20622\"},{\"id\":\"20639\"},{\"id\":\"20640\"},{\"id\":\"20641\"},{\"id\":\"20642\"},{\"id\":\"20643\"}]},\"id\":\"20645\",\"type\":\"Toolbar\"},{\"attributes\":{\"fill_alpha\":{\"value\":0.1},\"fill_color\":{\"value\":\"#1f77b3\"},\"line_alpha\":{\"value\":0.1},\"top\":{\"field\":\"A_0\"},\"width\":{\"value\":0.8},\"x\":{\"field\":\"index\"}},\"id\":\"20656\",\"type\":\"VBar\"},{\"attributes\":{\"child\":{\"id\":\"20623\"},\"name\":\"Client_A\",\"title\":\"Client_A\"},\"id\":\"20680\",\"type\":\"Panel\"},{\"attributes\":{\"data_source\":{\"id\":\"20652\"},\"glyph\":{\"id\":\"20655\"},\"hover_glyph\":null,\"muted_glyph\":{\"id\":\"20657\"},\"nonselection_glyph\":{\"id\":\"20656\"},\"selection_glyph\":null,\"view\":{\"id\":\"20659\"}},\"id\":\"20658\",\"type\":\"GlyphRenderer\"},{\"attributes\":{\"axis\":{\"id\":\"20632\"},\"grid_line_color\":null,\"ticker\":null},\"id\":\"20634\",\"type\":\"Grid\"},{\"attributes\":{\"fill_alpha\":{\"value\":0.2},\"fill_color\":{\"value\":\"#1f77b3\"},\"line_alpha\":{\"value\":0.2},\"top\":{\"field\":\"A_0\"},\"width\":{\"value\":0.8},\"x\":{\"field\":\"index\"}},\"id\":\"20657\",\"type\":\"VBar\"},{\"attributes\":{},\"id\":\"20670\",\"type\":\"UnionRenderers\"},{\"attributes\":{\"margin\":[0,0,0,0],\"tabs\":[{\"id\":\"20680\"}]},\"id\":\"20619\",\"type\":\"Tabs\"},{\"attributes\":{},\"id\":\"20633\",\"type\":\"CategoricalTicker\"},{\"attributes\":{},\"id\":\"20630\",\"type\":\"LinearScale\"},{\"attributes\":{\"axis_label\":\"# of missing observations\",\"bounds\":\"auto\",\"formatter\":{\"id\":\"20660\"},\"major_label_orientation\":\"horizontal\",\"ticker\":{\"id\":\"20633\"}},\"id\":\"20632\",\"type\":\"CategoricalAxis\"},{\"attributes\":{},\"id\":\"20640\",\"type\":\"PanTool\"},{\"attributes\":{\"axis_label\":\"# of variables\",\"bounds\":\"auto\",\"formatter\":{\"id\":\"20663\"},\"major_label_orientation\":\"horizontal\",\"ticker\":{\"id\":\"20636\"}},\"id\":\"20635\",\"type\":\"LinearAxis\"},{\"attributes\":{\"axis\":{\"id\":\"20635\"},\"dimension\":1,\"grid_line_color\":null,\"ticker\":null},\"id\":\"20638\",\"type\":\"Grid\"},{\"attributes\":{},\"id\":\"20653\",\"type\":\"Selection\"},{\"attributes\":{},\"id\":\"20636\",\"type\":\"BasicTicker\"},{\"attributes\":{},\"id\":\"20641\",\"type\":\"WheelZoomTool\"},{\"attributes\":{},\"id\":\"20643\",\"type\":\"ResetTool\"},{\"attributes\":{},\"id\":\"20639\",\"type\":\"SaveTool\"},{\"attributes\":{\"overlay\":{\"id\":\"20644\"}},\"id\":\"20642\",\"type\":\"BoxZoomTool\"}],\"root_ids\":[\"20619\",\"20705\"]},\"title\":\"Bokeh Application\",\"version\":\"2.2.3\"}};\n",
       "  var render_items = [{\"docid\":\"fc23bd86-929c-4822-a214-35051e8712bb\",\"root_ids\":[\"20619\"],\"roots\":{\"20619\":\"7770b16f-6cf1-41d6-b81e-0201296e5dcc\"}}];\n",
       "  root.Bokeh.embed.embed_items_notebook(docs_json, render_items);\n",
       "  }\n",
       "if (root.Bokeh !== undefined) {\n",
       "    embed_document(root);\n",
       "  } else {\n",
       "    var attempts = 0;\n",
       "    var timer = setInterval(function(root) {\n",
       "      if (root.Bokeh !== undefined) {\n",
       "        clearInterval(timer);\n",
       "        embed_document(root);\n",
       "      } else if (document.readyState == \"complete\") {\n",
       "        attempts++;\n",
       "        if (attempts > 100) {\n",
       "          clearInterval(timer);\n",
       "          console.log(\"Bokeh: ERROR: Unable to run BokehJS code because BokehJS library is missing\");\n",
       "        }\n",
       "      }\n",
       "    }, 10, root)\n",
       "  }\n",
       "})(window);</script>"
      ],
      "text/plain": [
       "Tabs\n",
       "    [0] HoloViews(Bars, name='Client_A')"
      ]
     },
     "execution_count": 112,
     "metadata": {
      "application/vnd.holoviews_exec.v0+json": {
       "id": "20619"
      }
     },
     "output_type": "execute_result"
    }
   ],
   "source": [
    "sum9, plot9 = eda.get_missing_values_summary(Client_A, return_plot=True)\n",
    "display_as_tabs([('Client_A', plot9)])"
   ]
  },
  {
   "cell_type": "code",
   "execution_count": null,
   "metadata": {},
   "outputs": [],
   "source": []
  },
  {
   "cell_type": "markdown",
   "metadata": {},
   "source": [
    "# Train Test Split"
   ]
  },
  {
   "cell_type": "code",
   "execution_count": 84,
   "metadata": {},
   "outputs": [],
   "source": [
    "from sklearn.model_selection import StratifiedShuffleSplit , train_test_split\n",
    "from ta_lib.core.api import custom_train_test_split  # helper function to customize splitting\n",
    "from scripts import *\n",
    "\n",
    "\n",
    "sales_df_train, sales_df_test = train_test_split(Client_A, test_size = 0.3 , random_state =102)"
   ]
  },
  {
   "cell_type": "code",
   "execution_count": 85,
   "metadata": {},
   "outputs": [],
   "source": [
    "target_col = \"sales_dollars_value\"\n",
    "\n",
    "train_X, train_y = (\n",
    "    sales_df_train\n",
    "    \n",
    "    # split the dataset to train and test\n",
    "    .get_features_targets(target_column_names=target_col)\n",
    ")\n",
    "save_dataset(context, train_X, 'train/sales/features')\n",
    "save_dataset(context, train_y, 'train/sales/target')\n",
    "\n",
    "\n",
    "test_X, test_y = (\n",
    "    sales_df_test\n",
    "    \n",
    "    # split the dataset to train and test\n",
    "    .get_features_targets(target_column_names=target_col)\n",
    ")\n",
    "save_dataset(context, test_X, 'test/sales/features')\n",
    "save_dataset(context, test_y, 'test/sales/target')"
   ]
  },
  {
   "cell_type": "code",
   "execution_count": null,
   "metadata": {},
   "outputs": [],
   "source": []
  },
  {
   "cell_type": "code",
   "execution_count": 86,
   "metadata": {},
   "outputs": [],
   "source": [
    "from xgboost import XGBRegressor\n",
    "from ta_lib.regression.api import SKLStatsmodelOLS\n",
    "from ta_lib.regression.api import RegressionReport,RegressionComparison\n",
    "from ta_lib.data_processing.api import Outlier"
   ]
  },
  {
   "cell_type": "code",
   "execution_count": 110,
   "metadata": {},
   "outputs": [],
   "source": [
    "from xgboost import XGBRegressor\n",
    "from ta_lib.regression.api import SKLStatsmodelOLS\n",
    "from ta_lib.regression.api import RegressionReport,RegressionComparison\n",
    "from ta_lib.data_processing.api import Outlier\n",
    "from sklearn.metrics import mean_squared_error\n",
    "from sklearn.metrics import mean_absolute_error\n",
    "from sklearn.metrics import r2_score\n",
    "from sklearn.linear_model import LinearRegression\n",
    "from sklearn import metrics\n",
    "import numpy as np"
   ]
  },
  {
   "cell_type": "code",
   "execution_count": null,
   "metadata": {},
   "outputs": [],
   "source": []
  },
  {
   "cell_type": "markdown",
   "metadata": {},
   "source": [
    "#  Modelling"
   ]
  },
  {
   "cell_type": "markdown",
   "metadata": {},
   "source": [
    "## 1. Modelling - OLS"
   ]
  },
  {
   "cell_type": "code",
   "execution_count": 88,
   "metadata": {},
   "outputs": [
    {
     "name": "stdout",
     "output_type": "stream",
     "text": [
      "                                 OLS Regression Results                                 \n",
      "========================================================================================\n",
      "Dep. Variable:     sales_dollars_value   R-squared (uncentered):                   0.776\n",
      "Model:                             OLS   Adj. R-squared (uncentered):              0.776\n",
      "Method:                  Least Squares   F-statistic:                          2.453e+05\n",
      "Date:                 Sun, 29 May 2022   Prob (F-statistic):                        0.00\n",
      "Time:                         17:23:21   Log-Likelihood:                     -7.0878e+06\n",
      "No. Observations:               567959   AIC:                                  1.418e+07\n",
      "Df Residuals:                   567951   BIC:                                  1.418e+07\n",
      "Df Model:                            8                                                  \n",
      "Covariance Type:             nonrobust                                                  \n",
      "===================================================================================\n",
      "                      coef    std err          t      P>|t|      [0.025      0.975]\n",
      "-----------------------------------------------------------------------------------\n",
      "sales_lbs_value     0.5178      0.000   1280.349      0.000       0.517       0.519\n",
      "CLAIM_ID          -17.0291      0.668    -25.489      0.000     -18.339     -15.720\n",
      "totalposts        -28.5490      1.441    -19.813      0.000     -31.373     -25.725\n",
      "searchvolume        0.6214      0.098      6.340      0.000       0.429       0.814\n",
      "Month            3.495e+04   1994.906     17.522      0.000     3.1e+04    3.89e+04\n",
      "year               -1.0677      1.003     -1.064      0.287      -3.034       0.899\n",
      "day              1124.5508     65.898     17.065      0.000     995.392    1253.709\n",
      "week            -8074.5304    459.538    -17.571      0.000   -8975.211   -7173.850\n",
      "==============================================================================\n",
      "Omnibus:                   358844.964   Durbin-Watson:                   1.999\n",
      "Prob(Omnibus):                  0.000   Jarque-Bera (JB):         23399111.668\n",
      "Skew:                           2.313   Prob(JB):                         0.00\n",
      "Kurtosis:                      34.102   Cond. No.                     5.16e+06\n",
      "==============================================================================\n",
      "\n",
      "Warnings:\n",
      "[1] Standard Errors assume that the covariance matrix of the errors is correctly specified.\n",
      "[2] The condition number is large, 5.16e+06. This might indicate that there are\n",
      "strong multicollinearity or other numerical problems.\n"
     ]
    }
   ],
   "source": [
    "import statsmodels.api as sm\n",
    "import pandas as pd\n",
    "# fitting the model\n",
    "result = sm.OLS(train_y,train_X).fit()\n",
    " \n",
    "# printing the summary table\n",
    "print(result.summary())"
   ]
  },
  {
   "cell_type": "code",
   "execution_count": 89,
   "metadata": {},
   "outputs": [],
   "source": [
    "pred_ols = result.predict(test_X)"
   ]
  },
  {
   "cell_type": "code",
   "execution_count": 90,
   "metadata": {},
   "outputs": [
    {
     "data": {
      "text/plain": [
       "4017012066.933946"
      ]
     },
     "execution_count": 90,
     "metadata": {},
     "output_type": "execute_result"
    }
   ],
   "source": [
    "MSE_ols = mean_squared_error(test_y,pred_ols)\n",
    "MSE_ols"
   ]
  },
  {
   "cell_type": "code",
   "execution_count": 91,
   "metadata": {},
   "outputs": [
    {
     "data": {
      "text/plain": [
       "63379.90270530514"
      ]
     },
     "execution_count": 91,
     "metadata": {},
     "output_type": "execute_result"
    }
   ],
   "source": [
    "RMSE =  mean_squared_error(test_y,pred_ols,squared=False)\n",
    "RMSE"
   ]
  },
  {
   "cell_type": "markdown",
   "metadata": {},
   "source": [
    "## 2. Modelling - Linear Regression"
   ]
  },
  {
   "cell_type": "code",
   "execution_count": 109,
   "metadata": {},
   "outputs": [
    {
     "name": "stdout",
     "output_type": "stream",
     "text": [
      "[ 5.17733496e-01 -1.69603710e+01 -2.84194866e+01  6.13976996e-01\n",
      "  2.71467367e+03 -1.47331577e+03  6.85509701e+01 -6.64348071e+02]\n",
      "3003048.3671014044\n",
      "train RMSE :  63607.570870\n",
      "test RMSE :  63373.904359\n",
      "train R2 score :  0.744214\n",
      "test R2 score :  0.749638\n",
      "train MAE :  33801.353551\n",
      "test MAE :  33804.248647\n"
     ]
    },
    {
     "data": {
      "text/plain": [
       "LinearRegression()"
      ]
     },
     "execution_count": 109,
     "metadata": {},
     "output_type": "execute_result"
    }
   ],
   "source": [
    "le = LinearRegression()\n",
    "le.fit(train_X,train_y)\n",
    "\n",
    "print(le.coef_)\n",
    "print(le.intercept_)\n",
    "\n",
    "train_pred = le.predict(train_X)\n",
    "test_pred = le.predict(test_X)\n",
    "  \n",
    "rmse1 = np.sqrt(MSE(train_y, train_pred))\n",
    "rmse2 = np.sqrt(MSE(test_y, test_pred))\n",
    "print(\"train RMSE : % f\" %(rmse1))\n",
    "print(\"test RMSE : % f\" %(rmse2))\n",
    "\n",
    "r21=r2_score(train_y,train_pred)\n",
    "r22=r2_score(test_y, test_pred)\n",
    "print(\"train R2 score : % f\" %(r21))\n",
    "print(\"test R2 score : % f\" %(r22))\n",
    "\n",
    "mae1=mean_absolute_error(train_y, train_pred)\n",
    "mae2=mean_absolute_error(test_y, test_pred)\n",
    "print(\"train MAE : % f\" %(mae1))\n",
    "print(\"test MAE : % f\" %(mae2))\n",
    "\n",
    "le"
   ]
  },
  {
   "cell_type": "code",
   "execution_count": 126,
   "metadata": {},
   "outputs": [
    {
     "data": {
      "text/plain": [
       "0.7496380416964934"
      ]
     },
     "execution_count": 126,
     "metadata": {},
     "output_type": "execute_result"
    }
   ],
   "source": [
    "le.score(test_X,test_y)"
   ]
  },
  {
   "cell_type": "code",
   "execution_count": null,
   "metadata": {},
   "outputs": [],
   "source": []
  },
  {
   "cell_type": "markdown",
   "metadata": {},
   "source": [
    "## 3. Modelling - XGB regresser"
   ]
  },
  {
   "cell_type": "code",
   "execution_count": 108,
   "metadata": {},
   "outputs": [
    {
     "name": "stdout",
     "output_type": "stream",
     "text": [
      "[ 5.18524e-01 -1.18692e+01 -6.69246e+00 -8.40068e-02  3.61109e+02\n",
      "  5.65916e+00  1.07832e+02 -4.86558e+01]\n",
      "[14797.4]\n",
      "train RMSE :  63662.404755\n",
      "test RMSE :  63422.588597\n",
      "train R2 score :  0.743773\n",
      "test R2 score :  0.749253\n",
      "train MAE :  33698.004436\n",
      "test MAE :  33698.329071\n"
     ]
    },
    {
     "data": {
      "text/plain": [
       "XGBRegressor(base_score=0.5, booster='gblinear', colsample_bylevel=None,\n",
       "             colsample_bynode=None, colsample_bytree=None, gamma=None,\n",
       "             gpu_id=-1, importance_type='gain', interaction_constraints=None,\n",
       "             learning_rate=0.1, max_delta_step=None, max_depth=None,\n",
       "             min_child_weight=None, missing=nan, monotone_constraints=None,\n",
       "             n_estimators=100, n_jobs=4, num_parallel_tree=None, random_state=0,\n",
       "             reg_alpha=0, reg_lambda=0, scale_pos_weight=1, subsample=None,\n",
       "             tree_method=None, validate_parameters=1, verbosity=None)"
      ]
     },
     "execution_count": 108,
     "metadata": {},
     "output_type": "execute_result"
    }
   ],
   "source": [
    "from sklearn.metrics import mean_squared_error as MSE,r2_score,mean_absolute_error\n",
    "\n",
    "model= XGBRegressor(booster='gblinear',n_estimators = 100,learning_rate=0.1,n_jobs=4)\n",
    "model.fit(train_X, train_y)\n",
    "\n",
    "print(model.coef_)\n",
    "print(model.intercept_)\n",
    "\n",
    "train_pred = model.predict(train_X)\n",
    "test_pred = model.predict(test_X)\n",
    "  \n",
    "rmse1 = np.sqrt(MSE(train_y, train_pred))\n",
    "rmse2 = np.sqrt(MSE(test_y, test_pred))\n",
    "print(\"train RMSE : % f\" %(rmse1))\n",
    "print(\"test RMSE : % f\" %(rmse2))\n",
    "\n",
    "r21=r2_score(train_y,train_pred)\n",
    "r22=r2_score(test_y, test_pred)\n",
    "print(\"train R2 score : % f\" %(r21))\n",
    "print(\"test R2 score : % f\" %(r22))\n",
    "\n",
    "mae1=mean_absolute_error(train_y, train_pred)\n",
    "mae2=mean_absolute_error(test_y, test_pred)\n",
    "print(\"train MAE : % f\" %(mae1))\n",
    "print(\"test MAE : % f\" %(mae2))\n",
    "\n",
    "model"
   ]
  },
  {
   "cell_type": "code",
   "execution_count": 120,
   "metadata": {},
   "outputs": [
    {
     "data": {
      "text/plain": [
       "inf"
      ]
     },
     "execution_count": 120,
     "metadata": {},
     "output_type": "execute_result"
    }
   ],
   "source": [
    "np.mean(np.abs((test_y -test_pred)/test_y))"
   ]
  },
  {
   "cell_type": "code",
   "execution_count": 124,
   "metadata": {},
   "outputs": [
    {
     "data": {
      "text/plain": [
       "0.7437732188846103"
      ]
     },
     "execution_count": 124,
     "metadata": {},
     "output_type": "execute_result"
    }
   ],
   "source": [
    "model.score(train_X,train_y)"
   ]
  },
  {
   "cell_type": "code",
   "execution_count": null,
   "metadata": {},
   "outputs": [],
   "source": []
  },
  {
   "cell_type": "code",
   "execution_count": null,
   "metadata": {},
   "outputs": [],
   "source": []
  },
  {
   "cell_type": "code",
   "execution_count": null,
   "metadata": {},
   "outputs": [],
   "source": []
  },
  {
   "cell_type": "code",
   "execution_count": null,
   "metadata": {},
   "outputs": [],
   "source": []
  },
  {
   "cell_type": "code",
   "execution_count": null,
   "metadata": {},
   "outputs": [],
   "source": []
  }
 ],
 "metadata": {
  "kernelspec": {
   "display_name": "Python 3",
   "language": "python",
   "name": "python3"
  },
  "language_info": {
   "codemirror_mode": {
    "name": "ipython",
    "version": 3
   },
   "file_extension": ".py",
   "mimetype": "text/x-python",
   "name": "python",
   "nbconvert_exporter": "python",
   "pygments_lexer": "ipython3",
   "version": "3.8.11"
  }
 },
 "nbformat": 4,
 "nbformat_minor": 4
}
